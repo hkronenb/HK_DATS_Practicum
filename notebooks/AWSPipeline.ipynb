{
 "cells": [
  {
   "cell_type": "code",
   "execution_count": 1,
   "metadata": {},
   "outputs": [],
   "source": [
    "import os\n",
    "from dotenv import load_dotenv, find_dotenv"
   ]
  },
  {
   "cell_type": "code",
   "execution_count": 2,
   "metadata": {},
   "outputs": [],
   "source": [
    "# find .env automagically by walking up directories until it's found\n",
    "dotenv_path = find_dotenv()\n",
    "\n",
    "# load up the entries as environment variables\n",
    "load_dotenv(dotenv_path)\n",
    "\n",
    "aws_access_key = os.environ.get(\"AWS_ACCESS_KEY\")\n",
    "aws_secret_access_key = os.environ.get(\"AWS_SECRET_ACCESS_KEY\")\n",
    "aws_bucket = os.environ.get(\"AWS_BUCKET\")\n",
    "root_dir = os.environ.get(\"ROOT_DIR\")"
   ]
  },
  {
   "cell_type": "code",
   "execution_count": 3,
   "metadata": {},
   "outputs": [],
   "source": [
    "import boto3"
   ]
  },
  {
   "cell_type": "code",
   "execution_count": 4,
   "metadata": {},
   "outputs": [],
   "source": [
    "# Initialize the session with authentication\n",
    "session = boto3.Session(\n",
    "    aws_access_key_id=aws_access_key,\n",
    "    aws_secret_access_key=aws_secret_access_key,\n",
    ")\n",
    " \n",
    "# Get the interface to AWS s3\n",
    "#s3_client = session.client(\n",
    "#    \"s3\", endpoint_url=\"https://s3.wasabisys.com\"\n",
    "#)\n",
    "\n",
    "s3_resource = session.resource(\"s3\", endpoint_url = 'https://s3.wasabisys.com')\n",
    "s3_bucket = s3_resource.Bucket(aws_bucket)"
   ]
  },
  {
   "cell_type": "code",
   "execution_count": 5,
   "metadata": {},
   "outputs": [],
   "source": [
    "paths = ('core/', 'geo-supplement/', 'monthly-patterns/normalization_stats', 'monthly-patterns/patterns', \n",
    "        'social-distancing/v2/')"
   ]
  },
  {
   "cell_type": "code",
   "execution_count": null,
   "metadata": {},
   "outputs": [
    {
     "name": "stdout",
     "output_type": "stream",
     "text": [
      "monthly-patterns/patterns/2020/10/07/02/patterns-part2.csv.gz\n",
      "monthly-patterns/patterns/2020/10/07/02/patterns-part3.csv.gz\n"
     ]
    }
   ],
   "source": [
    "# local directory where we want to put all the data\n",
    "local = os.path.join(root_dir,'data/raw')\n",
    "n = len(local)\n",
    "# print(local)\n",
    "files = []\n",
    "# r=root, d=directories, f = files\n",
    "for r, d, f in os.walk(local):\n",
    "    for file in f:\n",
    "        files.append(os.path.join(r, file)[n+1:])\n",
    "#for file in files:\n",
    "#    print(file)\n",
    "count = 0\n",
    "for obj in s3_bucket.objects.all():\n",
    "    count = count + 1\n",
    "    file = obj.key\n",
    "    if file.startswith(paths) and file not in files:\n",
    "        print(file)\n",
    "        filepath = os.path.join(local, file)\n",
    "        directory = os.path.dirname(filepath)\n",
    "        os.makedirs(directory, exist_ok=True)\n",
    "        s3_bucket.download_file(file, filepath)"
   ]
  }
 ],
 "metadata": {
  "kernelspec": {
   "display_name": "Python 3",
   "language": "python",
   "name": "python3"
  },
  "language_info": {
   "codemirror_mode": {
    "name": "ipython",
    "version": 3
   },
   "file_extension": ".py",
   "mimetype": "text/x-python",
   "name": "python",
   "nbconvert_exporter": "python",
   "pygments_lexer": "ipython3",
   "version": "3.7.3"
  }
 },
 "nbformat": 4,
 "nbformat_minor": 2
}
