{
 "cells": [
  {
   "cell_type": "markdown",
   "metadata": {},
   "source": [
    "## AWS Pipeline\n",
    "This notebook reads in all the files in the Safegraph S3 bucket into the local raw data folder."
   ]
  },
  {
   "cell_type": "code",
   "execution_count": 10,
   "metadata": {},
   "outputs": [],
   "source": [
    "import os\n",
    "from dotenv import load_dotenv, find_dotenv"
   ]
  },
  {
   "cell_type": "code",
   "execution_count": 11,
   "metadata": {},
   "outputs": [],
   "source": [
    "# find .env automagically by walking up directories until it's found\n",
    "dotenv_path = find_dotenv()\n",
    "\n",
    "# load up the entries as environment variables\n",
    "load_dotenv(dotenv_path)\n",
    "\n",
    "aws_access_key = os.environ.get(\"AWS_ACCESS_KEY\")\n",
    "aws_secret_access_key = os.environ.get(\"AWS_SECRET_ACCESS_KEY\")\n",
    "aws_bucket = os.environ.get(\"AWS_BUCKET\")\n",
    "root_dir = os.environ.get(\"ROOT_DIR\")"
   ]
  },
  {
   "cell_type": "code",
   "execution_count": 12,
   "metadata": {},
   "outputs": [],
   "source": [
    "import boto3"
   ]
  },
  {
   "cell_type": "code",
   "execution_count": 13,
   "metadata": {},
   "outputs": [],
   "source": [
    "# Initialize the session with authentication\n",
    "session = boto3.Session(\n",
    "    aws_access_key_id=aws_access_key,\n",
    "    aws_secret_access_key=aws_secret_access_key,\n",
    ")\n",
    " \n",
    "# Get the interface to AWS s3\n",
    "#s3_client = session.client(\n",
    "#    \"s3\", endpoint_url=\"https://s3.wasabisys.com\"\n",
    "#)\n",
    "\n",
    "s3_resource = session.resource(\"s3\", endpoint_url = 'https://s3.wasabisys.com')\n",
    "s3_bucket = s3_resource.Bucket(aws_bucket)"
   ]
  },
  {
   "cell_type": "code",
   "execution_count": 14,
   "metadata": {},
   "outputs": [],
   "source": [
    "paths = (\n",
    "    \"core/\",\n",
    "    \"geo-supplement/\",\n",
    "    \"monthly-patterns/normalization_stats/\",\n",
    "    \"monthly-patterns/patterns/\",\n",
    "    \"monthly-patterns/patterns_backfill/2020/05/07/12/2019/\",\n",
    "    \"monthly-patterns/patterns_backfill/2020/05/07/12/2020/\",\n",
    "    \"open-census-data/\",\n",
    "    \"core-places-delivery/brand_info\",\n",
    "    \"core-places-delivery/core_poi\",\n",
    "    \"monthly-patterns-2020-12/normalization_stats/\",\n",
    "    \"monthly-patterns-2020-12/patterns/\"\n",
    ")"
   ]
  },
  {
   "cell_type": "code",
   "execution_count": 15,
   "metadata": {},
   "outputs": [],
   "source": [
    "# Sync the raw data folder with the Safegraph bucket.\n",
    "\n",
    "# Make a list of all files in the raw data folder\n",
    "local = os.path.join(root_dir,'data/raw')\n",
    "n = len(local)\n",
    "files = []\n",
    "# r=root, d=directories, f = files\n",
    "for r, d, f in os.walk(local):\n",
    "    for file in f:\n",
    "        files.append(os.path.join(r, file)[n+1:])\n",
    "\n",
    "# Download the objects in the bucket that are not in the raw data folder.\n",
    "for obj in s3_bucket.objects.all():\n",
    "    file = obj.key\n",
    "    if file.startswith(paths) and file not in files:\n",
    "        print(file)\n",
    "        filepath = os.path.join(local, file)\n",
    "        directory = os.path.dirname(filepath)\n",
    "        os.makedirs(directory, exist_ok=True)\n",
    "        s3_bucket.download_file(file, filepath)\n",
    "        \n",
    "# HK: ideally we would delete any files from the local folder that are no longer in the bucket.\n",
    "#     Ideally we would also check if the files that overlap are the same in both places."
   ]
  },
  {
   "cell_type": "code",
   "execution_count": null,
   "metadata": {},
   "outputs": [],
   "source": []
  }
 ],
 "metadata": {
  "kernelspec": {
   "display_name": "Python 3",
   "language": "python",
   "name": "python3"
  },
  "language_info": {
   "codemirror_mode": {
    "name": "ipython",
    "version": 3
   },
   "file_extension": ".py",
   "mimetype": "text/x-python",
   "name": "python",
   "nbconvert_exporter": "python",
   "pygments_lexer": "ipython3",
   "version": "3.7.9"
  }
 },
 "nbformat": 4,
 "nbformat_minor": 2
}
