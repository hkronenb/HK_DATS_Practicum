{
 "cells": [
  {
   "cell_type": "markdown",
   "metadata": {},
   "source": [
    "## Expedited patterns processing\n",
    "This notebook reads in the patterns data and:\n",
    "    1. Filters down to Philadelphia zipcodes based on a (currently hard-coded) list.\n",
    "    2. Aggregates each file by zipcode\n",
    "    3. Concatenates the files\n",
    "    4. Writes the result to philly_patterns_by_zip.csv in the processed data folder.\n",
    "    \n",
    "It runs much faster than the original patterns exploration notebook which makes it useful \n",
    "for updating the zipcode map data."
   ]
  },
  {
   "cell_type": "code",
   "execution_count": null,
   "metadata": {},
   "outputs": [],
   "source": [
    "import pandas as pd\n",
    "from safegraph_py_functions import safegraph_py_functions as sgpy\n",
    "import os\n",
    "from dotenv import load_dotenv, find_dotenv\n",
    "from loguru import logger"
   ]
  },
  {
   "cell_type": "code",
   "execution_count": 2,
   "metadata": {},
   "outputs": [],
   "source": [
    "# find .env automagically by walking up directories until it's found\n",
    "dotenv_path = find_dotenv()\n",
    "\n",
    "# load up the entries as environment variables\n",
    "load_dotenv(dotenv_path)\n",
    "os.chdir(os.environ.get(\"ROOT_DIR\"))\n",
    "from src import DATA_DIR\n",
    "raw_data_dir = DATA_DIR / 'raw'"
   ]
  },
  {
   "cell_type": "code",
   "execution_count": 3,
   "metadata": {},
   "outputs": [],
   "source": [
    "# Read in all patterns files in the monthly-patterns folder\n",
    "\n",
    "patterns_path = raw_data_dir / \"monthly-patterns\"\n",
    "files = []\n",
    "for f in patterns_path.glob(\"**/*.csv.gz\"):\n",
    "    files.append(f)"
   ]
  },
  {
   "cell_type": "code",
   "execution_count": 4,
   "metadata": {},
   "outputs": [],
   "source": [
    "# columns that we keep and aggregate\n",
    "keep_cols = ['postal_code', 'safegraph_place_id', 'date_range_start', 'visits_by_day']\n",
    "# columns we keep after exploding\n",
    "keep_cols_2 = ['postal_code', 'date','day_visit_counts']\n",
    "# columns to group by\n",
    "group_by_cols = ['postal_code', 'date']\n",
    "\n",
    "def filter_to_philly(df):\n",
    "    # zip codes are read as integers rather than strings so we add leading zeros.\n",
    "    # this is not strictly necessary since Philadelphia zipcodes don't have leading zeros.\n",
    "    \n",
    "    # Philadelphia selection\n",
    "    # HK: adding leading zeros because some zipcodes in MA are 0191X.\n",
    "    df['postal_code'] = df['postal_code'].apply(lambda x: ('00000'+str(x))[-5:])\n",
    "    in_philly = df['postal_code'].astype(str).str.startswith(\"191\")\n",
    "    df = df.loc[in_philly]\n",
    "    \n",
    "    return df\n",
    "\n",
    "def explode(df):\n",
    "    \n",
    "    df = df[keep_cols]\n",
    "    \n",
    "    # The visits_by_day column contains a list of integers. \n",
    "    # This explodes that list so we get one row per day.\n",
    "    df = sgpy.explode_json_array(\n",
    "        df, array_column ='visits_by_day', value_col_name='day_visit_counts', \n",
    "        place_key='safegraph_place_id', file_key='date_range_start', array_sequence='day', \n",
    "        keep_index=False, zero_index=False)\n",
    "    df['date_range_start'] = pd.to_datetime(df['date_range_start'])\n",
    "    # Calculate the date for each row.\n",
    "    temp = df['day'].apply(lambda x: pd.Timedelta(x-1, unit='D'))\n",
    "    df['date'] = df['date_range_start'] + temp\n",
    "    df = df[keep_cols_2].groupby(group_by_cols).agg('sum').reset_index()\n",
    "    return df"
   ]
  },
  {
   "cell_type": "code",
   "execution_count": 5,
   "metadata": {},
   "outputs": [
    {
     "name": "stdout",
     "output_type": "stream",
     "text": [
      "/Users/hannahkronenberg/SafegraphCOVIDPhilly/src/../data/raw/monthly-patterns/patterns/2020/11/06/11/patterns-part3.csv.gz\n",
      "/Users/hannahkronenberg/SafegraphCOVIDPhilly/src/../data/raw/monthly-patterns/patterns/2020/11/06/11/patterns-part1.csv.gz\n",
      "/Users/hannahkronenberg/SafegraphCOVIDPhilly/src/../data/raw/monthly-patterns/patterns/2020/11/06/11/patterns-part4.csv.gz\n",
      "/Users/hannahkronenberg/SafegraphCOVIDPhilly/src/../data/raw/monthly-patterns/patterns/2020/11/06/11/patterns-part2.csv.gz\n",
      "/Users/hannahkronenberg/SafegraphCOVIDPhilly/src/../data/raw/monthly-patterns/patterns/2020/10/07/02/patterns-part3.csv.gz\n",
      "/Users/hannahkronenberg/SafegraphCOVIDPhilly/src/../data/raw/monthly-patterns/patterns/2020/10/07/02/patterns-part1.csv.gz\n",
      "/Users/hannahkronenberg/SafegraphCOVIDPhilly/src/../data/raw/monthly-patterns/patterns/2020/10/07/02/patterns-part4.csv.gz\n",
      "/Users/hannahkronenberg/SafegraphCOVIDPhilly/src/../data/raw/monthly-patterns/patterns/2020/10/07/02/patterns-part2.csv.gz\n",
      "/Users/hannahkronenberg/SafegraphCOVIDPhilly/src/../data/raw/monthly-patterns/patterns/2020/07/06/06/patterns-part3.csv.gz\n",
      "/Users/hannahkronenberg/SafegraphCOVIDPhilly/src/../data/raw/monthly-patterns/patterns/2020/07/06/06/patterns-part1.csv.gz\n",
      "/Users/hannahkronenberg/SafegraphCOVIDPhilly/src/../data/raw/monthly-patterns/patterns/2020/07/06/06/patterns-part4.csv.gz\n",
      "/Users/hannahkronenberg/SafegraphCOVIDPhilly/src/../data/raw/monthly-patterns/patterns/2020/07/06/06/patterns-part2.csv.gz\n",
      "/Users/hannahkronenberg/SafegraphCOVIDPhilly/src/../data/raw/monthly-patterns/patterns/2020/09/04/09/patterns-part3.csv.gz\n",
      "/Users/hannahkronenberg/SafegraphCOVIDPhilly/src/../data/raw/monthly-patterns/patterns/2020/09/04/09/patterns-part1.csv.gz\n",
      "/Users/hannahkronenberg/SafegraphCOVIDPhilly/src/../data/raw/monthly-patterns/patterns/2020/09/04/09/patterns-part4.csv.gz\n",
      "/Users/hannahkronenberg/SafegraphCOVIDPhilly/src/../data/raw/monthly-patterns/patterns/2020/09/04/09/patterns-part2.csv.gz\n",
      "/Users/hannahkronenberg/SafegraphCOVIDPhilly/src/../data/raw/monthly-patterns/patterns/2020/08/05/09/patterns-part3.csv.gz\n",
      "/Users/hannahkronenberg/SafegraphCOVIDPhilly/src/../data/raw/monthly-patterns/patterns/2020/08/05/09/patterns-part1.csv.gz\n",
      "/Users/hannahkronenberg/SafegraphCOVIDPhilly/src/../data/raw/monthly-patterns/patterns/2020/08/05/09/patterns-part4.csv.gz\n",
      "/Users/hannahkronenberg/SafegraphCOVIDPhilly/src/../data/raw/monthly-patterns/patterns/2020/08/05/09/patterns-part2.csv.gz\n",
      "/Users/hannahkronenberg/SafegraphCOVIDPhilly/src/../data/raw/monthly-patterns/patterns/2020/06/05/06/patterns-part3.csv.gz\n",
      "/Users/hannahkronenberg/SafegraphCOVIDPhilly/src/../data/raw/monthly-patterns/patterns/2020/06/05/06/patterns-part1.csv.gz\n",
      "/Users/hannahkronenberg/SafegraphCOVIDPhilly/src/../data/raw/monthly-patterns/patterns/2020/06/05/06/patterns-part4.csv.gz\n",
      "/Users/hannahkronenberg/SafegraphCOVIDPhilly/src/../data/raw/monthly-patterns/patterns/2020/06/05/06/patterns-part2.csv.gz\n",
      "/Users/hannahkronenberg/SafegraphCOVIDPhilly/src/../data/raw/monthly-patterns/patterns_backfill/2020/05/07/12/2019/03/patterns-part3.csv.gz\n",
      "/Users/hannahkronenberg/SafegraphCOVIDPhilly/src/../data/raw/monthly-patterns/patterns_backfill/2020/05/07/12/2019/03/patterns-part1.csv.gz\n",
      "/Users/hannahkronenberg/SafegraphCOVIDPhilly/src/../data/raw/monthly-patterns/patterns_backfill/2020/05/07/12/2019/03/patterns-part4.csv.gz\n",
      "/Users/hannahkronenberg/SafegraphCOVIDPhilly/src/../data/raw/monthly-patterns/patterns_backfill/2020/05/07/12/2019/03/patterns-part2.csv.gz\n",
      "/Users/hannahkronenberg/SafegraphCOVIDPhilly/src/../data/raw/monthly-patterns/patterns_backfill/2020/05/07/12/2019/04/patterns-part3.csv.gz\n",
      "/Users/hannahkronenberg/SafegraphCOVIDPhilly/src/../data/raw/monthly-patterns/patterns_backfill/2020/05/07/12/2019/04/patterns-part1.csv.gz\n",
      "/Users/hannahkronenberg/SafegraphCOVIDPhilly/src/../data/raw/monthly-patterns/patterns_backfill/2020/05/07/12/2019/04/patterns-part4.csv.gz\n",
      "/Users/hannahkronenberg/SafegraphCOVIDPhilly/src/../data/raw/monthly-patterns/patterns_backfill/2020/05/07/12/2019/04/patterns-part2.csv.gz\n",
      "/Users/hannahkronenberg/SafegraphCOVIDPhilly/src/../data/raw/monthly-patterns/patterns_backfill/2020/05/07/12/2019/05/patterns-part3.csv.gz\n",
      "/Users/hannahkronenberg/SafegraphCOVIDPhilly/src/../data/raw/monthly-patterns/patterns_backfill/2020/05/07/12/2019/05/patterns-part1.csv.gz\n",
      "/Users/hannahkronenberg/SafegraphCOVIDPhilly/src/../data/raw/monthly-patterns/patterns_backfill/2020/05/07/12/2019/05/patterns-part4.csv.gz\n",
      "/Users/hannahkronenberg/SafegraphCOVIDPhilly/src/../data/raw/monthly-patterns/patterns_backfill/2020/05/07/12/2019/05/patterns-part2.csv.gz\n",
      "/Users/hannahkronenberg/SafegraphCOVIDPhilly/src/../data/raw/monthly-patterns/patterns_backfill/2020/05/07/12/2019/02/patterns-part3.csv.gz\n",
      "/Users/hannahkronenberg/SafegraphCOVIDPhilly/src/../data/raw/monthly-patterns/patterns_backfill/2020/05/07/12/2019/02/patterns-part1.csv.gz\n",
      "/Users/hannahkronenberg/SafegraphCOVIDPhilly/src/../data/raw/monthly-patterns/patterns_backfill/2020/05/07/12/2019/02/patterns-part4.csv.gz\n",
      "/Users/hannahkronenberg/SafegraphCOVIDPhilly/src/../data/raw/monthly-patterns/patterns_backfill/2020/05/07/12/2019/02/patterns-part2.csv.gz\n",
      "/Users/hannahkronenberg/SafegraphCOVIDPhilly/src/../data/raw/monthly-patterns/patterns_backfill/2020/05/07/12/2019/11/patterns-part3.csv.gz\n",
      "/Users/hannahkronenberg/SafegraphCOVIDPhilly/src/../data/raw/monthly-patterns/patterns_backfill/2020/05/07/12/2019/11/patterns-part1.csv.gz\n",
      "/Users/hannahkronenberg/SafegraphCOVIDPhilly/src/../data/raw/monthly-patterns/patterns_backfill/2020/05/07/12/2019/11/patterns-part4.csv.gz\n",
      "/Users/hannahkronenberg/SafegraphCOVIDPhilly/src/../data/raw/monthly-patterns/patterns_backfill/2020/05/07/12/2019/11/patterns-part2.csv.gz\n",
      "/Users/hannahkronenberg/SafegraphCOVIDPhilly/src/../data/raw/monthly-patterns/patterns_backfill/2020/05/07/12/2019/10/patterns-part3.csv.gz\n",
      "/Users/hannahkronenberg/SafegraphCOVIDPhilly/src/../data/raw/monthly-patterns/patterns_backfill/2020/05/07/12/2019/10/patterns-part1.csv.gz\n",
      "/Users/hannahkronenberg/SafegraphCOVIDPhilly/src/../data/raw/monthly-patterns/patterns_backfill/2020/05/07/12/2019/10/patterns-part4.csv.gz\n",
      "/Users/hannahkronenberg/SafegraphCOVIDPhilly/src/../data/raw/monthly-patterns/patterns_backfill/2020/05/07/12/2019/10/patterns-part2.csv.gz\n",
      "/Users/hannahkronenberg/SafegraphCOVIDPhilly/src/../data/raw/monthly-patterns/patterns_backfill/2020/05/07/12/2019/07/patterns-part3.csv.gz\n",
      "/Users/hannahkronenberg/SafegraphCOVIDPhilly/src/../data/raw/monthly-patterns/patterns_backfill/2020/05/07/12/2019/07/patterns-part1.csv.gz\n",
      "/Users/hannahkronenberg/SafegraphCOVIDPhilly/src/../data/raw/monthly-patterns/patterns_backfill/2020/05/07/12/2019/07/patterns-part4.csv.gz\n",
      "/Users/hannahkronenberg/SafegraphCOVIDPhilly/src/../data/raw/monthly-patterns/patterns_backfill/2020/05/07/12/2019/07/patterns-part2.csv.gz\n",
      "/Users/hannahkronenberg/SafegraphCOVIDPhilly/src/../data/raw/monthly-patterns/patterns_backfill/2020/05/07/12/2019/09/patterns-part3.csv.gz\n",
      "/Users/hannahkronenberg/SafegraphCOVIDPhilly/src/../data/raw/monthly-patterns/patterns_backfill/2020/05/07/12/2019/09/patterns-part1.csv.gz\n",
      "/Users/hannahkronenberg/SafegraphCOVIDPhilly/src/../data/raw/monthly-patterns/patterns_backfill/2020/05/07/12/2019/09/patterns-part4.csv.gz\n",
      "/Users/hannahkronenberg/SafegraphCOVIDPhilly/src/../data/raw/monthly-patterns/patterns_backfill/2020/05/07/12/2019/09/patterns-part2.csv.gz\n",
      "/Users/hannahkronenberg/SafegraphCOVIDPhilly/src/../data/raw/monthly-patterns/patterns_backfill/2020/05/07/12/2019/08/patterns-part3.csv.gz\n",
      "/Users/hannahkronenberg/SafegraphCOVIDPhilly/src/../data/raw/monthly-patterns/patterns_backfill/2020/05/07/12/2019/08/patterns-part1.csv.gz\n",
      "/Users/hannahkronenberg/SafegraphCOVIDPhilly/src/../data/raw/monthly-patterns/patterns_backfill/2020/05/07/12/2019/08/patterns-part4.csv.gz\n",
      "/Users/hannahkronenberg/SafegraphCOVIDPhilly/src/../data/raw/monthly-patterns/patterns_backfill/2020/05/07/12/2019/08/patterns-part2.csv.gz\n",
      "/Users/hannahkronenberg/SafegraphCOVIDPhilly/src/../data/raw/monthly-patterns/patterns_backfill/2020/05/07/12/2019/01/patterns-part3.csv.gz\n",
      "/Users/hannahkronenberg/SafegraphCOVIDPhilly/src/../data/raw/monthly-patterns/patterns_backfill/2020/05/07/12/2019/01/patterns-part1.csv.gz\n"
     ]
    },
    {
     "name": "stdout",
     "output_type": "stream",
     "text": [
      "/Users/hannahkronenberg/SafegraphCOVIDPhilly/src/../data/raw/monthly-patterns/patterns_backfill/2020/05/07/12/2019/01/patterns-part4.csv.gz\n",
      "/Users/hannahkronenberg/SafegraphCOVIDPhilly/src/../data/raw/monthly-patterns/patterns_backfill/2020/05/07/12/2019/01/patterns-part2.csv.gz\n",
      "/Users/hannahkronenberg/SafegraphCOVIDPhilly/src/../data/raw/monthly-patterns/patterns_backfill/2020/05/07/12/2019/06/patterns-part3.csv.gz\n",
      "/Users/hannahkronenberg/SafegraphCOVIDPhilly/src/../data/raw/monthly-patterns/patterns_backfill/2020/05/07/12/2019/06/patterns-part1.csv.gz\n",
      "/Users/hannahkronenberg/SafegraphCOVIDPhilly/src/../data/raw/monthly-patterns/patterns_backfill/2020/05/07/12/2019/06/patterns-part4.csv.gz\n",
      "/Users/hannahkronenberg/SafegraphCOVIDPhilly/src/../data/raw/monthly-patterns/patterns_backfill/2020/05/07/12/2019/06/patterns-part2.csv.gz\n",
      "/Users/hannahkronenberg/SafegraphCOVIDPhilly/src/../data/raw/monthly-patterns/patterns_backfill/2020/05/07/12/2019/12/patterns-part3.csv.gz\n",
      "/Users/hannahkronenberg/SafegraphCOVIDPhilly/src/../data/raw/monthly-patterns/patterns_backfill/2020/05/07/12/2019/12/patterns-part1.csv.gz\n",
      "/Users/hannahkronenberg/SafegraphCOVIDPhilly/src/../data/raw/monthly-patterns/patterns_backfill/2020/05/07/12/2019/12/patterns-part4.csv.gz\n",
      "/Users/hannahkronenberg/SafegraphCOVIDPhilly/src/../data/raw/monthly-patterns/patterns_backfill/2020/05/07/12/2019/12/patterns-part2.csv.gz\n",
      "/Users/hannahkronenberg/SafegraphCOVIDPhilly/src/../data/raw/monthly-patterns/patterns_backfill/2020/05/07/12/2020/03/patterns-part3.csv.gz\n",
      "/Users/hannahkronenberg/SafegraphCOVIDPhilly/src/../data/raw/monthly-patterns/patterns_backfill/2020/05/07/12/2020/03/patterns-part1.csv.gz\n",
      "/Users/hannahkronenberg/SafegraphCOVIDPhilly/src/../data/raw/monthly-patterns/patterns_backfill/2020/05/07/12/2020/03/patterns-part4.csv.gz\n",
      "/Users/hannahkronenberg/SafegraphCOVIDPhilly/src/../data/raw/monthly-patterns/patterns_backfill/2020/05/07/12/2020/03/patterns-part2.csv.gz\n",
      "/Users/hannahkronenberg/SafegraphCOVIDPhilly/src/../data/raw/monthly-patterns/patterns_backfill/2020/05/07/12/2020/04/patterns-part3.csv.gz\n",
      "/Users/hannahkronenberg/SafegraphCOVIDPhilly/src/../data/raw/monthly-patterns/patterns_backfill/2020/05/07/12/2020/04/patterns-part1.csv.gz\n",
      "/Users/hannahkronenberg/SafegraphCOVIDPhilly/src/../data/raw/monthly-patterns/patterns_backfill/2020/05/07/12/2020/04/patterns-part4.csv.gz\n",
      "/Users/hannahkronenberg/SafegraphCOVIDPhilly/src/../data/raw/monthly-patterns/patterns_backfill/2020/05/07/12/2020/04/patterns-part2.csv.gz\n",
      "/Users/hannahkronenberg/SafegraphCOVIDPhilly/src/../data/raw/monthly-patterns/patterns_backfill/2020/05/07/12/2020/02/patterns-part3.csv.gz\n",
      "/Users/hannahkronenberg/SafegraphCOVIDPhilly/src/../data/raw/monthly-patterns/patterns_backfill/2020/05/07/12/2020/02/patterns-part1.csv.gz\n",
      "/Users/hannahkronenberg/SafegraphCOVIDPhilly/src/../data/raw/monthly-patterns/patterns_backfill/2020/05/07/12/2020/02/patterns-part4.csv.gz\n",
      "/Users/hannahkronenberg/SafegraphCOVIDPhilly/src/../data/raw/monthly-patterns/patterns_backfill/2020/05/07/12/2020/02/patterns-part2.csv.gz\n",
      "/Users/hannahkronenberg/SafegraphCOVIDPhilly/src/../data/raw/monthly-patterns/patterns_backfill/2020/05/07/12/2020/01/patterns-part3.csv.gz\n",
      "/Users/hannahkronenberg/SafegraphCOVIDPhilly/src/../data/raw/monthly-patterns/patterns_backfill/2020/05/07/12/2020/01/patterns-part1.csv.gz\n",
      "/Users/hannahkronenberg/SafegraphCOVIDPhilly/src/../data/raw/monthly-patterns/patterns_backfill/2020/05/07/12/2020/01/patterns-part4.csv.gz\n",
      "/Users/hannahkronenberg/SafegraphCOVIDPhilly/src/../data/raw/monthly-patterns/patterns_backfill/2020/05/07/12/2020/01/patterns-part2.csv.gz\n"
     ]
    }
   ],
   "source": [
    "philly_patterns = []\n",
    "for i, f in enumerate(files):\n",
    "    print(f)\n",
    "    philly_patterns.append(filter_to_philly(pd.read_csv(f)))\n",
    "    \n",
    "philly_patterns = pd.concat(philly_patterns)"
   ]
  },
  {
   "cell_type": "code",
   "execution_count": null,
   "metadata": {},
   "outputs": [],
   "source": [
    "philly_patterns.head()"
   ]
  },
  {
   "cell_type": "code",
   "execution_count": null,
   "metadata": {},
   "outputs": [],
   "source": [
    "len(philly_patterns)"
   ]
  },
  {
   "cell_type": "code",
   "execution_count": 6,
   "metadata": {},
   "outputs": [],
   "source": [
    "philly_patterns.to_csv(\n",
    "    DATA_DIR / \"processed\" / \"philly_patterns.csv.tar.gz\", index=False\n",
    ")"
   ]
  },
  {
   "cell_type": "code",
   "execution_count": null,
   "metadata": {},
   "outputs": [],
   "source": [
    "philly_patterns_exploded = explode(philly_patterns)"
   ]
  },
  {
   "cell_type": "code",
   "execution_count": null,
   "metadata": {},
   "outputs": [],
   "source": [
    "philly_patterns_exploded.to_csv(\n",
    "    DATA_DIR / \"processed\" / \"philly_patterns_exploded.csv.tar.gz\", index=False\n",
    ")"
   ]
  },
  {
   "cell_type": "code",
   "execution_count": null,
   "metadata": {},
   "outputs": [],
   "source": []
  }
 ],
 "metadata": {
  "kernelspec": {
   "display_name": "Python 3",
   "language": "python",
   "name": "python3"
  },
  "language_info": {
   "codemirror_mode": {
    "name": "ipython",
    "version": 3
   },
   "file_extension": ".py",
   "mimetype": "text/x-python",
   "name": "python",
   "nbconvert_exporter": "python",
   "pygments_lexer": "ipython3",
   "version": "3.7.9"
  }
 },
 "nbformat": 4,
 "nbformat_minor": 4
}
