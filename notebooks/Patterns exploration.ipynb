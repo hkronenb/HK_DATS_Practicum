{
 "cells": [
  {
   "cell_type": "code",
   "execution_count": 1,
   "metadata": {},
   "outputs": [],
   "source": [
    "import pandas as pd\n",
    "from safegraph_py_functions import safegraph_py_functions as sgpy\n",
    "import os\n",
    "from dotenv import load_dotenv, find_dotenv"
   ]
  },
  {
   "cell_type": "code",
   "execution_count": 5,
   "metadata": {},
   "outputs": [],
   "source": [
    "# find .env automagically by walking up directories until it's found\n",
    "dotenv_path = find_dotenv()\n",
    "\n",
    "# load up the entries as environment variables\n",
    "load_dotenv(dotenv_path)\n",
    "root_dir = os.environ.get(\"ROOT_DIR\")\n",
    "raw_data_dir = os.path.join(root_dir,'data/raw')"
   ]
  },
  {
   "cell_type": "code",
   "execution_count": 6,
   "metadata": {},
   "outputs": [],
   "source": [
    "# local directory where we want to put all the data\n",
    "patterns_path = os.path.join(raw_data_dir,'monthly-patterns')\n",
    "# print(local)\n",
    "files = []\n",
    "# r=root, d=directories, f = files\n",
    "for r, d, f in os.walk(patterns_path):\n",
    "    for file in f:\n",
    "        if file.endswith('.csv.gz') and 'patterns-part' in file:\n",
    "            files.append(os.path.join(patterns_path, r, file))"
   ]
  },
  {
   "cell_type": "code",
   "execution_count": 7,
   "metadata": {},
   "outputs": [
    {
     "data": {
      "text/plain": [
       "['/Users/hannahkronenberg/SafegraphCOVIDPhilly/data/raw/monthly-patterns/patterns/2020/11/06/11/patterns-part3.csv.gz',\n",
       " '/Users/hannahkronenberg/SafegraphCOVIDPhilly/data/raw/monthly-patterns/patterns/2020/11/06/11/patterns-part1.csv.gz',\n",
       " '/Users/hannahkronenberg/SafegraphCOVIDPhilly/data/raw/monthly-patterns/patterns/2020/11/06/11/patterns-part4.csv.gz',\n",
       " '/Users/hannahkronenberg/SafegraphCOVIDPhilly/data/raw/monthly-patterns/patterns/2020/11/06/11/patterns-part2.csv.gz',\n",
       " '/Users/hannahkronenberg/SafegraphCOVIDPhilly/data/raw/monthly-patterns/patterns/2020/10/07/02/patterns-part3.csv.gz',\n",
       " '/Users/hannahkronenberg/SafegraphCOVIDPhilly/data/raw/monthly-patterns/patterns/2020/10/07/02/patterns-part1.csv.gz',\n",
       " '/Users/hannahkronenberg/SafegraphCOVIDPhilly/data/raw/monthly-patterns/patterns/2020/10/07/02/patterns-part4.csv.gz',\n",
       " '/Users/hannahkronenberg/SafegraphCOVIDPhilly/data/raw/monthly-patterns/patterns/2020/10/07/02/patterns-part2.csv.gz',\n",
       " '/Users/hannahkronenberg/SafegraphCOVIDPhilly/data/raw/monthly-patterns/patterns/2020/07/06/06/patterns-part3.csv.gz',\n",
       " '/Users/hannahkronenberg/SafegraphCOVIDPhilly/data/raw/monthly-patterns/patterns/2020/07/06/06/patterns-part1.csv.gz',\n",
       " '/Users/hannahkronenberg/SafegraphCOVIDPhilly/data/raw/monthly-patterns/patterns/2020/07/06/06/patterns-part4.csv.gz',\n",
       " '/Users/hannahkronenberg/SafegraphCOVIDPhilly/data/raw/monthly-patterns/patterns/2020/07/06/06/patterns-part2.csv.gz',\n",
       " '/Users/hannahkronenberg/SafegraphCOVIDPhilly/data/raw/monthly-patterns/patterns/2020/09/04/09/patterns-part3.csv.gz',\n",
       " '/Users/hannahkronenberg/SafegraphCOVIDPhilly/data/raw/monthly-patterns/patterns/2020/09/04/09/patterns-part1.csv.gz',\n",
       " '/Users/hannahkronenberg/SafegraphCOVIDPhilly/data/raw/monthly-patterns/patterns/2020/09/04/09/patterns-part4.csv.gz',\n",
       " '/Users/hannahkronenberg/SafegraphCOVIDPhilly/data/raw/monthly-patterns/patterns/2020/09/04/09/patterns-part2.csv.gz',\n",
       " '/Users/hannahkronenberg/SafegraphCOVIDPhilly/data/raw/monthly-patterns/patterns/2020/08/05/09/patterns-part3.csv.gz',\n",
       " '/Users/hannahkronenberg/SafegraphCOVIDPhilly/data/raw/monthly-patterns/patterns/2020/08/05/09/patterns-part1.csv.gz',\n",
       " '/Users/hannahkronenberg/SafegraphCOVIDPhilly/data/raw/monthly-patterns/patterns/2020/08/05/09/patterns-part4.csv.gz',\n",
       " '/Users/hannahkronenberg/SafegraphCOVIDPhilly/data/raw/monthly-patterns/patterns/2020/08/05/09/patterns-part2.csv.gz',\n",
       " '/Users/hannahkronenberg/SafegraphCOVIDPhilly/data/raw/monthly-patterns/patterns/2020/06/05/06/patterns-part3.csv.gz',\n",
       " '/Users/hannahkronenberg/SafegraphCOVIDPhilly/data/raw/monthly-patterns/patterns/2020/06/05/06/patterns-part1.csv.gz',\n",
       " '/Users/hannahkronenberg/SafegraphCOVIDPhilly/data/raw/monthly-patterns/patterns/2020/06/05/06/patterns-part4.csv.gz',\n",
       " '/Users/hannahkronenberg/SafegraphCOVIDPhilly/data/raw/monthly-patterns/patterns/2020/06/05/06/patterns-part2.csv.gz',\n",
       " '/Users/hannahkronenberg/SafegraphCOVIDPhilly/data/raw/monthly-patterns/patterns_backfill/2020/05/07/12/2019/03/patterns-part3.csv.gz',\n",
       " '/Users/hannahkronenberg/SafegraphCOVIDPhilly/data/raw/monthly-patterns/patterns_backfill/2020/05/07/12/2019/03/patterns-part1.csv.gz',\n",
       " '/Users/hannahkronenberg/SafegraphCOVIDPhilly/data/raw/monthly-patterns/patterns_backfill/2020/05/07/12/2019/03/patterns-part4.csv.gz',\n",
       " '/Users/hannahkronenberg/SafegraphCOVIDPhilly/data/raw/monthly-patterns/patterns_backfill/2020/05/07/12/2019/03/patterns-part2.csv.gz',\n",
       " '/Users/hannahkronenberg/SafegraphCOVIDPhilly/data/raw/monthly-patterns/patterns_backfill/2020/05/07/12/2019/04/patterns-part3.csv.gz',\n",
       " '/Users/hannahkronenberg/SafegraphCOVIDPhilly/data/raw/monthly-patterns/patterns_backfill/2020/05/07/12/2019/04/patterns-part1.csv.gz',\n",
       " '/Users/hannahkronenberg/SafegraphCOVIDPhilly/data/raw/monthly-patterns/patterns_backfill/2020/05/07/12/2019/04/patterns-part4.csv.gz',\n",
       " '/Users/hannahkronenberg/SafegraphCOVIDPhilly/data/raw/monthly-patterns/patterns_backfill/2020/05/07/12/2019/04/patterns-part2.csv.gz',\n",
       " '/Users/hannahkronenberg/SafegraphCOVIDPhilly/data/raw/monthly-patterns/patterns_backfill/2020/05/07/12/2019/05/patterns-part3.csv.gz',\n",
       " '/Users/hannahkronenberg/SafegraphCOVIDPhilly/data/raw/monthly-patterns/patterns_backfill/2020/05/07/12/2019/05/patterns-part1.csv.gz',\n",
       " '/Users/hannahkronenberg/SafegraphCOVIDPhilly/data/raw/monthly-patterns/patterns_backfill/2020/05/07/12/2019/05/patterns-part4.csv.gz',\n",
       " '/Users/hannahkronenberg/SafegraphCOVIDPhilly/data/raw/monthly-patterns/patterns_backfill/2020/05/07/12/2019/05/patterns-part2.csv.gz',\n",
       " '/Users/hannahkronenberg/SafegraphCOVIDPhilly/data/raw/monthly-patterns/patterns_backfill/2020/05/07/12/2019/02/patterns-part3.csv.gz',\n",
       " '/Users/hannahkronenberg/SafegraphCOVIDPhilly/data/raw/monthly-patterns/patterns_backfill/2020/05/07/12/2019/02/patterns-part1.csv.gz',\n",
       " '/Users/hannahkronenberg/SafegraphCOVIDPhilly/data/raw/monthly-patterns/patterns_backfill/2020/05/07/12/2019/02/patterns-part4.csv.gz',\n",
       " '/Users/hannahkronenberg/SafegraphCOVIDPhilly/data/raw/monthly-patterns/patterns_backfill/2020/05/07/12/2019/02/patterns-part2.csv.gz',\n",
       " '/Users/hannahkronenberg/SafegraphCOVIDPhilly/data/raw/monthly-patterns/patterns_backfill/2020/05/07/12/2019/11/patterns-part3.csv.gz',\n",
       " '/Users/hannahkronenberg/SafegraphCOVIDPhilly/data/raw/monthly-patterns/patterns_backfill/2020/05/07/12/2019/11/patterns-part1.csv.gz',\n",
       " '/Users/hannahkronenberg/SafegraphCOVIDPhilly/data/raw/monthly-patterns/patterns_backfill/2020/05/07/12/2019/11/patterns-part4.csv.gz',\n",
       " '/Users/hannahkronenberg/SafegraphCOVIDPhilly/data/raw/monthly-patterns/patterns_backfill/2020/05/07/12/2019/11/patterns-part2.csv.gz',\n",
       " '/Users/hannahkronenberg/SafegraphCOVIDPhilly/data/raw/monthly-patterns/patterns_backfill/2020/05/07/12/2019/10/patterns-part3.csv.gz',\n",
       " '/Users/hannahkronenberg/SafegraphCOVIDPhilly/data/raw/monthly-patterns/patterns_backfill/2020/05/07/12/2019/10/patterns-part1.csv.gz',\n",
       " '/Users/hannahkronenberg/SafegraphCOVIDPhilly/data/raw/monthly-patterns/patterns_backfill/2020/05/07/12/2019/10/patterns-part4.csv.gz',\n",
       " '/Users/hannahkronenberg/SafegraphCOVIDPhilly/data/raw/monthly-patterns/patterns_backfill/2020/05/07/12/2019/10/patterns-part2.csv.gz',\n",
       " '/Users/hannahkronenberg/SafegraphCOVIDPhilly/data/raw/monthly-patterns/patterns_backfill/2020/05/07/12/2019/07/patterns-part3.csv.gz',\n",
       " '/Users/hannahkronenberg/SafegraphCOVIDPhilly/data/raw/monthly-patterns/patterns_backfill/2020/05/07/12/2019/07/patterns-part1.csv.gz',\n",
       " '/Users/hannahkronenberg/SafegraphCOVIDPhilly/data/raw/monthly-patterns/patterns_backfill/2020/05/07/12/2019/07/patterns-part4.csv.gz',\n",
       " '/Users/hannahkronenberg/SafegraphCOVIDPhilly/data/raw/monthly-patterns/patterns_backfill/2020/05/07/12/2019/07/patterns-part2.csv.gz',\n",
       " '/Users/hannahkronenberg/SafegraphCOVIDPhilly/data/raw/monthly-patterns/patterns_backfill/2020/05/07/12/2019/09/patterns-part3.csv.gz',\n",
       " '/Users/hannahkronenberg/SafegraphCOVIDPhilly/data/raw/monthly-patterns/patterns_backfill/2020/05/07/12/2019/09/patterns-part1.csv.gz',\n",
       " '/Users/hannahkronenberg/SafegraphCOVIDPhilly/data/raw/monthly-patterns/patterns_backfill/2020/05/07/12/2019/09/patterns-part4.csv.gz',\n",
       " '/Users/hannahkronenberg/SafegraphCOVIDPhilly/data/raw/monthly-patterns/patterns_backfill/2020/05/07/12/2019/09/patterns-part2.csv.gz',\n",
       " '/Users/hannahkronenberg/SafegraphCOVIDPhilly/data/raw/monthly-patterns/patterns_backfill/2020/05/07/12/2019/08/patterns-part3.csv.gz',\n",
       " '/Users/hannahkronenberg/SafegraphCOVIDPhilly/data/raw/monthly-patterns/patterns_backfill/2020/05/07/12/2019/08/patterns-part1.csv.gz',\n",
       " '/Users/hannahkronenberg/SafegraphCOVIDPhilly/data/raw/monthly-patterns/patterns_backfill/2020/05/07/12/2019/08/patterns-part4.csv.gz',\n",
       " '/Users/hannahkronenberg/SafegraphCOVIDPhilly/data/raw/monthly-patterns/patterns_backfill/2020/05/07/12/2019/08/patterns-part2.csv.gz',\n",
       " '/Users/hannahkronenberg/SafegraphCOVIDPhilly/data/raw/monthly-patterns/patterns_backfill/2020/05/07/12/2019/01/patterns-part3.csv.gz',\n",
       " '/Users/hannahkronenberg/SafegraphCOVIDPhilly/data/raw/monthly-patterns/patterns_backfill/2020/05/07/12/2019/01/patterns-part1.csv.gz',\n",
       " '/Users/hannahkronenberg/SafegraphCOVIDPhilly/data/raw/monthly-patterns/patterns_backfill/2020/05/07/12/2019/01/patterns-part4.csv.gz',\n",
       " '/Users/hannahkronenberg/SafegraphCOVIDPhilly/data/raw/monthly-patterns/patterns_backfill/2020/05/07/12/2019/01/patterns-part2.csv.gz',\n",
       " '/Users/hannahkronenberg/SafegraphCOVIDPhilly/data/raw/monthly-patterns/patterns_backfill/2020/05/07/12/2019/06/patterns-part3.csv.gz',\n",
       " '/Users/hannahkronenberg/SafegraphCOVIDPhilly/data/raw/monthly-patterns/patterns_backfill/2020/05/07/12/2019/06/patterns-part1.csv.gz',\n",
       " '/Users/hannahkronenberg/SafegraphCOVIDPhilly/data/raw/monthly-patterns/patterns_backfill/2020/05/07/12/2019/06/patterns-part4.csv.gz',\n",
       " '/Users/hannahkronenberg/SafegraphCOVIDPhilly/data/raw/monthly-patterns/patterns_backfill/2020/05/07/12/2019/06/patterns-part2.csv.gz',\n",
       " '/Users/hannahkronenberg/SafegraphCOVIDPhilly/data/raw/monthly-patterns/patterns_backfill/2020/05/07/12/2019/12/patterns-part3.csv.gz',\n",
       " '/Users/hannahkronenberg/SafegraphCOVIDPhilly/data/raw/monthly-patterns/patterns_backfill/2020/05/07/12/2019/12/patterns-part1.csv.gz',\n",
       " '/Users/hannahkronenberg/SafegraphCOVIDPhilly/data/raw/monthly-patterns/patterns_backfill/2020/05/07/12/2019/12/patterns-part4.csv.gz',\n",
       " '/Users/hannahkronenberg/SafegraphCOVIDPhilly/data/raw/monthly-patterns/patterns_backfill/2020/05/07/12/2019/12/patterns-part2.csv.gz',\n",
       " '/Users/hannahkronenberg/SafegraphCOVIDPhilly/data/raw/monthly-patterns/patterns_backfill/2020/05/07/12/2020/03/patterns-part3.csv.gz',\n",
       " '/Users/hannahkronenberg/SafegraphCOVIDPhilly/data/raw/monthly-patterns/patterns_backfill/2020/05/07/12/2020/03/patterns-part1.csv.gz',\n",
       " '/Users/hannahkronenberg/SafegraphCOVIDPhilly/data/raw/monthly-patterns/patterns_backfill/2020/05/07/12/2020/03/patterns-part4.csv.gz',\n",
       " '/Users/hannahkronenberg/SafegraphCOVIDPhilly/data/raw/monthly-patterns/patterns_backfill/2020/05/07/12/2020/03/patterns-part2.csv.gz',\n",
       " '/Users/hannahkronenberg/SafegraphCOVIDPhilly/data/raw/monthly-patterns/patterns_backfill/2020/05/07/12/2020/04/patterns-part3.csv.gz',\n",
       " '/Users/hannahkronenberg/SafegraphCOVIDPhilly/data/raw/monthly-patterns/patterns_backfill/2020/05/07/12/2020/04/patterns-part1.csv.gz',\n",
       " '/Users/hannahkronenberg/SafegraphCOVIDPhilly/data/raw/monthly-patterns/patterns_backfill/2020/05/07/12/2020/04/patterns-part4.csv.gz',\n",
       " '/Users/hannahkronenberg/SafegraphCOVIDPhilly/data/raw/monthly-patterns/patterns_backfill/2020/05/07/12/2020/04/patterns-part2.csv.gz',\n",
       " '/Users/hannahkronenberg/SafegraphCOVIDPhilly/data/raw/monthly-patterns/patterns_backfill/2020/05/07/12/2020/02/patterns-part3.csv.gz',\n",
       " '/Users/hannahkronenberg/SafegraphCOVIDPhilly/data/raw/monthly-patterns/patterns_backfill/2020/05/07/12/2020/02/patterns-part1.csv.gz',\n",
       " '/Users/hannahkronenberg/SafegraphCOVIDPhilly/data/raw/monthly-patterns/patterns_backfill/2020/05/07/12/2020/02/patterns-part4.csv.gz',\n",
       " '/Users/hannahkronenberg/SafegraphCOVIDPhilly/data/raw/monthly-patterns/patterns_backfill/2020/05/07/12/2020/02/patterns-part2.csv.gz',\n",
       " '/Users/hannahkronenberg/SafegraphCOVIDPhilly/data/raw/monthly-patterns/patterns_backfill/2020/05/07/12/2020/01/patterns-part3.csv.gz',\n",
       " '/Users/hannahkronenberg/SafegraphCOVIDPhilly/data/raw/monthly-patterns/patterns_backfill/2020/05/07/12/2020/01/patterns-part1.csv.gz',\n",
       " '/Users/hannahkronenberg/SafegraphCOVIDPhilly/data/raw/monthly-patterns/patterns_backfill/2020/05/07/12/2020/01/patterns-part4.csv.gz',\n",
       " '/Users/hannahkronenberg/SafegraphCOVIDPhilly/data/raw/monthly-patterns/patterns_backfill/2020/05/07/12/2020/01/patterns-part2.csv.gz']"
      ]
     },
     "execution_count": 7,
     "metadata": {},
     "output_type": "execute_result"
    }
   ],
   "source": [
    "files"
   ]
  },
  {
   "cell_type": "code",
   "execution_count": 12,
   "metadata": {},
   "outputs": [],
   "source": [
    "keep_cols = ['safegraph_place_id', 'location_name','street_address','city','region','postal_code',\n",
    "             'date_range_start', 'date_range_end', 'raw_visit_counts','raw_visitor_counts','visits_by_day',\n",
    "            'poi_cbg']\n",
    "\n",
    "def filter_and_explode(df):\n",
    "    df = df[keep_cols]\n",
    "    df = df[(df['city'] == 'Philadelphia') & (df['region'] == 'PA')]\n",
    "    df = sgpy.explode_json_array(\n",
    "        df, array_column ='visits_by_day', value_col_name='day_visit_counts', \n",
    "        place_key='safegraph_place_id', file_key='date_range_start', array_sequence='day', \n",
    "        keep_index=False, zero_index=False)\n",
    "    df['date_range_start'] = pd.to_datetime(df['date_range_start'])\n",
    "    temp = df['day'].apply(lambda x: pd.Timedelta(x-1, unit='D'))\n",
    "    df['date'] = df['date_range_start'] + temp\n",
    "    return df"
   ]
  },
  {
   "cell_type": "code",
   "execution_count": 14,
   "metadata": {},
   "outputs": [],
   "source": [
    "philly_patterns = [filter_and_explode(pd.read_csv(file)) for file in files]"
   ]
  },
  {
   "cell_type": "code",
   "execution_count": 18,
   "metadata": {},
   "outputs": [],
   "source": [
    "philly_patterns_df = pd.concat(philly_patterns)"
   ]
  },
  {
   "cell_type": "code",
   "execution_count": 15,
   "metadata": {},
   "outputs": [],
   "source": [
    "processed_data_dir = os.path.join(root_dir,'data/processed')"
   ]
  },
  {
   "cell_type": "code",
   "execution_count": 19,
   "metadata": {},
   "outputs": [],
   "source": [
    "philly_patterns_df.to_csv(os.path.join(processed_data_dir,'philly_patterns.csv'), index = False)"
   ]
  }
 ],
 "metadata": {
  "kernelspec": {
   "display_name": "Python 3",
   "language": "python",
   "name": "python3"
  },
  "language_info": {
   "codemirror_mode": {
    "name": "ipython",
    "version": 3
   },
   "file_extension": ".py",
   "mimetype": "text/x-python",
   "name": "python",
   "nbconvert_exporter": "python",
   "pygments_lexer": "ipython3",
   "version": "3.7.3"
  }
 },
 "nbformat": 4,
 "nbformat_minor": 2
}
