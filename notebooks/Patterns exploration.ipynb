{
 "cells": [
  {
   "cell_type": "code",
   "execution_count": 1,
   "metadata": {},
   "outputs": [],
   "source": [
    "import pandas as pd\n",
    "import numpy as np\n",
    "import geopandas as gpd"
   ]
  },
  {
   "cell_type": "code",
   "execution_count": 2,
   "metadata": {},
   "outputs": [],
   "source": [
    "import cartopy.crs as ccrs\n",
    "from matplotlib import pyplot as plt\n",
    "from mpl_toolkits.axes_grid1 import make_axes_locatable"
   ]
  },
  {
   "cell_type": "code",
   "execution_count": 3,
   "metadata": {},
   "outputs": [],
   "source": [
    "from safegraph_py_functions import safegraph_py_functions as sgpy"
   ]
  },
  {
   "cell_type": "code",
   "execution_count": 4,
   "metadata": {},
   "outputs": [],
   "source": [
    "import os\n",
    "from dotenv import load_dotenv, find_dotenv"
   ]
  },
  {
   "cell_type": "code",
   "execution_count": 5,
   "metadata": {},
   "outputs": [],
   "source": [
    "# find .env automagically by walking up directories until it's found\n",
    "dotenv_path = find_dotenv()\n",
    "\n",
    "# load up the entries as environment variables\n",
    "load_dotenv(dotenv_path)\n",
    "root_dir = os.environ.get(\"ROOT_DIR\")\n",
    "raw_data_dir = os.path.join(root_dir,'data/raw')"
   ]
  },
  {
   "cell_type": "code",
   "execution_count": 6,
   "metadata": {},
   "outputs": [],
   "source": [
    "# local directory where we want to put all the data\n",
    "patterns_path = os.path.join(raw_data_dir,'monthly-patterns')\n",
    "# print(local)\n",
    "files = []\n",
    "# r=root, d=directories, f = files\n",
    "for r, d, f in os.walk(patterns_path):\n",
    "    for file in f:\n",
    "        if file.endswith('.csv.gz') and 'patterns-part' in file:\n",
    "            files.append(os.path.join(patterns_path, r, file))"
   ]
  },
  {
   "cell_type": "code",
   "execution_count": 7,
   "metadata": {},
   "outputs": [
    {
     "data": {
      "text/plain": [
       "['/Users/hannahkronenberg/SafegraphCOVIDPhilly/data/raw/monthly-patterns/patterns/2020/11/06/11/patterns-part3.csv.gz',\n",
       " '/Users/hannahkronenberg/SafegraphCOVIDPhilly/data/raw/monthly-patterns/patterns/2020/11/06/11/patterns-part1.csv.gz',\n",
       " '/Users/hannahkronenberg/SafegraphCOVIDPhilly/data/raw/monthly-patterns/patterns/2020/11/06/11/patterns-part4.csv.gz',\n",
       " '/Users/hannahkronenberg/SafegraphCOVIDPhilly/data/raw/monthly-patterns/patterns/2020/11/06/11/patterns-part2.csv.gz',\n",
       " '/Users/hannahkronenberg/SafegraphCOVIDPhilly/data/raw/monthly-patterns/patterns/2020/10/07/02/patterns-part3.csv.gz',\n",
       " '/Users/hannahkronenberg/SafegraphCOVIDPhilly/data/raw/monthly-patterns/patterns/2020/10/07/02/patterns-part1.csv.gz',\n",
       " '/Users/hannahkronenberg/SafegraphCOVIDPhilly/data/raw/monthly-patterns/patterns/2020/10/07/02/patterns-part4.csv.gz',\n",
       " '/Users/hannahkronenberg/SafegraphCOVIDPhilly/data/raw/monthly-patterns/patterns/2020/10/07/02/patterns-part2.csv.gz',\n",
       " '/Users/hannahkronenberg/SafegraphCOVIDPhilly/data/raw/monthly-patterns/patterns/2020/07/06/06/patterns-part3.csv.gz',\n",
       " '/Users/hannahkronenberg/SafegraphCOVIDPhilly/data/raw/monthly-patterns/patterns/2020/07/06/06/patterns-part1.csv.gz',\n",
       " '/Users/hannahkronenberg/SafegraphCOVIDPhilly/data/raw/monthly-patterns/patterns/2020/07/06/06/patterns-part4.csv.gz',\n",
       " '/Users/hannahkronenberg/SafegraphCOVIDPhilly/data/raw/monthly-patterns/patterns/2020/07/06/06/patterns-part2.csv.gz',\n",
       " '/Users/hannahkronenberg/SafegraphCOVIDPhilly/data/raw/monthly-patterns/patterns/2020/09/04/09/patterns-part3.csv.gz',\n",
       " '/Users/hannahkronenberg/SafegraphCOVIDPhilly/data/raw/monthly-patterns/patterns/2020/09/04/09/patterns-part1.csv.gz',\n",
       " '/Users/hannahkronenberg/SafegraphCOVIDPhilly/data/raw/monthly-patterns/patterns/2020/09/04/09/patterns-part4.csv.gz',\n",
       " '/Users/hannahkronenberg/SafegraphCOVIDPhilly/data/raw/monthly-patterns/patterns/2020/09/04/09/patterns-part2.csv.gz',\n",
       " '/Users/hannahkronenberg/SafegraphCOVIDPhilly/data/raw/monthly-patterns/patterns/2020/08/05/09/patterns-part3.csv.gz',\n",
       " '/Users/hannahkronenberg/SafegraphCOVIDPhilly/data/raw/monthly-patterns/patterns/2020/08/05/09/patterns-part1.csv.gz',\n",
       " '/Users/hannahkronenberg/SafegraphCOVIDPhilly/data/raw/monthly-patterns/patterns/2020/08/05/09/patterns-part4.csv.gz',\n",
       " '/Users/hannahkronenberg/SafegraphCOVIDPhilly/data/raw/monthly-patterns/patterns/2020/08/05/09/patterns-part2.csv.gz',\n",
       " '/Users/hannahkronenberg/SafegraphCOVIDPhilly/data/raw/monthly-patterns/patterns/2020/06/05/06/patterns-part3.csv.gz',\n",
       " '/Users/hannahkronenberg/SafegraphCOVIDPhilly/data/raw/monthly-patterns/patterns/2020/06/05/06/patterns-part1.csv.gz',\n",
       " '/Users/hannahkronenberg/SafegraphCOVIDPhilly/data/raw/monthly-patterns/patterns/2020/06/05/06/patterns-part4.csv.gz',\n",
       " '/Users/hannahkronenberg/SafegraphCOVIDPhilly/data/raw/monthly-patterns/patterns/2020/06/05/06/patterns-part2.csv.gz',\n",
       " '/Users/hannahkronenberg/SafegraphCOVIDPhilly/data/raw/monthly-patterns/patterns_backfill/2020/05/07/12/2019/03/patterns-part3.csv.gz',\n",
       " '/Users/hannahkronenberg/SafegraphCOVIDPhilly/data/raw/monthly-patterns/patterns_backfill/2020/05/07/12/2019/03/patterns-part1.csv.gz',\n",
       " '/Users/hannahkronenberg/SafegraphCOVIDPhilly/data/raw/monthly-patterns/patterns_backfill/2020/05/07/12/2019/03/patterns-part4.csv.gz',\n",
       " '/Users/hannahkronenberg/SafegraphCOVIDPhilly/data/raw/monthly-patterns/patterns_backfill/2020/05/07/12/2019/03/patterns-part2.csv.gz',\n",
       " '/Users/hannahkronenberg/SafegraphCOVIDPhilly/data/raw/monthly-patterns/patterns_backfill/2020/05/07/12/2019/04/patterns-part3.csv.gz',\n",
       " '/Users/hannahkronenberg/SafegraphCOVIDPhilly/data/raw/monthly-patterns/patterns_backfill/2020/05/07/12/2019/04/patterns-part1.csv.gz',\n",
       " '/Users/hannahkronenberg/SafegraphCOVIDPhilly/data/raw/monthly-patterns/patterns_backfill/2020/05/07/12/2019/04/patterns-part4.csv.gz',\n",
       " '/Users/hannahkronenberg/SafegraphCOVIDPhilly/data/raw/monthly-patterns/patterns_backfill/2020/05/07/12/2019/04/patterns-part2.csv.gz',\n",
       " '/Users/hannahkronenberg/SafegraphCOVIDPhilly/data/raw/monthly-patterns/patterns_backfill/2020/05/07/12/2019/05/patterns-part3.csv.gz',\n",
       " '/Users/hannahkronenberg/SafegraphCOVIDPhilly/data/raw/monthly-patterns/patterns_backfill/2020/05/07/12/2019/05/patterns-part1.csv.gz',\n",
       " '/Users/hannahkronenberg/SafegraphCOVIDPhilly/data/raw/monthly-patterns/patterns_backfill/2020/05/07/12/2019/05/patterns-part4.csv.gz',\n",
       " '/Users/hannahkronenberg/SafegraphCOVIDPhilly/data/raw/monthly-patterns/patterns_backfill/2020/05/07/12/2019/05/patterns-part2.csv.gz',\n",
       " '/Users/hannahkronenberg/SafegraphCOVIDPhilly/data/raw/monthly-patterns/patterns_backfill/2020/05/07/12/2019/02/patterns-part3.csv.gz',\n",
       " '/Users/hannahkronenberg/SafegraphCOVIDPhilly/data/raw/monthly-patterns/patterns_backfill/2020/05/07/12/2019/02/patterns-part1.csv.gz',\n",
       " '/Users/hannahkronenberg/SafegraphCOVIDPhilly/data/raw/monthly-patterns/patterns_backfill/2020/05/07/12/2019/02/patterns-part4.csv.gz',\n",
       " '/Users/hannahkronenberg/SafegraphCOVIDPhilly/data/raw/monthly-patterns/patterns_backfill/2020/05/07/12/2019/02/patterns-part2.csv.gz',\n",
       " '/Users/hannahkronenberg/SafegraphCOVIDPhilly/data/raw/monthly-patterns/patterns_backfill/2020/05/07/12/2019/11/patterns-part3.csv.gz',\n",
       " '/Users/hannahkronenberg/SafegraphCOVIDPhilly/data/raw/monthly-patterns/patterns_backfill/2020/05/07/12/2019/11/patterns-part1.csv.gz',\n",
       " '/Users/hannahkronenberg/SafegraphCOVIDPhilly/data/raw/monthly-patterns/patterns_backfill/2020/05/07/12/2019/11/patterns-part4.csv.gz',\n",
       " '/Users/hannahkronenberg/SafegraphCOVIDPhilly/data/raw/monthly-patterns/patterns_backfill/2020/05/07/12/2019/11/patterns-part2.csv.gz',\n",
       " '/Users/hannahkronenberg/SafegraphCOVIDPhilly/data/raw/monthly-patterns/patterns_backfill/2020/05/07/12/2019/10/patterns-part3.csv.gz',\n",
       " '/Users/hannahkronenberg/SafegraphCOVIDPhilly/data/raw/monthly-patterns/patterns_backfill/2020/05/07/12/2019/10/patterns-part1.csv.gz',\n",
       " '/Users/hannahkronenberg/SafegraphCOVIDPhilly/data/raw/monthly-patterns/patterns_backfill/2020/05/07/12/2019/10/patterns-part4.csv.gz',\n",
       " '/Users/hannahkronenberg/SafegraphCOVIDPhilly/data/raw/monthly-patterns/patterns_backfill/2020/05/07/12/2019/10/patterns-part2.csv.gz',\n",
       " '/Users/hannahkronenberg/SafegraphCOVIDPhilly/data/raw/monthly-patterns/patterns_backfill/2020/05/07/12/2019/07/patterns-part3.csv.gz',\n",
       " '/Users/hannahkronenberg/SafegraphCOVIDPhilly/data/raw/monthly-patterns/patterns_backfill/2020/05/07/12/2019/07/patterns-part1.csv.gz',\n",
       " '/Users/hannahkronenberg/SafegraphCOVIDPhilly/data/raw/monthly-patterns/patterns_backfill/2020/05/07/12/2019/07/patterns-part4.csv.gz',\n",
       " '/Users/hannahkronenberg/SafegraphCOVIDPhilly/data/raw/monthly-patterns/patterns_backfill/2020/05/07/12/2019/07/patterns-part2.csv.gz',\n",
       " '/Users/hannahkronenberg/SafegraphCOVIDPhilly/data/raw/monthly-patterns/patterns_backfill/2020/05/07/12/2019/09/patterns-part3.csv.gz',\n",
       " '/Users/hannahkronenberg/SafegraphCOVIDPhilly/data/raw/monthly-patterns/patterns_backfill/2020/05/07/12/2019/09/patterns-part1.csv.gz',\n",
       " '/Users/hannahkronenberg/SafegraphCOVIDPhilly/data/raw/monthly-patterns/patterns_backfill/2020/05/07/12/2019/09/patterns-part4.csv.gz',\n",
       " '/Users/hannahkronenberg/SafegraphCOVIDPhilly/data/raw/monthly-patterns/patterns_backfill/2020/05/07/12/2019/09/patterns-part2.csv.gz',\n",
       " '/Users/hannahkronenberg/SafegraphCOVIDPhilly/data/raw/monthly-patterns/patterns_backfill/2020/05/07/12/2019/08/patterns-part3.csv.gz',\n",
       " '/Users/hannahkronenberg/SafegraphCOVIDPhilly/data/raw/monthly-patterns/patterns_backfill/2020/05/07/12/2019/08/patterns-part1.csv.gz',\n",
       " '/Users/hannahkronenberg/SafegraphCOVIDPhilly/data/raw/monthly-patterns/patterns_backfill/2020/05/07/12/2019/08/patterns-part4.csv.gz',\n",
       " '/Users/hannahkronenberg/SafegraphCOVIDPhilly/data/raw/monthly-patterns/patterns_backfill/2020/05/07/12/2019/08/patterns-part2.csv.gz',\n",
       " '/Users/hannahkronenberg/SafegraphCOVIDPhilly/data/raw/monthly-patterns/patterns_backfill/2020/05/07/12/2019/01/patterns-part3.csv.gz',\n",
       " '/Users/hannahkronenberg/SafegraphCOVIDPhilly/data/raw/monthly-patterns/patterns_backfill/2020/05/07/12/2019/01/patterns-part1.csv.gz',\n",
       " '/Users/hannahkronenberg/SafegraphCOVIDPhilly/data/raw/monthly-patterns/patterns_backfill/2020/05/07/12/2019/01/patterns-part4.csv.gz',\n",
       " '/Users/hannahkronenberg/SafegraphCOVIDPhilly/data/raw/monthly-patterns/patterns_backfill/2020/05/07/12/2019/01/patterns-part2.csv.gz',\n",
       " '/Users/hannahkronenberg/SafegraphCOVIDPhilly/data/raw/monthly-patterns/patterns_backfill/2020/05/07/12/2019/06/patterns-part3.csv.gz',\n",
       " '/Users/hannahkronenberg/SafegraphCOVIDPhilly/data/raw/monthly-patterns/patterns_backfill/2020/05/07/12/2019/06/patterns-part1.csv.gz',\n",
       " '/Users/hannahkronenberg/SafegraphCOVIDPhilly/data/raw/monthly-patterns/patterns_backfill/2020/05/07/12/2019/06/patterns-part4.csv.gz',\n",
       " '/Users/hannahkronenberg/SafegraphCOVIDPhilly/data/raw/monthly-patterns/patterns_backfill/2020/05/07/12/2019/06/patterns-part2.csv.gz',\n",
       " '/Users/hannahkronenberg/SafegraphCOVIDPhilly/data/raw/monthly-patterns/patterns_backfill/2020/05/07/12/2019/12/patterns-part3.csv.gz',\n",
       " '/Users/hannahkronenberg/SafegraphCOVIDPhilly/data/raw/monthly-patterns/patterns_backfill/2020/05/07/12/2019/12/patterns-part1.csv.gz',\n",
       " '/Users/hannahkronenberg/SafegraphCOVIDPhilly/data/raw/monthly-patterns/patterns_backfill/2020/05/07/12/2019/12/patterns-part4.csv.gz',\n",
       " '/Users/hannahkronenberg/SafegraphCOVIDPhilly/data/raw/monthly-patterns/patterns_backfill/2020/05/07/12/2019/12/patterns-part2.csv.gz',\n",
       " '/Users/hannahkronenberg/SafegraphCOVIDPhilly/data/raw/monthly-patterns/patterns_backfill/2020/05/07/12/2020/03/patterns-part3.csv.gz',\n",
       " '/Users/hannahkronenberg/SafegraphCOVIDPhilly/data/raw/monthly-patterns/patterns_backfill/2020/05/07/12/2020/03/patterns-part1.csv.gz',\n",
       " '/Users/hannahkronenberg/SafegraphCOVIDPhilly/data/raw/monthly-patterns/patterns_backfill/2020/05/07/12/2020/03/patterns-part4.csv.gz',\n",
       " '/Users/hannahkronenberg/SafegraphCOVIDPhilly/data/raw/monthly-patterns/patterns_backfill/2020/05/07/12/2020/03/patterns-part2.csv.gz',\n",
       " '/Users/hannahkronenberg/SafegraphCOVIDPhilly/data/raw/monthly-patterns/patterns_backfill/2020/05/07/12/2020/04/patterns-part3.csv.gz',\n",
       " '/Users/hannahkronenberg/SafegraphCOVIDPhilly/data/raw/monthly-patterns/patterns_backfill/2020/05/07/12/2020/04/patterns-part1.csv.gz',\n",
       " '/Users/hannahkronenberg/SafegraphCOVIDPhilly/data/raw/monthly-patterns/patterns_backfill/2020/05/07/12/2020/04/patterns-part4.csv.gz',\n",
       " '/Users/hannahkronenberg/SafegraphCOVIDPhilly/data/raw/monthly-patterns/patterns_backfill/2020/05/07/12/2020/04/patterns-part2.csv.gz',\n",
       " '/Users/hannahkronenberg/SafegraphCOVIDPhilly/data/raw/monthly-patterns/patterns_backfill/2020/05/07/12/2020/02/patterns-part3.csv.gz',\n",
       " '/Users/hannahkronenberg/SafegraphCOVIDPhilly/data/raw/monthly-patterns/patterns_backfill/2020/05/07/12/2020/02/patterns-part1.csv.gz',\n",
       " '/Users/hannahkronenberg/SafegraphCOVIDPhilly/data/raw/monthly-patterns/patterns_backfill/2020/05/07/12/2020/02/patterns-part4.csv.gz',\n",
       " '/Users/hannahkronenberg/SafegraphCOVIDPhilly/data/raw/monthly-patterns/patterns_backfill/2020/05/07/12/2020/02/patterns-part2.csv.gz',\n",
       " '/Users/hannahkronenberg/SafegraphCOVIDPhilly/data/raw/monthly-patterns/patterns_backfill/2020/05/07/12/2020/01/patterns-part3.csv.gz',\n",
       " '/Users/hannahkronenberg/SafegraphCOVIDPhilly/data/raw/monthly-patterns/patterns_backfill/2020/05/07/12/2020/01/patterns-part1.csv.gz',\n",
       " '/Users/hannahkronenberg/SafegraphCOVIDPhilly/data/raw/monthly-patterns/patterns_backfill/2020/05/07/12/2020/01/patterns-part4.csv.gz',\n",
       " '/Users/hannahkronenberg/SafegraphCOVIDPhilly/data/raw/monthly-patterns/patterns_backfill/2020/05/07/12/2020/01/patterns-part2.csv.gz']"
      ]
     },
     "execution_count": 7,
     "metadata": {},
     "output_type": "execute_result"
    }
   ],
   "source": [
    "files"
   ]
  },
  {
   "cell_type": "code",
   "execution_count": 12,
   "metadata": {},
   "outputs": [],
   "source": [
    "keep_cols = ['safegraph_place_id', 'location_name','street_address','city','region','postal_code',\n",
    "             'date_range_start', 'date_range_end', 'raw_visit_counts','raw_visitor_counts','visits_by_day',\n",
    "            'poi_cbg']\n",
    "\n",
    "def filter_and_explode(df):\n",
    "    df = df[keep_cols]\n",
    "    df = df[(df['city'] == 'Philadelphia') & (df['region'] == 'PA')]\n",
    "    df = sgpy.explode_json_array(\n",
    "        df, array_column ='visits_by_day', value_col_name='day_visit_counts', \n",
    "        place_key='safegraph_place_id', file_key='date_range_start', array_sequence='day', \n",
    "        keep_index=False, zero_index=False)\n",
    "    df['date_range_start'] = pd.to_datetime(df['date_range_start'])\n",
    "    temp = df['day'].apply(lambda x: pd.Timedelta(x-1, unit='D'))\n",
    "    df['date'] = df['date_range_start'] + temp\n",
    "    return df"
   ]
  },
  {
   "cell_type": "code",
   "execution_count": 14,
   "metadata": {},
   "outputs": [],
   "source": [
    "philly_patterns = [filter_and_explode(pd.read_csv(file)) for file in files]"
   ]
  },
  {
   "cell_type": "code",
   "execution_count": 18,
   "metadata": {},
   "outputs": [],
   "source": [
    "philly_patterns_df = pd.concat(philly_patterns)"
   ]
  },
  {
   "cell_type": "code",
   "execution_count": 15,
   "metadata": {},
   "outputs": [],
   "source": [
    "processed_data_dir = os.path.join(root_dir,'data/processed')"
   ]
  },
  {
   "cell_type": "code",
   "execution_count": 19,
   "metadata": {},
   "outputs": [],
   "source": [
    "philly_patterns_df.to_csv(os.path.join(processed_data_dir,'philly_patterns.csv'), index = False)"
   ]
  },
  {
   "cell_type": "code",
   "execution_count": null,
   "metadata": {},
   "outputs": [],
   "source": [
    "for file in files[:4]:\n",
    "    print(file)\n",
    "    patterns = pd.read_csv(file)\n",
    "    print('date_range_start' in patterns.columns)\n",
    "    patterns = filter_and_explode(patterns)\n",
    "    philly_patterns.append(patterns)"
   ]
  },
  {
   "cell_type": "code",
   "execution_count": 6,
   "metadata": {},
   "outputs": [],
   "source": [
    "patterns_path = os.path.join(raw_data_dir, 'monthly-patterns/patterns_backfill/2020/05/07/12/2020/01')"
   ]
  },
  {
   "cell_type": "code",
   "execution_count": 7,
   "metadata": {},
   "outputs": [],
   "source": [
    "norm_path = os.path.join(raw_data_dir, 'monthly-patterns/normalization_stats_backfill/2020/05/07/12/2019/01')"
   ]
  },
  {
   "cell_type": "code",
   "execution_count": 8,
   "metadata": {},
   "outputs": [],
   "source": [
    "norm = pd.read_csv(os.path.join(norm_path,'normalization_stats.csv'))"
   ]
  },
  {
   "cell_type": "code",
   "execution_count": 9,
   "metadata": {},
   "outputs": [
    {
     "data": {
      "text/html": [
       "<div>\n",
       "<style scoped>\n",
       "    .dataframe tbody tr th:only-of-type {\n",
       "        vertical-align: middle;\n",
       "    }\n",
       "\n",
       "    .dataframe tbody tr th {\n",
       "        vertical-align: top;\n",
       "    }\n",
       "\n",
       "    .dataframe thead th {\n",
       "        text-align: right;\n",
       "    }\n",
       "</style>\n",
       "<table border=\"1\" class=\"dataframe\">\n",
       "  <thead>\n",
       "    <tr style=\"text-align: right;\">\n",
       "      <th></th>\n",
       "      <th>year</th>\n",
       "      <th>month</th>\n",
       "      <th>day</th>\n",
       "      <th>total_visits</th>\n",
       "      <th>total_devices_seen</th>\n",
       "      <th>total_home_visits</th>\n",
       "      <th>total_home_visitors</th>\n",
       "    </tr>\n",
       "  </thead>\n",
       "  <tbody>\n",
       "    <tr>\n",
       "      <th>0</th>\n",
       "      <td>2019</td>\n",
       "      <td>1</td>\n",
       "      <td>1</td>\n",
       "      <td>42236746</td>\n",
       "      <td>17581143</td>\n",
       "      <td>23397865</td>\n",
       "      <td>14772615</td>\n",
       "    </tr>\n",
       "    <tr>\n",
       "      <th>1</th>\n",
       "      <td>2019</td>\n",
       "      <td>1</td>\n",
       "      <td>2</td>\n",
       "      <td>53039892</td>\n",
       "      <td>18165000</td>\n",
       "      <td>23407187</td>\n",
       "      <td>14693797</td>\n",
       "    </tr>\n",
       "    <tr>\n",
       "      <th>2</th>\n",
       "      <td>2019</td>\n",
       "      <td>1</td>\n",
       "      <td>3</td>\n",
       "      <td>54674970</td>\n",
       "      <td>18021181</td>\n",
       "      <td>23070631</td>\n",
       "      <td>14361047</td>\n",
       "    </tr>\n",
       "    <tr>\n",
       "      <th>3</th>\n",
       "      <td>2019</td>\n",
       "      <td>1</td>\n",
       "      <td>4</td>\n",
       "      <td>58124764</td>\n",
       "      <td>18086092</td>\n",
       "      <td>23319783</td>\n",
       "      <td>14275180</td>\n",
       "    </tr>\n",
       "    <tr>\n",
       "      <th>4</th>\n",
       "      <td>2019</td>\n",
       "      <td>1</td>\n",
       "      <td>5</td>\n",
       "      <td>53145260</td>\n",
       "      <td>17583502</td>\n",
       "      <td>22608363</td>\n",
       "      <td>13941435</td>\n",
       "    </tr>\n",
       "  </tbody>\n",
       "</table>\n",
       "</div>"
      ],
      "text/plain": [
       "   year  month  day  total_visits  total_devices_seen  total_home_visits  \\\n",
       "0  2019      1    1      42236746            17581143           23397865   \n",
       "1  2019      1    2      53039892            18165000           23407187   \n",
       "2  2019      1    3      54674970            18021181           23070631   \n",
       "3  2019      1    4      58124764            18086092           23319783   \n",
       "4  2019      1    5      53145260            17583502           22608363   \n",
       "\n",
       "   total_home_visitors  \n",
       "0             14772615  \n",
       "1             14693797  \n",
       "2             14361047  \n",
       "3             14275180  \n",
       "4             13941435  "
      ]
     },
     "execution_count": 9,
     "metadata": {},
     "output_type": "execute_result"
    }
   ],
   "source": [
    "norm.head()"
   ]
  },
  {
   "cell_type": "code",
   "execution_count": 10,
   "metadata": {},
   "outputs": [],
   "source": [
    "patterns = pd.read_csv(os.path.join(patterns_path,'patterns-part1.csv.gz'))"
   ]
  },
  {
   "cell_type": "code",
   "execution_count": 16,
   "metadata": {},
   "outputs": [
    {
     "data": {
      "text/plain": [
       "1078206"
      ]
     },
     "execution_count": 16,
     "metadata": {},
     "output_type": "execute_result"
    }
   ],
   "source": [
    "len(patterns.index)"
   ]
  },
  {
   "cell_type": "code",
   "execution_count": 17,
   "metadata": {},
   "outputs": [],
   "source": [
    "patterns = patterns[(patterns['city'] == 'Philadelphia') & (patterns['region'] == 'PA')]"
   ]
  },
  {
   "cell_type": "code",
   "execution_count": 18,
   "metadata": {},
   "outputs": [
    {
     "data": {
      "text/plain": [
       "4564"
      ]
     },
     "execution_count": 18,
     "metadata": {},
     "output_type": "execute_result"
    }
   ],
   "source": [
    "len(patterns.index)"
   ]
  },
  {
   "cell_type": "code",
   "execution_count": 15,
   "metadata": {},
   "outputs": [
    {
     "data": {
      "text/plain": [
       "Index(['safegraph_place_id', 'location_name', 'street_address', 'city',\n",
       "       'region', 'postal_code', 'safegraph_brand_ids', 'brands',\n",
       "       'date_range_start', 'date_range_end', 'raw_visit_counts',\n",
       "       'raw_visitor_counts', 'visits_by_day', 'poi_cbg', 'visitor_home_cbgs',\n",
       "       'visitor_daytime_cbgs', 'visitor_work_cbgs',\n",
       "       'visitor_country_of_origin', 'distance_from_home', 'median_dwell',\n",
       "       'bucketed_dwell_times', 'related_same_day_brand',\n",
       "       'related_same_month_brand', 'popularity_by_hour', 'popularity_by_day',\n",
       "       'device_type'],\n",
       "      dtype='object')"
      ]
     },
     "execution_count": 15,
     "metadata": {},
     "output_type": "execute_result"
    }
   ],
   "source": [
    "patterns.columns"
   ]
  },
  {
   "cell_type": "code",
   "execution_count": 19,
   "metadata": {},
   "outputs": [],
   "source": [
    "keep_cols = ['safegraph_place_id', 'location_name','street_address','city','region','postal_code',\n",
    "             'date_range_start', 'date_range_end', 'raw_visit_counts','raw_visitor_counts','visits_by_day',\n",
    "            'poi_cbg']\n",
    "patterns = patterns[keep_cols]"
   ]
  },
  {
   "cell_type": "code",
   "execution_count": 23,
   "metadata": {},
   "outputs": [],
   "source": [
    "patterns['date_range_start_dt'] = pd.to_datetime(patterns['date_range_start'])\n",
    "patterns['year'] = patterns['date_range_start_dt'].apply(lambda x: x.year)\n",
    "patterns['month'] = patterns['date_range_start_dt'].apply(lambda x: x.month)\n",
    "patterns['start_day'] = patterns['date_range_start_dt']"
   ]
  },
  {
   "cell_type": "code",
   "execution_count": 24,
   "metadata": {},
   "outputs": [
    {
     "data": {
      "text/html": [
       "<div>\n",
       "<style scoped>\n",
       "    .dataframe tbody tr th:only-of-type {\n",
       "        vertical-align: middle;\n",
       "    }\n",
       "\n",
       "    .dataframe tbody tr th {\n",
       "        vertical-align: top;\n",
       "    }\n",
       "\n",
       "    .dataframe thead th {\n",
       "        text-align: right;\n",
       "    }\n",
       "</style>\n",
       "<table border=\"1\" class=\"dataframe\">\n",
       "  <thead>\n",
       "    <tr style=\"text-align: right;\">\n",
       "      <th></th>\n",
       "      <th>safegraph_place_id</th>\n",
       "      <th>location_name</th>\n",
       "      <th>street_address</th>\n",
       "      <th>city</th>\n",
       "      <th>region</th>\n",
       "      <th>postal_code</th>\n",
       "      <th>date_range_start</th>\n",
       "      <th>date_range_end</th>\n",
       "      <th>raw_visit_counts</th>\n",
       "      <th>raw_visitor_counts</th>\n",
       "      <th>visits_by_day</th>\n",
       "      <th>poi_cbg</th>\n",
       "      <th>date_range_start_dt</th>\n",
       "      <th>year</th>\n",
       "      <th>month</th>\n",
       "    </tr>\n",
       "  </thead>\n",
       "  <tbody>\n",
       "    <tr>\n",
       "      <th>249</th>\n",
       "      <td>sg:1343a6b2f36a4d8bbb4410a361d067f2</td>\n",
       "      <td>Chez Bow Wow</td>\n",
       "      <td>707 N 2nd St</td>\n",
       "      <td>Philadelphia</td>\n",
       "      <td>PA</td>\n",
       "      <td>19123</td>\n",
       "      <td>2020-01-01T00:00:00-05:00</td>\n",
       "      <td>2020-02-01T00:00:00-05:00</td>\n",
       "      <td>177</td>\n",
       "      <td>130</td>\n",
       "      <td>[6,5,4,12,2,7,10,4,3,10,8,13,3,3,4,4,3,4,5,7,5...</td>\n",
       "      <td>4.210104e+11</td>\n",
       "      <td>2020-01-01 00:00:00-05:00</td>\n",
       "      <td>2020</td>\n",
       "      <td>1</td>\n",
       "    </tr>\n",
       "    <tr>\n",
       "      <th>430</th>\n",
       "      <td>sg:24305f8978a64542b68df89e08f9b07b</td>\n",
       "      <td>Tommie's Restaurant</td>\n",
       "      <td>465 E Girard Ave</td>\n",
       "      <td>Philadelphia</td>\n",
       "      <td>PA</td>\n",
       "      <td>19125</td>\n",
       "      <td>2020-01-01T00:00:00-05:00</td>\n",
       "      <td>2020-02-01T00:00:00-05:00</td>\n",
       "      <td>155</td>\n",
       "      <td>83</td>\n",
       "      <td>[2,6,12,1,2,6,8,5,5,10,4,3,2,7,2,6,3,6,5,7,6,8...</td>\n",
       "      <td>4.210102e+11</td>\n",
       "      <td>2020-01-01 00:00:00-05:00</td>\n",
       "      <td>2020</td>\n",
       "      <td>1</td>\n",
       "    </tr>\n",
       "    <tr>\n",
       "      <th>500</th>\n",
       "      <td>sg:29b4966a726046a89522b619b81393b9</td>\n",
       "      <td>Fine Wine and Good Spirits</td>\n",
       "      <td>730 Adams Ave</td>\n",
       "      <td>Philadelphia</td>\n",
       "      <td>PA</td>\n",
       "      <td>19124</td>\n",
       "      <td>2020-01-01T00:00:00-05:00</td>\n",
       "      <td>2020-02-01T00:00:00-05:00</td>\n",
       "      <td>22</td>\n",
       "      <td>21</td>\n",
       "      <td>[0,1,1,0,1,0,1,0,1,0,2,0,2,1,0,0,1,0,1,1,0,1,3...</td>\n",
       "      <td>4.210103e+11</td>\n",
       "      <td>2020-01-01 00:00:00-05:00</td>\n",
       "      <td>2020</td>\n",
       "      <td>1</td>\n",
       "    </tr>\n",
       "    <tr>\n",
       "      <th>546</th>\n",
       "      <td>sg:2dd600dc710f405b89874a96fa32aca4</td>\n",
       "      <td>Great Wall Chinese Food</td>\n",
       "      <td>1801 Moore St</td>\n",
       "      <td>Philadelphia</td>\n",
       "      <td>PA</td>\n",
       "      <td>19145</td>\n",
       "      <td>2020-01-01T00:00:00-05:00</td>\n",
       "      <td>2020-02-01T00:00:00-05:00</td>\n",
       "      <td>264</td>\n",
       "      <td>134</td>\n",
       "      <td>[7,6,8,10,6,10,8,9,9,4,6,13,9,8,10,6,14,8,11,7...</td>\n",
       "      <td>4.210100e+11</td>\n",
       "      <td>2020-01-01 00:00:00-05:00</td>\n",
       "      <td>2020</td>\n",
       "      <td>1</td>\n",
       "    </tr>\n",
       "    <tr>\n",
       "      <th>581</th>\n",
       "      <td>sg:2fa584ddcf464a9fa551bd09f035c25c</td>\n",
       "      <td>Ted Martynowicz DO</td>\n",
       "      <td>501 S 54th St Ste 126</td>\n",
       "      <td>Philadelphia</td>\n",
       "      <td>PA</td>\n",
       "      <td>19143</td>\n",
       "      <td>2020-01-01T00:00:00-05:00</td>\n",
       "      <td>2020-02-01T00:00:00-05:00</td>\n",
       "      <td>395</td>\n",
       "      <td>204</td>\n",
       "      <td>[6,8,13,4,5,16,9,17,15,14,7,9,18,16,19,15,21,1...</td>\n",
       "      <td>4.210101e+11</td>\n",
       "      <td>2020-01-01 00:00:00-05:00</td>\n",
       "      <td>2020</td>\n",
       "      <td>1</td>\n",
       "    </tr>\n",
       "  </tbody>\n",
       "</table>\n",
       "</div>"
      ],
      "text/plain": [
       "                      safegraph_place_id               location_name  \\\n",
       "249  sg:1343a6b2f36a4d8bbb4410a361d067f2                Chez Bow Wow   \n",
       "430  sg:24305f8978a64542b68df89e08f9b07b         Tommie's Restaurant   \n",
       "500  sg:29b4966a726046a89522b619b81393b9  Fine Wine and Good Spirits   \n",
       "546  sg:2dd600dc710f405b89874a96fa32aca4     Great Wall Chinese Food   \n",
       "581  sg:2fa584ddcf464a9fa551bd09f035c25c          Ted Martynowicz DO   \n",
       "\n",
       "            street_address          city region  postal_code  \\\n",
       "249           707 N 2nd St  Philadelphia     PA        19123   \n",
       "430       465 E Girard Ave  Philadelphia     PA        19125   \n",
       "500          730 Adams Ave  Philadelphia     PA        19124   \n",
       "546          1801 Moore St  Philadelphia     PA        19145   \n",
       "581  501 S 54th St Ste 126  Philadelphia     PA        19143   \n",
       "\n",
       "              date_range_start             date_range_end  raw_visit_counts  \\\n",
       "249  2020-01-01T00:00:00-05:00  2020-02-01T00:00:00-05:00               177   \n",
       "430  2020-01-01T00:00:00-05:00  2020-02-01T00:00:00-05:00               155   \n",
       "500  2020-01-01T00:00:00-05:00  2020-02-01T00:00:00-05:00                22   \n",
       "546  2020-01-01T00:00:00-05:00  2020-02-01T00:00:00-05:00               264   \n",
       "581  2020-01-01T00:00:00-05:00  2020-02-01T00:00:00-05:00               395   \n",
       "\n",
       "     raw_visitor_counts                                      visits_by_day  \\\n",
       "249                 130  [6,5,4,12,2,7,10,4,3,10,8,13,3,3,4,4,3,4,5,7,5...   \n",
       "430                  83  [2,6,12,1,2,6,8,5,5,10,4,3,2,7,2,6,3,6,5,7,6,8...   \n",
       "500                  21  [0,1,1,0,1,0,1,0,1,0,2,0,2,1,0,0,1,0,1,1,0,1,3...   \n",
       "546                 134  [7,6,8,10,6,10,8,9,9,4,6,13,9,8,10,6,14,8,11,7...   \n",
       "581                 204  [6,8,13,4,5,16,9,17,15,14,7,9,18,16,19,15,21,1...   \n",
       "\n",
       "          poi_cbg       date_range_start_dt  year  month  \n",
       "249  4.210104e+11 2020-01-01 00:00:00-05:00  2020      1  \n",
       "430  4.210102e+11 2020-01-01 00:00:00-05:00  2020      1  \n",
       "500  4.210103e+11 2020-01-01 00:00:00-05:00  2020      1  \n",
       "546  4.210100e+11 2020-01-01 00:00:00-05:00  2020      1  \n",
       "581  4.210101e+11 2020-01-01 00:00:00-05:00  2020      1  "
      ]
     },
     "execution_count": 24,
     "metadata": {},
     "output_type": "execute_result"
    }
   ],
   "source": [
    "patterns.head()"
   ]
  },
  {
   "cell_type": "code",
   "execution_count": 20,
   "metadata": {},
   "outputs": [],
   "source": [
    "exploded = sgpy.explode_json_array(patterns, array_column ='visits_by_day', value_col_name='day_visit_counts',place_key='safegraph_place_id', file_key='date_range_start', array_sequence='day', keep_index=False, zero_index=False)"
   ]
  },
  {
   "cell_type": "code",
   "execution_count": 26,
   "metadata": {},
   "outputs": [],
   "source": [
    "exploded['date_range_start'] = pd.to_datetime(exploded['date_range_start'])\n",
    "temp = exploded['day'].apply(lambda x: pd.Timedelta(x-1, unit='D'))\n",
    "exploded['date'] = exploded['date_range_start'] + temp"
   ]
  },
  {
   "cell_type": "code",
   "execution_count": 27,
   "metadata": {},
   "outputs": [
    {
     "data": {
      "text/html": [
       "<div>\n",
       "<style scoped>\n",
       "    .dataframe tbody tr th:only-of-type {\n",
       "        vertical-align: middle;\n",
       "    }\n",
       "\n",
       "    .dataframe tbody tr th {\n",
       "        vertical-align: top;\n",
       "    }\n",
       "\n",
       "    .dataframe thead th {\n",
       "        text-align: right;\n",
       "    }\n",
       "</style>\n",
       "<table border=\"1\" class=\"dataframe\">\n",
       "  <thead>\n",
       "    <tr style=\"text-align: right;\">\n",
       "      <th></th>\n",
       "      <th>safegraph_place_id</th>\n",
       "      <th>location_name</th>\n",
       "      <th>street_address</th>\n",
       "      <th>city</th>\n",
       "      <th>region</th>\n",
       "      <th>postal_code</th>\n",
       "      <th>date_range_start</th>\n",
       "      <th>date_range_end</th>\n",
       "      <th>raw_visit_counts</th>\n",
       "      <th>raw_visitor_counts</th>\n",
       "      <th>visits_by_day</th>\n",
       "      <th>poi_cbg</th>\n",
       "      <th>day_visit_counts</th>\n",
       "      <th>day</th>\n",
       "      <th>date</th>\n",
       "    </tr>\n",
       "  </thead>\n",
       "  <tbody>\n",
       "    <tr>\n",
       "      <th>0</th>\n",
       "      <td>sg:1343a6b2f36a4d8bbb4410a361d067f2</td>\n",
       "      <td>Chez Bow Wow</td>\n",
       "      <td>707 N 2nd St</td>\n",
       "      <td>Philadelphia</td>\n",
       "      <td>PA</td>\n",
       "      <td>19123</td>\n",
       "      <td>2020-01-01 00:00:00-05:00</td>\n",
       "      <td>2020-02-01T00:00:00-05:00</td>\n",
       "      <td>177</td>\n",
       "      <td>130</td>\n",
       "      <td>[6,5,4,12,2,7,10,4,3,10,8,13,3,3,4,4,3,4,5,7,5...</td>\n",
       "      <td>4.210104e+11</td>\n",
       "      <td>6</td>\n",
       "      <td>1</td>\n",
       "      <td>2020-01-01 00:00:00-05:00</td>\n",
       "    </tr>\n",
       "    <tr>\n",
       "      <th>1</th>\n",
       "      <td>sg:1343a6b2f36a4d8bbb4410a361d067f2</td>\n",
       "      <td>Chez Bow Wow</td>\n",
       "      <td>707 N 2nd St</td>\n",
       "      <td>Philadelphia</td>\n",
       "      <td>PA</td>\n",
       "      <td>19123</td>\n",
       "      <td>2020-01-01 00:00:00-05:00</td>\n",
       "      <td>2020-02-01T00:00:00-05:00</td>\n",
       "      <td>177</td>\n",
       "      <td>130</td>\n",
       "      <td>[6,5,4,12,2,7,10,4,3,10,8,13,3,3,4,4,3,4,5,7,5...</td>\n",
       "      <td>4.210104e+11</td>\n",
       "      <td>5</td>\n",
       "      <td>2</td>\n",
       "      <td>2020-01-02 00:00:00-05:00</td>\n",
       "    </tr>\n",
       "    <tr>\n",
       "      <th>2</th>\n",
       "      <td>sg:1343a6b2f36a4d8bbb4410a361d067f2</td>\n",
       "      <td>Chez Bow Wow</td>\n",
       "      <td>707 N 2nd St</td>\n",
       "      <td>Philadelphia</td>\n",
       "      <td>PA</td>\n",
       "      <td>19123</td>\n",
       "      <td>2020-01-01 00:00:00-05:00</td>\n",
       "      <td>2020-02-01T00:00:00-05:00</td>\n",
       "      <td>177</td>\n",
       "      <td>130</td>\n",
       "      <td>[6,5,4,12,2,7,10,4,3,10,8,13,3,3,4,4,3,4,5,7,5...</td>\n",
       "      <td>4.210104e+11</td>\n",
       "      <td>4</td>\n",
       "      <td>3</td>\n",
       "      <td>2020-01-03 00:00:00-05:00</td>\n",
       "    </tr>\n",
       "    <tr>\n",
       "      <th>3</th>\n",
       "      <td>sg:1343a6b2f36a4d8bbb4410a361d067f2</td>\n",
       "      <td>Chez Bow Wow</td>\n",
       "      <td>707 N 2nd St</td>\n",
       "      <td>Philadelphia</td>\n",
       "      <td>PA</td>\n",
       "      <td>19123</td>\n",
       "      <td>2020-01-01 00:00:00-05:00</td>\n",
       "      <td>2020-02-01T00:00:00-05:00</td>\n",
       "      <td>177</td>\n",
       "      <td>130</td>\n",
       "      <td>[6,5,4,12,2,7,10,4,3,10,8,13,3,3,4,4,3,4,5,7,5...</td>\n",
       "      <td>4.210104e+11</td>\n",
       "      <td>12</td>\n",
       "      <td>4</td>\n",
       "      <td>2020-01-04 00:00:00-05:00</td>\n",
       "    </tr>\n",
       "    <tr>\n",
       "      <th>4</th>\n",
       "      <td>sg:1343a6b2f36a4d8bbb4410a361d067f2</td>\n",
       "      <td>Chez Bow Wow</td>\n",
       "      <td>707 N 2nd St</td>\n",
       "      <td>Philadelphia</td>\n",
       "      <td>PA</td>\n",
       "      <td>19123</td>\n",
       "      <td>2020-01-01 00:00:00-05:00</td>\n",
       "      <td>2020-02-01T00:00:00-05:00</td>\n",
       "      <td>177</td>\n",
       "      <td>130</td>\n",
       "      <td>[6,5,4,12,2,7,10,4,3,10,8,13,3,3,4,4,3,4,5,7,5...</td>\n",
       "      <td>4.210104e+11</td>\n",
       "      <td>2</td>\n",
       "      <td>5</td>\n",
       "      <td>2020-01-05 00:00:00-05:00</td>\n",
       "    </tr>\n",
       "  </tbody>\n",
       "</table>\n",
       "</div>"
      ],
      "text/plain": [
       "                    safegraph_place_id location_name street_address  \\\n",
       "0  sg:1343a6b2f36a4d8bbb4410a361d067f2  Chez Bow Wow   707 N 2nd St   \n",
       "1  sg:1343a6b2f36a4d8bbb4410a361d067f2  Chez Bow Wow   707 N 2nd St   \n",
       "2  sg:1343a6b2f36a4d8bbb4410a361d067f2  Chez Bow Wow   707 N 2nd St   \n",
       "3  sg:1343a6b2f36a4d8bbb4410a361d067f2  Chez Bow Wow   707 N 2nd St   \n",
       "4  sg:1343a6b2f36a4d8bbb4410a361d067f2  Chez Bow Wow   707 N 2nd St   \n",
       "\n",
       "           city region  postal_code          date_range_start  \\\n",
       "0  Philadelphia     PA        19123 2020-01-01 00:00:00-05:00   \n",
       "1  Philadelphia     PA        19123 2020-01-01 00:00:00-05:00   \n",
       "2  Philadelphia     PA        19123 2020-01-01 00:00:00-05:00   \n",
       "3  Philadelphia     PA        19123 2020-01-01 00:00:00-05:00   \n",
       "4  Philadelphia     PA        19123 2020-01-01 00:00:00-05:00   \n",
       "\n",
       "              date_range_end  raw_visit_counts  raw_visitor_counts  \\\n",
       "0  2020-02-01T00:00:00-05:00               177                 130   \n",
       "1  2020-02-01T00:00:00-05:00               177                 130   \n",
       "2  2020-02-01T00:00:00-05:00               177                 130   \n",
       "3  2020-02-01T00:00:00-05:00               177                 130   \n",
       "4  2020-02-01T00:00:00-05:00               177                 130   \n",
       "\n",
       "                                       visits_by_day       poi_cbg  \\\n",
       "0  [6,5,4,12,2,7,10,4,3,10,8,13,3,3,4,4,3,4,5,7,5...  4.210104e+11   \n",
       "1  [6,5,4,12,2,7,10,4,3,10,8,13,3,3,4,4,3,4,5,7,5...  4.210104e+11   \n",
       "2  [6,5,4,12,2,7,10,4,3,10,8,13,3,3,4,4,3,4,5,7,5...  4.210104e+11   \n",
       "3  [6,5,4,12,2,7,10,4,3,10,8,13,3,3,4,4,3,4,5,7,5...  4.210104e+11   \n",
       "4  [6,5,4,12,2,7,10,4,3,10,8,13,3,3,4,4,3,4,5,7,5...  4.210104e+11   \n",
       "\n",
       "   day_visit_counts  day                      date  \n",
       "0                 6    1 2020-01-01 00:00:00-05:00  \n",
       "1                 5    2 2020-01-02 00:00:00-05:00  \n",
       "2                 4    3 2020-01-03 00:00:00-05:00  \n",
       "3                12    4 2020-01-04 00:00:00-05:00  \n",
       "4                 2    5 2020-01-05 00:00:00-05:00  "
      ]
     },
     "execution_count": 27,
     "metadata": {},
     "output_type": "execute_result"
    }
   ],
   "source": [
    "exploded.head()"
   ]
  },
  {
   "cell_type": "code",
   "execution_count": null,
   "metadata": {},
   "outputs": [],
   "source": []
  }
 ],
 "metadata": {
  "kernelspec": {
   "display_name": "Python 3",
   "language": "python",
   "name": "python3"
  },
  "language_info": {
   "codemirror_mode": {
    "name": "ipython",
    "version": 3
   },
   "file_extension": ".py",
   "mimetype": "text/x-python",
   "name": "python",
   "nbconvert_exporter": "python",
   "pygments_lexer": "ipython3",
   "version": "3.7.3"
  }
 },
 "nbformat": 4,
 "nbformat_minor": 2
}
