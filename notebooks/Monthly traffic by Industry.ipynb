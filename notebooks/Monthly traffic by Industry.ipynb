{
 "cells": [
  {
   "cell_type": "code",
   "execution_count": 1,
   "id": "interracial-finding",
   "metadata": {},
   "outputs": [],
   "source": [
    "import pandas as pd\n",
    "from safegraph_py_functions import safegraph_py_functions as sgpy\n",
    "import os\n",
    "from dotenv import load_dotenv, find_dotenv\n",
    "import zipfile\n",
    "import datetime"
   ]
  },
  {
   "cell_type": "code",
   "execution_count": 2,
   "id": "double-mexican",
   "metadata": {},
   "outputs": [],
   "source": [
    "# find .env automagically by walking up directories until it's found\n",
    "dotenv_path = find_dotenv()\n",
    "\n",
    "# load up the entries as environment variables\n",
    "load_dotenv(dotenv_path)\n",
    "root_dir = os.environ.get(\"ROOT_DIR\")\n",
    "raw_data_dir = os.path.join(root_dir,'data/raw')"
   ]
  },
  {
   "cell_type": "code",
   "execution_count": 3,
   "id": "included-richmond",
   "metadata": {},
   "outputs": [],
   "source": [
    "# Read in all patterns files in the monthly-patterns folder\n",
    "\n",
    "patterns_path = os.path.join(raw_data_dir,'monthly-patterns')\n",
    "files = []\n",
    "# r=root, d=directories, f = files\n",
    "for r, d, f in os.walk(patterns_path):\n",
    "    for file in f:\n",
    "        if file.endswith('.csv.gz') and 'patterns-part' in file:\n",
    "            files.append(os.path.join(patterns_path, r, file))"
   ]
  },
  {
   "cell_type": "code",
   "execution_count": 4,
   "id": "nasty-farmer",
   "metadata": {},
   "outputs": [],
   "source": [
    "processed_data_dir = os.path.join(root_dir,'data/processed')\n",
    "philly_places = pd.read_csv(os.path.join(processed_data_dir,'philly_places.csv'))"
   ]
  },
  {
   "cell_type": "code",
   "execution_count": 5,
   "id": "binary-microwave",
   "metadata": {},
   "outputs": [],
   "source": [
    "for col in ['valid_to', 'valid_from']:\n",
    "    philly_places[col] = pd.to_datetime(philly_places[col])"
   ]
  },
  {
   "cell_type": "code",
   "execution_count": 7,
   "id": "liberal-morrison",
   "metadata": {},
   "outputs": [],
   "source": [
    "# columns that we keep and aggregate\n",
    "keep_cols = ['postal_code', 'safegraph_place_id', 'date_range_start', 'visits_by_day']\n",
    "# columns we keep after exploding\n",
    "keep_cols_2 = ['postal_code', 'top_category', 'date','visits']\n",
    "# columns to group by\n",
    "group_by_cols = ['postal_code', 'top_category', 'date']\n",
    "\n",
    "def filter_and_explode(file):\n",
    "    df = pd.read_csv(file)\n",
    "    df = df[keep_cols]\n",
    "    # zip codes are read as integers rather than strings so we add leading zeros.\n",
    "    df['postal_code'] = df['postal_code'].apply(lambda x: ('00000' + str(x))[-5:])\n",
    "    # then we select the Philadelphia zipcodes\n",
    "    in_philly = df['postal_code'].str.startswith(\"191\")\n",
    "    df = df.loc[in_philly]\n",
    "    df = df.reset_index(drop = True)\n",
    "    df['date_range_start'] = pd.to_datetime(\n",
    "        df['date_range_start'].apply(lambda x: x[:10])\n",
    "    )\n",
    "    if len(df['date_range_start'].unique()) > 1:\n",
    "        print('More than one date in {0}!'.format(file))\n",
    "    file_date = df.loc[0,'date_range_start']\n",
    "    current = (philly_places['valid_from'] <= file_date) & (philly_places['valid_to'] > file_date)\n",
    "    current_places = philly_places.loc[current, ['safegraph_place_id','top_category']]\n",
    "    df = df.merge(current_places, how = 'left')\n",
    "    # The visits_by_day column contains a list of integers. \n",
    "    # This explodes that list so we get one row per day.\n",
    "    df = sgpy.explode_json_array(\n",
    "        df, array_column ='visits_by_day', value_col_name='visits', \n",
    "        place_key='safegraph_place_id', file_key='date_range_start', array_sequence='day', \n",
    "        keep_index=False, zero_index=False)\n",
    "    df['date_range_start'] = pd.to_datetime(df['date_range_start'])\n",
    "    # Calculate the date for each row.\n",
    "    temp = df['day'].apply(lambda x: pd.Timedelta(x-1, unit='D'))\n",
    "    df['date'] = df['date_range_start'] + temp\n",
    "    df = df[keep_cols_2].groupby(group_by_cols).agg('sum').reset_index()\n",
    "    return df"
   ]
  },
  {
   "cell_type": "code",
   "execution_count": 8,
   "id": "smooth-figure",
   "metadata": {},
   "outputs": [],
   "source": [
    "test = filter_and_explode(files[0])"
   ]
  },
  {
   "cell_type": "code",
   "execution_count": 9,
   "id": "affiliated-keeping",
   "metadata": {},
   "outputs": [
    {
     "data": {
      "text/html": [
       "<div>\n",
       "<style scoped>\n",
       "    .dataframe tbody tr th:only-of-type {\n",
       "        vertical-align: middle;\n",
       "    }\n",
       "\n",
       "    .dataframe tbody tr th {\n",
       "        vertical-align: top;\n",
       "    }\n",
       "\n",
       "    .dataframe thead th {\n",
       "        text-align: right;\n",
       "    }\n",
       "</style>\n",
       "<table border=\"1\" class=\"dataframe\">\n",
       "  <thead>\n",
       "    <tr style=\"text-align: right;\">\n",
       "      <th></th>\n",
       "      <th>postal_code</th>\n",
       "      <th>top_category</th>\n",
       "      <th>date</th>\n",
       "      <th>visits</th>\n",
       "    </tr>\n",
       "  </thead>\n",
       "  <tbody>\n",
       "    <tr>\n",
       "      <th>0</th>\n",
       "      <td>19102</td>\n",
       "      <td>Automobile Dealers</td>\n",
       "      <td>2020-10-01</td>\n",
       "      <td>2</td>\n",
       "    </tr>\n",
       "    <tr>\n",
       "      <th>1</th>\n",
       "      <td>19102</td>\n",
       "      <td>Automobile Dealers</td>\n",
       "      <td>2020-10-02</td>\n",
       "      <td>0</td>\n",
       "    </tr>\n",
       "    <tr>\n",
       "      <th>2</th>\n",
       "      <td>19102</td>\n",
       "      <td>Automobile Dealers</td>\n",
       "      <td>2020-10-03</td>\n",
       "      <td>3</td>\n",
       "    </tr>\n",
       "    <tr>\n",
       "      <th>3</th>\n",
       "      <td>19102</td>\n",
       "      <td>Automobile Dealers</td>\n",
       "      <td>2020-10-04</td>\n",
       "      <td>0</td>\n",
       "    </tr>\n",
       "    <tr>\n",
       "      <th>4</th>\n",
       "      <td>19102</td>\n",
       "      <td>Automobile Dealers</td>\n",
       "      <td>2020-10-05</td>\n",
       "      <td>0</td>\n",
       "    </tr>\n",
       "  </tbody>\n",
       "</table>\n",
       "</div>"
      ],
      "text/plain": [
       "  postal_code        top_category       date  visits\n",
       "0       19102  Automobile Dealers 2020-10-01       2\n",
       "1       19102  Automobile Dealers 2020-10-02       0\n",
       "2       19102  Automobile Dealers 2020-10-03       3\n",
       "3       19102  Automobile Dealers 2020-10-04       0\n",
       "4       19102  Automobile Dealers 2020-10-05       0"
      ]
     },
     "execution_count": 9,
     "metadata": {},
     "output_type": "execute_result"
    }
   ],
   "source": [
    "test.head()"
   ]
  },
  {
   "cell_type": "code",
   "execution_count": 10,
   "id": "formed-sheriff",
   "metadata": {},
   "outputs": [],
   "source": [
    "traffic = pd.concat([filter_and_explode(file) for file in files])"
   ]
  },
  {
   "cell_type": "code",
   "execution_count": 11,
   "id": "illegal-rhythm",
   "metadata": {},
   "outputs": [
    {
     "data": {
      "text/plain": [
       "postal_code             object\n",
       "top_category            object\n",
       "date            datetime64[ns]\n",
       "visits                   int64\n",
       "dtype: object"
      ]
     },
     "execution_count": 11,
     "metadata": {},
     "output_type": "execute_result"
    }
   ],
   "source": [
    "traffic.dtypes"
   ]
  },
  {
   "cell_type": "code",
   "execution_count": 46,
   "id": "working-safety",
   "metadata": {},
   "outputs": [],
   "source": [
    "traffic_by_day = (\n",
    "    traffic[['date','top_category','visits']].groupby(['date','top_category']).agg('sum')\n",
    ")\n",
    "traffic_by_day['total_visits'] = traffic_by_day.groupby('date')['visits'].transform('sum')\n",
    "traffic_by_day = traffic_by_day.reset_index()"
   ]
  },
  {
   "cell_type": "code",
   "execution_count": 47,
   "id": "unsigned-watson",
   "metadata": {},
   "outputs": [],
   "source": [
    "traffic_by_day['percent_visits'] = 100*traffic_by_day['visits']/traffic_by_day['total_visits']\n",
    "traffic_by_day['peak_percent'] = (\n",
    "    traffic_by_day.groupby('top_category')['percent_visits'].transform('max')\n",
    ")\n",
    "traffic_by_day['Category'] = traffic_by_day['top_category']\n",
    "small_cats = traffic_by_day['peak_percent'] < 5\n",
    "traffic_by_day.loc[small_cats,'Category'] = 'Other'"
   ]
  },
  {
   "cell_type": "code",
   "execution_count": 48,
   "id": "premier-receptor",
   "metadata": {},
   "outputs": [],
   "source": [
    "traffic_by_day = traffic_by_day[['date', 'Category', 'visits']].groupby(['date','Category']).agg('sum')\n",
    "traffic_by_day['total_visits'] = traffic_by_day.groupby('date')['visits'].transform('sum')\n",
    "traffic_by_day = traffic_by_day.reset_index()\n",
    "traffic_by_day['percent_visits'] = 100*traffic_by_day['visits']/traffic_by_day['total_visits']"
   ]
  },
  {
   "cell_type": "code",
   "execution_count": 49,
   "id": "lyric-laptop",
   "metadata": {},
   "outputs": [
    {
     "data": {
      "text/plain": [
       "array(['Elementary and Secondary Schools', 'Gasoline Stations',\n",
       "       'Grocery Stores', 'Junior Colleges', 'Lessors of Real Estate',\n",
       "       'Museums, Historical Sites, and Similar Institutions',\n",
       "       'Office Supplies, Stationery, and Gift Stores', 'Other',\n",
       "       'Other Amusement and Recreation Industries',\n",
       "       'Restaurants and Other Eating Places', 'Spectator Sports',\n",
       "       'Support Activities for Air Transportation'], dtype=object)"
      ]
     },
     "execution_count": 49,
     "metadata": {},
     "output_type": "execute_result"
    }
   ],
   "source": [
    "traffic_by_day.Category.unique()"
   ]
  },
  {
   "cell_type": "code",
   "execution_count": 50,
   "id": "gross-completion",
   "metadata": {},
   "outputs": [],
   "source": [
    "original_to_display_name = {\n",
    "   'Other':'Other', \n",
    "    'Elementary and Secondary Schools': 'Schools', \n",
    "    'Gasoline Stations': 'Gas Stations',\n",
    "    'Grocery Stores':'Grocery Stores', \n",
    "    'Junior Colleges': 'Junior Colleges', \n",
    "    'Lessors of Real Estate': 'Real Estate',\n",
    "    'Museums, Historical Sites, and Similar Institutions': 'Museums and Sites',\n",
    "    'Office Supplies, Stationery, and Gift Stores': 'Office Supplies',\n",
    "    'Other Amusement and Recreation Industries': 'Amusement and Recreation',\n",
    "    'Restaurants and Other Eating Places': 'Restaurants', \n",
    "    'Spectator Sports': 'Spectator Sports',\n",
    "    'Support Activities for Air Transportation': 'Air Transportation' \n",
    "}"
   ]
  },
  {
   "cell_type": "code",
   "execution_count": 51,
   "id": "literary-screw",
   "metadata": {},
   "outputs": [],
   "source": [
    "traffic_by_day['Category'] = traffic_by_day['Category'].apply(\n",
    "    lambda x: original_to_display_name[x]\n",
    ")"
   ]
  },
  {
   "cell_type": "code",
   "execution_count": 52,
   "id": "civil-organic",
   "metadata": {},
   "outputs": [],
   "source": [
    "import hvplot.pandas "
   ]
  },
  {
   "cell_type": "code",
   "execution_count": 55,
   "id": "ultimate-criminal",
   "metadata": {},
   "outputs": [],
   "source": [
    "min_date = pd.to_datetime('2020-09-01')\n",
    "max_date = pd.to_datetime('2020-12-01')\n",
    "\n",
    "dates = (traffic_by_day['date'] < max_date) & (traffic_by_day['date'] >= min_date)\n",
    "data = traffic_by_day[dates]\n",
    "ticks = list(traffic_by_day[traffic_by_day['date'].dt.day == 1]['date'])\n",
    "table = (\n",
    "    traffic_by_day.loc[dates,['date', 'Category','percent_visits']].groupby(['date', 'Category']).sum()\n",
    ")"
   ]
  },
  {
   "cell_type": "code",
   "execution_count": 57,
   "id": "saved-cycling",
   "metadata": {},
   "outputs": [
    {
     "data": {},
     "metadata": {},
     "output_type": "display_data"
    },
    {
     "data": {
      "application/vnd.holoviews_exec.v0+json": "",
      "text/html": [
       "<div id='1285'>\n",
       "\n",
       "\n",
       "\n",
       "\n",
       "\n",
       "  <div class=\"bk-root\" id=\"890bd5b4-daee-4745-89b2-a3b926ceedc0\" data-root-id=\"1285\"></div>\n",
       "</div>\n",
       "<script type=\"application/javascript\">(function(root) {\n",
       "  function embed_document(root) {\n",
       "    var docs_json = {\"307cef79-ec40-479c-b1be-f4de84943c24\":{\"roots\":{\"references\":[{\"attributes\":{\"active_drag\":\"auto\",\"active_inspect\":\"auto\",\"active_multi\":null,\"active_scroll\":\"auto\",\"active_tap\":\"auto\",\"tools\":[{\"id\":\"1289\"},{\"id\":\"1306\"},{\"id\":\"1307\"},{\"id\":\"1308\"},{\"id\":\"1309\"},{\"id\":\"1310\"}]},\"id\":\"1312\",\"type\":\"Toolbar\"},{\"attributes\":{},\"id\":\"1329\",\"type\":\"BasicTickFormatter\"},{\"attributes\":{},\"id\":\"1307\",\"type\":\"PanTool\"},{\"attributes\":{\"overlay\":{\"id\":\"1311\"}},\"id\":\"1309\",\"type\":\"BoxZoomTool\"},{\"attributes\":{\"axis\":{\"id\":\"1299\"},\"grid_line_color\":null,\"ticker\":null},\"id\":\"1301\",\"type\":\"Grid\"},{\"attributes\":{\"below\":[{\"id\":\"1299\"}],\"center\":[{\"id\":\"1301\"},{\"id\":\"1305\"},{\"id\":\"1336\"}],\"left\":[{\"id\":\"1302\"}],\"margin\":[5,5,5,5],\"min_border_bottom\":10,\"min_border_left\":10,\"min_border_right\":10,\"min_border_top\":10,\"plot_height\":500,\"plot_width\":700,\"renderers\":[{\"id\":\"1326\"}],\"sizing_mode\":\"fixed\",\"title\":{\"id\":\"1291\"},\"toolbar\":{\"id\":\"1312\"},\"x_range\":{\"id\":\"1287\"},\"x_scale\":{\"id\":\"1295\"},\"y_range\":{\"id\":\"1288\"},\"y_scale\":{\"id\":\"1297\"}},\"id\":\"1290\",\"subtype\":\"Figure\",\"type\":\"Plot\"},{\"attributes\":{\"factors\":[\"Air Transportation\",\"Amusement and Recreation\",\"Gas Stations\",\"Grocery Stores\",\"Junior Colleges\",\"Museums and Sites\",\"Office Supplies\",\"Other\",\"Real Estate\",\"Restaurants\",\"Schools\",\"Spectator Sports\"],\"palette\":[\"#1f77b3\",\"#ff7e0e\",\"#2ba02b\",\"#d62628\",\"#9367bc\",\"#8c564b\",\"#e277c1\",\"#7e7e7e\",\"#bcbc21\",\"#16bdcf\",\"#3a0182\",\"#004201\"]},\"id\":\"1319\",\"type\":\"CategoricalColorMapper\"},{\"attributes\":{\"margin\":[5,5,5,5],\"name\":\"HSpacer02278\",\"sizing_mode\":\"stretch_width\"},\"id\":\"1358\",\"type\":\"Spacer\"},{\"attributes\":{},\"id\":\"1300\",\"type\":\"CategoricalTicker\"},{\"attributes\":{\"axis_label\":\"percent_visits\",\"bounds\":\"auto\",\"formatter\":{\"id\":\"1329\"},\"major_label_orientation\":\"horizontal\",\"ticker\":{\"id\":\"1303\"}},\"id\":\"1302\",\"type\":\"LinearAxis\"},{\"attributes\":{\"text\":\"\",\"text_color\":{\"value\":\"black\"},\"text_font_size\":{\"value\":\"12pt\"}},\"id\":\"1291\",\"type\":\"Title\"},{\"attributes\":{},\"id\":\"1308\",\"type\":\"WheelZoomTool\"},{\"attributes\":{},\"id\":\"1310\",\"type\":\"ResetTool\"},{\"attributes\":{\"source\":{\"id\":\"1320\"}},\"id\":\"1327\",\"type\":\"CDSView\"},{\"attributes\":{\"items\":[{\"id\":\"1337\"}],\"location\":\"top_left\"},\"id\":\"1336\",\"type\":\"Legend\"},{\"attributes\":{\"bottom\":{\"field\":\"bottom\"},\"fill_alpha\":{\"value\":0.2},\"fill_color\":{\"field\":\"Category\",\"transform\":{\"id\":\"1319\"}},\"line_alpha\":{\"value\":0.2},\"top\":{\"field\":\"top\"},\"width\":{\"value\":0.8},\"x\":{\"field\":\"date\"}},\"id\":\"1325\",\"type\":\"VBar\"},{\"attributes\":{\"bottom\":{\"field\":\"bottom\"},\"fill_color\":{\"field\":\"Category\",\"transform\":{\"id\":\"1319\"}},\"top\":{\"field\":\"top\"},\"width\":{\"value\":0.8},\"x\":{\"field\":\"date\"}},\"id\":\"1323\",\"type\":\"VBar\"},{\"attributes\":{\"data\":{\"Category\":[\"Air Transportation\",\"Air Transportation\",\"Air Transportation\",\"Air Transportation\",\"Air Transportation\",\"Air Transportation\",\"Air Transportation\",\"Air Transportation\",\"Air Transportation\",\"Air Transportation\",\"Air Transportation\",\"Air Transportation\",\"Air Transportation\",\"Air Transportation\",\"Air Transportation\",\"Air Transportation\",\"Air Transportation\",\"Air Transportation\",\"Air Transportation\",\"Air Transportation\",\"Air Transportation\",\"Air Transportation\",\"Air Transportation\",\"Air Transportation\",\"Air Transportation\",\"Air Transportation\",\"Air Transportation\",\"Air Transportation\",\"Air Transportation\",\"Air Transportation\",\"Air Transportation\",\"Air Transportation\",\"Air Transportation\",\"Air Transportation\",\"Air Transportation\",\"Air Transportation\",\"Air Transportation\",\"Air Transportation\",\"Air Transportation\",\"Air Transportation\",\"Air Transportation\",\"Air Transportation\",\"Air Transportation\",\"Air Transportation\",\"Air Transportation\",\"Air Transportation\",\"Air Transportation\",\"Air Transportation\",\"Air Transportation\",\"Air Transportation\",\"Air Transportation\",\"Air Transportation\",\"Air Transportation\",\"Air Transportation\",\"Air Transportation\",\"Air Transportation\",\"Air Transportation\",\"Air Transportation\",\"Air Transportation\",\"Air Transportation\",\"Air Transportation\",\"Amusement and Recreation\",\"Amusement and Recreation\",\"Amusement and Recreation\",\"Amusement and Recreation\",\"Amusement and Recreation\",\"Amusement and Recreation\",\"Amusement and Recreation\",\"Amusement and Recreation\",\"Amusement and Recreation\",\"Amusement and Recreation\",\"Amusement and Recreation\",\"Amusement and Recreation\",\"Amusement and Recreation\",\"Amusement and Recreation\",\"Amusement and Recreation\",\"Amusement and Recreation\",\"Amusement and Recreation\",\"Amusement and Recreation\",\"Amusement and Recreation\",\"Amusement and Recreation\",\"Amusement and Recreation\",\"Amusement and Recreation\",\"Amusement and Recreation\",\"Amusement and Recreation\",\"Amusement and Recreation\",\"Amusement and Recreation\",\"Amusement and Recreation\",\"Amusement and Recreation\",\"Amusement and Recreation\",\"Amusement and Recreation\",\"Amusement and Recreation\",\"Amusement and Recreation\",\"Amusement and Recreation\",\"Amusement and Recreation\",\"Amusement and Recreation\",\"Amusement and Recreation\",\"Amusement and Recreation\",\"Amusement and Recreation\",\"Amusement and Recreation\",\"Amusement and Recreation\",\"Amusement and Recreation\",\"Amusement and Recreation\",\"Amusement and Recreation\",\"Amusement and Recreation\",\"Amusement and Recreation\",\"Amusement and Recreation\",\"Amusement and Recreation\",\"Amusement and Recreation\",\"Amusement and Recreation\",\"Amusement and Recreation\",\"Amusement and Recreation\",\"Amusement and Recreation\",\"Amusement and Recreation\",\"Amusement and Recreation\",\"Amusement and Recreation\",\"Amusement and Recreation\",\"Amusement and Recreation\",\"Amusement and Recreation\",\"Amusement and Recreation\",\"Amusement and Recreation\",\"Amusement and Recreation\",\"Gas Stations\",\"Gas Stations\",\"Gas Stations\",\"Gas Stations\",\"Gas Stations\",\"Gas Stations\",\"Gas Stations\",\"Gas Stations\",\"Gas Stations\",\"Gas Stations\",\"Gas Stations\",\"Gas Stations\",\"Gas Stations\",\"Gas Stations\",\"Gas Stations\",\"Gas Stations\",\"Gas Stations\",\"Gas Stations\",\"Gas Stations\",\"Gas Stations\",\"Gas Stations\",\"Gas Stations\",\"Gas Stations\",\"Gas Stations\",\"Gas Stations\",\"Gas Stations\",\"Gas Stations\",\"Gas Stations\",\"Gas Stations\",\"Gas Stations\",\"Gas Stations\",\"Gas Stations\",\"Gas Stations\",\"Gas Stations\",\"Gas Stations\",\"Gas Stations\",\"Gas Stations\",\"Gas Stations\",\"Gas Stations\",\"Gas Stations\",\"Gas Stations\",\"Gas Stations\",\"Gas Stations\",\"Gas Stations\",\"Gas Stations\",\"Gas Stations\",\"Gas Stations\",\"Gas Stations\",\"Gas Stations\",\"Gas Stations\",\"Gas Stations\",\"Gas Stations\",\"Gas Stations\",\"Gas Stations\",\"Gas Stations\",\"Gas Stations\",\"Gas Stations\",\"Gas Stations\",\"Gas Stations\",\"Gas Stations\",\"Gas Stations\",\"Grocery Stores\",\"Grocery Stores\",\"Grocery Stores\",\"Grocery Stores\",\"Grocery Stores\",\"Grocery Stores\",\"Grocery Stores\",\"Grocery Stores\",\"Grocery Stores\",\"Grocery Stores\",\"Grocery Stores\",\"Grocery Stores\",\"Grocery Stores\",\"Grocery Stores\",\"Grocery Stores\",\"Grocery Stores\",\"Grocery Stores\",\"Grocery Stores\",\"Grocery Stores\",\"Grocery Stores\",\"Grocery Stores\",\"Grocery Stores\",\"Grocery Stores\",\"Grocery Stores\",\"Grocery Stores\",\"Grocery Stores\",\"Grocery Stores\",\"Grocery Stores\",\"Grocery Stores\",\"Grocery Stores\",\"Grocery Stores\",\"Grocery Stores\",\"Grocery Stores\",\"Grocery Stores\",\"Grocery Stores\",\"Grocery Stores\",\"Grocery Stores\",\"Grocery Stores\",\"Grocery Stores\",\"Grocery Stores\",\"Grocery Stores\",\"Grocery Stores\",\"Grocery Stores\",\"Grocery Stores\",\"Grocery Stores\",\"Grocery Stores\",\"Grocery Stores\",\"Grocery Stores\",\"Grocery Stores\",\"Grocery Stores\",\"Grocery Stores\",\"Grocery Stores\",\"Grocery Stores\",\"Grocery Stores\",\"Grocery Stores\",\"Grocery Stores\",\"Grocery Stores\",\"Grocery Stores\",\"Grocery Stores\",\"Grocery Stores\",\"Grocery Stores\",\"Junior Colleges\",\"Junior Colleges\",\"Junior Colleges\",\"Junior Colleges\",\"Junior Colleges\",\"Junior Colleges\",\"Junior Colleges\",\"Junior Colleges\",\"Junior Colleges\",\"Junior Colleges\",\"Junior Colleges\",\"Junior Colleges\",\"Junior Colleges\",\"Junior Colleges\",\"Junior Colleges\",\"Junior Colleges\",\"Junior Colleges\",\"Junior Colleges\",\"Junior Colleges\",\"Junior Colleges\",\"Junior Colleges\",\"Junior Colleges\",\"Junior Colleges\",\"Junior Colleges\",\"Junior Colleges\",\"Junior Colleges\",\"Junior Colleges\",\"Junior Colleges\",\"Junior Colleges\",\"Junior Colleges\",\"Junior Colleges\",\"Junior Colleges\",\"Junior Colleges\",\"Junior Colleges\",\"Junior Colleges\",\"Junior Colleges\",\"Junior Colleges\",\"Junior Colleges\",\"Junior Colleges\",\"Junior Colleges\",\"Junior Colleges\",\"Junior Colleges\",\"Junior Colleges\",\"Junior Colleges\",\"Junior Colleges\",\"Junior Colleges\",\"Junior Colleges\",\"Junior Colleges\",\"Junior Colleges\",\"Junior Colleges\",\"Junior Colleges\",\"Junior Colleges\",\"Junior Colleges\",\"Junior Colleges\",\"Junior Colleges\",\"Junior Colleges\",\"Junior Colleges\",\"Junior Colleges\",\"Junior Colleges\",\"Junior Colleges\",\"Junior Colleges\",\"Museums and Sites\",\"Museums and Sites\",\"Museums and Sites\",\"Museums and Sites\",\"Museums and Sites\",\"Museums and Sites\",\"Museums and Sites\",\"Museums and Sites\",\"Museums and Sites\",\"Museums and Sites\",\"Museums and Sites\",\"Museums and Sites\",\"Museums and Sites\",\"Museums and Sites\",\"Museums and Sites\",\"Museums and Sites\",\"Museums and Sites\",\"Museums and Sites\",\"Museums and Sites\",\"Museums and Sites\",\"Museums and Sites\",\"Museums and Sites\",\"Museums and Sites\",\"Museums and Sites\",\"Museums and Sites\",\"Museums and Sites\",\"Museums and Sites\",\"Museums and Sites\",\"Museums and Sites\",\"Museums and Sites\",\"Museums and Sites\",\"Museums and Sites\",\"Museums and Sites\",\"Museums and Sites\",\"Museums and Sites\",\"Museums and Sites\",\"Museums and Sites\",\"Museums and Sites\",\"Museums and Sites\",\"Museums and Sites\",\"Museums and Sites\",\"Museums and Sites\",\"Museums and Sites\",\"Museums and Sites\",\"Museums and Sites\",\"Museums and Sites\",\"Museums and Sites\",\"Museums and Sites\",\"Museums and Sites\",\"Museums and Sites\",\"Museums and Sites\",\"Museums and Sites\",\"Museums and Sites\",\"Museums and Sites\",\"Museums and Sites\",\"Museums and Sites\",\"Museums and Sites\",\"Museums and Sites\",\"Museums and Sites\",\"Museums and Sites\",\"Museums and Sites\",\"Office Supplies\",\"Office Supplies\",\"Office Supplies\",\"Office Supplies\",\"Office Supplies\",\"Office Supplies\",\"Office Supplies\",\"Office Supplies\",\"Office Supplies\",\"Office Supplies\",\"Office Supplies\",\"Office Supplies\",\"Office Supplies\",\"Office Supplies\",\"Office Supplies\",\"Office Supplies\",\"Office Supplies\",\"Office Supplies\",\"Office Supplies\",\"Office Supplies\",\"Office Supplies\",\"Office Supplies\",\"Office Supplies\",\"Office Supplies\",\"Office Supplies\",\"Office Supplies\",\"Office Supplies\",\"Office Supplies\",\"Office Supplies\",\"Office Supplies\",\"Office Supplies\",\"Office Supplies\",\"Office Supplies\",\"Office Supplies\",\"Office Supplies\",\"Office Supplies\",\"Office Supplies\",\"Office Supplies\",\"Office Supplies\",\"Office Supplies\",\"Office Supplies\",\"Office Supplies\",\"Office Supplies\",\"Office Supplies\",\"Office Supplies\",\"Office Supplies\",\"Office Supplies\",\"Office Supplies\",\"Office Supplies\",\"Office Supplies\",\"Office Supplies\",\"Office Supplies\",\"Office Supplies\",\"Office Supplies\",\"Office Supplies\",\"Office Supplies\",\"Office Supplies\",\"Office Supplies\",\"Office Supplies\",\"Office Supplies\",\"Office Supplies\",\"Other\",\"Other\",\"Other\",\"Other\",\"Other\",\"Other\",\"Other\",\"Other\",\"Other\",\"Other\",\"Other\",\"Other\",\"Other\",\"Other\",\"Other\",\"Other\",\"Other\",\"Other\",\"Other\",\"Other\",\"Other\",\"Other\",\"Other\",\"Other\",\"Other\",\"Other\",\"Other\",\"Other\",\"Other\",\"Other\",\"Other\",\"Other\",\"Other\",\"Other\",\"Other\",\"Other\",\"Other\",\"Other\",\"Other\",\"Other\",\"Other\",\"Other\",\"Other\",\"Other\",\"Other\",\"Other\",\"Other\",\"Other\",\"Other\",\"Other\",\"Other\",\"Other\",\"Other\",\"Other\",\"Other\",\"Other\",\"Other\",\"Other\",\"Other\",\"Other\",\"Other\",\"Real Estate\",\"Real Estate\",\"Real Estate\",\"Real Estate\",\"Real Estate\",\"Real Estate\",\"Real Estate\",\"Real Estate\",\"Real Estate\",\"Real Estate\",\"Real Estate\",\"Real Estate\",\"Real Estate\",\"Real Estate\",\"Real Estate\",\"Real Estate\",\"Real Estate\",\"Real Estate\",\"Real Estate\",\"Real Estate\",\"Real Estate\",\"Real Estate\",\"Real Estate\",\"Real Estate\",\"Real Estate\",\"Real Estate\",\"Real Estate\",\"Real Estate\",\"Real Estate\",\"Real Estate\",\"Real Estate\",\"Real Estate\",\"Real Estate\",\"Real Estate\",\"Real Estate\",\"Real Estate\",\"Real Estate\",\"Real Estate\",\"Real Estate\",\"Real Estate\",\"Real Estate\",\"Real Estate\",\"Real Estate\",\"Real Estate\",\"Real Estate\",\"Real Estate\",\"Real Estate\",\"Real Estate\",\"Real Estate\",\"Real Estate\",\"Real Estate\",\"Real Estate\",\"Real Estate\",\"Real Estate\",\"Real Estate\",\"Real Estate\",\"Real Estate\",\"Real Estate\",\"Real Estate\",\"Real Estate\",\"Real Estate\",\"Restaurants\",\"Restaurants\",\"Restaurants\",\"Restaurants\",\"Restaurants\",\"Restaurants\",\"Restaurants\",\"Restaurants\",\"Restaurants\",\"Restaurants\",\"Restaurants\",\"Restaurants\",\"Restaurants\",\"Restaurants\",\"Restaurants\",\"Restaurants\",\"Restaurants\",\"Restaurants\",\"Restaurants\",\"Restaurants\",\"Restaurants\",\"Restaurants\",\"Restaurants\",\"Restaurants\",\"Restaurants\",\"Restaurants\",\"Restaurants\",\"Restaurants\",\"Restaurants\",\"Restaurants\",\"Restaurants\",\"Restaurants\",\"Restaurants\",\"Restaurants\",\"Restaurants\",\"Restaurants\",\"Restaurants\",\"Restaurants\",\"Restaurants\",\"Restaurants\",\"Restaurants\",\"Restaurants\",\"Restaurants\",\"Restaurants\",\"Restaurants\",\"Restaurants\",\"Restaurants\",\"Restaurants\",\"Restaurants\",\"Restaurants\",\"Restaurants\",\"Restaurants\",\"Restaurants\",\"Restaurants\",\"Restaurants\",\"Restaurants\",\"Restaurants\",\"Restaurants\",\"Restaurants\",\"Restaurants\",\"Restaurants\",\"Schools\",\"Schools\",\"Schools\",\"Schools\",\"Schools\",\"Schools\",\"Schools\",\"Schools\",\"Schools\",\"Schools\",\"Schools\",\"Schools\",\"Schools\",\"Schools\",\"Schools\",\"Schools\",\"Schools\",\"Schools\",\"Schools\",\"Schools\",\"Schools\",\"Schools\",\"Schools\",\"Schools\",\"Schools\",\"Schools\",\"Schools\",\"Schools\",\"Schools\",\"Schools\",\"Schools\",\"Schools\",\"Schools\",\"Schools\",\"Schools\",\"Schools\",\"Schools\",\"Schools\",\"Schools\",\"Schools\",\"Schools\",\"Schools\",\"Schools\",\"Schools\",\"Schools\",\"Schools\",\"Schools\",\"Schools\",\"Schools\",\"Schools\",\"Schools\",\"Schools\",\"Schools\",\"Schools\",\"Schools\",\"Schools\",\"Schools\",\"Schools\",\"Schools\",\"Schools\",\"Schools\",\"Spectator Sports\",\"Spectator Sports\",\"Spectator Sports\",\"Spectator Sports\",\"Spectator Sports\",\"Spectator Sports\",\"Spectator Sports\",\"Spectator Sports\",\"Spectator Sports\",\"Spectator Sports\",\"Spectator Sports\",\"Spectator Sports\",\"Spectator Sports\",\"Spectator Sports\",\"Spectator Sports\",\"Spectator Sports\",\"Spectator Sports\",\"Spectator Sports\",\"Spectator Sports\",\"Spectator Sports\",\"Spectator Sports\",\"Spectator Sports\",\"Spectator Sports\",\"Spectator Sports\",\"Spectator Sports\",\"Spectator Sports\",\"Spectator Sports\",\"Spectator Sports\",\"Spectator Sports\",\"Spectator Sports\",\"Spectator Sports\",\"Spectator Sports\",\"Spectator Sports\",\"Spectator Sports\",\"Spectator Sports\",\"Spectator Sports\",\"Spectator Sports\",\"Spectator Sports\",\"Spectator Sports\",\"Spectator Sports\",\"Spectator Sports\",\"Spectator Sports\",\"Spectator Sports\",\"Spectator Sports\",\"Spectator Sports\",\"Spectator Sports\",\"Spectator Sports\",\"Spectator Sports\",\"Spectator Sports\",\"Spectator Sports\",\"Spectator Sports\",\"Spectator Sports\",\"Spectator Sports\",\"Spectator Sports\",\"Spectator Sports\",\"Spectator Sports\",\"Spectator Sports\",\"Spectator Sports\",\"Spectator Sports\",\"Spectator Sports\",\"Spectator Sports\"],\"bottom\":{\"__ndarray__\":\"AAAAAAAAAAAAAAAAAAAAAAAAAAAAAAAAAAAAAAAAAAAAAAAAAAAAAAAAAAAAAAAAAAAAAAAAAAAAAAAAAAAAAAAAAAAAAAAAAAAAAAAAAAAAAAAAAAAAAAAAAAAAAAAAAAAAAAAAAAAAAAAAAAAAAAAAAAAAAAAAAAAAAAAAAAAAAAAAAAAAAAAAAAAAAAAAAAAAAAAAAAAAAAAAAAAAAAAAAAAAAAAAAAAAAAAAAAAAAAAAAAAAAAAAAAAAAAAAAAAAAAAAAAAAAAAAAAAAAAAAAAAAAAAAAAAAAAAAAAAAAAAAAAAAAAAAAAAAAAAAAAAAAAAAAAAAAAAAAAAAAAAAAAAAAAAAAAAAAAAAAAAAAAAAAAAAAAAAAAAAAAAAAAAAAAAAAAAAAAAAAAAAAAAAAAAAAAAAAAAAAAAAAAAAAAAAAAAAAAAAAAAAAAAAAAAAAAAAAAAAAAAAAAAAAAAAAAAAAAAAAAAAAAAAAAAAAAAAAAAAAAAAAAAAAAAAAAAAAAAAAAAAAAAAAAAAAAAAAAAAAAAAAAAAAAAAAAAAAAAAAAAAAAAAAAAAAAAAAAAAAAAAAAAAAAAAAAAAAAAAAAAAAAAAAAAAAAAAAAAAAAAAAAAAAAAAAAAAAAAAAAAAAAAAAAAHI+zNpbcKQBwswIyvvv4/DMJub2SpDUDB8hQfA9EGQIFkW/uzdgRArvjK4nweEEBncXqqWZwOQBoW6l4WwBBA4cTyHCdcEUCIseqfjwEOQDrKN9DjxQpAKVyyEke5EEBnBu57eAgOQJhaCUzHXxRAv+uHq9RiBkCcRKKMcaoOQPbIEA/oVRJAZjG/Ds6KEUAn/5qA/y0DQBFlQKsQWwNAXQJHWGccAEBu8/siOCURQKbEx36k+gVAhsAGeCaKDkDkyH5kJmoUQGrrutNheAxA1JHxkesyCkBiWgAexSYHQExJLNVigA1Ab/RhTHukE0A/f8ewQE3/PyLrcRRP5BJAAUTdpzrfCED/G0SCkyEGQOhJA5DxdAVAsaHvk4JJAEC+UxSwuS0HQP849JNdZRVAQftizAPkFUD2byZqImAOQPSHnCJtWg5AJPFqUIaDAkCtBtN/XwMAQO5lBpEs8gtAJo4bDgtGAUAr8cCb7HkDQJkbxyBFQgpATzlWPrZ/CkDxP9vz52IGQLwcRZ19exJA3NhUvxGjEEAUfGaIG5QQQIwROBJdyg1ASygBUNoyB0A0O0gWwWMNQGO5QPT/NwtAyT5pSc0pBEDg/XiZx4sQQCkdy/68cwZAaHn1SzhcDEAtV1uQYt4BQN6ciTzBZyJAfiy2qVvIIEAkWKU9Mm0dQL63c7+hrCJAqFg6xbTRIkBefsX6MqAeQHBMgoyk3B1A4Ov9TQHtIEChtFQEsL8gQD0UaJLKqB9A0B2QudhsHUBUQHBmbesgQHR8z2vi4B9AWkQIl5AeJECE+/N+W8wfQNRT/Ac8Gx9AnrHyEY0aHkDsKfTLyWcfQEO1GWEJsiFAnk2aI3azHEDzSP5MV1QgQNBapCahIyJA6nvQBsHqIEDKmJQZflUhQFqN9zdtLCNAsfJWfaFXIkCkq9Yxj08iQDu/cdo7GyFAyrb2Z+1oH0CxRm8qRLQbQFddxJbhZx1Att4pfMWYIEBywoM3HtYbQDb0vM1WYB5Ay5PzQB2GHUAHKVwcxu8hQO3YG9MdziFA6CA4aP6vIEDUHwF0SAYkQGzGQUs2aB9A1ppnyrkUIUAiVmxLCOgfQIxn6cCJOCNAj+EaQWyhHUBANkXT5iIgQLaBE3uDFyRAC188Ndz6IUBcy1UT0gEdQCY/2TbTuSBADNVsehSRIkAybKaMJ0chQMl7g54CYiFA/IGvNssmJUAvkt8vIHUfQHQd5vuBax9AeGPdkqXZIEBa9kfp/14iQOSsgkTMwyJAfu6AZbuMIEBWj040Ac0iQFLgcgiYSB1ABbPFX0qXJUD/CeZFRHglQHWNOZdIdSFAsY7awgo3I0BWRJgA49QiQB1dMa9ZTSNAEAsvPKQtI0DlAJDimNkoQFsObvYLsSJAjGVaIaRxIUAT2Fjlo4cjQE25a+iZRiVAGHUhRbbEJUA+7Ocd+y0iQIpjXPQpbyVACHZSlD7nJECJHv2ybOIhQEUwNc5a8yNANi8KF4e/JEDOSGeqpUslQEBY0MdbICRAbyMl3jvkJUDvXyIjyk8jQGGSfJde4iVAYvvufcLgJUCQ8rAZ55IjQPJmVQDG9CRA4nTQyXImJEDwiDgWrWEkQMw1UZgrcCNA9g9764UAI0DURgBKgrMnQAnjvtwGCyVA1na2a6QGI0A/lp7Pwj4jQJvRAO6aWyZAOJcOXvZEJkDOMgMA6xMlQPQyhRA+/CVA4AKSexQMJkAToA28Hy8mQOjXWiXkPCNA+Q0p1xGLJ0DW+8GSQNcnQObBYPWzJiJAPFuWOgi3I0BWO+C1FLEiQPmciroHBSRApp8AxhGLJEA2DT3YJCslQNIvrXIlPCJAbRwqsJzxIUCu32TPuSwjQP3lxe0opyJAGHK/or83JECAL2VXhJwmQFRLIjJpnCZAuAYTXW1HIkAi8OLrzesjQGPT9oSmpyJAySZWCL9JJEBYWIw+B6wxQKj88RIe2TBAOG1aSlMDMUARjvsrkDcuQMA+XILvvC9AKOddZbWdMEBoxkXhUYwyQDdR9AG+mjBA8GB3h6pzMEBUUGa7ZBEwQGhTL9NTDS9A57riEwQxNEDiYQNcSM4vQEDBpoGxRi5AcOpfZ0v0LkDHNOUutUMwQDROgYLz7i9ASiM4egmNM0AI4vIfqz8wQNZo7IB8Vi9A8sx5RyJfMkDIWn3xshgyQMTCs+1nljBAsUcLICmaMEATf0WX0lkwQBhh9XqTAzFAjv1KrRfYLkDg+lGCDzEwQOI9UtWARjNAxs9wpx9DMUA73pNzQQMvQFf1tLPilDFACp2PSL/MMUAgrZWI6FcwQOh9W0NxEDBAxI1fbU5LMEAIWsFWM+0yQL+Px4A31jBAVgK1uqRCL0Cpv9O8oUoxQKpa3KvEUjBAlA66Ak7eMkAivR0NstguQCEjPR2ItS9ADd7nNr8vMUASrLi3FswwQGKulgyKjS9AiEyIjVj3L0AuLNn5QiExQKSEGX66sTBAeC13NWzZMEAgpLqGYJouQOblM/E+WzFAhFvistrFMEDgwbVO9D0wQFx3T+guGDFABqqILMWIMEDPCmLtz2cxQOrBTAaJDDFAhTixH4vSMUBwpEAKmNEvQByw16svHzdACGKZon8tNEBCSByfSLYxQLovUG2rlTdAyfA0bRZ/NEBn/ZW9f+4zQJuyC2cs6DNAdi5EVWtUNEDDE94YfL8zQCNQ42vOAjRANs0TyxstOEBTuqVlGv40QBiZKWBE7jRAX0CEkuECNUBeOBIIR1szQOU0SoCm/DNAHOOsUrqqMUBzo7Fpth8yQFogdMLx3jZA+wKqUsjHNEA6m+MfvjE0QM32WzXjrDRA8dU+szsXNUBeFg37C+czQL/hRD4kKzJAawMUZkYYNUAiOVkFcpc1QH4MSsmEpTNAI2wcCyDqNEAOBlLwy4UzQGC22LnMUDVAvykDUUHkNECOMW8D3RQ4QJtmf5CGDzNAcuxeE0oRNEAUBhgE6wczQN5m7eFBTDRATv+o5YznN0BjnMFPXAY0QDK0gkPMSjRAYIkDA8LaNEBpVA5f3Hc2QP8snyIRFDRAIHu6rQ+iNUCK4X9d614yQNw7fybc0DRAIuX25Ht6NkD3O+HI5CY1QCLJI1h6XTVAPsTcoKe9MkDZbbUFIT8zQOasCdDX1TNAvxs16RDjMUC6229XEfQzQA81wvjV3DZA3jHMu/16NEADN51ulfkyQHxHdcwxnDNA7ON3Ni4pNED9Cp5av+QzQF+8LOaaRTRAZoGycHfkPEBh9KNkF8M8QJM/I5egKz1A8KpLGbV7OkCUMBFooos7QBhObrJagDtAICvrHPTBP0DnDzlF2rQ6QMJCLru59DpAYgtVv61TPEDo8dkPf5c5QCKIAYsjcDtAtT0t9rmlO0C8XRzdS7o5QKK1CkDlYjtAHOh2DNrQO0DrpL9khn48QJnrdYRa3TpA78PZ7RJAO0A64hk9e+E6QOA8E04IyDpA4v7JhpwgO0A0UdhTUFM7QHfkcJH+mzpATrM6uI3tOkDwegCq+V46QBrBqbeY3j5AdNiXEmvYO0DYiVsem4M5QJhcYPSMKT1AEFWnF7ZnOkDIawGthbA5QCPMpbEdQj1ARITVDC38PEDG/491D1g6QDh6ysA25jxAs4z24IIpO0AXB9UINlU8QL+jqx491DpAFnXyiivNO0AoVRd2qFE7QAS0zzRTcDpA1P02aRBkPUAiireq36A7QJH9l7Kg8D1A68kasQeJOkACUYWUhls6QBNiuHTyGj9AmqcdbpOKPEDWXbN5PjA7QLRMdQ0xrTlAOJvXzvVhOkBFVl+yLIU6QG29ba+v9ztAs0wEooeCOkDyzHlHIk89QKKa1Hl4wz5A916mgLSZOkC8YzMPzO84QNpBBDd41j1AIMEq7ZFpPkD1qKB3h/47QIJXXiphyjpAIdaDOmcHOkDVYA27nTs7QBwcxrNz3zpApaG5qMUiPUAaW+90fT07QETQpDDmej1AIfao1EDIO0B5GlEq1b07QOthTr5X4zxAAWaugZLsO0D7lKjT9Ow8QB2lRXQL7TpAF4UOmp4cOkDsgLW+1Ug8QHzsAhVyQz1AObaRdoGOO0Ce6thatr49QFXqgAcyLj9ATpicrLY4PkDzm7fehsg6QKiyEdTkzDpAbzzBxbGzPEBqpxwrH1s9QA7sqKS0eD9ArtqEKzxDPUC+CdvWzpQ9QMjPXSUblztALGUetUL2O0ANyV6NofQ6QH94tBUPkj1ACNL6/GHzOUA8Kereu0k5QGj9bT9YzDtAZJcTseoGPEBBo2N8mMU7QKWif09Nqj1A6dvG2RowO0ABbP+CIwdAQOdESCTo/jlAqoHvKSvOPkAXozZbdvM6QCxJlZR9ADtAzVT7clXlOkCBYGbn9LY8QEXcJXjnOTxAOOsU1satO0BcgL2H+VQ7QFSp9MMxjTtA1b6H/4McOkDPlqQrMdQ6QENndRMvwzpABRMXnpEZO0AmT/Hg8z4/QLlpqcKZCDtABP8VzKwzPEDkD8maaFM7QCoH2MZwWDtA4SsSYCVUPkBfyyPwtUs8QHdHvQtglVBA0Esr9kSzUECRumNyI6VQQFI8g8CPElBA+cu+yLaSUEBt4R6aHaRQQGLciDw9EVFAAVaKM+/QUECWLNC+NUBQQBJS28jOpVBAGPayrr4CUUClhyhfhKRQQHwg2a6qUFBA4tWh/E4tUEAU2ydoRINPQKwMIePJ2FBAdmIndmInUECX3VftgbZQQKk/AHn01E9Aui5hA8HsUEDU2RRfvIRPQCUUfuhdpVBA9tICkQrlT0DMiDJNQFJQQGWO3dlmVlBA+nO240NgUEAlH/HaQrdQQEJpfrCrYFBA/CcYKl2hUED6UB3SXYRQQKfUMW2lVE9A7k1RwbPmT0AvyndYQ69QQLsI1Pias1BAYRwUfexNUEDknpb90NNQQLYEz3yvh1BALNsfGaeVUEAXlLn2KrdQQNEUUEgNZ1BAd5EVZVNqUECH1IN55qJQQEjTRUJY1FBAuIfHgDXIUECD3Jma8sBQQHkZpSchl1BAKthrQMiBUEDkSF+e8KhQQOtwo90NwlBAWvcSbi64T0AIK1tdgBxQQBDUSrs1nVBAebJ//PyLUEAL+ngLBDFQQPCEqiOe11BAek/5EOgUUEAyABt3f8dQQBKsWomAplBAvTZv9R0PUUCbcLQo4tlQQKStHHvtkFBA/74G4ORlUkB65zdKiXBSQFQAP68voVJAsI6S9dx2UkAWIvVJ3UBSQLWuj3NWsFJAwCzcFAUhUkBJOfqx7FxSQKQxu1/oc1JAIugndvBjUkA7/Rb50GRSQNQli4vI21JAc8GuKHiAUkAkQRahY3xSQLHbODh3gVJAqn4jxkVxUkCc/UGd205SQHj6JAae5VJALADsJm9uUkD6fk3LTLdSQDnSMuuySVJASemQ3+pAUkB3Hc/s7yZSQETdt3bDsVJAtFMk0a6AUkAXnpEZtlhSQGsbaHbKblJAZmXtg3h4UkBcoaSWi1lSQHjaOW9bUlJAaoJrOQlMUkCg8GVptZJSQIzIwyP8gFJAIKY2IVCHUkDrzcsZNbBSQMES4yKVfFJASshrdOOwUkA/UHQOOYZSQOgwVdm5zlJA/sptHnWUUkCkxMgB8T5SQC4NDNcbfVJAOpMMYAZXUkC7uRyNEOVRQOAo7r92klJANEw9im5+UkDTnV5iuWFSQO6N27sqjVJAjOX3IQknUkCxdBjy7xtSQBrNLlXMTVJACc8kY/nFUkAnyQA3CmtSQMuqNSIPHVJAa3juzsptUkDA+pu8JA9SQCkMMAjWD1JA5neQf/RpUkCE0raK4odSQA2u84X3TVJAp6U0KU9RUkAElTQlIAVYQEoPOs2OBFhAES2LFAwDWEB9qnb4RjNYQLT8YYnZJFhAmZowZK4+WEB+ReQvzCBYQKfK6DofB1hA8xCdxUpKWEBB61PyQj5YQKjFRJKfCFhAwIP21nobWEAKErtdvlBYQDNELp/kLVhA/3Pc6QoJWEB0BMk4VCBYQMWKh3/J2ldAXIy58QQXWECpzX7zpP1XQAxOdE6XEFhAuKrf4NgNWEDkh5kDORdYQHlYJ2W8OFhAbBV+S+FJWEBRdJ8X1E5YQDu24XB6IFhATNI1AqAEWEC0XMDm1ChYQGI0EjnrC1hAPA6J98wWWEDD0YIE1AxYQDRA9bQV/FdABaeOtpsTWEBGPqWe3BVYQCOavrB9Q1hAdBZOxHATWEAKaqGlsWBYQMG2g6lXGFhAk8e93GwuWEAd1xU/3yRYQJZDwv8BR1hA9w0c4to3WEASeLdJ5R1YQOWuS45eJFhA/pD5nWsQWEC6i25VOQdYQKg3zRMVEVhAZBjaSD8lWEBESgoz3QJYQArGltXUElhA8N/5RaoJWEC4JN3fW0hYQM5pFEZlNlhABE13m2/wV0B+PNaI9PlXQALJsnbmFFhAHr5KRiAIWEC2fKORWkNYQDT3+5uSB1hA+wRspzcTWEC0X1es+hxYQDM2QcE84FhAOhk158XVWEA5JD3jkd1YQMIdwmye3FhACGqW2aTfWEC4fMu3fOtYQFSD7EUy4lhAMi10UOjhWEAy2sDLfdtYQJeArL9Q4VhAQkgyoE/lWEAwOMjy5dNYQA/qRh4R51hA2DbRbSDQWED5OERD2N5YQGCH764y41hAOxdY/1fmWECPeJWjUtxYQBWeiUi+1lhAkcOFbYjjWEB/o8dmsOZYQOcL5WPS3VhAXNiLSFHLWEBnXoIDZOJYQOjVlI4J6FhApLQ8BFnfWEARApm9NNdYQG4DweH84VhAACVrW2/oWEDKc3ob2d5YQG8DO7hi2VhAXTTAbBrdWEBChJOK9ttYQHtG4oy+3VhAUs6puoXdWEACWQepONlYQIyIVRsm4VhA+FHqbfjVWECjtvAPod9YQAZ1XKdu4VhAzRQyDXjaWEA60Q1rGdVYQPXIG5rT61hAFi1SdgvlWEBs926xia9YQJzFqM2W3VhAilTl1kG2WECAJgXFsNxYQPuS9GQOyFhANnoKFNzeWEBiDSVUVsxYQI5l33Hg3FhAMAheLmfTWEAuqczONONYQGm2S5ye3lhA+HPl2l7tWEAON2N2tN1YQCHocZc16VhAetVA2zPYWECCpKp1YeBYQOevnkF061hA\",\"dtype\":\"float64\",\"order\":\"little\",\"shape\":[732]},\"date\":[\"2020-09-01 00:00:00\",\"2020-10-14 00:00:00\",\"2020-09-16 00:00:00\",\"2020-10-15 00:00:00\",\"2020-10-16 00:00:00\",\"2020-09-14 00:00:00\",\"2020-10-17 00:00:00\",\"2020-09-13 00:00:00\",\"2020-10-18 00:00:00\",\"2020-10-19 00:00:00\",\"2020-09-12 00:00:00\",\"2020-09-17 00:00:00\",\"2020-10-20 00:00:00\",\"2020-10-21 00:00:00\",\"2020-09-10 00:00:00\",\"2020-10-22 00:00:00\",\"2020-09-09 00:00:00\",\"2020-10-23 00:00:00\",\"2020-09-08 00:00:00\",\"2020-10-24 00:00:00\",\"2020-09-07 00:00:00\",\"2020-10-25 00:00:00\",\"2020-10-26 00:00:00\",\"2020-09-11 00:00:00\",\"2020-09-06 00:00:00\",\"2020-10-13 00:00:00\",\"2020-10-12 00:00:00\",\"2020-09-30 00:00:00\",\"2020-09-28 00:00:00\",\"2020-10-01 00:00:00\",\"2020-09-27 00:00:00\",\"2020-10-02 00:00:00\",\"2020-09-26 00:00:00\",\"2020-10-03 00:00:00\",\"2020-09-25 00:00:00\",\"2020-10-04 00:00:00\",\"2020-10-05 00:00:00\",\"2020-09-18 00:00:00\",\"2020-09-24 00:00:00\",\"2020-09-23 00:00:00\",\"2020-10-07 00:00:00\",\"2020-09-22 00:00:00\",\"2020-10-08 00:00:00\",\"2020-09-21 00:00:00\",\"2020-10-09 00:00:00\",\"2020-09-20 00:00:00\",\"2020-10-10 00:00:00\",\"2020-09-19 00:00:00\",\"2020-10-11 00:00:00\",\"2020-10-06 00:00:00\",\"2020-10-27 00:00:00\",\"2020-09-15 00:00:00\",\"2020-09-29 00:00:00\",\"2020-09-03 00:00:00\",\"2020-09-04 00:00:00\",\"2020-09-05 00:00:00\",\"2020-10-30 00:00:00\",\"2020-10-31 00:00:00\",\"2020-10-28 00:00:00\",\"2020-10-29 00:00:00\",\"2020-09-02 00:00:00\",\"2020-09-14 00:00:00\",\"2020-09-19 00:00:00\",\"2020-10-07 00:00:00\",\"2020-09-11 00:00:00\",\"2020-10-10 00:00:00\",\"2020-10-30 00:00:00\",\"2020-09-20 00:00:00\",\"2020-10-22 00:00:00\",\"2020-10-09 00:00:00\",\"2020-09-21 00:00:00\",\"2020-09-10 00:00:00\",\"2020-10-08 00:00:00\",\"2020-10-21 00:00:00\",\"2020-10-11 00:00:00\",\"2020-09-18 00:00:00\",\"2020-09-04 00:00:00\",\"2020-10-29 00:00:00\",\"2020-10-16 00:00:00\",\"2020-10-17 00:00:00\",\"2020-09-29 00:00:00\",\"2020-09-15 00:00:00\",\"2020-10-15 00:00:00\",\"2020-09-16 00:00:00\",\"2020-09-13 00:00:00\",\"2020-10-18 00:00:00\",\"2020-10-14 00:00:00\",\"2020-09-17 00:00:00\",\"2020-10-13 00:00:00\",\"2020-09-03 00:00:00\",\"2020-10-12 00:00:00\",\"2020-09-12 00:00:00\",\"2020-10-19 00:00:00\",\"2020-09-02 00:00:00\",\"2020-10-20 00:00:00\",\"2020-09-09 00:00:00\",\"2020-09-22 00:00:00\",\"2020-09-23 00:00:00\",\"2020-10-25 00:00:00\",\"2020-09-07 00:00:00\",\"2020-10-01 00:00:00\",\"2020-10-28 00:00:00\",\"2020-09-26 00:00:00\",\"2020-10-03 00:00:00\",\"2020-09-25 00:00:00\",\"2020-10-31 00:00:00\",\"2020-10-24 00:00:00\",\"2020-10-02 00:00:00\",\"2020-09-06 00:00:00\",\"2020-09-05 00:00:00\",\"2020-10-26 00:00:00\",\"2020-10-04 00:00:00\",\"2020-09-27 00:00:00\",\"2020-09-24 00:00:00\",\"2020-10-27 00:00:00\",\"2020-09-28 00:00:00\",\"2020-10-05 00:00:00\",\"2020-09-01 00:00:00\",\"2020-10-23 00:00:00\",\"2020-09-30 00:00:00\",\"2020-09-08 00:00:00\",\"2020-10-06 00:00:00\",\"2020-09-27 00:00:00\",\"2020-10-01 00:00:00\",\"2020-09-29 00:00:00\",\"2020-10-15 00:00:00\",\"2020-10-29 00:00:00\",\"2020-09-30 00:00:00\",\"2020-09-01 00:00:00\",\"2020-10-14 00:00:00\",\"2020-09-28 00:00:00\",\"2020-09-16 00:00:00\",\"2020-09-15 00:00:00\",\"2020-09-03 00:00:00\",\"2020-10-13 00:00:00\",\"2020-10-11 00:00:00\",\"2020-10-02 00:00:00\",\"2020-09-23 00:00:00\",\"2020-10-06 00:00:00\",\"2020-09-02 00:00:00\",\"2020-10-07 00:00:00\",\"2020-09-22 00:00:00\",\"2020-10-05 00:00:00\",\"2020-10-08 00:00:00\",\"2020-09-21 00:00:00\",\"2020-09-24 00:00:00\",\"2020-10-12 00:00:00\",\"2020-10-09 00:00:00\",\"2020-10-04 00:00:00\",\"2020-10-30 00:00:00\",\"2020-10-10 00:00:00\",\"2020-09-19 00:00:00\",\"2020-10-31 00:00:00\",\"2020-09-25 00:00:00\",\"2020-10-03 00:00:00\",\"2020-09-18 00:00:00\",\"2020-09-26 00:00:00\",\"2020-09-20 00:00:00\",\"2020-10-16 00:00:00\",\"2020-09-17 00:00:00\",\"2020-10-18 00:00:00\",\"2020-09-11 00:00:00\",\"2020-09-04 00:00:00\",\"2020-10-27 00:00:00\",\"2020-10-19 00:00:00\",\"2020-09-12 00:00:00\",\"2020-10-20 00:00:00\",\"2020-10-25 00:00:00\",\"2020-10-21 00:00:00\",\"2020-10-24 00:00:00\",\"2020-09-10 00:00:00\",\"2020-09-13 00:00:00\",\"2020-09-08 00:00:00\",\"2020-09-06 00:00:00\",\"2020-09-07 00:00:00\",\"2020-09-09 00:00:00\",\"2020-09-05 00:00:00\",\"2020-10-28 00:00:00\",\"2020-10-23 00:00:00\",\"2020-10-22 00:00:00\",\"2020-09-14 00:00:00\",\"2020-10-26 00:00:00\",\"2020-10-17 00:00:00\",\"2020-10-23 00:00:00\",\"2020-09-04 00:00:00\",\"2020-10-03 00:00:00\",\"2020-10-20 00:00:00\",\"2020-10-06 00:00:00\",\"2020-09-02 00:00:00\",\"2020-10-10 00:00:00\",\"2020-09-07 00:00:00\",\"2020-10-31 00:00:00\",\"2020-09-19 00:00:00\",\"2020-09-09 00:00:00\",\"2020-09-20 00:00:00\",\"2020-10-09 00:00:00\",\"2020-10-24 00:00:00\",\"2020-10-07 00:00:00\",\"2020-09-08 00:00:00\",\"2020-09-22 00:00:00\",\"2020-09-14 00:00:00\",\"2020-09-24 00:00:00\",\"2020-10-21 00:00:00\",\"2020-09-25 00:00:00\",\"2020-10-08 00:00:00\",\"2020-09-11 00:00:00\",\"2020-10-22 00:00:00\",\"2020-10-04 00:00:00\",\"2020-10-05 00:00:00\",\"2020-10-30 00:00:00\",\"2020-09-10 00:00:00\",\"2020-09-21 00:00:00\",\"2020-10-27 00:00:00\",\"2020-09-23 00:00:00\",\"2020-10-11 00:00:00\",\"2020-09-06 00:00:00\",\"2020-09-16 00:00:00\",\"2020-09-01 00:00:00\",\"2020-10-29 00:00:00\",\"2020-09-13 00:00:00\",\"2020-09-03 00:00:00\",\"2020-10-15 00:00:00\",\"2020-10-26 00:00:00\",\"2020-09-27 00:00:00\",\"2020-10-13 00:00:00\",\"2020-10-18 00:00:00\",\"2020-10-25 00:00:00\",\"2020-09-15 00:00:00\",\"2020-09-05 00:00:00\",\"2020-09-30 00:00:00\",\"2020-09-17 00:00:00\",\"2020-10-28 00:00:00\",\"2020-10-16 00:00:00\",\"2020-09-26 00:00:00\",\"2020-09-29 00:00:00\",\"2020-10-02 00:00:00\",\"2020-09-18 00:00:00\",\"2020-09-28 00:00:00\",\"2020-10-19 00:00:00\",\"2020-10-12 00:00:00\",\"2020-10-17 00:00:00\",\"2020-10-01 00:00:00\",\"2020-09-12 00:00:00\",\"2020-10-14 00:00:00\",\"2020-10-26 00:00:00\",\"2020-09-08 00:00:00\",\"2020-10-23 00:00:00\",\"2020-09-29 00:00:00\",\"2020-10-05 00:00:00\",\"2020-09-28 00:00:00\",\"2020-09-27 00:00:00\",\"2020-09-24 00:00:00\",\"2020-10-31 00:00:00\",\"2020-09-26 00:00:00\",\"2020-10-02 00:00:00\",\"2020-09-07 00:00:00\",\"2020-10-01 00:00:00\",\"2020-10-03 00:00:00\",\"2020-09-30 00:00:00\",\"2020-09-25 00:00:00\",\"2020-10-24 00:00:00\",\"2020-10-25 00:00:00\",\"2020-10-27 00:00:00\",\"2020-09-23 00:00:00\",\"2020-10-04 00:00:00\",\"2020-09-06 00:00:00\",\"2020-09-01 00:00:00\",\"2020-09-14 00:00:00\",\"2020-09-02 00:00:00\",\"2020-10-22 00:00:00\",\"2020-09-19 00:00:00\",\"2020-09-11 00:00:00\",\"2020-10-11 00:00:00\",\"2020-10-29 00:00:00\",\"2020-09-18 00:00:00\",\"2020-10-19 00:00:00\",\"2020-10-12 00:00:00\",\"2020-09-12 00:00:00\",\"2020-09-17 00:00:00\",\"2020-10-10 00:00:00\",\"2020-10-18 00:00:00\",\"2020-10-28 00:00:00\",\"2020-09-16 00:00:00\",\"2020-09-03 00:00:00\",\"2020-10-14 00:00:00\",\"2020-09-13 00:00:00\",\"2020-09-15 00:00:00\",\"2020-10-17 00:00:00\",\"2020-10-15 00:00:00\",\"2020-10-16 00:00:00\",\"2020-10-13 00:00:00\",\"2020-10-20 00:00:00\",\"2020-09-05 00:00:00\",\"2020-09-21 00:00:00\",\"2020-10-21 00:00:00\",\"2020-09-22 00:00:00\",\"2020-09-04 00:00:00\",\"2020-10-30 00:00:00\",\"2020-09-09 00:00:00\",\"2020-10-07 00:00:00\",\"2020-09-10 00:00:00\",\"2020-10-08 00:00:00\",\"2020-10-09 00:00:00\",\"2020-09-20 00:00:00\",\"2020-10-06 00:00:00\",\"2020-10-05 00:00:00\",\"2020-10-06 00:00:00\",\"2020-10-17 00:00:00\",\"2020-09-29 00:00:00\",\"2020-10-15 00:00:00\",\"2020-10-16 00:00:00\",\"2020-10-14 00:00:00\",\"2020-10-21 00:00:00\",\"2020-10-30 00:00:00\",\"2020-10-28 00:00:00\",\"2020-09-30 00:00:00\",\"2020-10-26 00:00:00\",\"2020-10-07 00:00:00\",\"2020-10-03 00:00:00\",\"2020-10-13 00:00:00\",\"2020-10-09 00:00:00\",\"2020-10-24 00:00:00\",\"2020-10-10 00:00:00\",\"2020-10-02 00:00:00\",\"2020-10-29 00:00:00\",\"2020-10-22 00:00:00\",\"2020-10-08 00:00:00\",\"2020-10-11 00:00:00\",\"2020-10-23 00:00:00\",\"2020-10-31 00:00:00\",\"2020-10-12 00:00:00\",\"2020-10-04 00:00:00\",\"2020-10-27 00:00:00\",\"2020-10-18 00:00:00\",\"2020-10-20 00:00:00\",\"2020-10-25 00:00:00\",\"2020-10-19 00:00:00\",\"2020-10-01 00:00:00\",\"2020-09-05 00:00:00\",\"2020-09-14 00:00:00\",\"2020-09-25 00:00:00\",\"2020-09-04 00:00:00\",\"2020-09-20 00:00:00\",\"2020-09-02 00:00:00\",\"2020-09-27 00:00:00\",\"2020-09-13 00:00:00\",\"2020-09-18 00:00:00\",\"2020-09-01 00:00:00\",\"2020-09-16 00:00:00\",\"2020-09-12 00:00:00\",\"2020-09-21 00:00:00\",\"2020-09-07 00:00:00\",\"2020-09-15 00:00:00\",\"2020-09-19 00:00:00\",\"2020-09-22 00:00:00\",\"2020-09-11 00:00:00\",\"2020-09-28 00:00:00\",\"2020-09-26 00:00:00\",\"2020-09-10 00:00:00\",\"2020-09-17 00:00:00\",\"2020-09-03 00:00:00\",\"2020-09-23 00:00:00\",\"2020-09-09 00:00:00\",\"2020-09-08 00:00:00\",\"2020-09-24 00:00:00\",\"2020-09-06 00:00:00\",\"2020-09-18 00:00:00\",\"2020-09-19 00:00:00\",\"2020-10-11 00:00:00\",\"2020-10-10 00:00:00\",\"2020-10-15 00:00:00\",\"2020-10-09 00:00:00\",\"2020-09-20 00:00:00\",\"2020-10-28 00:00:00\",\"2020-09-21 00:00:00\",\"2020-10-07 00:00:00\",\"2020-09-22 00:00:00\",\"2020-09-03 00:00:00\",\"2020-10-06 00:00:00\",\"2020-09-23 00:00:00\",\"2020-09-04 00:00:00\",\"2020-10-08 00:00:00\",\"2020-09-16 00:00:00\",\"2020-09-05 00:00:00\",\"2020-10-22 00:00:00\",\"2020-09-08 00:00:00\",\"2020-09-09 00:00:00\",\"2020-10-23 00:00:00\",\"2020-10-21 00:00:00\",\"2020-09-10 00:00:00\",\"2020-10-20 00:00:00\",\"2020-09-11 00:00:00\",\"2020-09-07 00:00:00\",\"2020-10-19 00:00:00\",\"2020-10-24 00:00:00\",\"2020-10-18 00:00:00\",\"2020-09-12 00:00:00\",\"2020-10-17 00:00:00\",\"2020-09-13 00:00:00\",\"2020-09-06 00:00:00\",\"2020-10-16 00:00:00\",\"2020-10-25 00:00:00\",\"2020-09-14 00:00:00\",\"2020-09-15 00:00:00\",\"2020-10-14 00:00:00\",\"2020-10-29 00:00:00\",\"2020-10-26 00:00:00\",\"2020-10-13 00:00:00\",\"2020-09-17 00:00:00\",\"2020-10-12 00:00:00\",\"2020-10-05 00:00:00\",\"2020-10-27 00:00:00\",\"2020-10-30 00:00:00\",\"2020-09-30 00:00:00\",\"2020-10-03 00:00:00\",\"2020-09-01 00:00:00\",\"2020-09-25 00:00:00\",\"2020-10-31 00:00:00\",\"2020-09-28 00:00:00\",\"2020-09-27 00:00:00\",\"2020-09-24 00:00:00\",\"2020-10-04 00:00:00\",\"2020-10-01 00:00:00\",\"2020-09-02 00:00:00\",\"2020-09-26 00:00:00\",\"2020-10-02 00:00:00\",\"2020-09-29 00:00:00\",\"2020-10-12 00:00:00\",\"2020-09-12 00:00:00\",\"2020-09-25 00:00:00\",\"2020-10-14 00:00:00\",\"2020-10-13 00:00:00\",\"2020-09-19 00:00:00\",\"2020-09-05 00:00:00\",\"2020-10-18 00:00:00\",\"2020-09-04 00:00:00\",\"2020-10-26 00:00:00\",\"2020-09-16 00:00:00\",\"2020-10-09 00:00:00\",\"2020-10-03 00:00:00\",\"2020-10-10 00:00:00\",\"2020-10-17 00:00:00\",\"2020-09-27 00:00:00\",\"2020-10-25 00:00:00\",\"2020-09-14 00:00:00\",\"2020-09-17 00:00:00\",\"2020-10-01 00:00:00\",\"2020-10-02 00:00:00\",\"2020-10-16 00:00:00\",\"2020-10-30 00:00:00\",\"2020-09-15 00:00:00\",\"2020-09-06 00:00:00\",\"2020-09-30 00:00:00\",\"2020-09-18 00:00:00\",\"2020-09-13 00:00:00\",\"2020-09-01 00:00:00\",\"2020-10-15 00:00:00\",\"2020-10-27 00:00:00\",\"2020-10-11 00:00:00\",\"2020-10-24 00:00:00\",\"2020-09-26 00:00:00\",\"2020-09-03 00:00:00\",\"2020-10-06 00:00:00\",\"2020-10-21 00:00:00\",\"2020-10-04 00:00:00\",\"2020-09-09 00:00:00\",\"2020-09-20 00:00:00\",\"2020-09-22 00:00:00\",\"2020-09-29 00:00:00\",\"2020-09-28 00:00:00\",\"2020-09-10 00:00:00\",\"2020-09-24 00:00:00\",\"2020-10-07 00:00:00\",\"2020-10-29 00:00:00\",\"2020-10-22 00:00:00\",\"2020-10-20 00:00:00\",\"2020-10-23 00:00:00\",\"2020-09-23 00:00:00\",\"2020-10-31 00:00:00\",\"2020-09-11 00:00:00\",\"2020-10-28 00:00:00\",\"2020-09-07 00:00:00\",\"2020-09-02 00:00:00\",\"2020-10-08 00:00:00\",\"2020-09-08 00:00:00\",\"2020-09-21 00:00:00\",\"2020-10-05 00:00:00\",\"2020-10-19 00:00:00\",\"2020-09-09 00:00:00\",\"2020-09-14 00:00:00\",\"2020-10-14 00:00:00\",\"2020-09-05 00:00:00\",\"2020-10-22 00:00:00\",\"2020-09-28 00:00:00\",\"2020-09-29 00:00:00\",\"2020-09-15 00:00:00\",\"2020-10-25 00:00:00\",\"2020-10-15 00:00:00\",\"2020-09-30 00:00:00\",\"2020-10-21 00:00:00\",\"2020-09-11 00:00:00\",\"2020-09-27 00:00:00\",\"2020-10-24 00:00:00\",\"2020-10-19 00:00:00\",\"2020-10-18 00:00:00\",\"2020-09-07 00:00:00\",\"2020-09-12 00:00:00\",\"2020-10-01 00:00:00\",\"2020-10-17 00:00:00\",\"2020-10-20 00:00:00\",\"2020-10-31 00:00:00\",\"2020-09-13 00:00:00\",\"2020-10-23 00:00:00\",\"2020-09-06 00:00:00\",\"2020-09-01 00:00:00\",\"2020-10-16 00:00:00\",\"2020-09-10 00:00:00\",\"2020-09-23 00:00:00\",\"2020-09-26 00:00:00\",\"2020-10-03 00:00:00\",\"2020-10-27 00:00:00\",\"2020-10-28 00:00:00\",\"2020-10-11 00:00:00\",\"2020-09-21 00:00:00\",\"2020-09-04 00:00:00\",\"2020-09-24 00:00:00\",\"2020-10-07 00:00:00\",\"2020-10-09 00:00:00\",\"2020-10-30 00:00:00\",\"2020-09-02 00:00:00\",\"2020-09-17 00:00:00\",\"2020-10-12 00:00:00\",\"2020-09-03 00:00:00\",\"2020-10-02 00:00:00\",\"2020-09-18 00:00:00\",\"2020-10-08 00:00:00\",\"2020-09-08 00:00:00\",\"2020-10-10 00:00:00\",\"2020-10-04 00:00:00\",\"2020-10-13 00:00:00\",\"2020-09-22 00:00:00\",\"2020-09-25 00:00:00\",\"2020-10-29 00:00:00\",\"2020-09-19 00:00:00\",\"2020-10-26 00:00:00\",\"2020-10-06 00:00:00\",\"2020-10-05 00:00:00\",\"2020-09-16 00:00:00\",\"2020-09-20 00:00:00\",\"2020-10-03 00:00:00\",\"2020-10-08 00:00:00\",\"2020-09-20 00:00:00\",\"2020-09-03 00:00:00\",\"2020-09-27 00:00:00\",\"2020-10-19 00:00:00\",\"2020-09-11 00:00:00\",\"2020-09-24 00:00:00\",\"2020-10-13 00:00:00\",\"2020-09-10 00:00:00\",\"2020-10-22 00:00:00\",\"2020-10-05 00:00:00\",\"2020-09-28 00:00:00\",\"2020-10-29 00:00:00\",\"2020-09-02 00:00:00\",\"2020-10-04 00:00:00\",\"2020-09-22 00:00:00\",\"2020-09-07 00:00:00\",\"2020-10-21 00:00:00\",\"2020-09-29 00:00:00\",\"2020-09-09 00:00:00\",\"2020-10-23 00:00:00\",\"2020-10-31 00:00:00\",\"2020-09-21 00:00:00\",\"2020-10-07 00:00:00\",\"2020-10-28 00:00:00\",\"2020-10-06 00:00:00\",\"2020-10-20 00:00:00\",\"2020-09-19 00:00:00\",\"2020-10-18 00:00:00\",\"2020-10-09 00:00:00\",\"2020-09-17 00:00:00\",\"2020-10-02 00:00:00\",\"2020-09-14 00:00:00\",\"2020-10-12 00:00:00\",\"2020-10-15 00:00:00\",\"2020-10-26 00:00:00\",\"2020-10-25 00:00:00\",\"2020-10-01 00:00:00\",\"2020-09-16 00:00:00\",\"2020-09-05 00:00:00\",\"2020-10-14 00:00:00\",\"2020-10-30 00:00:00\",\"2020-09-26 00:00:00\",\"2020-09-15 00:00:00\",\"2020-09-01 00:00:00\",\"2020-09-04 00:00:00\",\"2020-09-08 00:00:00\",\"2020-10-10 00:00:00\",\"2020-09-12 00:00:00\",\"2020-10-16 00:00:00\",\"2020-09-30 00:00:00\",\"2020-09-06 00:00:00\",\"2020-10-17 00:00:00\",\"2020-10-27 00:00:00\",\"2020-10-24 00:00:00\",\"2020-09-25 00:00:00\",\"2020-09-13 00:00:00\",\"2020-10-11 00:00:00\",\"2020-09-23 00:00:00\",\"2020-09-18 00:00:00\",\"2020-10-29 00:00:00\",\"2020-09-03 00:00:00\",\"2020-10-27 00:00:00\",\"2020-09-05 00:00:00\",\"2020-09-04 00:00:00\",\"2020-10-25 00:00:00\",\"2020-10-30 00:00:00\",\"2020-09-01 00:00:00\",\"2020-10-24 00:00:00\",\"2020-09-06 00:00:00\",\"2020-10-26 00:00:00\",\"2020-10-23 00:00:00\",\"2020-09-07 00:00:00\",\"2020-09-02 00:00:00\",\"2020-10-28 00:00:00\",\"2020-09-28 00:00:00\",\"2020-10-22 00:00:00\",\"2020-09-15 00:00:00\",\"2020-10-13 00:00:00\",\"2020-09-16 00:00:00\",\"2020-10-12 00:00:00\",\"2020-09-17 00:00:00\",\"2020-10-11 00:00:00\",\"2020-10-10 00:00:00\",\"2020-09-19 00:00:00\",\"2020-10-09 00:00:00\",\"2020-10-08 00:00:00\",\"2020-09-20 00:00:00\",\"2020-10-07 00:00:00\",\"2020-09-21 00:00:00\",\"2020-10-14 00:00:00\",\"2020-10-06 00:00:00\",\"2020-10-05 00:00:00\",\"2020-09-23 00:00:00\",\"2020-10-04 00:00:00\",\"2020-09-24 00:00:00\",\"2020-10-03 00:00:00\",\"2020-09-25 00:00:00\",\"2020-10-02 00:00:00\",\"2020-10-01 00:00:00\",\"2020-10-31 00:00:00\",\"2020-09-26 00:00:00\",\"2020-09-30 00:00:00\",\"2020-09-27 00:00:00\",\"2020-09-29 00:00:00\",\"2020-09-22 00:00:00\",\"2020-09-14 00:00:00\",\"2020-09-18 00:00:00\",\"2020-10-15 00:00:00\",\"2020-09-11 00:00:00\",\"2020-09-10 00:00:00\",\"2020-10-17 00:00:00\",\"2020-09-13 00:00:00\",\"2020-09-09 00:00:00\",\"2020-10-20 00:00:00\",\"2020-10-16 00:00:00\",\"2020-10-21 00:00:00\",\"2020-09-12 00:00:00\",\"2020-10-18 00:00:00\",\"2020-10-19 00:00:00\",\"2020-09-08 00:00:00\",\"2020-10-05 00:00:00\",\"2020-09-10 00:00:00\",\"2020-09-23 00:00:00\",\"2020-09-22 00:00:00\",\"2020-09-02 00:00:00\",\"2020-10-04 00:00:00\",\"2020-10-29 00:00:00\",\"2020-10-19 00:00:00\",\"2020-09-24 00:00:00\",\"2020-10-20 00:00:00\",\"2020-10-23 00:00:00\",\"2020-09-01 00:00:00\",\"2020-10-02 00:00:00\",\"2020-09-09 00:00:00\",\"2020-09-25 00:00:00\",\"2020-10-01 00:00:00\",\"2020-10-30 00:00:00\",\"2020-10-21 00:00:00\",\"2020-09-26 00:00:00\",\"2020-09-30 00:00:00\",\"2020-09-07 00:00:00\",\"2020-09-08 00:00:00\",\"2020-09-27 00:00:00\",\"2020-09-29 00:00:00\",\"2020-10-03 00:00:00\",\"2020-10-06 00:00:00\",\"2020-09-11 00:00:00\",\"2020-10-28 00:00:00\",\"2020-10-25 00:00:00\",\"2020-09-14 00:00:00\",\"2020-09-05 00:00:00\",\"2020-10-14 00:00:00\",\"2020-10-15 00:00:00\",\"2020-09-13 00:00:00\",\"2020-09-15 00:00:00\",\"2020-10-13 00:00:00\",\"2020-10-16 00:00:00\",\"2020-09-16 00:00:00\",\"2020-10-12 00:00:00\",\"2020-10-26 00:00:00\",\"2020-09-04 00:00:00\",\"2020-09-17 00:00:00\",\"2020-10-11 00:00:00\",\"2020-10-17 00:00:00\",\"2020-10-22 00:00:00\",\"2020-09-28 00:00:00\",\"2020-10-18 00:00:00\",\"2020-10-07 00:00:00\",\"2020-09-20 00:00:00\",\"2020-10-08 00:00:00\",\"2020-09-03 00:00:00\",\"2020-09-21 00:00:00\",\"2020-09-19 00:00:00\",\"2020-10-09 00:00:00\",\"2020-10-27 00:00:00\",\"2020-10-24 00:00:00\",\"2020-09-06 00:00:00\",\"2020-10-10 00:00:00\",\"2020-09-18 00:00:00\",\"2020-09-12 00:00:00\",\"2020-10-31 00:00:00\"],\"percent_visits\":{\"__ndarray__\":\"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\",\"dtype\":\"float64\",\"order\":\"little\",\"shape\":[732]},\"top\":{\"__ndarray__\":\"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\",\"dtype\":\"float64\",\"order\":\"little\",\"shape\":[732]}},\"selected\":{\"id\":\"1321\"},\"selection_policy\":{\"id\":\"1334\"}},\"id\":\"1320\",\"type\":\"ColumnDataSource\"},{\"attributes\":{},\"id\":\"1303\",\"type\":\"BasicTicker\"},{\"attributes\":{},\"id\":\"1306\",\"type\":\"SaveTool\"},{\"attributes\":{\"data_source\":{\"id\":\"1320\"},\"glyph\":{\"id\":\"1323\"},\"hover_glyph\":null,\"muted_glyph\":{\"id\":\"1325\"},\"nonselection_glyph\":{\"id\":\"1324\"},\"selection_glyph\":null,\"view\":{\"id\":\"1327\"}},\"id\":\"1326\",\"type\":\"GlyphRenderer\"},{\"attributes\":{},\"id\":\"1334\",\"type\":\"UnionRenderers\"},{\"attributes\":{\"axis_label\":\"date\",\"bounds\":\"auto\",\"formatter\":{\"id\":\"1331\"},\"major_label_orientation\":\"horizontal\",\"ticker\":{\"id\":\"1300\"}},\"id\":\"1299\",\"type\":\"CategoricalAxis\"},{\"attributes\":{},\"id\":\"1297\",\"type\":\"LinearScale\"},{\"attributes\":{\"callback\":null,\"renderers\":[{\"id\":\"1326\"}],\"tags\":[\"hv_created\"],\"tooltips\":[[\"date\",\"@{date}\"],[\"Category\",\"@{Category}\"],[\"percent_visits\",\"@{percent_visits}\"]]},\"id\":\"1289\",\"type\":\"HoverTool\"},{\"attributes\":{\"margin\":[5,5,5,5],\"name\":\"HSpacer02277\",\"sizing_mode\":\"stretch_width\"},\"id\":\"1286\",\"type\":\"Spacer\"},{\"attributes\":{\"factors\":[\"2020-09-01 00:00:00\",\"2020-09-02 00:00:00\",\"2020-09-03 00:00:00\",\"2020-09-04 00:00:00\",\"2020-09-05 00:00:00\",\"2020-09-06 00:00:00\",\"2020-09-07 00:00:00\",\"2020-09-08 00:00:00\",\"2020-09-09 00:00:00\",\"2020-09-10 00:00:00\",\"2020-09-11 00:00:00\",\"2020-09-12 00:00:00\",\"2020-09-13 00:00:00\",\"2020-09-14 00:00:00\",\"2020-09-15 00:00:00\",\"2020-09-16 00:00:00\",\"2020-09-17 00:00:00\",\"2020-09-18 00:00:00\",\"2020-09-19 00:00:00\",\"2020-09-20 00:00:00\",\"2020-09-21 00:00:00\",\"2020-09-22 00:00:00\",\"2020-09-23 00:00:00\",\"2020-09-24 00:00:00\",\"2020-09-25 00:00:00\",\"2020-09-26 00:00:00\",\"2020-09-27 00:00:00\",\"2020-09-28 00:00:00\",\"2020-09-29 00:00:00\",\"2020-09-30 00:00:00\",\"2020-10-01 00:00:00\",\"2020-10-02 00:00:00\",\"2020-10-03 00:00:00\",\"2020-10-04 00:00:00\",\"2020-10-05 00:00:00\",\"2020-10-06 00:00:00\",\"2020-10-07 00:00:00\",\"2020-10-08 00:00:00\",\"2020-10-09 00:00:00\",\"2020-10-10 00:00:00\",\"2020-10-11 00:00:00\",\"2020-10-12 00:00:00\",\"2020-10-13 00:00:00\",\"2020-10-14 00:00:00\",\"2020-10-15 00:00:00\",\"2020-10-16 00:00:00\",\"2020-10-17 00:00:00\",\"2020-10-18 00:00:00\",\"2020-10-19 00:00:00\",\"2020-10-20 00:00:00\",\"2020-10-21 00:00:00\",\"2020-10-22 00:00:00\",\"2020-10-23 00:00:00\",\"2020-10-24 00:00:00\",\"2020-10-25 00:00:00\",\"2020-10-26 00:00:00\",\"2020-10-27 00:00:00\",\"2020-10-28 00:00:00\",\"2020-10-29 00:00:00\",\"2020-10-30 00:00:00\",\"2020-10-31 00:00:00\"],\"tags\":[[[\"date\",\"date\",null]]]},\"id\":\"1287\",\"type\":\"FactorRange\"},{\"attributes\":{},\"id\":\"1331\",\"type\":\"CategoricalTickFormatter\"},{\"attributes\":{\"axis\":{\"id\":\"1302\"},\"dimension\":1,\"grid_line_color\":null,\"ticker\":null},\"id\":\"1305\",\"type\":\"Grid\"},{\"attributes\":{\"bottom_units\":\"screen\",\"fill_alpha\":0.5,\"fill_color\":\"lightgrey\",\"left_units\":\"screen\",\"level\":\"overlay\",\"line_alpha\":1.0,\"line_color\":\"black\",\"line_dash\":[4,4],\"line_width\":2,\"right_units\":\"screen\",\"top_units\":\"screen\"},\"id\":\"1311\",\"type\":\"BoxAnnotation\"},{\"attributes\":{\"bottom\":{\"field\":\"bottom\"},\"fill_alpha\":{\"value\":0.1},\"fill_color\":{\"field\":\"Category\",\"transform\":{\"id\":\"1319\"}},\"line_alpha\":{\"value\":0.1},\"top\":{\"field\":\"top\"},\"width\":{\"value\":0.8},\"x\":{\"field\":\"date\"}},\"id\":\"1324\",\"type\":\"VBar\"},{\"attributes\":{\"children\":[{\"id\":\"1286\"},{\"id\":\"1290\"},{\"id\":\"1358\"}],\"margin\":[0,0,0,0],\"name\":\"Row02273\",\"tags\":[\"embedded\"]},\"id\":\"1285\",\"type\":\"Row\"},{\"attributes\":{},\"id\":\"1321\",\"type\":\"Selection\"},{\"attributes\":{},\"id\":\"1295\",\"type\":\"CategoricalScale\"},{\"attributes\":{\"label\":{\"field\":\"Category\"},\"renderers\":[{\"id\":\"1326\"}]},\"id\":\"1337\",\"type\":\"LegendItem\"},{\"attributes\":{\"end\":100.00000000000001,\"reset_end\":100.00000000000001,\"reset_start\":0.0,\"tags\":[[[\"percent_visits\",\"percent_visits\",null]]]},\"id\":\"1288\",\"type\":\"Range1d\"}],\"root_ids\":[\"1285\"]},\"title\":\"Bokeh Application\",\"version\":\"2.2.3\"}};\n",
       "    var render_items = [{\"docid\":\"307cef79-ec40-479c-b1be-f4de84943c24\",\"root_ids\":[\"1285\"],\"roots\":{\"1285\":\"890bd5b4-daee-4745-89b2-a3b926ceedc0\"}}];\n",
       "    root.Bokeh.embed.embed_items_notebook(docs_json, render_items);\n",
       "  }\n",
       "  if (root.Bokeh !== undefined && root.Bokeh.Panel !== undefined) {\n",
       "    embed_document(root);\n",
       "  } else {\n",
       "    var attempts = 0;\n",
       "    var timer = setInterval(function(root) {\n",
       "      if (root.Bokeh !== undefined && root.Bokeh.Panel !== undefined) {\n",
       "        clearInterval(timer);\n",
       "        embed_document(root);\n",
       "      } else if (document.readyState == \"complete\") {\n",
       "        attempts++;\n",
       "        if (attempts > 100) {\n",
       "          clearInterval(timer);\n",
       "          console.log(\"Bokeh: ERROR: Unable to run BokehJS code because BokehJS library is missing\");\n",
       "        }\n",
       "      }\n",
       "    }, 10, root)\n",
       "  }\n",
       "})(window);</script>"
      ],
      "text/plain": [
       ":Bars   [date,Category]   (percent_visits)"
      ]
     },
     "execution_count": 57,
     "metadata": {
      "application/vnd.holoviews_exec.v0+json": {
       "id": "1285"
      }
     },
     "output_type": "execute_result"
    }
   ],
   "source": [
    "table.hvplot.bar(stacked=True, height=500, legend='top_left')"
   ]
  },
  {
   "cell_type": "code",
   "execution_count": 62,
   "id": "superb-baker",
   "metadata": {},
   "outputs": [],
   "source": [
    "# pull all the normalization_stats files in monthly-patterns\n",
    "patterns_path = os.path.join(raw_data_dir,'monthly-patterns')\n",
    "# print(local)\n",
    "files = []\n",
    "# r=root, d=directories, f = files\n",
    "for r, d, f in os.walk(patterns_path):\n",
    "    for file in f:\n",
    "        if 'normalization_stats.csv' in file:\n",
    "            files.append(os.path.join(patterns_path, r, file))\n",
    "\n",
    "#print(files)"
   ]
  },
  {
   "cell_type": "code",
   "execution_count": 63,
   "id": "reliable-alert",
   "metadata": {},
   "outputs": [],
   "source": [
    "# for files with information disaggregated at the state level, keep only the country-wide info\n",
    "def keep_total_level(norm_stats):\n",
    "    if 'region' in norm_stats.columns:\n",
    "        if len(norm_stats[norm_stats['region'] == 'ALL_STATES']) == 0:\n",
    "            raise ValueError('no region named \"ALL_STATES\"')\n",
    "        norm_stats = norm_stats[norm_stats['region'] == 'ALL_STATES']\n",
    "        norm_stats = norm_stats.drop(columns = ['region'])\n",
    "    return norm_stats"
   ]
  },
  {
   "cell_type": "code",
   "execution_count": 64,
   "id": "increased-israeli",
   "metadata": {},
   "outputs": [],
   "source": [
    "norm_stats = pd.concat([keep_total_level(pd.read_csv(file)) for file in files])\n",
    "norm_stats['year'] = norm_stats['year'].astype(int)\n",
    "norm_stats['month'] = norm_stats['month'].astype(int)\n",
    "norm_stats['day'] = norm_stats['day'].astype(int)\n",
    "# HK: I only downloaded patterns data from 2019 onwards due to memory constraints\n",
    "norm_stats = norm_stats[norm_stats['year'] >= 2019]"
   ]
  },
  {
   "cell_type": "code",
   "execution_count": 65,
   "id": "random-garbage",
   "metadata": {},
   "outputs": [
    {
     "ename": "KeyError",
     "evalue": "'date'",
     "output_type": "error",
     "traceback": [
      "\u001b[0;31m---------------------------------------------------------------------------\u001b[0m",
      "\u001b[0;31mKeyError\u001b[0m                                  Traceback (most recent call last)",
      "\u001b[0;32m//anaconda3/envs/safegraph/lib/python3.7/site-packages/pandas/core/indexes/base.py\u001b[0m in \u001b[0;36mget_loc\u001b[0;34m(self, key, method, tolerance)\u001b[0m\n\u001b[1;32m   3079\u001b[0m             \u001b[0;32mtry\u001b[0m\u001b[0;34m:\u001b[0m\u001b[0;34m\u001b[0m\u001b[0;34m\u001b[0m\u001b[0m\n\u001b[0;32m-> 3080\u001b[0;31m                 \u001b[0;32mreturn\u001b[0m \u001b[0mself\u001b[0m\u001b[0;34m.\u001b[0m\u001b[0m_engine\u001b[0m\u001b[0;34m.\u001b[0m\u001b[0mget_loc\u001b[0m\u001b[0;34m(\u001b[0m\u001b[0mcasted_key\u001b[0m\u001b[0;34m)\u001b[0m\u001b[0;34m\u001b[0m\u001b[0;34m\u001b[0m\u001b[0m\n\u001b[0m\u001b[1;32m   3081\u001b[0m             \u001b[0;32mexcept\u001b[0m \u001b[0mKeyError\u001b[0m \u001b[0;32mas\u001b[0m \u001b[0merr\u001b[0m\u001b[0;34m:\u001b[0m\u001b[0;34m\u001b[0m\u001b[0;34m\u001b[0m\u001b[0m\n",
      "\u001b[0;32mpandas/_libs/index.pyx\u001b[0m in \u001b[0;36mpandas._libs.index.IndexEngine.get_loc\u001b[0;34m()\u001b[0m\n",
      "\u001b[0;32mpandas/_libs/index.pyx\u001b[0m in \u001b[0;36mpandas._libs.index.IndexEngine.get_loc\u001b[0;34m()\u001b[0m\n",
      "\u001b[0;32mpandas/_libs/hashtable_class_helper.pxi\u001b[0m in \u001b[0;36mpandas._libs.hashtable.PyObjectHashTable.get_item\u001b[0;34m()\u001b[0m\n",
      "\u001b[0;32mpandas/_libs/hashtable_class_helper.pxi\u001b[0m in \u001b[0;36mpandas._libs.hashtable.PyObjectHashTable.get_item\u001b[0;34m()\u001b[0m\n",
      "\u001b[0;31mKeyError\u001b[0m: 'date'",
      "\nThe above exception was the direct cause of the following exception:\n",
      "\u001b[0;31mKeyError\u001b[0m                                  Traceback (most recent call last)",
      "\u001b[0;32m<ipython-input-65-0118d73dca6a>\u001b[0m in \u001b[0;36m<module>\u001b[0;34m\u001b[0m\n\u001b[0;32m----> 1\u001b[0;31m \u001b[0mtraffic_by_day\u001b[0m\u001b[0;34m[\u001b[0m\u001b[0;34m'year'\u001b[0m\u001b[0;34m]\u001b[0m \u001b[0;34m=\u001b[0m \u001b[0mtraffic_by_day\u001b[0m\u001b[0;34m[\u001b[0m\u001b[0;34m'date'\u001b[0m\u001b[0;34m]\u001b[0m\u001b[0;34m.\u001b[0m\u001b[0mdt\u001b[0m\u001b[0;34m.\u001b[0m\u001b[0myear\u001b[0m\u001b[0;34m\u001b[0m\u001b[0;34m\u001b[0m\u001b[0m\n\u001b[0m\u001b[1;32m      2\u001b[0m \u001b[0mtraffic_by_day\u001b[0m\u001b[0;34m[\u001b[0m\u001b[0;34m'month'\u001b[0m\u001b[0;34m]\u001b[0m \u001b[0;34m=\u001b[0m \u001b[0mtraffic_by_day\u001b[0m\u001b[0;34m[\u001b[0m\u001b[0;34m'date'\u001b[0m\u001b[0;34m]\u001b[0m\u001b[0;34m.\u001b[0m\u001b[0mdt\u001b[0m\u001b[0;34m.\u001b[0m\u001b[0mmonth\u001b[0m\u001b[0;34m\u001b[0m\u001b[0;34m\u001b[0m\u001b[0m\n\u001b[1;32m      3\u001b[0m \u001b[0mtraffic_by_day\u001b[0m\u001b[0;34m[\u001b[0m\u001b[0;34m'day'\u001b[0m\u001b[0;34m]\u001b[0m \u001b[0;34m=\u001b[0m \u001b[0mtraffic_by_day\u001b[0m\u001b[0;34m[\u001b[0m\u001b[0;34m'date'\u001b[0m\u001b[0;34m]\u001b[0m\u001b[0;34m.\u001b[0m\u001b[0mdt\u001b[0m\u001b[0;34m.\u001b[0m\u001b[0mday\u001b[0m\u001b[0;34m\u001b[0m\u001b[0;34m\u001b[0m\u001b[0m\n",
      "\u001b[0;32m//anaconda3/envs/safegraph/lib/python3.7/site-packages/pandas/core/frame.py\u001b[0m in \u001b[0;36m__getitem__\u001b[0;34m(self, key)\u001b[0m\n\u001b[1;32m   3022\u001b[0m             \u001b[0;32mif\u001b[0m \u001b[0mself\u001b[0m\u001b[0;34m.\u001b[0m\u001b[0mcolumns\u001b[0m\u001b[0;34m.\u001b[0m\u001b[0mnlevels\u001b[0m \u001b[0;34m>\u001b[0m \u001b[0;36m1\u001b[0m\u001b[0;34m:\u001b[0m\u001b[0;34m\u001b[0m\u001b[0;34m\u001b[0m\u001b[0m\n\u001b[1;32m   3023\u001b[0m                 \u001b[0;32mreturn\u001b[0m \u001b[0mself\u001b[0m\u001b[0;34m.\u001b[0m\u001b[0m_getitem_multilevel\u001b[0m\u001b[0;34m(\u001b[0m\u001b[0mkey\u001b[0m\u001b[0;34m)\u001b[0m\u001b[0;34m\u001b[0m\u001b[0;34m\u001b[0m\u001b[0m\n\u001b[0;32m-> 3024\u001b[0;31m             \u001b[0mindexer\u001b[0m \u001b[0;34m=\u001b[0m \u001b[0mself\u001b[0m\u001b[0;34m.\u001b[0m\u001b[0mcolumns\u001b[0m\u001b[0;34m.\u001b[0m\u001b[0mget_loc\u001b[0m\u001b[0;34m(\u001b[0m\u001b[0mkey\u001b[0m\u001b[0;34m)\u001b[0m\u001b[0;34m\u001b[0m\u001b[0;34m\u001b[0m\u001b[0m\n\u001b[0m\u001b[1;32m   3025\u001b[0m             \u001b[0;32mif\u001b[0m \u001b[0mis_integer\u001b[0m\u001b[0;34m(\u001b[0m\u001b[0mindexer\u001b[0m\u001b[0;34m)\u001b[0m\u001b[0;34m:\u001b[0m\u001b[0;34m\u001b[0m\u001b[0;34m\u001b[0m\u001b[0m\n\u001b[1;32m   3026\u001b[0m                 \u001b[0mindexer\u001b[0m \u001b[0;34m=\u001b[0m \u001b[0;34m[\u001b[0m\u001b[0mindexer\u001b[0m\u001b[0;34m]\u001b[0m\u001b[0;34m\u001b[0m\u001b[0;34m\u001b[0m\u001b[0m\n",
      "\u001b[0;32m//anaconda3/envs/safegraph/lib/python3.7/site-packages/pandas/core/indexes/base.py\u001b[0m in \u001b[0;36mget_loc\u001b[0;34m(self, key, method, tolerance)\u001b[0m\n\u001b[1;32m   3080\u001b[0m                 \u001b[0;32mreturn\u001b[0m \u001b[0mself\u001b[0m\u001b[0;34m.\u001b[0m\u001b[0m_engine\u001b[0m\u001b[0;34m.\u001b[0m\u001b[0mget_loc\u001b[0m\u001b[0;34m(\u001b[0m\u001b[0mcasted_key\u001b[0m\u001b[0;34m)\u001b[0m\u001b[0;34m\u001b[0m\u001b[0;34m\u001b[0m\u001b[0m\n\u001b[1;32m   3081\u001b[0m             \u001b[0;32mexcept\u001b[0m \u001b[0mKeyError\u001b[0m \u001b[0;32mas\u001b[0m \u001b[0merr\u001b[0m\u001b[0;34m:\u001b[0m\u001b[0;34m\u001b[0m\u001b[0;34m\u001b[0m\u001b[0m\n\u001b[0;32m-> 3082\u001b[0;31m                 \u001b[0;32mraise\u001b[0m \u001b[0mKeyError\u001b[0m\u001b[0;34m(\u001b[0m\u001b[0mkey\u001b[0m\u001b[0;34m)\u001b[0m \u001b[0;32mfrom\u001b[0m \u001b[0merr\u001b[0m\u001b[0;34m\u001b[0m\u001b[0;34m\u001b[0m\u001b[0m\n\u001b[0m\u001b[1;32m   3083\u001b[0m \u001b[0;34m\u001b[0m\u001b[0m\n\u001b[1;32m   3084\u001b[0m         \u001b[0;32mif\u001b[0m \u001b[0mtolerance\u001b[0m \u001b[0;32mis\u001b[0m \u001b[0;32mnot\u001b[0m \u001b[0;32mNone\u001b[0m\u001b[0;34m:\u001b[0m\u001b[0;34m\u001b[0m\u001b[0;34m\u001b[0m\u001b[0m\n",
      "\u001b[0;31mKeyError\u001b[0m: 'date'"
     ]
    }
   ],
   "source": [
    "traffic_by_day['year'] = traffic_by_day['date'].dt.year\n",
    "traffic_by_day['month'] = traffic_by_day['date'].dt.month\n",
    "traffic_by_day['day'] = traffic_by_day['date'].dt.day"
   ]
  },
  {
   "cell_type": "code",
   "execution_count": 60,
   "id": "crude-yugoslavia",
   "metadata": {},
   "outputs": [],
   "source": [
    "traffic_by_day = traffic_by_day.drop(columns = ['date'])"
   ]
  },
  {
   "cell_type": "code",
   "execution_count": 66,
   "id": "social-argument",
   "metadata": {},
   "outputs": [],
   "source": [
    "traffic_by_day = traffic_by_day.merge(norm_stats, on = ['year','month','day'])"
   ]
  },
  {
   "cell_type": "code",
   "execution_count": 67,
   "id": "greenhouse-palace",
   "metadata": {},
   "outputs": [],
   "source": [
    "traffic_by_month = traffic_by_day.groupby(['year','month','Category']).agg('mean').reset_index()"
   ]
  },
  {
   "cell_type": "code",
   "execution_count": 70,
   "id": "deadly-exchange",
   "metadata": {},
   "outputs": [
    {
     "data": {
      "text/html": [
       "<div>\n",
       "<style scoped>\n",
       "    .dataframe tbody tr th:only-of-type {\n",
       "        vertical-align: middle;\n",
       "    }\n",
       "\n",
       "    .dataframe tbody tr th {\n",
       "        vertical-align: top;\n",
       "    }\n",
       "\n",
       "    .dataframe thead th {\n",
       "        text-align: right;\n",
       "    }\n",
       "</style>\n",
       "<table border=\"1\" class=\"dataframe\">\n",
       "  <thead>\n",
       "    <tr style=\"text-align: right;\">\n",
       "      <th></th>\n",
       "      <th>year</th>\n",
       "      <th>month</th>\n",
       "      <th>Category</th>\n",
       "      <th>visits</th>\n",
       "      <th>total_visits_x</th>\n",
       "      <th>percent_visits</th>\n",
       "      <th>day</th>\n",
       "      <th>total_visits_y</th>\n",
       "      <th>total_devices_seen</th>\n",
       "      <th>total_home_visits</th>\n",
       "      <th>total_home_visitors</th>\n",
       "    </tr>\n",
       "  </thead>\n",
       "  <tbody>\n",
       "    <tr>\n",
       "      <th>0</th>\n",
       "      <td>2019</td>\n",
       "      <td>1</td>\n",
       "      <td>Air Transportation</td>\n",
       "      <td>7592.806452</td>\n",
       "      <td>180864.677419</td>\n",
       "      <td>4.280015</td>\n",
       "      <td>16.0</td>\n",
       "      <td>5.540737e+07</td>\n",
       "      <td>1.842444e+07</td>\n",
       "      <td>2.274175e+07</td>\n",
       "      <td>1.400512e+07</td>\n",
       "    </tr>\n",
       "    <tr>\n",
       "      <th>1</th>\n",
       "      <td>2019</td>\n",
       "      <td>1</td>\n",
       "      <td>Amusement and Recreation</td>\n",
       "      <td>11220.161290</td>\n",
       "      <td>180864.677419</td>\n",
       "      <td>6.215223</td>\n",
       "      <td>16.0</td>\n",
       "      <td>5.540737e+07</td>\n",
       "      <td>1.842444e+07</td>\n",
       "      <td>2.274175e+07</td>\n",
       "      <td>1.400512e+07</td>\n",
       "    </tr>\n",
       "    <tr>\n",
       "      <th>2</th>\n",
       "      <td>2019</td>\n",
       "      <td>1</td>\n",
       "      <td>Gas Stations</td>\n",
       "      <td>4674.774194</td>\n",
       "      <td>180864.677419</td>\n",
       "      <td>2.585178</td>\n",
       "      <td>16.0</td>\n",
       "      <td>5.540737e+07</td>\n",
       "      <td>1.842444e+07</td>\n",
       "      <td>2.274175e+07</td>\n",
       "      <td>1.400512e+07</td>\n",
       "    </tr>\n",
       "    <tr>\n",
       "      <th>3</th>\n",
       "      <td>2019</td>\n",
       "      <td>1</td>\n",
       "      <td>Grocery Stores</td>\n",
       "      <td>9971.193548</td>\n",
       "      <td>180864.677419</td>\n",
       "      <td>5.547718</td>\n",
       "      <td>16.0</td>\n",
       "      <td>5.540737e+07</td>\n",
       "      <td>1.842444e+07</td>\n",
       "      <td>2.274175e+07</td>\n",
       "      <td>1.400512e+07</td>\n",
       "    </tr>\n",
       "    <tr>\n",
       "      <th>4</th>\n",
       "      <td>2019</td>\n",
       "      <td>1</td>\n",
       "      <td>Junior Colleges</td>\n",
       "      <td>5215.387097</td>\n",
       "      <td>180864.677419</td>\n",
       "      <td>2.789561</td>\n",
       "      <td>16.0</td>\n",
       "      <td>5.540737e+07</td>\n",
       "      <td>1.842444e+07</td>\n",
       "      <td>2.274175e+07</td>\n",
       "      <td>1.400512e+07</td>\n",
       "    </tr>\n",
       "    <tr>\n",
       "      <th>...</th>\n",
       "      <td>...</td>\n",
       "      <td>...</td>\n",
       "      <td>...</td>\n",
       "      <td>...</td>\n",
       "      <td>...</td>\n",
       "      <td>...</td>\n",
       "      <td>...</td>\n",
       "      <td>...</td>\n",
       "      <td>...</td>\n",
       "      <td>...</td>\n",
       "      <td>...</td>\n",
       "    </tr>\n",
       "    <tr>\n",
       "      <th>259</th>\n",
       "      <td>2020</td>\n",
       "      <td>10</td>\n",
       "      <td>Other</td>\n",
       "      <td>33300.225806</td>\n",
       "      <td>87953.935484</td>\n",
       "      <td>37.835758</td>\n",
       "      <td>16.0</td>\n",
       "      <td>5.281370e+07</td>\n",
       "      <td>1.702610e+07</td>\n",
       "      <td>2.378817e+07</td>\n",
       "      <td>1.399651e+07</td>\n",
       "    </tr>\n",
       "    <tr>\n",
       "      <th>260</th>\n",
       "      <td>2020</td>\n",
       "      <td>10</td>\n",
       "      <td>Real Estate</td>\n",
       "      <td>6889.967742</td>\n",
       "      <td>87953.935484</td>\n",
       "      <td>7.852296</td>\n",
       "      <td>16.0</td>\n",
       "      <td>5.281370e+07</td>\n",
       "      <td>1.702610e+07</td>\n",
       "      <td>2.378817e+07</td>\n",
       "      <td>1.399651e+07</td>\n",
       "    </tr>\n",
       "    <tr>\n",
       "      <th>261</th>\n",
       "      <td>2020</td>\n",
       "      <td>10</td>\n",
       "      <td>Restaurants</td>\n",
       "      <td>19959.129032</td>\n",
       "      <td>87953.935484</td>\n",
       "      <td>22.687640</td>\n",
       "      <td>16.0</td>\n",
       "      <td>5.281370e+07</td>\n",
       "      <td>1.702610e+07</td>\n",
       "      <td>2.378817e+07</td>\n",
       "      <td>1.399651e+07</td>\n",
       "    </tr>\n",
       "    <tr>\n",
       "      <th>262</th>\n",
       "      <td>2020</td>\n",
       "      <td>10</td>\n",
       "      <td>Schools</td>\n",
       "      <td>2704.580645</td>\n",
       "      <td>87953.935484</td>\n",
       "      <td>3.071954</td>\n",
       "      <td>16.0</td>\n",
       "      <td>5.281370e+07</td>\n",
       "      <td>1.702610e+07</td>\n",
       "      <td>2.378817e+07</td>\n",
       "      <td>1.399651e+07</td>\n",
       "    </tr>\n",
       "    <tr>\n",
       "      <th>263</th>\n",
       "      <td>2020</td>\n",
       "      <td>10</td>\n",
       "      <td>Spectator Sports</td>\n",
       "      <td>440.903226</td>\n",
       "      <td>87953.935484</td>\n",
       "      <td>0.500117</td>\n",
       "      <td>16.0</td>\n",
       "      <td>5.281370e+07</td>\n",
       "      <td>1.702610e+07</td>\n",
       "      <td>2.378817e+07</td>\n",
       "      <td>1.399651e+07</td>\n",
       "    </tr>\n",
       "  </tbody>\n",
       "</table>\n",
       "<p>264 rows × 11 columns</p>\n",
       "</div>"
      ],
      "text/plain": [
       "     year  month                  Category        visits  total_visits_x  \\\n",
       "0    2019      1        Air Transportation   7592.806452   180864.677419   \n",
       "1    2019      1  Amusement and Recreation  11220.161290   180864.677419   \n",
       "2    2019      1              Gas Stations   4674.774194   180864.677419   \n",
       "3    2019      1            Grocery Stores   9971.193548   180864.677419   \n",
       "4    2019      1           Junior Colleges   5215.387097   180864.677419   \n",
       "..    ...    ...                       ...           ...             ...   \n",
       "259  2020     10                     Other  33300.225806    87953.935484   \n",
       "260  2020     10               Real Estate   6889.967742    87953.935484   \n",
       "261  2020     10               Restaurants  19959.129032    87953.935484   \n",
       "262  2020     10                   Schools   2704.580645    87953.935484   \n",
       "263  2020     10          Spectator Sports    440.903226    87953.935484   \n",
       "\n",
       "     percent_visits   day  total_visits_y  total_devices_seen  \\\n",
       "0          4.280015  16.0    5.540737e+07        1.842444e+07   \n",
       "1          6.215223  16.0    5.540737e+07        1.842444e+07   \n",
       "2          2.585178  16.0    5.540737e+07        1.842444e+07   \n",
       "3          5.547718  16.0    5.540737e+07        1.842444e+07   \n",
       "4          2.789561  16.0    5.540737e+07        1.842444e+07   \n",
       "..              ...   ...             ...                 ...   \n",
       "259       37.835758  16.0    5.281370e+07        1.702610e+07   \n",
       "260        7.852296  16.0    5.281370e+07        1.702610e+07   \n",
       "261       22.687640  16.0    5.281370e+07        1.702610e+07   \n",
       "262        3.071954  16.0    5.281370e+07        1.702610e+07   \n",
       "263        0.500117  16.0    5.281370e+07        1.702610e+07   \n",
       "\n",
       "     total_home_visits  total_home_visitors  \n",
       "0         2.274175e+07         1.400512e+07  \n",
       "1         2.274175e+07         1.400512e+07  \n",
       "2         2.274175e+07         1.400512e+07  \n",
       "3         2.274175e+07         1.400512e+07  \n",
       "4         2.274175e+07         1.400512e+07  \n",
       "..                 ...                  ...  \n",
       "259       2.378817e+07         1.399651e+07  \n",
       "260       2.378817e+07         1.399651e+07  \n",
       "261       2.378817e+07         1.399651e+07  \n",
       "262       2.378817e+07         1.399651e+07  \n",
       "263       2.378817e+07         1.399651e+07  \n",
       "\n",
       "[264 rows x 11 columns]"
      ]
     },
     "execution_count": 70,
     "metadata": {},
     "output_type": "execute_result"
    }
   ],
   "source": [
    "traffic_by_month"
   ]
  },
  {
   "cell_type": "code",
   "execution_count": 72,
   "id": "local-reservoir",
   "metadata": {},
   "outputs": [],
   "source": [
    "traffic_by_month['visits_normalized'] = traffic_by_month['visits']/traffic_by_month['total_devices_seen']"
   ]
  },
  {
   "cell_type": "code",
   "execution_count": 74,
   "id": "spare-perspective",
   "metadata": {},
   "outputs": [],
   "source": [
    "# Due to long-term changes in the panel (e.g. more devices being tracked over time), \n",
    "# we might want to look at visits relative to January of the same year.\n",
    "traffic_by_month = traffic_by_month.merge(traffic_by_month[traffic_by_month['month'] == 1],  on = ['year','Category'], suffixes = (\"\",\"_jan\"))\n",
    "traffic_by_month['visits_relative'] = traffic_by_month['visits']/traffic_by_month['visits']\n",
    "traffic_by_month['visits_normalized_relative'] = traffic_by_month['visits_normalized']/traffic_by_month['visits_normalized_jan']\n",
    "traffic_by_month = traffic_by_month.drop(\n",
    "    columns = [col for col in traffic_by_month.columns if col.endswith('_jan')]\n",
    ")"
   ]
  },
  {
   "cell_type": "code",
   "execution_count": 75,
   "id": "hollow-cincinnati",
   "metadata": {},
   "outputs": [],
   "source": [
    "# ultimately we want to compare 2020 to 2019 to get at the impact of COVID-19\n",
    "traffic_by_month = traffic_by_month[traffic_by_month['year'] == 2020].merge(\n",
    "    traffic_by_month[traffic_by_month['year'] == 2019], \n",
    "    on = ['month','Category'], \n",
    "    suffixes = (\"_2020\",\"_2019\"))\n",
    "traffic_by_month = traffic_by_month.drop(columns = ['year_2020','year_2019'])"
   ]
  },
  {
   "cell_type": "code",
   "execution_count": 76,
   "id": "finite-anthony",
   "metadata": {},
   "outputs": [],
   "source": [
    "# Because the normalized or relative visit counts are hard to interpret,\n",
    "# we will plot percent differences instead of absolute differences.\n",
    "metrics = ['visits', 'visits_normalized', 'visits_relative', 'visits_normalized_relative']\n",
    "for metric in metrics:\n",
    "    plot_col = metric + '_dif'\n",
    "    traffic_by_month[plot_col] = traffic_by_month[metric+'_2020'] - traffic_by_month[metric + '_2019']\n",
    "    plot_col = plot_col + '_pct'\n",
    "    traffic_by_month[plot_col] = (100*traffic_by_month[metric+'_dif'])/traffic_by_month[metric + '_2019']"
   ]
  },
  {
   "cell_type": "code",
   "execution_count": 77,
   "id": "virtual-george",
   "metadata": {},
   "outputs": [],
   "source": [
    "import cartopy.crs as ccrs\n",
    "from mpl_toolkits.axes_grid1 import make_axes_locatable\n",
    "%matplotlib inline\n",
    "import hvplot.pandas\n",
    "import geopandas as gpd\n",
    "import urllib.request\n",
    "import json"
   ]
  },
  {
   "cell_type": "code",
   "execution_count": 84,
   "id": "african-stanley",
   "metadata": {},
   "outputs": [],
   "source": [
    "import panel as pn\n",
    "import param as pm\n",
    "from matplotlib import pyplot as plt"
   ]
  },
  {
   "cell_type": "code",
   "execution_count": 93,
   "id": "according-jackson",
   "metadata": {},
   "outputs": [],
   "source": [
    "# HK: I would like to have checkboxes for 'normalized by devices seen' and 'relative to January'\n",
    "#     but don't know how to give the checkbox a name (I was looking at pm.Boolean()).\n",
    "class Change_visits(pm.Parameterized):\n",
    "    df = traffic_by_month\n",
    "    variable = pm.Selector(\n",
    "        objects = ['visits', 'visits_normalized', 'visits_relative', 'visits_normalized_relative'], \n",
    "        default = 'visits_normalized_relative', allow_None = False)\n",
    "    month = pm.Integer(\n",
    "        2, bounds = (min(df['month']), max(df['month']))\n",
    "    )\n",
    "    \n",
    "    @pm.depends('variable')\n",
    "    def make_subtitle(self):\n",
    "        return 'Percent change in ' + self.variable + ' with respect to 2019'\n",
    "    \n",
    "    @pm.depends('df', 'month')\n",
    "    def filter_month(self):\n",
    "        mask = self.df['month'] == self.month\n",
    "        return self.df.loc[mask]\n",
    "        \n",
    "    @pm.depends('df', 'variable', 'month')\n",
    "    def make_plot(self):\n",
    "        filtered = self.filter_month()\n",
    "        #return filtered[['svcg_cycle_date', 'pct_missing']].hvplot(kind='line')\n",
    "        # Create the figure\n",
    "        fig, ax = plt.subplots(facecolor=\"lightgray\", figsize=(8, 8))\n",
    "\n",
    "        # Plot\n",
    "        col = self.variable + '_dif'+'_pct'\n",
    "        \n",
    "        x = filtered['Category']\n",
    "        y = filtered[col]\n",
    "\n",
    "        x_pos = [i for i, _ in enumerate(x)]\n",
    "\n",
    "        ax.bar(x_pos, y, color='blue')\n",
    "        ax.set_xlabel(\"Location category\")\n",
    "        ax.set_ylabel(\"Percent change in \" + col)\n",
    "        ax.set_title(\"Traffic impact by category\")\n",
    "\n",
    "        ax.set_xticks(x_pos)\n",
    "        ax.set_xticklabels(x)\n",
    "        \n",
    "        return fig"
   ]
  },
  {
   "cell_type": "code",
   "execution_count": 94,
   "id": "ruled-movement",
   "metadata": {},
   "outputs": [
    {
     "data": {
      "image/png": "[encoded data removed]",
      "text/plain": [
       "<Figure size 576x576 with 1 Axes>"
      ]
     },
     "metadata": {},
     "output_type": "display_data"
    }
   ],
   "source": [
    "app = Change_visits(name = \"\")\n",
    "title = '### Impact on foot traffic'\n",
    "traffic_panel = pn.Column(\n",
    "    pn.Row(\n",
    "        pn.Column(title, app.make_subtitle, pn.Param(app.param))\n",
    "    ), app.make_plot )"
   ]
  },
  {
   "cell_type": "code",
   "execution_count": 95,
   "id": "compliant-shipping",
   "metadata": {},
   "outputs": [
    {
     "data": {},
     "metadata": {},
     "output_type": "display_data"
    },
    {
     "data": {
      "application/vnd.holoviews_exec.v0+json": "",
      "text/html": [
       "<div id='1400'>\n",
       "\n",
       "\n",
       "\n",
       "\n",
       "\n",
       "  <div class=\"bk-root\" id=\"b824429b-1639-42f5-b8d4-ad2a09beb949\" data-root-id=\"1400\"></div>\n",
       "</div>\n",
       "<script type=\"application/javascript\">(function(root) {\n",
       "  function embed_document(root) {\n",
       "    var docs_json = {\"703a4ba1-7969-4cf0-8be6-d5b9a471bc05\":{\"roots\":{\"references\":[{\"attributes\":{\"children\":[{\"id\":\"1411\"}],\"margin\":[0,0,0,0],\"name\":\"Row02606\"},\"id\":\"1410\",\"type\":\"Row\"},{\"attributes\":{\"children\":[{\"id\":\"1401\"},{\"id\":\"1410\"}],\"margin\":[0,0,0,0],\"name\":\"Column02609\"},\"id\":\"1400\",\"type\":\"Column\"},{\"attributes\":{\"css_classes\":[\"markdown\"],\"margin\":[5,5,5,5],\"name\":\"Markdown02591\",\"text\":\"&lt;h3&gt;Impact on foot traffic&lt;/h3&gt;\"},\"id\":\"1403\",\"type\":\"panel.models.markup.HTML\"},{\"attributes\":{\"children\":[{\"id\":\"1407\"},{\"id\":\"1408\"},{\"id\":\"1409\"}],\"margin\":[5,5,5,5],\"min_width\":300,\"name\":\"\",\"width\":300},\"id\":\"1406\",\"type\":\"Column\"},{\"attributes\":{\"height\":576,\"margin\":[5,5,5,5],\"name\":\"ParamMethod02602\",\"text\":\"&lt;img src=&quot;data:image/png;base64,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&quot; width=&quot;576px&quot; height=&quot;576px&quot; alt=&quot;&quot;&gt;&lt;/img&gt;\",\"width\":576},\"id\":\"1411\",\"type\":\"panel.models.markup.HTML\"},{\"attributes\":{\"children\":[{\"id\":\"1405\"}],\"margin\":[0,0,0,0],\"name\":\"Row02597\"},\"id\":\"1404\",\"type\":\"Row\"},{\"attributes\":{\"client_comm_id\":\"1dc7baae094d4c3ea76b4a0e3ff93bd5\",\"comm_id\":\"16836d78672c46d9913a1d31aff2697d\",\"plot_id\":\"1400\"},\"id\":\"1412\",\"type\":\"panel.models.comm_manager.CommManager\"},{\"attributes\":{\"children\":[{\"id\":\"1403\"},{\"id\":\"1404\"},{\"id\":\"1406\"}],\"margin\":[0,0,0,0],\"name\":\"Column02600\"},\"id\":\"1402\",\"type\":\"Column\"},{\"attributes\":{\"margin\":[5,10,5,10],\"name\":\"\",\"text\":\"<b></b>\"},\"id\":\"1407\",\"type\":\"Div\"},{\"attributes\":{\"margin\":[5,10,5,10],\"options\":[[\"visits\",\"visits\"],[\"visits_normalized\",\"visits_normalized\"],[\"visits_relative\",\"visits_relative\"],[\"visits_normalized_relative\",\"visits_normalized_relative\"]],\"title\":\"Variable\",\"value\":\"visits_normalized_relative\"},\"id\":\"1408\",\"type\":\"Select\"},{\"attributes\":{\"end\":10,\"format\":\"0[.]00\",\"margin\":[5,10,5,10],\"start\":1,\"title\":\"Month\",\"value\":2,\"value_throttled\":2},\"id\":\"1409\",\"type\":\"Slider\"},{\"attributes\":{\"css_classes\":[\"markdown\"],\"margin\":[5,5,5,5],\"name\":\"ParamMethod02593\",\"text\":\"&lt;p&gt;Percent change in visits_normalized_relative with respect to 2019&lt;/p&gt;\"},\"id\":\"1405\",\"type\":\"panel.models.markup.HTML\"},{\"attributes\":{\"children\":[{\"id\":\"1402\"}],\"margin\":[0,0,0,0],\"name\":\"Row02601\"},\"id\":\"1401\",\"type\":\"Row\"}],\"root_ids\":[\"1400\",\"1412\"]},\"title\":\"Bokeh Application\",\"version\":\"2.2.3\"}};\n",
       "    var render_items = [{\"docid\":\"703a4ba1-7969-4cf0-8be6-d5b9a471bc05\",\"root_ids\":[\"1400\"],\"roots\":{\"1400\":\"b824429b-1639-42f5-b8d4-ad2a09beb949\"}}];\n",
       "    root.Bokeh.embed.embed_items_notebook(docs_json, render_items);\n",
       "  }\n",
       "  if (root.Bokeh !== undefined && root.Bokeh.Panel !== undefined) {\n",
       "    embed_document(root);\n",
       "  } else {\n",
       "    var attempts = 0;\n",
       "    var timer = setInterval(function(root) {\n",
       "      if (root.Bokeh !== undefined && root.Bokeh.Panel !== undefined) {\n",
       "        clearInterval(timer);\n",
       "        embed_document(root);\n",
       "      } else if (document.readyState == \"complete\") {\n",
       "        attempts++;\n",
       "        if (attempts > 100) {\n",
       "          clearInterval(timer);\n",
       "          console.log(\"Bokeh: ERROR: Unable to run BokehJS code because BokehJS library is missing\");\n",
       "        }\n",
       "      }\n",
       "    }, 10, root)\n",
       "  }\n",
       "})(window);</script>"
      ],
      "text/plain": [
       "Column\n",
       "    [0] Row\n",
       "        [0] Column\n",
       "            [0] Markdown(str)\n",
       "            [1] ParamMethod(method)\n",
       "            [2] Param(Change_visits)\n",
       "    [1] ParamMethod(method)"
      ]
     },
     "execution_count": 95,
     "metadata": {
      "application/vnd.holoviews_exec.v0+json": {
       "id": "1400"
      }
     },
     "output_type": "execute_result"
    }
   ],
   "source": [
    "traffic_panel"
   ]
  },
  {
   "cell_type": "code",
   "execution_count": null,
   "id": "standing-robertson",
   "metadata": {},
   "outputs": [],
   "source": []
  }
 ],
 "metadata": {
  "kernelspec": {
   "display_name": "Python 3",
   "language": "python",
   "name": "python3"
  },
  "language_info": {
   "codemirror_mode": {
    "name": "ipython",
    "version": 3
   },
   "file_extension": ".py",
   "mimetype": "text/x-python",
   "name": "python",
   "nbconvert_exporter": "python",
   "pygments_lexer": "ipython3",
   "version": "3.7.9"
  }
 },
 "nbformat": 4,
 "nbformat_minor": 5
}
