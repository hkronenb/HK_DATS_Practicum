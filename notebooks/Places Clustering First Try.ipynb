{
 "cells": [
  {
   "cell_type": "code",
   "execution_count": 1,
   "metadata": {},
   "outputs": [],
   "source": [
    "import pandas as pd\n",
    "from safegraph_py_functions import safegraph_py_functions as sgpy\n",
    "import os\n",
    "from dotenv import load_dotenv, find_dotenv\n",
    "from loguru import logger"
   ]
  },
  {
   "cell_type": "code",
   "execution_count": 2,
   "metadata": {},
   "outputs": [],
   "source": [
    "# find .env automagically by walking up directories until it's found\n",
    "dotenv_path = find_dotenv()\n",
    "\n",
    "# load up the entries as environment variables\n",
    "load_dotenv(dotenv_path)\n",
    "os.chdir(os.environ.get(\"ROOT_DIR\"))\n",
    "from src import DATA_DIR\n",
    "raw_data_dir = DATA_DIR / 'raw'"
   ]
  },
  {
   "cell_type": "code",
   "execution_count": 3,
   "metadata": {},
   "outputs": [],
   "source": [
    "# if import is 0 it reads the data from the existing file\n",
    "# otherwise reads in the raw data an makes a unified dataset\n",
    "IMPORT = 0 "
   ]
  },
  {
   "cell_type": "code",
   "execution_count": 4,
   "metadata": {},
   "outputs": [],
   "source": [
    "# Read in all patterns files in the monthly-patterns folder\n",
    "def get_files():\n",
    "    patterns_path = raw_data_dir / \"monthly-patterns\"\n",
    "    files = []\n",
    "    for f in patterns_path.glob(\"**/*.csv.gz\"):\n",
    "        files.append(f)\n",
    "    return files"
   ]
  },
  {
   "cell_type": "code",
   "execution_count": 5,
   "metadata": {},
   "outputs": [],
   "source": [
    "def filter_to_philly(df):\n",
    "    # zip codes are read as integers rather than strings so we add leading zeros.\n",
    "    # this is not strictly necessary since Philadelphia zipcodes don't have leading zeros.\n",
    "    \n",
    "    # Philadelphia selection\n",
    "    # HK: adding leading zeros because some zipcodes in MA are 0191X.\n",
    "    df['postal_code'] = df['postal_code'].apply(lambda x: ('00000'+str(x))[-5:])\n",
    "    in_philly = df['postal_code'].astype(str).str.startswith(\"191\")\n",
    "    df = df.loc[in_philly]\n",
    "    df = df[['safegraph_place_id','date_range_start','postal_code', \n",
    "             'raw_visit_counts', 'raw_visitor_counts']]\n",
    "    \n",
    "    return df"
   ]
  },
  {
   "cell_type": "code",
   "execution_count": 6,
   "metadata": {},
   "outputs": [],
   "source": [
    "if IMPORT == 1:\n",
    "    philly_patterns = []\n",
    "    files = get_files()\n",
    "    for i, f in enumerate(files):\n",
    "        print(f)\n",
    "        philly_patterns.append(filter_to_philly(pd.read_csv(f)))\n",
    "    philly_patterns = pd.concat(philly_patterns)\n",
    "    philly_patterns.to_csv(\n",
    "    DATA_DIR / \"processed\" / \"kmeans_patterns.csv.tar.gz\", index=False\n",
    "    )\n",
    "else:\n",
    "    philly_patterns = pd.read_csv(DATA_DIR / \"processed\" / \"kmeans_patterns.csv.tar.gz\")"
   ]
  },
  {
   "cell_type": "code",
   "execution_count": 7,
   "metadata": {},
   "outputs": [
    {
     "data": {
      "text/html": [
       "<div>\n",
       "<style scoped>\n",
       "    .dataframe tbody tr th:only-of-type {\n",
       "        vertical-align: middle;\n",
       "    }\n",
       "\n",
       "    .dataframe tbody tr th {\n",
       "        vertical-align: top;\n",
       "    }\n",
       "\n",
       "    .dataframe thead th {\n",
       "        text-align: right;\n",
       "    }\n",
       "</style>\n",
       "<table border=\"1\" class=\"dataframe\">\n",
       "  <thead>\n",
       "    <tr style=\"text-align: right;\">\n",
       "      <th></th>\n",
       "      <th>safegraph_place_id</th>\n",
       "      <th>date_range_start</th>\n",
       "      <th>postal_code</th>\n",
       "      <th>raw_visit_counts</th>\n",
       "      <th>raw_visitor_counts</th>\n",
       "    </tr>\n",
       "  </thead>\n",
       "  <tbody>\n",
       "    <tr>\n",
       "      <th>0</th>\n",
       "      <td>sg:26825b56c5ce4c7d91afdc71a7c34440</td>\n",
       "      <td>2020-10-01T00:00:00-04:00</td>\n",
       "      <td>19107</td>\n",
       "      <td>7</td>\n",
       "      <td>7</td>\n",
       "    </tr>\n",
       "    <tr>\n",
       "      <th>1</th>\n",
       "      <td>sg:32b17bf96a93444588131370e52d310d</td>\n",
       "      <td>2020-10-01T00:00:00-04:00</td>\n",
       "      <td>19140</td>\n",
       "      <td>168</td>\n",
       "      <td>96</td>\n",
       "    </tr>\n",
       "    <tr>\n",
       "      <th>2</th>\n",
       "      <td>sg:3f4865e8bbb249838350eee9a101c8eb</td>\n",
       "      <td>2020-10-01T00:00:00-04:00</td>\n",
       "      <td>19140</td>\n",
       "      <td>75</td>\n",
       "      <td>47</td>\n",
       "    </tr>\n",
       "    <tr>\n",
       "      <th>3</th>\n",
       "      <td>sg:76dbefabe6eb465fac98e62c2fb15be9</td>\n",
       "      <td>2020-10-01T00:00:00-04:00</td>\n",
       "      <td>19140</td>\n",
       "      <td>322</td>\n",
       "      <td>234</td>\n",
       "    </tr>\n",
       "    <tr>\n",
       "      <th>4</th>\n",
       "      <td>sg:9b2b12ebfa7745b6814873b7c1cef76b</td>\n",
       "      <td>2020-10-01T00:00:00-04:00</td>\n",
       "      <td>19118</td>\n",
       "      <td>93</td>\n",
       "      <td>46</td>\n",
       "    </tr>\n",
       "  </tbody>\n",
       "</table>\n",
       "</div>"
      ],
      "text/plain": [
       "                    safegraph_place_id           date_range_start  \\\n",
       "0  sg:26825b56c5ce4c7d91afdc71a7c34440  2020-10-01T00:00:00-04:00   \n",
       "1  sg:32b17bf96a93444588131370e52d310d  2020-10-01T00:00:00-04:00   \n",
       "2  sg:3f4865e8bbb249838350eee9a101c8eb  2020-10-01T00:00:00-04:00   \n",
       "3  sg:76dbefabe6eb465fac98e62c2fb15be9  2020-10-01T00:00:00-04:00   \n",
       "4  sg:9b2b12ebfa7745b6814873b7c1cef76b  2020-10-01T00:00:00-04:00   \n",
       "\n",
       "   postal_code  raw_visit_counts  raw_visitor_counts  \n",
       "0        19107                 7                   7  \n",
       "1        19140               168                  96  \n",
       "2        19140                75                  47  \n",
       "3        19140               322                 234  \n",
       "4        19118                93                  46  "
      ]
     },
     "execution_count": 7,
     "metadata": {},
     "output_type": "execute_result"
    }
   ],
   "source": [
    "philly_patterns.head()"
   ]
  },
  {
   "cell_type": "code",
   "execution_count": 8,
   "metadata": {},
   "outputs": [
    {
     "data": {
      "text/html": [
       "<div>\n",
       "<style scoped>\n",
       "    .dataframe tbody tr th:only-of-type {\n",
       "        vertical-align: middle;\n",
       "    }\n",
       "\n",
       "    .dataframe tbody tr th {\n",
       "        vertical-align: top;\n",
       "    }\n",
       "\n",
       "    .dataframe thead th {\n",
       "        text-align: right;\n",
       "    }\n",
       "</style>\n",
       "<table border=\"1\" class=\"dataframe\">\n",
       "  <thead>\n",
       "    <tr style=\"text-align: right;\">\n",
       "      <th></th>\n",
       "      <th>postal_code</th>\n",
       "      <th>raw_visit_counts</th>\n",
       "      <th>raw_visitor_counts</th>\n",
       "    </tr>\n",
       "  </thead>\n",
       "  <tbody>\n",
       "    <tr>\n",
       "      <th>count</th>\n",
       "      <td>366391.000000</td>\n",
       "      <td>366391.000000</td>\n",
       "      <td>366391.000000</td>\n",
       "    </tr>\n",
       "    <tr>\n",
       "      <th>mean</th>\n",
       "      <td>19128.629521</td>\n",
       "      <td>278.358898</td>\n",
       "      <td>141.250293</td>\n",
       "    </tr>\n",
       "    <tr>\n",
       "      <th>std</th>\n",
       "      <td>15.849648</td>\n",
       "      <td>2008.466906</td>\n",
       "      <td>895.089228</td>\n",
       "    </tr>\n",
       "    <tr>\n",
       "      <th>min</th>\n",
       "      <td>19102.000000</td>\n",
       "      <td>1.000000</td>\n",
       "      <td>1.000000</td>\n",
       "    </tr>\n",
       "    <tr>\n",
       "      <th>25%</th>\n",
       "      <td>19115.000000</td>\n",
       "      <td>28.000000</td>\n",
       "      <td>17.000000</td>\n",
       "    </tr>\n",
       "    <tr>\n",
       "      <th>50%</th>\n",
       "      <td>19130.000000</td>\n",
       "      <td>109.000000</td>\n",
       "      <td>58.000000</td>\n",
       "    </tr>\n",
       "    <tr>\n",
       "      <th>75%</th>\n",
       "      <td>19143.000000</td>\n",
       "      <td>267.000000</td>\n",
       "      <td>133.000000</td>\n",
       "    </tr>\n",
       "    <tr>\n",
       "      <th>max</th>\n",
       "      <td>19195.000000</td>\n",
       "      <td>235429.000000</td>\n",
       "      <td>99729.000000</td>\n",
       "    </tr>\n",
       "  </tbody>\n",
       "</table>\n",
       "</div>"
      ],
      "text/plain": [
       "         postal_code  raw_visit_counts  raw_visitor_counts\n",
       "count  366391.000000     366391.000000       366391.000000\n",
       "mean    19128.629521        278.358898          141.250293\n",
       "std        15.849648       2008.466906          895.089228\n",
       "min     19102.000000          1.000000            1.000000\n",
       "25%     19115.000000         28.000000           17.000000\n",
       "50%     19130.000000        109.000000           58.000000\n",
       "75%     19143.000000        267.000000          133.000000\n",
       "max     19195.000000     235429.000000        99729.000000"
      ]
     },
     "execution_count": 8,
     "metadata": {},
     "output_type": "execute_result"
    }
   ],
   "source": [
    "philly_patterns.describe()"
   ]
  },
  {
   "cell_type": "code",
   "execution_count": 9,
   "metadata": {},
   "outputs": [],
   "source": [
    "philly_patterns['date_range_start'] = philly_patterns['date_range_start'].apply(lambda x : x[:10])\n",
    "mask = philly_patterns['date_range_start'] < '2020-03-01' \n",
    "prepandemic = philly_patterns.loc[mask,].copy()\n",
    "pandemic = philly_patterns.loc[~mask,].copy()"
   ]
  },
  {
   "cell_type": "code",
   "execution_count": 10,
   "metadata": {},
   "outputs": [
    {
     "data": {
      "text/plain": [
       "array(['2019-03-01', '2019-04-01', '2019-05-01', '2019-02-01',\n",
       "       '2019-11-01', '2019-10-01', '2019-07-01', '2019-09-01',\n",
       "       '2019-08-01', '2019-01-01', '2019-06-01', '2019-12-01',\n",
       "       '2020-02-01', '2020-01-01'], dtype=object)"
      ]
     },
     "execution_count": 10,
     "metadata": {},
     "output_type": "execute_result"
    }
   ],
   "source": [
    "prepandemic.date_range_start.unique()"
   ]
  },
  {
   "cell_type": "code",
   "execution_count": 11,
   "metadata": {},
   "outputs": [],
   "source": [
    "from sklearn.cluster import KMeans\n",
    "from sklearn.preprocessing import StandardScaler\n"
   ]
  },
  {
   "cell_type": "code",
   "execution_count": 12,
   "metadata": {},
   "outputs": [],
   "source": [
    "def cut_outliers(df):\n",
    "    for col in ['raw_visit_counts', 'raw_visitor_counts']:\n",
    "        ub = 2*df[col].quantile(0.99)\n",
    "        mask = df[col] > ub\n",
    "        df.loc[mask,col] = ub\n",
    "    return df\n",
    "\n",
    "def Stdrshp(df): \n",
    "    df = df.pivot(index='safegraph_place_id',columns='date_range_start')[['raw_visit_counts', 'raw_visitor_counts']]\n",
    "    df = df.fillna(0)\n",
    "    scaled = StandardScaler().fit_transform(df)\n",
    "    scaled_features_df = pd.DataFrame(scaled, index=df.index, columns=df.columns)\n",
    "    return scaled_features_df\n",
    "\n",
    "def make_clusters(df, k = 5):\n",
    "    kmeans = KMeans(n_clusters=k).fit(df)\n",
    "    df['cluster'] = kmeans.labels_\n",
    "    return (df, kmeans.inertia_)\n",
    "\n",
    "def run_Kmeans(df, k = 5):\n",
    "    normalized = Stdrshp(cut_outliers(df.copy()))\n",
    "    return make_clusters(normalized, k)"
   ]
  },
  {
   "cell_type": "code",
   "execution_count": 13,
   "metadata": {},
   "outputs": [],
   "source": [
    "scaled = Stdrshp(cut_outliers(prepandemic))\n",
    "n_clusters = [k for k in range(3,13)]\n",
    "inertias = []\n",
    "for k in n_clusters:\n",
    "    df, inertia = make_clusters(scaled, k = k)\n",
    "    inertias.append(inertia)"
   ]
  },
  {
   "cell_type": "code",
   "execution_count": 14,
   "metadata": {},
   "outputs": [],
   "source": [
    "import matplotlib.pyplot as plt"
   ]
  },
  {
   "cell_type": "code",
   "execution_count": 15,
   "metadata": {},
   "outputs": [
    {
     "data": {
      "text/plain": [
       "[<matplotlib.lines.Line2D at 0x144a032d0>]"
      ]
     },
     "execution_count": 15,
     "metadata": {},
     "output_type": "execute_result"
    },
    {
     "data": {
      "image/png": "[encoded data removed]",
      "text/plain": [
       "<Figure size 432x288 with 1 Axes>"
      ]
     },
     "metadata": {
      "needs_background": "light"
     },
     "output_type": "display_data"
    }
   ],
   "source": [
    "plt.plot(n_clusters,inertias)"
   ]
  },
  {
   "cell_type": "code",
   "execution_count": 16,
   "metadata": {},
   "outputs": [
    {
     "data": {
      "text/plain": [
       "[<matplotlib.lines.Line2D at 0x144e83d10>]"
      ]
     },
     "execution_count": 16,
     "metadata": {},
     "output_type": "execute_result"
    },
    {
     "data": {
      "image/png": "[encoded data removed]",
      "text/plain": [
       "<Figure size 432x288 with 1 Axes>"
      ]
     },
     "metadata": {
      "needs_background": "light"
     },
     "output_type": "display_data"
    }
   ],
   "source": [
    "scaled = Stdrshp(prepandemic)\n",
    "n_clusters = [k for k in range(3,13)]\n",
    "inertias = []\n",
    "for k in n_clusters:\n",
    "    df, inertia = make_clusters(scaled, k = k)\n",
    "    inertias.append(inertia)\n",
    "    \n",
    "plt.plot(n_clusters,inertias)"
   ]
  },
  {
   "cell_type": "code",
   "execution_count": 19,
   "metadata": {},
   "outputs": [],
   "source": [
    "prepandemic, prepandemic_inertia = run_Kmeans(prepandemic, k = 8)\n",
    "pandemic, pandemic_inertia = run_Kmeans(pandemic, k = 8)"
   ]
  },
  {
   "cell_type": "code",
   "execution_count": 20,
   "metadata": {},
   "outputs": [
    {
     "data": {
      "text/plain": [
       "68813.8791548519"
      ]
     },
     "execution_count": 20,
     "metadata": {},
     "output_type": "execute_result"
    }
   ],
   "source": [
    "pandemic_inertia"
   ]
  },
  {
   "cell_type": "code",
   "execution_count": 21,
   "metadata": {},
   "outputs": [],
   "source": [
    "# We want to compare pandemic_inertia to the inertia we would have in 2020 if we used the\n",
    "# 2019 clustering\n",
    "combined = pandemic.join(prepandemic[['cluster']], how='left',rsuffix='pre')\n",
    "combined[['clusterpre']] = combined[['clusterpre']].fillna(value=-1)\n",
    "combined['clusterpre'] = combined['clusterpre'].astype(int)"
   ]
  },
  {
   "cell_type": "code",
   "execution_count": 22,
   "metadata": {},
   "outputs": [],
   "source": [
    "cols = combined.columns\n",
    "cols = cols[:-2]\n",
    "n = len(combined.columns)"
   ]
  },
  {
   "cell_type": "code",
   "execution_count": 26,
   "metadata": {},
   "outputs": [
    {
     "data": {
      "text/plain": [
       "191403.44775162882"
      ]
     },
     "execution_count": 26,
     "metadata": {},
     "output_type": "execute_result"
    }
   ],
   "source": [
    "def get_inertia(df, cols, cluster_col):\n",
    "    mask = df[cluster_col] > -1\n",
    "    n = len(df.index)\n",
    "    filtered = df[mask]\n",
    "    m = len(filtered.index)\n",
    "    se = ((df[cols] - df.groupby(cluster_col)[cols].transform('mean'))**2).to_numpy().sum()\n",
    "    return se*(n/m)\n",
    "\n",
    "get_inertia(combined, cols, 'clusterpre')"
   ]
  },
  {
   "cell_type": "code",
   "execution_count": 28,
   "metadata": {},
   "outputs": [
    {
     "data": {
      "text/plain": [
       "323136.0"
      ]
     },
     "execution_count": 28,
     "metadata": {},
     "output_type": "execute_result"
    }
   ],
   "source": [
    "#worst case scenario\n",
    "combined['newcol'] = 1\n",
    "get_inertia(combined, cols, 'newcol')"
   ]
  },
  {
   "cell_type": "code",
   "execution_count": 29,
   "metadata": {},
   "outputs": [
    {
     "data": {
      "text/plain": [
       "cluster\n",
       "0    11845\n",
       "1      478\n",
       "2       69\n",
       "3     5361\n",
       "4     2086\n",
       "5       45\n",
       "6      211\n",
       "7      101\n",
       "dtype: int64"
      ]
     },
     "execution_count": 29,
     "metadata": {},
     "output_type": "execute_result"
    }
   ],
   "source": [
    "combined.groupby('cluster').size()"
   ]
  },
  {
   "cell_type": "code",
   "execution_count": 31,
   "metadata": {},
   "outputs": [
    {
     "data": {
      "text/plain": [
       "clusterpre\n",
       "-1    2407\n",
       " 0    5271\n",
       " 1      81\n",
       " 2    9285\n",
       " 3     676\n",
       " 4      30\n",
       " 5      67\n",
       " 6    2133\n",
       " 7     246\n",
       "dtype: int64"
      ]
     },
     "execution_count": 31,
     "metadata": {},
     "output_type": "execute_result"
    }
   ],
   "source": [
    "combined.groupby('clusterpre').size()"
   ]
  }
 ],
 "metadata": {
  "kernelspec": {
   "display_name": "Python 3",
   "language": "python",
   "name": "python3"
  },
  "language_info": {
   "codemirror_mode": {
    "name": "ipython",
    "version": 3
   },
   "file_extension": ".py",
   "mimetype": "text/x-python",
   "name": "python",
   "nbconvert_exporter": "python",
   "pygments_lexer": "ipython3",
   "version": "3.7.9"
  }
 },
 "nbformat": 4,
 "nbformat_minor": 4
}
