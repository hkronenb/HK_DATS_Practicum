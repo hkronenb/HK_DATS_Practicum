{
 "cells": [
  {
   "cell_type": "code",
   "execution_count": 1,
   "metadata": {},
   "outputs": [],
   "source": [
    "import pandas as pd\n",
    "from safegraph_py_functions import safegraph_py_functions as sgpy\n",
    "import os\n",
    "from dotenv import load_dotenv, find_dotenv\n",
    "from loguru import logger"
   ]
  },
  {
   "cell_type": "code",
   "execution_count": 2,
   "metadata": {},
   "outputs": [],
   "source": [
    "# find .env automagically by walking up directories until it's found\n",
    "dotenv_path = find_dotenv()\n",
    "\n",
    "# load up the entries as environment variables\n",
    "load_dotenv(dotenv_path)\n",
    "os.chdir(os.environ.get(\"ROOT_DIR\"))\n",
    "from src import DATA_DIR\n",
    "raw_data_dir = DATA_DIR / 'raw'"
   ]
  },
  {
   "cell_type": "code",
   "execution_count": 3,
   "metadata": {},
   "outputs": [],
   "source": [
    "# Read in all patterns files in the monthly-patterns folder\n",
    "\n",
    "patterns_path = raw_data_dir / \"monthly-patterns\"\n",
    "files = []\n",
    "for f in patterns_path.glob(\"**/*.csv.gz\"):\n",
    "    files.append(f)"
   ]
  },
  {
   "cell_type": "code",
   "execution_count": 13,
   "metadata": {},
   "outputs": [],
   "source": [
    "def filter_to_philly(df):\n",
    "    # zip codes are read as integers rather than strings so we add leading zeros.\n",
    "    # this is not strictly necessary since Philadelphia zipcodes don't have leading zeros.\n",
    "    \n",
    "    # Philadelphia selection\n",
    "    # HK: adding leading zeros because some zipcodes in MA are 0191X.\n",
    "    df['postal_code'] = df['postal_code'].apply(lambda x: ('00000'+str(x))[-5:])\n",
    "    in_philly = df['postal_code'].astype(str).str.startswith(\"191\")\n",
    "    df = df.loc[in_philly]\n",
    "    df = df[['safegraph_place_id','date_range_start','postal_code', \n",
    "             'raw_visit_counts', 'raw_visitor_counts']]\n",
    "    \n",
    "    return df"
   ]
  },
  {
   "cell_type": "code",
   "execution_count": 14,
   "metadata": {},
   "outputs": [
    {
     "name": "stdout",
     "output_type": "stream",
     "text": [
      "/Users/hannahkronenberg/SafegraphCOVIDPhilly/src/../data/raw/monthly-patterns/patterns/2020/11/06/11/patterns-part3.csv.gz\n",
      "/Users/hannahkronenberg/SafegraphCOVIDPhilly/src/../data/raw/monthly-patterns/patterns/2020/11/06/11/patterns-part1.csv.gz\n",
      "/Users/hannahkronenberg/SafegraphCOVIDPhilly/src/../data/raw/monthly-patterns/patterns/2020/11/06/11/patterns-part4.csv.gz\n",
      "/Users/hannahkronenberg/SafegraphCOVIDPhilly/src/../data/raw/monthly-patterns/patterns/2020/11/06/11/patterns-part2.csv.gz\n",
      "/Users/hannahkronenberg/SafegraphCOVIDPhilly/src/../data/raw/monthly-patterns/patterns/2020/10/07/02/patterns-part3.csv.gz\n",
      "/Users/hannahkronenberg/SafegraphCOVIDPhilly/src/../data/raw/monthly-patterns/patterns/2020/10/07/02/patterns-part1.csv.gz\n",
      "/Users/hannahkronenberg/SafegraphCOVIDPhilly/src/../data/raw/monthly-patterns/patterns/2020/10/07/02/patterns-part4.csv.gz\n",
      "/Users/hannahkronenberg/SafegraphCOVIDPhilly/src/../data/raw/monthly-patterns/patterns/2020/10/07/02/patterns-part2.csv.gz\n",
      "/Users/hannahkronenberg/SafegraphCOVIDPhilly/src/../data/raw/monthly-patterns/patterns/2020/07/06/06/patterns-part3.csv.gz\n",
      "/Users/hannahkronenberg/SafegraphCOVIDPhilly/src/../data/raw/monthly-patterns/patterns/2020/07/06/06/patterns-part1.csv.gz\n",
      "/Users/hannahkronenberg/SafegraphCOVIDPhilly/src/../data/raw/monthly-patterns/patterns/2020/07/06/06/patterns-part4.csv.gz\n",
      "/Users/hannahkronenberg/SafegraphCOVIDPhilly/src/../data/raw/monthly-patterns/patterns/2020/07/06/06/patterns-part2.csv.gz\n",
      "/Users/hannahkronenberg/SafegraphCOVIDPhilly/src/../data/raw/monthly-patterns/patterns/2020/09/04/09/patterns-part3.csv.gz\n",
      "/Users/hannahkronenberg/SafegraphCOVIDPhilly/src/../data/raw/monthly-patterns/patterns/2020/09/04/09/patterns-part1.csv.gz\n",
      "/Users/hannahkronenberg/SafegraphCOVIDPhilly/src/../data/raw/monthly-patterns/patterns/2020/09/04/09/patterns-part4.csv.gz\n",
      "/Users/hannahkronenberg/SafegraphCOVIDPhilly/src/../data/raw/monthly-patterns/patterns/2020/09/04/09/patterns-part2.csv.gz\n",
      "/Users/hannahkronenberg/SafegraphCOVIDPhilly/src/../data/raw/monthly-patterns/patterns/2020/08/05/09/patterns-part3.csv.gz\n",
      "/Users/hannahkronenberg/SafegraphCOVIDPhilly/src/../data/raw/monthly-patterns/patterns/2020/08/05/09/patterns-part1.csv.gz\n",
      "/Users/hannahkronenberg/SafegraphCOVIDPhilly/src/../data/raw/monthly-patterns/patterns/2020/08/05/09/patterns-part4.csv.gz\n",
      "/Users/hannahkronenberg/SafegraphCOVIDPhilly/src/../data/raw/monthly-patterns/patterns/2020/08/05/09/patterns-part2.csv.gz\n",
      "/Users/hannahkronenberg/SafegraphCOVIDPhilly/src/../data/raw/monthly-patterns/patterns/2020/06/05/06/patterns-part3.csv.gz\n",
      "/Users/hannahkronenberg/SafegraphCOVIDPhilly/src/../data/raw/monthly-patterns/patterns/2020/06/05/06/patterns-part1.csv.gz\n",
      "/Users/hannahkronenberg/SafegraphCOVIDPhilly/src/../data/raw/monthly-patterns/patterns/2020/06/05/06/patterns-part4.csv.gz\n",
      "/Users/hannahkronenberg/SafegraphCOVIDPhilly/src/../data/raw/monthly-patterns/patterns/2020/06/05/06/patterns-part2.csv.gz\n",
      "/Users/hannahkronenberg/SafegraphCOVIDPhilly/src/../data/raw/monthly-patterns/patterns_backfill/2020/05/07/12/2019/03/patterns-part3.csv.gz\n",
      "/Users/hannahkronenberg/SafegraphCOVIDPhilly/src/../data/raw/monthly-patterns/patterns_backfill/2020/05/07/12/2019/03/patterns-part1.csv.gz\n",
      "/Users/hannahkronenberg/SafegraphCOVIDPhilly/src/../data/raw/monthly-patterns/patterns_backfill/2020/05/07/12/2019/03/patterns-part4.csv.gz\n",
      "/Users/hannahkronenberg/SafegraphCOVIDPhilly/src/../data/raw/monthly-patterns/patterns_backfill/2020/05/07/12/2019/03/patterns-part2.csv.gz\n",
      "/Users/hannahkronenberg/SafegraphCOVIDPhilly/src/../data/raw/monthly-patterns/patterns_backfill/2020/05/07/12/2019/04/patterns-part3.csv.gz\n",
      "/Users/hannahkronenberg/SafegraphCOVIDPhilly/src/../data/raw/monthly-patterns/patterns_backfill/2020/05/07/12/2019/04/patterns-part1.csv.gz\n",
      "/Users/hannahkronenberg/SafegraphCOVIDPhilly/src/../data/raw/monthly-patterns/patterns_backfill/2020/05/07/12/2019/04/patterns-part4.csv.gz\n",
      "/Users/hannahkronenberg/SafegraphCOVIDPhilly/src/../data/raw/monthly-patterns/patterns_backfill/2020/05/07/12/2019/04/patterns-part2.csv.gz\n",
      "/Users/hannahkronenberg/SafegraphCOVIDPhilly/src/../data/raw/monthly-patterns/patterns_backfill/2020/05/07/12/2019/05/patterns-part3.csv.gz\n",
      "/Users/hannahkronenberg/SafegraphCOVIDPhilly/src/../data/raw/monthly-patterns/patterns_backfill/2020/05/07/12/2019/05/patterns-part1.csv.gz\n",
      "/Users/hannahkronenberg/SafegraphCOVIDPhilly/src/../data/raw/monthly-patterns/patterns_backfill/2020/05/07/12/2019/05/patterns-part4.csv.gz\n",
      "/Users/hannahkronenberg/SafegraphCOVIDPhilly/src/../data/raw/monthly-patterns/patterns_backfill/2020/05/07/12/2019/05/patterns-part2.csv.gz\n",
      "/Users/hannahkronenberg/SafegraphCOVIDPhilly/src/../data/raw/monthly-patterns/patterns_backfill/2020/05/07/12/2019/02/patterns-part3.csv.gz\n",
      "/Users/hannahkronenberg/SafegraphCOVIDPhilly/src/../data/raw/monthly-patterns/patterns_backfill/2020/05/07/12/2019/02/patterns-part1.csv.gz\n",
      "/Users/hannahkronenberg/SafegraphCOVIDPhilly/src/../data/raw/monthly-patterns/patterns_backfill/2020/05/07/12/2019/02/patterns-part4.csv.gz\n",
      "/Users/hannahkronenberg/SafegraphCOVIDPhilly/src/../data/raw/monthly-patterns/patterns_backfill/2020/05/07/12/2019/02/patterns-part2.csv.gz\n",
      "/Users/hannahkronenberg/SafegraphCOVIDPhilly/src/../data/raw/monthly-patterns/patterns_backfill/2020/05/07/12/2019/11/patterns-part3.csv.gz\n",
      "/Users/hannahkronenberg/SafegraphCOVIDPhilly/src/../data/raw/monthly-patterns/patterns_backfill/2020/05/07/12/2019/11/patterns-part1.csv.gz\n",
      "/Users/hannahkronenberg/SafegraphCOVIDPhilly/src/../data/raw/monthly-patterns/patterns_backfill/2020/05/07/12/2019/11/patterns-part4.csv.gz\n",
      "/Users/hannahkronenberg/SafegraphCOVIDPhilly/src/../data/raw/monthly-patterns/patterns_backfill/2020/05/07/12/2019/11/patterns-part2.csv.gz\n",
      "/Users/hannahkronenberg/SafegraphCOVIDPhilly/src/../data/raw/monthly-patterns/patterns_backfill/2020/05/07/12/2019/10/patterns-part3.csv.gz\n",
      "/Users/hannahkronenberg/SafegraphCOVIDPhilly/src/../data/raw/monthly-patterns/patterns_backfill/2020/05/07/12/2019/10/patterns-part1.csv.gz\n",
      "/Users/hannahkronenberg/SafegraphCOVIDPhilly/src/../data/raw/monthly-patterns/patterns_backfill/2020/05/07/12/2019/10/patterns-part4.csv.gz\n",
      "/Users/hannahkronenberg/SafegraphCOVIDPhilly/src/../data/raw/monthly-patterns/patterns_backfill/2020/05/07/12/2019/10/patterns-part2.csv.gz\n",
      "/Users/hannahkronenberg/SafegraphCOVIDPhilly/src/../data/raw/monthly-patterns/patterns_backfill/2020/05/07/12/2019/07/patterns-part3.csv.gz\n",
      "/Users/hannahkronenberg/SafegraphCOVIDPhilly/src/../data/raw/monthly-patterns/patterns_backfill/2020/05/07/12/2019/07/patterns-part1.csv.gz\n",
      "/Users/hannahkronenberg/SafegraphCOVIDPhilly/src/../data/raw/monthly-patterns/patterns_backfill/2020/05/07/12/2019/07/patterns-part4.csv.gz\n",
      "/Users/hannahkronenberg/SafegraphCOVIDPhilly/src/../data/raw/monthly-patterns/patterns_backfill/2020/05/07/12/2019/07/patterns-part2.csv.gz\n",
      "/Users/hannahkronenberg/SafegraphCOVIDPhilly/src/../data/raw/monthly-patterns/patterns_backfill/2020/05/07/12/2019/09/patterns-part3.csv.gz\n",
      "/Users/hannahkronenberg/SafegraphCOVIDPhilly/src/../data/raw/monthly-patterns/patterns_backfill/2020/05/07/12/2019/09/patterns-part1.csv.gz\n",
      "/Users/hannahkronenberg/SafegraphCOVIDPhilly/src/../data/raw/monthly-patterns/patterns_backfill/2020/05/07/12/2019/09/patterns-part4.csv.gz\n",
      "/Users/hannahkronenberg/SafegraphCOVIDPhilly/src/../data/raw/monthly-patterns/patterns_backfill/2020/05/07/12/2019/09/patterns-part2.csv.gz\n",
      "/Users/hannahkronenberg/SafegraphCOVIDPhilly/src/../data/raw/monthly-patterns/patterns_backfill/2020/05/07/12/2019/08/patterns-part3.csv.gz\n",
      "/Users/hannahkronenberg/SafegraphCOVIDPhilly/src/../data/raw/monthly-patterns/patterns_backfill/2020/05/07/12/2019/08/patterns-part1.csv.gz\n",
      "/Users/hannahkronenberg/SafegraphCOVIDPhilly/src/../data/raw/monthly-patterns/patterns_backfill/2020/05/07/12/2019/08/patterns-part4.csv.gz\n",
      "/Users/hannahkronenberg/SafegraphCOVIDPhilly/src/../data/raw/monthly-patterns/patterns_backfill/2020/05/07/12/2019/08/patterns-part2.csv.gz\n",
      "/Users/hannahkronenberg/SafegraphCOVIDPhilly/src/../data/raw/monthly-patterns/patterns_backfill/2020/05/07/12/2019/01/patterns-part3.csv.gz\n",
      "/Users/hannahkronenberg/SafegraphCOVIDPhilly/src/../data/raw/monthly-patterns/patterns_backfill/2020/05/07/12/2019/01/patterns-part1.csv.gz\n"
     ]
    },
    {
     "name": "stdout",
     "output_type": "stream",
     "text": [
      "/Users/hannahkronenberg/SafegraphCOVIDPhilly/src/../data/raw/monthly-patterns/patterns_backfill/2020/05/07/12/2019/01/patterns-part4.csv.gz\n",
      "/Users/hannahkronenberg/SafegraphCOVIDPhilly/src/../data/raw/monthly-patterns/patterns_backfill/2020/05/07/12/2019/01/patterns-part2.csv.gz\n",
      "/Users/hannahkronenberg/SafegraphCOVIDPhilly/src/../data/raw/monthly-patterns/patterns_backfill/2020/05/07/12/2019/06/patterns-part3.csv.gz\n",
      "/Users/hannahkronenberg/SafegraphCOVIDPhilly/src/../data/raw/monthly-patterns/patterns_backfill/2020/05/07/12/2019/06/patterns-part1.csv.gz\n",
      "/Users/hannahkronenberg/SafegraphCOVIDPhilly/src/../data/raw/monthly-patterns/patterns_backfill/2020/05/07/12/2019/06/patterns-part4.csv.gz\n",
      "/Users/hannahkronenberg/SafegraphCOVIDPhilly/src/../data/raw/monthly-patterns/patterns_backfill/2020/05/07/12/2019/06/patterns-part2.csv.gz\n",
      "/Users/hannahkronenberg/SafegraphCOVIDPhilly/src/../data/raw/monthly-patterns/patterns_backfill/2020/05/07/12/2019/12/patterns-part3.csv.gz\n",
      "/Users/hannahkronenberg/SafegraphCOVIDPhilly/src/../data/raw/monthly-patterns/patterns_backfill/2020/05/07/12/2019/12/patterns-part1.csv.gz\n",
      "/Users/hannahkronenberg/SafegraphCOVIDPhilly/src/../data/raw/monthly-patterns/patterns_backfill/2020/05/07/12/2019/12/patterns-part4.csv.gz\n",
      "/Users/hannahkronenberg/SafegraphCOVIDPhilly/src/../data/raw/monthly-patterns/patterns_backfill/2020/05/07/12/2019/12/patterns-part2.csv.gz\n",
      "/Users/hannahkronenberg/SafegraphCOVIDPhilly/src/../data/raw/monthly-patterns/patterns_backfill/2020/05/07/12/2020/03/patterns-part3.csv.gz\n",
      "/Users/hannahkronenberg/SafegraphCOVIDPhilly/src/../data/raw/monthly-patterns/patterns_backfill/2020/05/07/12/2020/03/patterns-part1.csv.gz\n",
      "/Users/hannahkronenberg/SafegraphCOVIDPhilly/src/../data/raw/monthly-patterns/patterns_backfill/2020/05/07/12/2020/03/patterns-part4.csv.gz\n",
      "/Users/hannahkronenberg/SafegraphCOVIDPhilly/src/../data/raw/monthly-patterns/patterns_backfill/2020/05/07/12/2020/03/patterns-part2.csv.gz\n",
      "/Users/hannahkronenberg/SafegraphCOVIDPhilly/src/../data/raw/monthly-patterns/patterns_backfill/2020/05/07/12/2020/04/patterns-part3.csv.gz\n",
      "/Users/hannahkronenberg/SafegraphCOVIDPhilly/src/../data/raw/monthly-patterns/patterns_backfill/2020/05/07/12/2020/04/patterns-part1.csv.gz\n",
      "/Users/hannahkronenberg/SafegraphCOVIDPhilly/src/../data/raw/monthly-patterns/patterns_backfill/2020/05/07/12/2020/04/patterns-part4.csv.gz\n",
      "/Users/hannahkronenberg/SafegraphCOVIDPhilly/src/../data/raw/monthly-patterns/patterns_backfill/2020/05/07/12/2020/04/patterns-part2.csv.gz\n",
      "/Users/hannahkronenberg/SafegraphCOVIDPhilly/src/../data/raw/monthly-patterns/patterns_backfill/2020/05/07/12/2020/02/patterns-part3.csv.gz\n",
      "/Users/hannahkronenberg/SafegraphCOVIDPhilly/src/../data/raw/monthly-patterns/patterns_backfill/2020/05/07/12/2020/02/patterns-part1.csv.gz\n",
      "/Users/hannahkronenberg/SafegraphCOVIDPhilly/src/../data/raw/monthly-patterns/patterns_backfill/2020/05/07/12/2020/02/patterns-part4.csv.gz\n",
      "/Users/hannahkronenberg/SafegraphCOVIDPhilly/src/../data/raw/monthly-patterns/patterns_backfill/2020/05/07/12/2020/02/patterns-part2.csv.gz\n",
      "/Users/hannahkronenberg/SafegraphCOVIDPhilly/src/../data/raw/monthly-patterns/patterns_backfill/2020/05/07/12/2020/01/patterns-part3.csv.gz\n",
      "/Users/hannahkronenberg/SafegraphCOVIDPhilly/src/../data/raw/monthly-patterns/patterns_backfill/2020/05/07/12/2020/01/patterns-part1.csv.gz\n",
      "/Users/hannahkronenberg/SafegraphCOVIDPhilly/src/../data/raw/monthly-patterns/patterns_backfill/2020/05/07/12/2020/01/patterns-part4.csv.gz\n",
      "/Users/hannahkronenberg/SafegraphCOVIDPhilly/src/../data/raw/monthly-patterns/patterns_backfill/2020/05/07/12/2020/01/patterns-part2.csv.gz\n"
     ]
    }
   ],
   "source": [
    "philly_patterns = []\n",
    "for i, f in enumerate(files):\n",
    "    print(f)\n",
    "    philly_patterns.append(filter_to_philly(pd.read_csv(f)))\n",
    "    \n",
    "philly_patterns = pd.concat(philly_patterns)"
   ]
  },
  {
   "cell_type": "code",
   "execution_count": 15,
   "metadata": {},
   "outputs": [
    {
     "data": {
      "text/html": [
       "<div>\n",
       "<style scoped>\n",
       "    .dataframe tbody tr th:only-of-type {\n",
       "        vertical-align: middle;\n",
       "    }\n",
       "\n",
       "    .dataframe tbody tr th {\n",
       "        vertical-align: top;\n",
       "    }\n",
       "\n",
       "    .dataframe thead th {\n",
       "        text-align: right;\n",
       "    }\n",
       "</style>\n",
       "<table border=\"1\" class=\"dataframe\">\n",
       "  <thead>\n",
       "    <tr style=\"text-align: right;\">\n",
       "      <th></th>\n",
       "      <th>safegraph_place_id</th>\n",
       "      <th>date_range_start</th>\n",
       "      <th>postal_code</th>\n",
       "      <th>raw_visit_counts</th>\n",
       "      <th>raw_visitor_counts</th>\n",
       "    </tr>\n",
       "  </thead>\n",
       "  <tbody>\n",
       "    <tr>\n",
       "      <th>408</th>\n",
       "      <td>sg:26825b56c5ce4c7d91afdc71a7c34440</td>\n",
       "      <td>2020-10-01T00:00:00-04:00</td>\n",
       "      <td>19107</td>\n",
       "      <td>7</td>\n",
       "      <td>7</td>\n",
       "    </tr>\n",
       "    <tr>\n",
       "      <th>536</th>\n",
       "      <td>sg:32b17bf96a93444588131370e52d310d</td>\n",
       "      <td>2020-10-01T00:00:00-04:00</td>\n",
       "      <td>19140</td>\n",
       "      <td>168</td>\n",
       "      <td>96</td>\n",
       "    </tr>\n",
       "    <tr>\n",
       "      <th>683</th>\n",
       "      <td>sg:3f4865e8bbb249838350eee9a101c8eb</td>\n",
       "      <td>2020-10-01T00:00:00-04:00</td>\n",
       "      <td>19140</td>\n",
       "      <td>75</td>\n",
       "      <td>47</td>\n",
       "    </tr>\n",
       "    <tr>\n",
       "      <th>1236</th>\n",
       "      <td>sg:76dbefabe6eb465fac98e62c2fb15be9</td>\n",
       "      <td>2020-10-01T00:00:00-04:00</td>\n",
       "      <td>19140</td>\n",
       "      <td>322</td>\n",
       "      <td>234</td>\n",
       "    </tr>\n",
       "    <tr>\n",
       "      <th>1600</th>\n",
       "      <td>sg:9b2b12ebfa7745b6814873b7c1cef76b</td>\n",
       "      <td>2020-10-01T00:00:00-04:00</td>\n",
       "      <td>19118</td>\n",
       "      <td>93</td>\n",
       "      <td>46</td>\n",
       "    </tr>\n",
       "  </tbody>\n",
       "</table>\n",
       "</div>"
      ],
      "text/plain": [
       "                       safegraph_place_id           date_range_start  \\\n",
       "408   sg:26825b56c5ce4c7d91afdc71a7c34440  2020-10-01T00:00:00-04:00   \n",
       "536   sg:32b17bf96a93444588131370e52d310d  2020-10-01T00:00:00-04:00   \n",
       "683   sg:3f4865e8bbb249838350eee9a101c8eb  2020-10-01T00:00:00-04:00   \n",
       "1236  sg:76dbefabe6eb465fac98e62c2fb15be9  2020-10-01T00:00:00-04:00   \n",
       "1600  sg:9b2b12ebfa7745b6814873b7c1cef76b  2020-10-01T00:00:00-04:00   \n",
       "\n",
       "     postal_code  raw_visit_counts  raw_visitor_counts  \n",
       "408        19107                 7                   7  \n",
       "536        19140               168                  96  \n",
       "683        19140                75                  47  \n",
       "1236       19140               322                 234  \n",
       "1600       19118                93                  46  "
      ]
     },
     "execution_count": 15,
     "metadata": {},
     "output_type": "execute_result"
    }
   ],
   "source": [
    "philly_patterns.head()"
   ]
  },
  {
   "cell_type": "code",
   "execution_count": 16,
   "metadata": {},
   "outputs": [],
   "source": [
    "philly_patterns.to_csv(\n",
    "    DATA_DIR / \"processed\" / \"kmeans_patterns.csv.tar.gz\", index=False\n",
    ")"
   ]
  },
  {
   "cell_type": "code",
   "execution_count": 17,
   "metadata": {},
   "outputs": [
    {
     "data": {
      "text/html": [
       "<div>\n",
       "<style scoped>\n",
       "    .dataframe tbody tr th:only-of-type {\n",
       "        vertical-align: middle;\n",
       "    }\n",
       "\n",
       "    .dataframe tbody tr th {\n",
       "        vertical-align: top;\n",
       "    }\n",
       "\n",
       "    .dataframe thead th {\n",
       "        text-align: right;\n",
       "    }\n",
       "</style>\n",
       "<table border=\"1\" class=\"dataframe\">\n",
       "  <thead>\n",
       "    <tr style=\"text-align: right;\">\n",
       "      <th></th>\n",
       "      <th>safegraph_place_id</th>\n",
       "      <th>date_range_start</th>\n",
       "      <th>postal_code</th>\n",
       "      <th>raw_visit_counts</th>\n",
       "      <th>raw_visitor_counts</th>\n",
       "    </tr>\n",
       "  </thead>\n",
       "  <tbody>\n",
       "    <tr>\n",
       "      <th>408</th>\n",
       "      <td>sg:26825b56c5ce4c7d91afdc71a7c34440</td>\n",
       "      <td>2020-10-01T00:00:00-04:00</td>\n",
       "      <td>19107</td>\n",
       "      <td>7</td>\n",
       "      <td>7</td>\n",
       "    </tr>\n",
       "    <tr>\n",
       "      <th>536</th>\n",
       "      <td>sg:32b17bf96a93444588131370e52d310d</td>\n",
       "      <td>2020-10-01T00:00:00-04:00</td>\n",
       "      <td>19140</td>\n",
       "      <td>168</td>\n",
       "      <td>96</td>\n",
       "    </tr>\n",
       "    <tr>\n",
       "      <th>683</th>\n",
       "      <td>sg:3f4865e8bbb249838350eee9a101c8eb</td>\n",
       "      <td>2020-10-01T00:00:00-04:00</td>\n",
       "      <td>19140</td>\n",
       "      <td>75</td>\n",
       "      <td>47</td>\n",
       "    </tr>\n",
       "    <tr>\n",
       "      <th>1236</th>\n",
       "      <td>sg:76dbefabe6eb465fac98e62c2fb15be9</td>\n",
       "      <td>2020-10-01T00:00:00-04:00</td>\n",
       "      <td>19140</td>\n",
       "      <td>322</td>\n",
       "      <td>234</td>\n",
       "    </tr>\n",
       "    <tr>\n",
       "      <th>1600</th>\n",
       "      <td>sg:9b2b12ebfa7745b6814873b7c1cef76b</td>\n",
       "      <td>2020-10-01T00:00:00-04:00</td>\n",
       "      <td>19118</td>\n",
       "      <td>93</td>\n",
       "      <td>46</td>\n",
       "    </tr>\n",
       "  </tbody>\n",
       "</table>\n",
       "</div>"
      ],
      "text/plain": [
       "                       safegraph_place_id           date_range_start  \\\n",
       "408   sg:26825b56c5ce4c7d91afdc71a7c34440  2020-10-01T00:00:00-04:00   \n",
       "536   sg:32b17bf96a93444588131370e52d310d  2020-10-01T00:00:00-04:00   \n",
       "683   sg:3f4865e8bbb249838350eee9a101c8eb  2020-10-01T00:00:00-04:00   \n",
       "1236  sg:76dbefabe6eb465fac98e62c2fb15be9  2020-10-01T00:00:00-04:00   \n",
       "1600  sg:9b2b12ebfa7745b6814873b7c1cef76b  2020-10-01T00:00:00-04:00   \n",
       "\n",
       "     postal_code  raw_visit_counts  raw_visitor_counts  \n",
       "408        19107                 7                   7  \n",
       "536        19140               168                  96  \n",
       "683        19140                75                  47  \n",
       "1236       19140               322                 234  \n",
       "1600       19118                93                  46  "
      ]
     },
     "execution_count": 17,
     "metadata": {},
     "output_type": "execute_result"
    }
   ],
   "source": [
    "philly_patterns.head()"
   ]
  },
  {
   "cell_type": "code",
   "execution_count": 87,
   "metadata": {},
   "outputs": [],
   "source": [
    "philly_patterns['date_range_start'] = philly_patterns['date_range_start'].apply(lambda x : x[:10])\n",
    "mask = philly_patterns['date_range_start'] < '2020-03-01' \n",
    "prepandemic = philly_patterns.loc[mask,].copy()\n",
    "pandemic = philly_patterns.loc[~mask,].copy()"
   ]
  },
  {
   "cell_type": "code",
   "execution_count": 88,
   "metadata": {},
   "outputs": [
    {
     "data": {
      "text/plain": [
       "array(['2019-03-01', '2019-04-01', '2019-05-01', '2019-02-01',\n",
       "       '2019-11-01', '2019-10-01', '2019-07-01', '2019-09-01',\n",
       "       '2019-08-01', '2019-01-01', '2019-06-01', '2019-12-01',\n",
       "       '2020-02-01', '2020-01-01'], dtype=object)"
      ]
     },
     "execution_count": 88,
     "metadata": {},
     "output_type": "execute_result"
    }
   ],
   "source": [
    "prepandemic.date_range_start.unique()"
   ]
  },
  {
   "cell_type": "code",
   "execution_count": 89,
   "metadata": {},
   "outputs": [],
   "source": [
    "from sklearn.cluster import KMeans\n",
    "from sklearn.preprocessing import StandardScaler\n"
   ]
  },
  {
   "cell_type": "code",
   "execution_count": 90,
   "metadata": {},
   "outputs": [],
   "source": [
    "def Stdrshp(df): \n",
    "    df = df.pivot(index='safegraph_place_id',columns='date_range_start')[['raw_visit_counts', 'raw_visitor_counts']]\n",
    "    df = df.fillna(0)\n",
    "    scaled = StandardScaler().fit_transform(df)\n",
    "    scaled_features_df = pd.DataFrame(scaled, index=df.index, columns=df.columns)\n",
    "    return scaled_features_df\n",
    "\n",
    "def make_clusters(df, k = 5):\n",
    "    kmeans = KMeans(n_clusters=k).fit(df)\n",
    "    df['cluster'] = kmeans.labels_\n",
    "    return (df, kmeans.inertia_) "
   ]
  },
  {
   "cell_type": "code",
   "execution_count": 91,
   "metadata": {},
   "outputs": [],
   "source": [
    "scaled = Stdrshp(pandemic)\n",
    "n_clusters = [k for k in range(3,13)]\n",
    "inertias = []\n",
    "for k in n_clusters:\n",
    "    df, inertia = make_clusters(scaled, k = k)\n",
    "    inertias.append(inertia)"
   ]
  },
  {
   "cell_type": "code",
   "execution_count": 92,
   "metadata": {},
   "outputs": [],
   "source": [
    "import matplotlib.pyplot as plt"
   ]
  },
  {
   "cell_type": "code",
   "execution_count": 93,
   "metadata": {},
   "outputs": [
    {
     "data": {
      "text/plain": [
       "[<matplotlib.lines.Line2D at 0x18595d710>]"
      ]
     },
     "execution_count": 93,
     "metadata": {},
     "output_type": "execute_result"
    },
    {
     "data": {
      "image/png": "[encoded data removed]",
      "text/plain": [
       "<Figure size 432x288 with 1 Axes>"
      ]
     },
     "metadata": {
      "needs_background": "light"
     },
     "output_type": "display_data"
    }
   ],
   "source": [
    "plt.plot(n_clusters,inertias)"
   ]
  },
  {
   "cell_type": "code",
   "execution_count": 94,
   "metadata": {},
   "outputs": [],
   "source": [
    "prepandemic, prepandemic_inertia = make_clusters(Stdrshp(prepandemic), k = 7 )\n",
    "pandemic, pandemic_inertia = make_clusters(Stdrshp(pandemic), k = 7 )"
   ]
  },
  {
   "cell_type": "code",
   "execution_count": 109,
   "metadata": {},
   "outputs": [
    {
     "data": {
      "text/plain": [
       "38430.259253334494"
      ]
     },
     "execution_count": 109,
     "metadata": {},
     "output_type": "execute_result"
    }
   ],
   "source": [
    "pandemic_inertia"
   ]
  },
  {
   "cell_type": "code",
   "execution_count": 119,
   "metadata": {},
   "outputs": [],
   "source": [
    "# We want to compare pandemic_inertia to the inertia we would have in 2020 if we used the\n",
    "# 2019 clustering\n",
    "combined = pandemic.join(prepandemic[['cluster']], how='left',rsuffix='pre')\n",
    "combined[['clusterpre']] = combined[['clusterpre']].fillna(value=-1)\n",
    "combined['clusterpre'] = combined['clusterpre'].astype(int)"
   ]
  },
  {
   "cell_type": "code",
   "execution_count": 120,
   "metadata": {},
   "outputs": [],
   "source": [
    "cols = combined.columns\n",
    "cols = cols[:-2]\n",
    "n = len(combined.columns)"
   ]
  },
  {
   "cell_type": "code",
   "execution_count": 122,
   "metadata": {},
   "outputs": [],
   "source": [
    "mask = combined['clusterpre'] > -1"
   ]
  },
  {
   "cell_type": "code",
   "execution_count": 125,
   "metadata": {},
   "outputs": [
    {
     "data": {
      "text/plain": [
       "87731.52003471156"
      ]
     },
     "execution_count": 125,
     "metadata": {},
     "output_type": "execute_result"
    }
   ],
   "source": [
    "def get_inertia(df, mask, cols, cluster_col):\n",
    "    n = len(df.index)\n",
    "    filtered = df[mask]\n",
    "    m = len(filtered.index)\n",
    "    se = ((df[cols] - df.groupby(cluster_col)[cols].transform('mean'))**2).to_numpy().sum()\n",
    "    return se*(n/m)\n",
    "\n",
    "get_inertia(combined, mask, cols, 'clusterpre')"
   ]
  },
  {
   "cell_type": "code",
   "execution_count": 126,
   "metadata": {},
   "outputs": [
    {
     "data": {
      "text/plain": [
       "366858.99465962104"
      ]
     },
     "execution_count": 126,
     "metadata": {},
     "output_type": "execute_result"
    }
   ],
   "source": [
    "#worst case scenario\n",
    "combined['newcol'] = 1\n",
    "get_inertia(combined, mask, cols, 'newcol')"
   ]
  },
  {
   "cell_type": "code",
   "execution_count": 96,
   "metadata": {},
   "outputs": [
    {
     "data": {
      "text/plain": [
       "cluster\n",
       "0      3976\n",
       "1         1\n",
       "2        22\n",
       "3     15629\n",
       "4         1\n",
       "5        89\n",
       "6         1\n",
       "7         1\n",
       "8       462\n",
       "9         3\n",
       "10        1\n",
       "11       10\n",
       "dtype: int64"
      ]
     },
     "execution_count": 96,
     "metadata": {},
     "output_type": "execute_result"
    }
   ],
   "source": [
    "df.groupby('cluster').size()"
   ]
  },
  {
   "cell_type": "code",
   "execution_count": 25,
   "metadata": {},
   "outputs": [
    {
     "data": {
      "text/html": [
       "<div>\n",
       "<style scoped>\n",
       "    .dataframe tbody tr th:only-of-type {\n",
       "        vertical-align: middle;\n",
       "    }\n",
       "\n",
       "    .dataframe tbody tr th {\n",
       "        vertical-align: top;\n",
       "    }\n",
       "\n",
       "    .dataframe thead th {\n",
       "        text-align: right;\n",
       "    }\n",
       "</style>\n",
       "<table border=\"1\" class=\"dataframe\">\n",
       "  <thead>\n",
       "    <tr style=\"text-align: right;\">\n",
       "      <th></th>\n",
       "      <th>placekey</th>\n",
       "      <th>safegraph_place_id</th>\n",
       "      <th>location_name</th>\n",
       "      <th>street_address</th>\n",
       "      <th>city</th>\n",
       "      <th>region</th>\n",
       "      <th>postal_code</th>\n",
       "      <th>safegraph_brand_ids</th>\n",
       "      <th>brands</th>\n",
       "      <th>date_range_start</th>\n",
       "      <th>...</th>\n",
       "      <th>visitor_work_cbgs</th>\n",
       "      <th>visitor_country_of_origin</th>\n",
       "      <th>distance_from_home</th>\n",
       "      <th>median_dwell</th>\n",
       "      <th>bucketed_dwell_times</th>\n",
       "      <th>related_same_day_brand</th>\n",
       "      <th>related_same_month_brand</th>\n",
       "      <th>popularity_by_hour</th>\n",
       "      <th>popularity_by_day</th>\n",
       "      <th>device_type</th>\n",
       "    </tr>\n",
       "  </thead>\n",
       "  <tbody>\n",
       "    <tr>\n",
       "      <th>408</th>\n",
       "      <td>zzw-228@628-pmb-7t9</td>\n",
       "      <td>sg:26825b56c5ce4c7d91afdc71a7c34440</td>\n",
       "      <td>Provident Technology</td>\n",
       "      <td>1315 Walnut St Ste 905</td>\n",
       "      <td>Philadelphia</td>\n",
       "      <td>PA</td>\n",
       "      <td>19107</td>\n",
       "      <td>NaN</td>\n",
       "      <td>NaN</td>\n",
       "      <td>2020-10-01T00:00:00-04:00</td>\n",
       "      <td>...</td>\n",
       "      <td>{}</td>\n",
       "      <td>{\"US\":6}</td>\n",
       "      <td>4783.0</td>\n",
       "      <td>8.0</td>\n",
       "      <td>{\"&lt;5\":2,\"5-20\":2,\"21-60\":0,\"61-240\":0,\"&gt;240\":3}</td>\n",
       "      <td>{}</td>\n",
       "      <td>{\"Dunkin'\":39,\"Starbucks\":35,\"McDonald's\":28,\"...</td>\n",
       "      <td>[1,1,1,1,1,0,0,0,0,1,2,3,2,2,3,2,2,1,0,0,1,1,2,1]</td>\n",
       "      <td>{\"Monday\":1,\"Tuesday\":2,\"Wednesday\":0,\"Thursda...</td>\n",
       "      <td>{\"android\":0,\"ios\":5}</td>\n",
       "    </tr>\n",
       "    <tr>\n",
       "      <th>435</th>\n",
       "      <td>zzy-223@62j-q72-249</td>\n",
       "      <td>sg:2910df09a7264baea5bae7f876ff0423</td>\n",
       "      <td>Arete Rehab</td>\n",
       "      <td>110 Haverhill Rd Ste 344 Arete Rehabilitation</td>\n",
       "      <td>Amesbury Town</td>\n",
       "      <td>MA</td>\n",
       "      <td>1913</td>\n",
       "      <td>NaN</td>\n",
       "      <td>NaN</td>\n",
       "      <td>2020-10-01T00:00:00-04:00</td>\n",
       "      <td>...</td>\n",
       "      <td>{}</td>\n",
       "      <td>NaN</td>\n",
       "      <td>NaN</td>\n",
       "      <td>238.0</td>\n",
       "      <td>{\"&lt;5\":0,\"5-20\":0,\"21-60\":0,\"61-240\":1,\"&gt;240\":0}</td>\n",
       "      <td>{}</td>\n",
       "      <td>{\"Edward Jones\":100}</td>\n",
       "      <td>[1,1,0,0,0,0,0,0,0,0,0,0,0,0,0,0,0,0,0,0,0,1,1,1]</td>\n",
       "      <td>{\"Monday\":1,\"Tuesday\":0,\"Wednesday\":0,\"Thursda...</td>\n",
       "      <td>{\"android\":0,\"ios\":0}</td>\n",
       "    </tr>\n",
       "    <tr>\n",
       "      <th>536</th>\n",
       "      <td>22x-222@628-phy-4qf</td>\n",
       "      <td>sg:32b17bf96a93444588131370e52d310d</td>\n",
       "      <td>Los Potrillos Mexican Restaurant</td>\n",
       "      <td>4653 Rising Sun Ave</td>\n",
       "      <td>Philadelphia</td>\n",
       "      <td>PA</td>\n",
       "      <td>19140</td>\n",
       "      <td>NaN</td>\n",
       "      <td>NaN</td>\n",
       "      <td>2020-10-01T00:00:00-04:00</td>\n",
       "      <td>...</td>\n",
       "      <td>{}</td>\n",
       "      <td>{\"US\":87}</td>\n",
       "      <td>3335.0</td>\n",
       "      <td>19.5</td>\n",
       "      <td>{\"&lt;5\":8,\"5-20\":78,\"21-60\":28,\"61-240\":37,\"&gt;240...</td>\n",
       "      <td>{\"Dunkin'\":21,\"AAMCO Transmissions\":20,\"Family...</td>\n",
       "      <td>{\"Dunkin'\":42,\"Sunoco\":35,\"Wawa\":35,\"Dollar Tr...</td>\n",
       "      <td>[7,6,5,6,7,8,11,11,12,18,20,28,28,24,35,30,36,...</td>\n",
       "      <td>{\"Monday\":20,\"Tuesday\":23,\"Wednesday\":22,\"Thur...</td>\n",
       "      <td>{\"android\":60,\"ios\":35}</td>\n",
       "    </tr>\n",
       "    <tr>\n",
       "      <th>683</th>\n",
       "      <td>238-222@628-pj5-3nq</td>\n",
       "      <td>sg:3f4865e8bbb249838350eee9a101c8eb</td>\n",
       "      <td>Precious Babies Learning Academy Day Car</td>\n",
       "      <td>1433 W Erie Ave</td>\n",
       "      <td>Philadelphia</td>\n",
       "      <td>PA</td>\n",
       "      <td>19140</td>\n",
       "      <td>NaN</td>\n",
       "      <td>NaN</td>\n",
       "      <td>2020-10-01T00:00:00-04:00</td>\n",
       "      <td>...</td>\n",
       "      <td>{}</td>\n",
       "      <td>{\"US\":32}</td>\n",
       "      <td>5626.0</td>\n",
       "      <td>28.0</td>\n",
       "      <td>{\"&lt;5\":5,\"5-20\":30,\"21-60\":16,\"61-240\":14,\"&gt;240...</td>\n",
       "      <td>{\"McDonald's\":46,\"Chick-fil-A\":14}</td>\n",
       "      <td>{\"Dunkin'\":37,\"Sunoco\":36,\"Rite Aid\":25,\"Wawa\"...</td>\n",
       "      <td>[6,6,4,4,3,2,3,4,7,9,14,13,11,13,14,12,10,11,1...</td>\n",
       "      <td>{\"Monday\":9,\"Tuesday\":8,\"Wednesday\":12,\"Thursd...</td>\n",
       "      <td>{\"android\":29,\"ios\":15}</td>\n",
       "    </tr>\n",
       "    <tr>\n",
       "      <th>1236</th>\n",
       "      <td>23z-222@628-phy-rc5</td>\n",
       "      <td>sg:76dbefabe6eb465fac98e62c2fb15be9</td>\n",
       "      <td>TABU hookah lounge</td>\n",
       "      <td>4535 N 5th St</td>\n",
       "      <td>Philadelphia</td>\n",
       "      <td>PA</td>\n",
       "      <td>19140</td>\n",
       "      <td>NaN</td>\n",
       "      <td>NaN</td>\n",
       "      <td>2020-10-01T00:00:00-04:00</td>\n",
       "      <td>...</td>\n",
       "      <td>{}</td>\n",
       "      <td>{\"US\":211}</td>\n",
       "      <td>6166.0</td>\n",
       "      <td>51.5</td>\n",
       "      <td>{\"&lt;5\":11,\"5-20\":91,\"21-60\":74,\"61-240\":103,\"&gt;2...</td>\n",
       "      <td>{\"Wawa\":20,\"PNC Financial Services\":8,\"U-Haul\"...</td>\n",
       "      <td>{\"Wawa\":48,\"Dunkin'\":37,\"Sunoco\":29,\"McDonald'...</td>\n",
       "      <td>[18,17,11,11,13,18,16,15,41,46,53,62,70,73,71,...</td>\n",
       "      <td>{\"Monday\":36,\"Tuesday\":35,\"Wednesday\":36,\"Thur...</td>\n",
       "      <td>{\"android\":122,\"ios\":112}</td>\n",
       "    </tr>\n",
       "  </tbody>\n",
       "</table>\n",
       "<p>5 rows × 27 columns</p>\n",
       "</div>"
      ],
      "text/plain": [
       "                 placekey                   safegraph_place_id  \\\n",
       "408   zzw-228@628-pmb-7t9  sg:26825b56c5ce4c7d91afdc71a7c34440   \n",
       "435   zzy-223@62j-q72-249  sg:2910df09a7264baea5bae7f876ff0423   \n",
       "536   22x-222@628-phy-4qf  sg:32b17bf96a93444588131370e52d310d   \n",
       "683   238-222@628-pj5-3nq  sg:3f4865e8bbb249838350eee9a101c8eb   \n",
       "1236  23z-222@628-phy-rc5  sg:76dbefabe6eb465fac98e62c2fb15be9   \n",
       "\n",
       "                                 location_name  \\\n",
       "408                       Provident Technology   \n",
       "435                                Arete Rehab   \n",
       "536           Los Potrillos Mexican Restaurant   \n",
       "683   Precious Babies Learning Academy Day Car   \n",
       "1236                        TABU hookah lounge   \n",
       "\n",
       "                                     street_address           city region  \\\n",
       "408                          1315 Walnut St Ste 905   Philadelphia     PA   \n",
       "435   110 Haverhill Rd Ste 344 Arete Rehabilitation  Amesbury Town     MA   \n",
       "536                             4653 Rising Sun Ave   Philadelphia     PA   \n",
       "683                                 1433 W Erie Ave   Philadelphia     PA   \n",
       "1236                                  4535 N 5th St   Philadelphia     PA   \n",
       "\n",
       "      postal_code safegraph_brand_ids brands           date_range_start  ...  \\\n",
       "408         19107                 NaN    NaN  2020-10-01T00:00:00-04:00  ...   \n",
       "435          1913                 NaN    NaN  2020-10-01T00:00:00-04:00  ...   \n",
       "536         19140                 NaN    NaN  2020-10-01T00:00:00-04:00  ...   \n",
       "683         19140                 NaN    NaN  2020-10-01T00:00:00-04:00  ...   \n",
       "1236        19140                 NaN    NaN  2020-10-01T00:00:00-04:00  ...   \n",
       "\n",
       "     visitor_work_cbgs  visitor_country_of_origin  distance_from_home  \\\n",
       "408                 {}                   {\"US\":6}              4783.0   \n",
       "435                 {}                        NaN                 NaN   \n",
       "536                 {}                  {\"US\":87}              3335.0   \n",
       "683                 {}                  {\"US\":32}              5626.0   \n",
       "1236                {}                 {\"US\":211}              6166.0   \n",
       "\n",
       "     median_dwell                               bucketed_dwell_times  \\\n",
       "408           8.0    {\"<5\":2,\"5-20\":2,\"21-60\":0,\"61-240\":0,\">240\":3}   \n",
       "435         238.0    {\"<5\":0,\"5-20\":0,\"21-60\":0,\"61-240\":1,\">240\":0}   \n",
       "536          19.5  {\"<5\":8,\"5-20\":78,\"21-60\":28,\"61-240\":37,\">240...   \n",
       "683          28.0  {\"<5\":5,\"5-20\":30,\"21-60\":16,\"61-240\":14,\">240...   \n",
       "1236         51.5  {\"<5\":11,\"5-20\":91,\"21-60\":74,\"61-240\":103,\">2...   \n",
       "\n",
       "                                 related_same_day_brand  \\\n",
       "408                                                  {}   \n",
       "435                                                  {}   \n",
       "536   {\"Dunkin'\":21,\"AAMCO Transmissions\":20,\"Family...   \n",
       "683                  {\"McDonald's\":46,\"Chick-fil-A\":14}   \n",
       "1236  {\"Wawa\":20,\"PNC Financial Services\":8,\"U-Haul\"...   \n",
       "\n",
       "                               related_same_month_brand  \\\n",
       "408   {\"Dunkin'\":39,\"Starbucks\":35,\"McDonald's\":28,\"...   \n",
       "435                                {\"Edward Jones\":100}   \n",
       "536   {\"Dunkin'\":42,\"Sunoco\":35,\"Wawa\":35,\"Dollar Tr...   \n",
       "683   {\"Dunkin'\":37,\"Sunoco\":36,\"Rite Aid\":25,\"Wawa\"...   \n",
       "1236  {\"Wawa\":48,\"Dunkin'\":37,\"Sunoco\":29,\"McDonald'...   \n",
       "\n",
       "                                     popularity_by_hour  \\\n",
       "408   [1,1,1,1,1,0,0,0,0,1,2,3,2,2,3,2,2,1,0,0,1,1,2,1]   \n",
       "435   [1,1,0,0,0,0,0,0,0,0,0,0,0,0,0,0,0,0,0,0,0,1,1,1]   \n",
       "536   [7,6,5,6,7,8,11,11,12,18,20,28,28,24,35,30,36,...   \n",
       "683   [6,6,4,4,3,2,3,4,7,9,14,13,11,13,14,12,10,11,1...   \n",
       "1236  [18,17,11,11,13,18,16,15,41,46,53,62,70,73,71,...   \n",
       "\n",
       "                                      popularity_by_day  \\\n",
       "408   {\"Monday\":1,\"Tuesday\":2,\"Wednesday\":0,\"Thursda...   \n",
       "435   {\"Monday\":1,\"Tuesday\":0,\"Wednesday\":0,\"Thursda...   \n",
       "536   {\"Monday\":20,\"Tuesday\":23,\"Wednesday\":22,\"Thur...   \n",
       "683   {\"Monday\":9,\"Tuesday\":8,\"Wednesday\":12,\"Thursd...   \n",
       "1236  {\"Monday\":36,\"Tuesday\":35,\"Wednesday\":36,\"Thur...   \n",
       "\n",
       "                    device_type  \n",
       "408       {\"android\":0,\"ios\":5}  \n",
       "435       {\"android\":0,\"ios\":0}  \n",
       "536     {\"android\":60,\"ios\":35}  \n",
       "683     {\"android\":29,\"ios\":15}  \n",
       "1236  {\"android\":122,\"ios\":112}  \n",
       "\n",
       "[5 rows x 27 columns]"
      ]
     },
     "execution_count": 25,
     "metadata": {},
     "output_type": "execute_result"
    }
   ],
   "source": [
    "philly_patterns.head()"
   ]
  },
  {
   "cell_type": "code",
   "execution_count": 26,
   "metadata": {},
   "outputs": [
    {
     "data": {
      "text/plain": [
       "383658"
      ]
     },
     "execution_count": 26,
     "metadata": {},
     "output_type": "execute_result"
    }
   ],
   "source": [
    "len(philly_patterns)"
   ]
  },
  {
   "cell_type": "code",
   "execution_count": 27,
   "metadata": {},
   "outputs": [],
   "source": [
    "philly_patterns.to_csv(\n",
    "    DATA_DIR / \"processed\" / \"philly_patterns.csv.tar.gz\", index=False\n",
    ")"
   ]
  },
  {
   "cell_type": "code",
   "execution_count": 28,
   "metadata": {},
   "outputs": [
    {
     "name": "stderr",
     "output_type": "stream",
     "text": [
      "/Users/nhand/opt/miniconda3/envs/dats-practicum/lib/python3.7/site-packages/pandas/core/arrays/datetimelike.py:1111: PerformanceWarning: Adding/subtracting object-dtype array to TimedeltaArray not vectorized\n",
      "  PerformanceWarning,\n"
     ]
    }
   ],
   "source": [
    "philly_patterns_exploded = explode(philly_patterns)"
   ]
  },
  {
   "cell_type": "code",
   "execution_count": 29,
   "metadata": {},
   "outputs": [],
   "source": [
    "philly_patterns_exploded.to_csv(\n",
    "    DATA_DIR / \"processed\" / \"philly_patterns_exploded.csv.tar.gz\", index=False\n",
    ")"
   ]
  },
  {
   "cell_type": "code",
   "execution_count": null,
   "metadata": {},
   "outputs": [],
   "source": []
  }
 ],
 "metadata": {
  "kernelspec": {
   "display_name": "Python 3",
   "language": "python",
   "name": "python3"
  },
  "language_info": {
   "codemirror_mode": {
    "name": "ipython",
    "version": 3
   },
   "file_extension": ".py",
   "mimetype": "text/x-python",
   "name": "python",
   "nbconvert_exporter": "python",
   "pygments_lexer": "ipython3",
   "version": "3.7.9"
  }
 },
 "nbformat": 4,
 "nbformat_minor": 4
}
