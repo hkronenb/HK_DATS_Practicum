{
 "cells": [
  {
   "cell_type": "code",
   "execution_count": null,
   "metadata": {},
   "outputs": [],
   "source": [
    "import pandas as pd\n",
    "from safegraph_py_functions import safegraph_py_functions as sgpy\n",
    "import os\n",
    "from dotenv import load_dotenv, find_dotenv"
   ]
  },
  {
   "cell_type": "code",
   "execution_count": null,
   "metadata": {},
   "outputs": [],
   "source": [
    "# find .env automagically by walking up directories until it's found\n",
    "dotenv_path = find_dotenv()\n",
    "\n",
    "# load up the entries as environment variables\n",
    "load_dotenv(dotenv_path)\n",
    "root_dir = os.environ.get(\"ROOT_DIR\")\n",
    "raw_data_dir = os.path.join(root_dir,'data/raw')"
   ]
  },
  {
   "cell_type": "code",
   "execution_count": null,
   "metadata": {},
   "outputs": [],
   "source": [
    "# local directory where we want to put all the data\n",
    "patterns_path = os.path.join(raw_data_dir,'monthly-patterns')\n",
    "# print(local)\n",
    "files = []\n",
    "# r=root, d=directories, f = files\n",
    "for r, d, f in os.walk(patterns_path):\n",
    "    for file in f:\n",
    "        if file.endswith('.csv.gz') and 'patterns-part' in file:\n",
    "            files.append(os.path.join(patterns_path, r, file))\n",
    "#print(files)"
   ]
  },
  {
   "cell_type": "code",
   "execution_count": null,
   "metadata": {},
   "outputs": [],
   "source": [
    "# This list was taken from https://www.city-data.com/zipmaps/Philadelphia-Pennsylvania.html\n",
    "philly_zips = pd.Series(['19102', '19103', '19104', '19106', '19107', '19109', '19111', '19112', '19114', '19115', \n",
    "               '19116', '19118', '19119', '19120', '19121', '19122', '19123', '19124', '19125', '19126', \n",
    "               '19127', '19128', '19129', '19130', '19131', '19132', '19133', '19134', '19135', '19136', \n",
    "               '19137', '19138', '19139', '19140', '19141', '19142', '19143', '19144', '19145', '19146', \n",
    "               '19147', '19148', '19149', '19150', '19151', '19152', '19153', '19154'], name = 'postal_code')\n",
    "\n",
    "philly_zips = philly_zips.to_frame()"
   ]
  },
  {
   "cell_type": "code",
   "execution_count": null,
   "metadata": {},
   "outputs": [],
   "source": [
    "keep_cols = ['postal_code', 'poi_cbg', 'date_range_start', 'date_range_end', 'raw_visit_counts', \n",
    "    'raw_visitor_counts', 'visitor_home_cbgs','median_dwell']\n",
    "\n",
    "group_by_cols = ['poi_cbg', 'visitor_cbg', 'date_range_start', 'date_range_end']\n",
    "\n",
    "aggregations = {'raw_visit_counts': 'sum', \n",
    "                'raw_visitor_counts': 'median', \n",
    "                'median_dwell': 'median',\n",
    "               'cbg_visitor_count':'sum'}\n",
    "\n",
    "def filter_and_explode(file):\n",
    "    df = pd.read_csv(file)\n",
    "    df = df[keep_cols]\n",
    "    df['poi_cbg'] = df['poi_cbg'].astype(str)\n",
    "    # zip codes are read as integers rather than strings so we add leading zeros.\n",
    "    # this is not strictly necessary since Philadelphia zipcodes don't have leading zeros.\n",
    "    df['postal_code'] = df['postal_code'].apply(lambda x: ('00000' + str(x))[-5:])\n",
    "    df = philly_zips.merge(df)\n",
    "    df = df.drop(columns = 'postal_code')\n",
    "    # The visits_by_day column contains a list of integers. \n",
    "    # This explodes that list so we get one row per day.\n",
    "    df = sgpy.unpack_json_and_merge(\n",
    "        df, json_column='visitor_home_cbgs', key_col_name='visitor_cbg', \n",
    "        value_col_name='cbg_visitor_count', keep_index=False\n",
    "    )\n",
    "    df = df.groupby(group_by_cols).agg(aggregations).reset_index()\n",
    "    return df"
   ]
  },
  {
   "cell_type": "code",
   "execution_count": null,
   "metadata": {},
   "outputs": [],
   "source": [
    "processed_data_dir = os.path.join(root_dir,'data/processed')\n",
    "philly_patterns_file = os.path.join(processed_data_dir,\"philly_patterns.csv.tar.gz\")\n",
    "visitors_by_cbg = filter_and_explode(philly_patterns_file)\n",
    "visitors_by_cbg.to_csv(\n",
    "    os.path.join(processed_data_dir,'philly_visitors_by_cbg.csv.tar.gz'), index = False)"
   ]
  },
  {
   "cell_type": "code",
   "execution_count": null,
   "metadata": {},
   "outputs": [],
   "source": [
    "file = files[0]\n",
    "df = pd.read_csv(file)\n",
    "df = df[['safegraph_place_id'] + keep_cols]\n",
    "df['poi_cbg'] = df['poi_cbg'].astype(str)\n",
    "# zip codes are read as integers rather than strings so we add leading zeros.\n",
    "# this is not strictly necessary since Philadelphia zipcodes don't have leading zeros.\n",
    "df['postal_code'] = df['postal_code'].apply(lambda x: ('00000' + str(x))[-5:])\n",
    "df = philly_zips.merge(df)\n",
    "df = df.drop(columns = 'postal_code')\n",
    "# The visits_by_day column contains a list of integers. \n",
    "# This explodes that list so we get one row per day.\n",
    "df = sgpy.unpack_json_and_merge(\n",
    "    df, json_column='visitor_home_cbgs', key_col_name='visitor_cbg', \n",
    "    value_col_name='cbg_visitor_count', keep_index=False\n",
    ")\n",
    "grouped_df = df.groupby('safegraph_place_id').agg({'raw_visitor_counts': 'max', 'cbg_visitor_count': 'sum'}).reset_index()"
   ]
  },
  {
   "cell_type": "code",
   "execution_count": null,
   "metadata": {},
   "outputs": [],
   "source": [
    "grouped_df['percent_error'] = 100*(\n",
    "    grouped_df['cbg_visitor_count'] - grouped_df['raw_visitor_counts']\n",
    ")/grouped_df['raw_visitor_counts']"
   ]
  },
  {
   "cell_type": "code",
   "execution_count": null,
   "metadata": {},
   "outputs": [],
   "source": [
    "df[df['safegraph_place_id'] == 'sg:003249a954f84272be664ef43c7ffe07']"
   ]
  },
  {
   "cell_type": "code",
   "execution_count": null,
   "metadata": {},
   "outputs": [],
   "source": [
    "df['postal_code'] = df['postal_code'].apply(lambda x: ('00000' + str(x))[-5:])\n",
    "df = philly_zips.merge(df)"
   ]
  },
  {
   "cell_type": "code",
   "execution_count": null,
   "metadata": {},
   "outputs": [],
   "source": [
    "uniques = df[['safegraph_place_id', 'poi_cbg']].groupby('safegraph_place_id').poi_cbg.nunique()"
   ]
  },
  {
   "cell_type": "code",
   "execution_count": null,
   "metadata": {},
   "outputs": [],
   "source": [
    "# there are cbgs with more than one zipcode\n",
    "uniques[uniques > 1]"
   ]
  },
  {
   "cell_type": "code",
   "execution_count": null,
   "metadata": {},
   "outputs": [],
   "source": [
    "df = filter_and_explode(files[0])"
   ]
  },
  {
   "cell_type": "code",
   "execution_count": null,
   "metadata": {},
   "outputs": [],
   "source": [
    "df.head()"
   ]
  },
  {
   "cell_type": "code",
   "execution_count": null,
   "metadata": {},
   "outputs": [],
   "source": [
    "df['poi_cbg'] = df['poi_cbg'].astype(str)"
   ]
  },
  {
   "cell_type": "code",
   "execution_count": null,
   "metadata": {},
   "outputs": [],
   "source": []
  }
 ],
 "metadata": {
  "kernelspec": {
   "display_name": "Python 3",
   "language": "python",
   "name": "python3"
  },
  "language_info": {
   "codemirror_mode": {
    "name": "ipython",
    "version": 3
   },
   "file_extension": ".py",
   "mimetype": "text/x-python",
   "name": "python",
   "nbconvert_exporter": "python",
   "pygments_lexer": "ipython3",
   "version": "3.7.9"
  }
 },
 "nbformat": 4,
 "nbformat_minor": 4
}
