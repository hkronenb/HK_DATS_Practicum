{
 "cells": [
  {
   "cell_type": "code",
   "execution_count": 3,
   "metadata": {},
   "outputs": [],
   "source": [
    "import pandas as pd\n",
    "from safegraph_py_functions import safegraph_py_functions as sgpy\n",
    "import os\n",
    "from dotenv import load_dotenv, find_dotenv\n",
    "from loguru import logger\n",
    "from src import DATA_DIR"
   ]
  },
  {
   "cell_type": "code",
   "execution_count": 164,
   "metadata": {},
   "outputs": [],
   "source": [
    "pd.options.display.max_columns = 999"
   ]
  },
  {
   "cell_type": "code",
   "execution_count": 4,
   "metadata": {},
   "outputs": [],
   "source": [
    "# find .env automagically by walking up directories until it's found\n",
    "dotenv_path = find_dotenv()\n",
    "\n",
    "# load up the entries as environment variables\n",
    "load_dotenv(dotenv_path)\n",
    "raw_data_dir = DATA_DIR / 'raw'"
   ]
  },
  {
   "cell_type": "code",
   "execution_count": 5,
   "metadata": {},
   "outputs": [],
   "source": [
    "# if import is 0 it reads the data from the existing file\n",
    "# otherwise reads in the raw data an makes a unified dataset\n",
    "IMPORT = 0 "
   ]
  },
  {
   "cell_type": "code",
   "execution_count": 6,
   "metadata": {},
   "outputs": [],
   "source": [
    "# Read in all patterns files in the monthly-patterns folder\n",
    "def get_files():\n",
    "    patterns_path = raw_data_dir / \"monthly-patterns\"\n",
    "    files = []\n",
    "    for f in patterns_path.glob(\"**/*.csv.gz\"):\n",
    "        files.append(f)\n",
    "    return files"
   ]
  },
  {
   "cell_type": "code",
   "execution_count": 165,
   "metadata": {},
   "outputs": [],
   "source": [
    "def filter_to_philly(df):\n",
    "    # zip codes are read as integers rather than strings so we add leading zeros.\n",
    "    # this is not strictly necessary since Philadelphia zipcodes don't have leading zeros.\n",
    "    \n",
    "    # Philadelphia selection\n",
    "    # HK: adding leading zeros because some zipcodes in MA are 0191X.\n",
    "    df['postal_code'] = df['postal_code'].apply(lambda x: ('00000'+str(x))[-5:])\n",
    "    in_philly = df['postal_code'].astype(str).str.startswith(\"191\")\n",
    "    df = df.loc[in_philly]\n",
    "    df = df[['safegraph_place_id','date_range_start','postal_code', \n",
    "             'raw_visit_counts', 'raw_visitor_counts']]\n",
    "    \n",
    "    return df"
   ]
  },
  {
   "cell_type": "code",
   "execution_count": 332,
   "metadata": {},
   "outputs": [],
   "source": [
    "if IMPORT == 1:\n",
    "    philly_patterns = []\n",
    "    files = get_files()\n",
    "    for i, f in enumerate(files):\n",
    "        print(f)\n",
    "        philly_patterns.append(filter_to_philly(pd.read_csv(f)))\n",
    "    philly_patterns = pd.concat(philly_patterns)\n",
    "    philly_patterns.to_csv(\n",
    "        DATA_DIR / \"processed\" / \"kmeans_patterns.csv.tar.gz\", index=False\n",
    "    )\n",
    "else:\n",
    "    philly_patterns_all = pd.read_csv(\n",
    "        DATA_DIR / \"processed\" / \"philly_patterns.csv.tar.gz\", low_memory=False\n",
    "    )"
   ]
  },
  {
   "cell_type": "code",
   "execution_count": 333,
   "metadata": {},
   "outputs": [
    {
     "data": {
      "text/html": [
       "<div>\n",
       "<style scoped>\n",
       "    .dataframe tbody tr th:only-of-type {\n",
       "        vertical-align: middle;\n",
       "    }\n",
       "\n",
       "    .dataframe tbody tr th {\n",
       "        vertical-align: top;\n",
       "    }\n",
       "\n",
       "    .dataframe thead th {\n",
       "        text-align: right;\n",
       "    }\n",
       "</style>\n",
       "<table border=\"1\" class=\"dataframe\">\n",
       "  <thead>\n",
       "    <tr style=\"text-align: right;\">\n",
       "      <th></th>\n",
       "      <th>placekey</th>\n",
       "      <th>safegraph_place_id</th>\n",
       "      <th>parent_placekey</th>\n",
       "      <th>parent_safegraph_place_id</th>\n",
       "      <th>location_name</th>\n",
       "      <th>street_address</th>\n",
       "      <th>city</th>\n",
       "      <th>region</th>\n",
       "      <th>postal_code</th>\n",
       "      <th>safegraph_brand_ids</th>\n",
       "      <th>brands</th>\n",
       "      <th>date_range_start</th>\n",
       "      <th>date_range_end</th>\n",
       "      <th>raw_visit_counts</th>\n",
       "      <th>raw_visitor_counts</th>\n",
       "      <th>visits_by_day</th>\n",
       "      <th>poi_cbg</th>\n",
       "      <th>visitor_home_cbgs</th>\n",
       "      <th>visitor_daytime_cbgs</th>\n",
       "      <th>visitor_country_of_origin</th>\n",
       "      <th>distance_from_home</th>\n",
       "      <th>median_dwell</th>\n",
       "      <th>bucketed_dwell_times</th>\n",
       "      <th>related_same_day_brand</th>\n",
       "      <th>related_same_month_brand</th>\n",
       "      <th>popularity_by_hour</th>\n",
       "      <th>popularity_by_day</th>\n",
       "      <th>device_type</th>\n",
       "      <th>top_category</th>\n",
       "      <th>sub_category</th>\n",
       "      <th>category_tags</th>\n",
       "      <th>naics_code</th>\n",
       "      <th>latitude</th>\n",
       "      <th>longitude</th>\n",
       "      <th>iso_country_code</th>\n",
       "      <th>phone_number</th>\n",
       "      <th>open_hours</th>\n",
       "      <th>opened_on</th>\n",
       "      <th>closed_on</th>\n",
       "      <th>tracking_opened_since</th>\n",
       "      <th>tracking_closed_since</th>\n",
       "    </tr>\n",
       "  </thead>\n",
       "  <tbody>\n",
       "    <tr>\n",
       "      <th>0</th>\n",
       "      <td>22m-223@628-p8h-nbk</td>\n",
       "      <td>sg:05ede5a3192b44638dcd954d369b4856</td>\n",
       "      <td>NaN</td>\n",
       "      <td>NaN</td>\n",
       "      <td>Save-A-Lot</td>\n",
       "      <td>6801 Frankford Ave</td>\n",
       "      <td>Philadelphia</td>\n",
       "      <td>PA</td>\n",
       "      <td>19135</td>\n",
       "      <td>SG_BRAND_c5a2c9092cad648bc1ee9c9be08f83ab</td>\n",
       "      <td>Save-A-Lot</td>\n",
       "      <td>2021-02-01T00:00:00-05:00</td>\n",
       "      <td>2021-03-01T00:00:00-05:00</td>\n",
       "      <td>164.0</td>\n",
       "      <td>127.0</td>\n",
       "      <td>[3,8,4,4,6,6,6,13,5,5,3,6,5,6,3,10,6,5,3,11,6,...</td>\n",
       "      <td>4.210103e+11</td>\n",
       "      <td>{\"420912019014\":5,\"421010315012\":5,\"4210103150...</td>\n",
       "      <td>{\"421010319005\":6,\"421010349001\":5,\"4210103150...</td>\n",
       "      <td>{\"US\":121}</td>\n",
       "      <td>1408.0</td>\n",
       "      <td>17.0</td>\n",
       "      <td>{\"&lt;5\":11,\"5-10\":50,\"11-20\":38,\"21-60\":56,\"61-1...</td>\n",
       "      <td>{\"Planet Fitness\":16,\"Petco\":10}</td>\n",
       "      <td>{\"ShopRite\":53,\"Wawa\":48,\"Dunkin'\":42,\"Dollar ...</td>\n",
       "      <td>[0,0,0,0,0,3,2,8,6,12,15,20,30,22,20,17,25,14,...</td>\n",
       "      <td>{\"Monday\":25,\"Tuesday\":31,\"Wednesday\":19,\"Thur...</td>\n",
       "      <td>{\"android\":82,\"ios\":44}</td>\n",
       "      <td>NaN</td>\n",
       "      <td>NaN</td>\n",
       "      <td>NaN</td>\n",
       "      <td>NaN</td>\n",
       "      <td>NaN</td>\n",
       "      <td>NaN</td>\n",
       "      <td>NaN</td>\n",
       "      <td>NaN</td>\n",
       "      <td>NaN</td>\n",
       "      <td>NaN</td>\n",
       "      <td>NaN</td>\n",
       "      <td>NaN</td>\n",
       "      <td>NaN</td>\n",
       "    </tr>\n",
       "    <tr>\n",
       "      <th>1</th>\n",
       "      <td>22b-222@628-p7b-vmk</td>\n",
       "      <td>sg:1501a801e04b4615b1af620ccf1a2e48</td>\n",
       "      <td>NaN</td>\n",
       "      <td>NaN</td>\n",
       "      <td>CARQUEST Auto Parts</td>\n",
       "      <td>3093 Holme Ave</td>\n",
       "      <td>Philadelphia</td>\n",
       "      <td>PA</td>\n",
       "      <td>19136</td>\n",
       "      <td>SG_BRAND_ed5a1ef3e85b774022eb505cf6f184ee</td>\n",
       "      <td>CARQUEST Auto Parts</td>\n",
       "      <td>2021-02-01T00:00:00-05:00</td>\n",
       "      <td>2021-03-01T00:00:00-05:00</td>\n",
       "      <td>2.0</td>\n",
       "      <td>2.0</td>\n",
       "      <td>[0,0,0,0,0,0,0,0,0,0,0,0,0,1,0,0,0,1,0,0,0,0,0...</td>\n",
       "      <td>4.210103e+11</td>\n",
       "      <td>{}</td>\n",
       "      <td>{}</td>\n",
       "      <td>{}</td>\n",
       "      <td>NaN</td>\n",
       "      <td>29.0</td>\n",
       "      <td>{\"&lt;5\":0,\"5-10\":1,\"11-20\":0,\"21-60\":1,\"61-120\":...</td>\n",
       "      <td>{}</td>\n",
       "      <td>{\"Wawa\":99,\"Dunkin'\":97,\"The Fresh Works\":50,\"...</td>\n",
       "      <td>[0,0,0,0,0,0,0,0,0,0,0,0,0,0,1,0,0,0,0,0,1,0,0,0]</td>\n",
       "      <td>{\"Monday\":0,\"Tuesday\":0,\"Wednesday\":0,\"Thursda...</td>\n",
       "      <td>{\"android\":0,\"ios\":0}</td>\n",
       "      <td>NaN</td>\n",
       "      <td>NaN</td>\n",
       "      <td>NaN</td>\n",
       "      <td>NaN</td>\n",
       "      <td>NaN</td>\n",
       "      <td>NaN</td>\n",
       "      <td>NaN</td>\n",
       "      <td>NaN</td>\n",
       "      <td>NaN</td>\n",
       "      <td>NaN</td>\n",
       "      <td>NaN</td>\n",
       "      <td>NaN</td>\n",
       "      <td>NaN</td>\n",
       "    </tr>\n",
       "    <tr>\n",
       "      <th>2</th>\n",
       "      <td>222-222@628-p9k-y9z</td>\n",
       "      <td>sg:1d184d77616941d2afa14b4d3831d7e4</td>\n",
       "      <td>NaN</td>\n",
       "      <td>NaN</td>\n",
       "      <td>Extra Space Storage</td>\n",
       "      <td>11501 Roosevelt Blvd</td>\n",
       "      <td>Philadelphia</td>\n",
       "      <td>PA</td>\n",
       "      <td>19154</td>\n",
       "      <td>SG_BRAND_25f99d0cc5d6078042c8f466f6a8fa83</td>\n",
       "      <td>Extra Space Storage</td>\n",
       "      <td>2021-02-01T00:00:00-05:00</td>\n",
       "      <td>2021-03-01T00:00:00-05:00</td>\n",
       "      <td>27.0</td>\n",
       "      <td>18.0</td>\n",
       "      <td>[2,0,1,1,0,1,2,0,1,0,1,0,0,1,1,2,0,1,0,2,1,3,3...</td>\n",
       "      <td>4.210198e+11</td>\n",
       "      <td>{\"421010301004\":4,\"421010336005\":4,\"4209120150...</td>\n",
       "      <td>{\"421010345011\":4,\"420171014033\":4,\"4210103530...</td>\n",
       "      <td>{\"US\":17}</td>\n",
       "      <td>6462.0</td>\n",
       "      <td>15.0</td>\n",
       "      <td>{\"&lt;5\":0,\"5-10\":9,\"11-20\":9,\"21-60\":6,\"61-120\":...</td>\n",
       "      <td>{}</td>\n",
       "      <td>{\"Wawa\":66,\"Dunkin'\":63,\"CVS\":45,\"Sunoco\":42,\"...</td>\n",
       "      <td>[1,2,2,1,0,0,0,0,1,3,6,2,4,2,2,3,4,6,2,0,0,0,0,1]</td>\n",
       "      <td>{\"Monday\":6,\"Tuesday\":6,\"Wednesday\":1,\"Thursda...</td>\n",
       "      <td>{\"android\":12,\"ios\":6}</td>\n",
       "      <td>NaN</td>\n",
       "      <td>NaN</td>\n",
       "      <td>NaN</td>\n",
       "      <td>NaN</td>\n",
       "      <td>NaN</td>\n",
       "      <td>NaN</td>\n",
       "      <td>NaN</td>\n",
       "      <td>NaN</td>\n",
       "      <td>NaN</td>\n",
       "      <td>NaN</td>\n",
       "      <td>NaN</td>\n",
       "      <td>NaN</td>\n",
       "      <td>NaN</td>\n",
       "    </tr>\n",
       "    <tr>\n",
       "      <th>3</th>\n",
       "      <td>22j-222@628-pgj-3yv</td>\n",
       "      <td>sg:359580c4d0c24a3aae50813992af8b35</td>\n",
       "      <td>NaN</td>\n",
       "      <td>NaN</td>\n",
       "      <td>La Cienaga Deli Grocery</td>\n",
       "      <td>601 Cecil B Moore Ave</td>\n",
       "      <td>Philadelphia</td>\n",
       "      <td>PA</td>\n",
       "      <td>19122</td>\n",
       "      <td>NaN</td>\n",
       "      <td>NaN</td>\n",
       "      <td>2021-02-01T00:00:00-05:00</td>\n",
       "      <td>2021-03-01T00:00:00-05:00</td>\n",
       "      <td>12.0</td>\n",
       "      <td>11.0</td>\n",
       "      <td>[0,1,0,0,0,1,0,0,0,0,0,0,1,1,2,1,0,0,1,1,1,0,0...</td>\n",
       "      <td>4.210101e+11</td>\n",
       "      <td>{\"060290028132\":4}</td>\n",
       "      <td>{\"060371012101\":4}</td>\n",
       "      <td>{\"US\":6}</td>\n",
       "      <td>16608.0</td>\n",
       "      <td>119.0</td>\n",
       "      <td>{\"&lt;5\":0,\"5-10\":2,\"11-20\":2,\"21-60\":1,\"61-120\":...</td>\n",
       "      <td>{}</td>\n",
       "      <td>{\"Brightside Academy\":9,\"United Refrigeration\"...</td>\n",
       "      <td>[1,1,1,3,3,6,5,4,3,3,2,2,2,1,1,0,0,0,0,0,0,0,0,1]</td>\n",
       "      <td>{\"Monday\":2,\"Tuesday\":2,\"Wednesday\":0,\"Thursda...</td>\n",
       "      <td>{\"android\":11,\"ios\":0}</td>\n",
       "      <td>NaN</td>\n",
       "      <td>NaN</td>\n",
       "      <td>NaN</td>\n",
       "      <td>NaN</td>\n",
       "      <td>NaN</td>\n",
       "      <td>NaN</td>\n",
       "      <td>NaN</td>\n",
       "      <td>NaN</td>\n",
       "      <td>NaN</td>\n",
       "      <td>NaN</td>\n",
       "      <td>NaN</td>\n",
       "      <td>NaN</td>\n",
       "      <td>NaN</td>\n",
       "    </tr>\n",
       "    <tr>\n",
       "      <th>4</th>\n",
       "      <td>222-223@628-pzn-zfz</td>\n",
       "      <td>sg:6255ef7faad24ed6a77887c62294abcb</td>\n",
       "      <td>NaN</td>\n",
       "      <td>NaN</td>\n",
       "      <td>Brian Cesar Remax 2000</td>\n",
       "      <td>14500 Bustleton Ave</td>\n",
       "      <td>Philadelphia</td>\n",
       "      <td>PA</td>\n",
       "      <td>19116</td>\n",
       "      <td>NaN</td>\n",
       "      <td>NaN</td>\n",
       "      <td>2021-02-01T00:00:00-05:00</td>\n",
       "      <td>2021-03-01T00:00:00-05:00</td>\n",
       "      <td>3.0</td>\n",
       "      <td>3.0</td>\n",
       "      <td>[0,1,0,0,0,0,0,0,0,0,1,0,0,0,0,0,0,0,0,0,0,0,0...</td>\n",
       "      <td>4.210104e+11</td>\n",
       "      <td>{\"421010363033\":4}</td>\n",
       "      <td>{\"421010363033\":4}</td>\n",
       "      <td>{}</td>\n",
       "      <td>NaN</td>\n",
       "      <td>40.0</td>\n",
       "      <td>{\"&lt;5\":0,\"5-10\":1,\"11-20\":0,\"21-60\":1,\"61-120\":...</td>\n",
       "      <td>{}</td>\n",
       "      <td>{\"Net Cost Market\":33,\"Radiator\":33,\"Philly Pr...</td>\n",
       "      <td>[0,0,0,0,0,0,0,0,0,0,0,0,0,0,0,0,0,0,0,3,2,0,0,0]</td>\n",
       "      <td>{\"Monday\":0,\"Tuesday\":1,\"Wednesday\":0,\"Thursda...</td>\n",
       "      <td>{\"android\":0,\"ios\":0}</td>\n",
       "      <td>NaN</td>\n",
       "      <td>NaN</td>\n",
       "      <td>NaN</td>\n",
       "      <td>NaN</td>\n",
       "      <td>NaN</td>\n",
       "      <td>NaN</td>\n",
       "      <td>NaN</td>\n",
       "      <td>NaN</td>\n",
       "      <td>NaN</td>\n",
       "      <td>NaN</td>\n",
       "      <td>NaN</td>\n",
       "      <td>NaN</td>\n",
       "      <td>NaN</td>\n",
       "    </tr>\n",
       "  </tbody>\n",
       "</table>\n",
       "</div>"
      ],
      "text/plain": [
       "              placekey                   safegraph_place_id parent_placekey  \\\n",
       "0  22m-223@628-p8h-nbk  sg:05ede5a3192b44638dcd954d369b4856             NaN   \n",
       "1  22b-222@628-p7b-vmk  sg:1501a801e04b4615b1af620ccf1a2e48             NaN   \n",
       "2  222-222@628-p9k-y9z  sg:1d184d77616941d2afa14b4d3831d7e4             NaN   \n",
       "3  22j-222@628-pgj-3yv  sg:359580c4d0c24a3aae50813992af8b35             NaN   \n",
       "4  222-223@628-pzn-zfz  sg:6255ef7faad24ed6a77887c62294abcb             NaN   \n",
       "\n",
       "  parent_safegraph_place_id            location_name         street_address  \\\n",
       "0                       NaN               Save-A-Lot     6801 Frankford Ave   \n",
       "1                       NaN      CARQUEST Auto Parts         3093 Holme Ave   \n",
       "2                       NaN      Extra Space Storage   11501 Roosevelt Blvd   \n",
       "3                       NaN  La Cienaga Deli Grocery  601 Cecil B Moore Ave   \n",
       "4                       NaN   Brian Cesar Remax 2000    14500 Bustleton Ave   \n",
       "\n",
       "           city region  postal_code  \\\n",
       "0  Philadelphia     PA        19135   \n",
       "1  Philadelphia     PA        19136   \n",
       "2  Philadelphia     PA        19154   \n",
       "3  Philadelphia     PA        19122   \n",
       "4  Philadelphia     PA        19116   \n",
       "\n",
       "                         safegraph_brand_ids               brands  \\\n",
       "0  SG_BRAND_c5a2c9092cad648bc1ee9c9be08f83ab           Save-A-Lot   \n",
       "1  SG_BRAND_ed5a1ef3e85b774022eb505cf6f184ee  CARQUEST Auto Parts   \n",
       "2  SG_BRAND_25f99d0cc5d6078042c8f466f6a8fa83  Extra Space Storage   \n",
       "3                                        NaN                  NaN   \n",
       "4                                        NaN                  NaN   \n",
       "\n",
       "            date_range_start             date_range_end  raw_visit_counts  \\\n",
       "0  2021-02-01T00:00:00-05:00  2021-03-01T00:00:00-05:00             164.0   \n",
       "1  2021-02-01T00:00:00-05:00  2021-03-01T00:00:00-05:00               2.0   \n",
       "2  2021-02-01T00:00:00-05:00  2021-03-01T00:00:00-05:00              27.0   \n",
       "3  2021-02-01T00:00:00-05:00  2021-03-01T00:00:00-05:00              12.0   \n",
       "4  2021-02-01T00:00:00-05:00  2021-03-01T00:00:00-05:00               3.0   \n",
       "\n",
       "   raw_visitor_counts                                      visits_by_day  \\\n",
       "0               127.0  [3,8,4,4,6,6,6,13,5,5,3,6,5,6,3,10,6,5,3,11,6,...   \n",
       "1                 2.0  [0,0,0,0,0,0,0,0,0,0,0,0,0,1,0,0,0,1,0,0,0,0,0...   \n",
       "2                18.0  [2,0,1,1,0,1,2,0,1,0,1,0,0,1,1,2,0,1,0,2,1,3,3...   \n",
       "3                11.0  [0,1,0,0,0,1,0,0,0,0,0,0,1,1,2,1,0,0,1,1,1,0,0...   \n",
       "4                 3.0  [0,1,0,0,0,0,0,0,0,0,1,0,0,0,0,0,0,0,0,0,0,0,0...   \n",
       "\n",
       "        poi_cbg                                  visitor_home_cbgs  \\\n",
       "0  4.210103e+11  {\"420912019014\":5,\"421010315012\":5,\"4210103150...   \n",
       "1  4.210103e+11                                                 {}   \n",
       "2  4.210198e+11  {\"421010301004\":4,\"421010336005\":4,\"4209120150...   \n",
       "3  4.210101e+11                                 {\"060290028132\":4}   \n",
       "4  4.210104e+11                                 {\"421010363033\":4}   \n",
       "\n",
       "                                visitor_daytime_cbgs  \\\n",
       "0  {\"421010319005\":6,\"421010349001\":5,\"4210103150...   \n",
       "1                                                 {}   \n",
       "2  {\"421010345011\":4,\"420171014033\":4,\"4210103530...   \n",
       "3                                 {\"060371012101\":4}   \n",
       "4                                 {\"421010363033\":4}   \n",
       "\n",
       "  visitor_country_of_origin  distance_from_home  median_dwell  \\\n",
       "0                {\"US\":121}              1408.0          17.0   \n",
       "1                        {}                 NaN          29.0   \n",
       "2                 {\"US\":17}              6462.0          15.0   \n",
       "3                  {\"US\":6}             16608.0         119.0   \n",
       "4                        {}                 NaN          40.0   \n",
       "\n",
       "                                bucketed_dwell_times  \\\n",
       "0  {\"<5\":11,\"5-10\":50,\"11-20\":38,\"21-60\":56,\"61-1...   \n",
       "1  {\"<5\":0,\"5-10\":1,\"11-20\":0,\"21-60\":1,\"61-120\":...   \n",
       "2  {\"<5\":0,\"5-10\":9,\"11-20\":9,\"21-60\":6,\"61-120\":...   \n",
       "3  {\"<5\":0,\"5-10\":2,\"11-20\":2,\"21-60\":1,\"61-120\":...   \n",
       "4  {\"<5\":0,\"5-10\":1,\"11-20\":0,\"21-60\":1,\"61-120\":...   \n",
       "\n",
       "             related_same_day_brand  \\\n",
       "0  {\"Planet Fitness\":16,\"Petco\":10}   \n",
       "1                                {}   \n",
       "2                                {}   \n",
       "3                                {}   \n",
       "4                                {}   \n",
       "\n",
       "                            related_same_month_brand  \\\n",
       "0  {\"ShopRite\":53,\"Wawa\":48,\"Dunkin'\":42,\"Dollar ...   \n",
       "1  {\"Wawa\":99,\"Dunkin'\":97,\"The Fresh Works\":50,\"...   \n",
       "2  {\"Wawa\":66,\"Dunkin'\":63,\"CVS\":45,\"Sunoco\":42,\"...   \n",
       "3  {\"Brightside Academy\":9,\"United Refrigeration\"...   \n",
       "4  {\"Net Cost Market\":33,\"Radiator\":33,\"Philly Pr...   \n",
       "\n",
       "                                  popularity_by_hour  \\\n",
       "0  [0,0,0,0,0,3,2,8,6,12,15,20,30,22,20,17,25,14,...   \n",
       "1  [0,0,0,0,0,0,0,0,0,0,0,0,0,0,1,0,0,0,0,0,1,0,0,0]   \n",
       "2  [1,2,2,1,0,0,0,0,1,3,6,2,4,2,2,3,4,6,2,0,0,0,0,1]   \n",
       "3  [1,1,1,3,3,6,5,4,3,3,2,2,2,1,1,0,0,0,0,0,0,0,0,1]   \n",
       "4  [0,0,0,0,0,0,0,0,0,0,0,0,0,0,0,0,0,0,0,3,2,0,0,0]   \n",
       "\n",
       "                                   popularity_by_day              device_type  \\\n",
       "0  {\"Monday\":25,\"Tuesday\":31,\"Wednesday\":19,\"Thur...  {\"android\":82,\"ios\":44}   \n",
       "1  {\"Monday\":0,\"Tuesday\":0,\"Wednesday\":0,\"Thursda...    {\"android\":0,\"ios\":0}   \n",
       "2  {\"Monday\":6,\"Tuesday\":6,\"Wednesday\":1,\"Thursda...   {\"android\":12,\"ios\":6}   \n",
       "3  {\"Monday\":2,\"Tuesday\":2,\"Wednesday\":0,\"Thursda...   {\"android\":11,\"ios\":0}   \n",
       "4  {\"Monday\":0,\"Tuesday\":1,\"Wednesday\":0,\"Thursda...    {\"android\":0,\"ios\":0}   \n",
       "\n",
       "  top_category sub_category category_tags  naics_code  latitude  longitude  \\\n",
       "0          NaN          NaN           NaN         NaN       NaN        NaN   \n",
       "1          NaN          NaN           NaN         NaN       NaN        NaN   \n",
       "2          NaN          NaN           NaN         NaN       NaN        NaN   \n",
       "3          NaN          NaN           NaN         NaN       NaN        NaN   \n",
       "4          NaN          NaN           NaN         NaN       NaN        NaN   \n",
       "\n",
       "  iso_country_code  phone_number open_hours opened_on  closed_on  \\\n",
       "0              NaN           NaN        NaN       NaN        NaN   \n",
       "1              NaN           NaN        NaN       NaN        NaN   \n",
       "2              NaN           NaN        NaN       NaN        NaN   \n",
       "3              NaN           NaN        NaN       NaN        NaN   \n",
       "4              NaN           NaN        NaN       NaN        NaN   \n",
       "\n",
       "  tracking_opened_since tracking_closed_since  \n",
       "0                   NaN                   NaN  \n",
       "1                   NaN                   NaN  \n",
       "2                   NaN                   NaN  \n",
       "3                   NaN                   NaN  \n",
       "4                   NaN                   NaN  "
      ]
     },
     "execution_count": 333,
     "metadata": {},
     "output_type": "execute_result"
    }
   ],
   "source": [
    "philly_patterns_all.head()"
   ]
  },
  {
   "cell_type": "markdown",
   "metadata": {},
   "source": [
    "Number of unique safegraph ids:"
   ]
  },
  {
   "cell_type": "code",
   "execution_count": 334,
   "metadata": {},
   "outputs": [
    {
     "data": {
      "text/plain": [
       "24390"
      ]
     },
     "execution_count": 334,
     "metadata": {},
     "output_type": "execute_result"
    }
   ],
   "source": [
    "philly_patterns_all['safegraph_place_id'].nunique()"
   ]
  },
  {
   "cell_type": "markdown",
   "metadata": {},
   "source": [
    "Get POIs with category info:"
   ]
  },
  {
   "cell_type": "code",
   "execution_count": 335,
   "metadata": {},
   "outputs": [],
   "source": [
    "categories = (\n",
    "    philly_patterns_all.dropna(subset=[\"top_category\"])\n",
    "    .drop_duplicates(subset=[\"safegraph_place_id\", \"top_category\"])\n",
    "    .sort_values(\"date_range_start\", ascending=False)\n",
    "    .drop_duplicates(subset=[\"safegraph_place_id\"])\n",
    ")[[\"safegraph_place_id\", \"top_category\"]]"
   ]
  },
  {
   "cell_type": "code",
   "execution_count": 336,
   "metadata": {},
   "outputs": [
    {
     "data": {
      "text/html": [
       "<div>\n",
       "<style scoped>\n",
       "    .dataframe tbody tr th:only-of-type {\n",
       "        vertical-align: middle;\n",
       "    }\n",
       "\n",
       "    .dataframe tbody tr th {\n",
       "        vertical-align: top;\n",
       "    }\n",
       "\n",
       "    .dataframe thead th {\n",
       "        text-align: right;\n",
       "    }\n",
       "</style>\n",
       "<table border=\"1\" class=\"dataframe\">\n",
       "  <thead>\n",
       "    <tr style=\"text-align: right;\">\n",
       "      <th></th>\n",
       "      <th>safegraph_place_id</th>\n",
       "      <th>top_category</th>\n",
       "    </tr>\n",
       "  </thead>\n",
       "  <tbody>\n",
       "    <tr>\n",
       "      <th>71707</th>\n",
       "      <td>sg:0c38b4babff44be89a882f055247984a</td>\n",
       "      <td>Elementary and Secondary Schools</td>\n",
       "    </tr>\n",
       "    <tr>\n",
       "      <th>87715</th>\n",
       "      <td>sg:9e77c1e0a2e54a42b78de85a9b020c59</td>\n",
       "      <td>Child Day Care Services</td>\n",
       "    </tr>\n",
       "    <tr>\n",
       "      <th>87735</th>\n",
       "      <td>sg:50b7fe69cdc8481b937cf9ecac7d9606</td>\n",
       "      <td>Depository Credit Intermediation</td>\n",
       "    </tr>\n",
       "    <tr>\n",
       "      <th>87733</th>\n",
       "      <td>sg:1afd843ec3ae49b8a8691b4b99721ffd</td>\n",
       "      <td>Shoe Stores</td>\n",
       "    </tr>\n",
       "    <tr>\n",
       "      <th>87732</th>\n",
       "      <td>sg:1ada4ff9e9404fa5bcb6ae02f60b7eda</td>\n",
       "      <td>Florists</td>\n",
       "    </tr>\n",
       "  </tbody>\n",
       "</table>\n",
       "</div>"
      ],
      "text/plain": [
       "                        safegraph_place_id                      top_category\n",
       "71707  sg:0c38b4babff44be89a882f055247984a  Elementary and Secondary Schools\n",
       "87715  sg:9e77c1e0a2e54a42b78de85a9b020c59           Child Day Care Services\n",
       "87735  sg:50b7fe69cdc8481b937cf9ecac7d9606  Depository Credit Intermediation\n",
       "87733  sg:1afd843ec3ae49b8a8691b4b99721ffd                       Shoe Stores\n",
       "87732  sg:1ada4ff9e9404fa5bcb6ae02f60b7eda                          Florists"
      ]
     },
     "execution_count": 336,
     "metadata": {},
     "output_type": "execute_result"
    }
   ],
   "source": [
    "categories.head()"
   ]
  },
  {
   "cell_type": "markdown",
   "metadata": {},
   "source": [
    "Number of POI with category info:"
   ]
  },
  {
   "cell_type": "code",
   "execution_count": 337,
   "metadata": {},
   "outputs": [
    {
     "data": {
      "text/plain": [
       "23441"
      ]
     },
     "execution_count": 337,
     "metadata": {},
     "output_type": "execute_result"
    }
   ],
   "source": [
    "categories['safegraph_place_id'].nunique()"
   ]
  },
  {
   "cell_type": "markdown",
   "metadata": {},
   "source": [
    "Merge in category info and drop those without a category:"
   ]
  },
  {
   "cell_type": "code",
   "execution_count": 418,
   "metadata": {},
   "outputs": [],
   "source": [
    "philly_patterns = philly_patterns_all.drop(labels=[\"top_category\"], axis=1).merge(\n",
    "    categories, on=\"safegraph_place_id\"\n",
    ")"
   ]
  },
  {
   "cell_type": "markdown",
   "metadata": {},
   "source": [
    "No more missing categories:"
   ]
  },
  {
   "cell_type": "code",
   "execution_count": 419,
   "metadata": {},
   "outputs": [
    {
     "data": {
      "text/plain": [
       "0"
      ]
     },
     "execution_count": 419,
     "metadata": {},
     "output_type": "execute_result"
    }
   ],
   "source": [
    "philly_patterns['top_category'].isnull().sum()"
   ]
  },
  {
   "cell_type": "markdown",
   "metadata": {},
   "source": [
    "Trim to the columns we need:"
   ]
  },
  {
   "cell_type": "code",
   "execution_count": 420,
   "metadata": {},
   "outputs": [],
   "source": [
    "philly_patterns = philly_patterns[\n",
    "    [\n",
    "        \"safegraph_place_id\",\n",
    "        \"date_range_start\",\n",
    "        \"date_range_end\",\n",
    "        \"raw_visit_counts\",\n",
    "        \"raw_visitor_counts\",\n",
    "        \"poi_cbg\",\n",
    "        \"top_category\",\n",
    "    ]\n",
    "]"
   ]
  },
  {
   "cell_type": "markdown",
   "metadata": {},
   "source": [
    "Make datetime columns:"
   ]
  },
  {
   "cell_type": "code",
   "execution_count": 421,
   "metadata": {},
   "outputs": [],
   "source": [
    "philly_patterns[\"date_range_start\"] = pd.to_datetime(\n",
    "    philly_patterns[\"date_range_start\"].astype(str).apply(lambda x: x[:10])\n",
    ")\n",
    "\n",
    "philly_patterns[\"date_range_end\"] = pd.to_datetime(\n",
    "    philly_patterns[\"date_range_end\"].astype(str).apply(lambda x: x[:10])\n",
    ")"
   ]
  },
  {
   "cell_type": "code",
   "execution_count": 422,
   "metadata": {},
   "outputs": [],
   "source": [
    "# philly_patterns[\"poi_cbg\"] = philly_patterns[\"poi_cbg\"].astype(int)"
   ]
  },
  {
   "cell_type": "code",
   "execution_count": 423,
   "metadata": {},
   "outputs": [],
   "source": [
    "# census_path = DATA_DIR / 'raw' / 'open-census-data'\n",
    "# files = [file for file in census_path.glob('**/cbg_b19.csv')]\n",
    "# census = pd.read_csv(files[0])\n",
    "# census =  census[['census_block_group','B19013e1']]"
   ]
  },
  {
   "cell_type": "code",
   "execution_count": 424,
   "metadata": {},
   "outputs": [],
   "source": [
    "# philly_patterns = philly_patterns.merge(census, left_on = 'poi_cbg', right_on = 'census_block_group', how = 'left')\n",
    "# philly_patterns.drop(columns = 'census_block_group', inplace = True)"
   ]
  },
  {
   "cell_type": "code",
   "execution_count": 425,
   "metadata": {},
   "outputs": [],
   "source": [
    "# philly_patterns['income_missing'] = philly_patterns['B19013e1'].isna().astype(int)\n",
    "# philly_patterns['B19013e1'].fillna(value=philly_patterns['B19013e1'].mean(), inplace=True)"
   ]
  },
  {
   "cell_type": "code",
   "execution_count": 426,
   "metadata": {},
   "outputs": [],
   "source": [
    "# for files with information disaggregated at the state level, keep only the country-wide info\n",
    "def keep_total_level(norm_stats):\n",
    "    if \"region\" in norm_stats.columns:\n",
    "        if len(norm_stats[norm_stats[\"region\"] == \"ALL_STATES\"]) == 0:\n",
    "            raise ValueError('no region named \"ALL_STATES\"')\n",
    "        norm_stats = norm_stats[norm_stats[\"region\"] == \"ALL_STATES\"]\n",
    "        norm_stats = norm_stats.drop(columns=[\"region\"])\n",
    "    return norm_stats\n",
    "\n",
    "\n",
    "patterns_path = raw_data_dir / \"monthly-patterns-2020-12\"\n",
    "\n",
    "\n",
    "norm_files = [f for f in patterns_path.glob(\"**/normalization_stats.csv\")]\n",
    "# read in normalization data\n",
    "norm_stats = pd.concat([keep_total_level(pd.read_csv(file)) for file in norm_files])\n",
    "norm_stats[\"year\"] = norm_stats[\"year\"].astype(int)\n",
    "norm_stats[\"month\"] = norm_stats[\"month\"].astype(int)\n",
    "norm_stats[\"day\"] = norm_stats[\"day\"].astype(int)\n",
    "# HK: I only downloaded patterns data from 2019 onwards due to memory constraints\n",
    "norm_stats = norm_stats[norm_stats[\"year\"] >= 2019]\n",
    "norm_stats.reset_index(inplace=True, drop=True)"
   ]
  },
  {
   "cell_type": "code",
   "execution_count": 427,
   "metadata": {},
   "outputs": [
    {
     "data": {
      "text/html": [
       "<div>\n",
       "<style scoped>\n",
       "    .dataframe tbody tr th:only-of-type {\n",
       "        vertical-align: middle;\n",
       "    }\n",
       "\n",
       "    .dataframe tbody tr th {\n",
       "        vertical-align: top;\n",
       "    }\n",
       "\n",
       "    .dataframe thead th {\n",
       "        text-align: right;\n",
       "    }\n",
       "</style>\n",
       "<table border=\"1\" class=\"dataframe\">\n",
       "  <thead>\n",
       "    <tr style=\"text-align: right;\">\n",
       "      <th></th>\n",
       "      <th>year</th>\n",
       "      <th>month</th>\n",
       "      <th>day</th>\n",
       "      <th>total_visits</th>\n",
       "      <th>total_devices_seen</th>\n",
       "      <th>total_home_visits</th>\n",
       "      <th>total_home_visitors</th>\n",
       "    </tr>\n",
       "  </thead>\n",
       "  <tbody>\n",
       "    <tr>\n",
       "      <th>0</th>\n",
       "      <td>2019</td>\n",
       "      <td>3</td>\n",
       "      <td>1</td>\n",
       "      <td>71494424</td>\n",
       "      <td>20818199</td>\n",
       "      <td>29867861</td>\n",
       "      <td>17558627</td>\n",
       "    </tr>\n",
       "    <tr>\n",
       "      <th>1</th>\n",
       "      <td>2019</td>\n",
       "      <td>3</td>\n",
       "      <td>2</td>\n",
       "      <td>64944421</td>\n",
       "      <td>20621293</td>\n",
       "      <td>28759442</td>\n",
       "      <td>17376856</td>\n",
       "    </tr>\n",
       "    <tr>\n",
       "      <th>2</th>\n",
       "      <td>2019</td>\n",
       "      <td>3</td>\n",
       "      <td>3</td>\n",
       "      <td>57808859</td>\n",
       "      <td>20708026</td>\n",
       "      <td>30021148</td>\n",
       "      <td>18297714</td>\n",
       "    </tr>\n",
       "    <tr>\n",
       "      <th>3</th>\n",
       "      <td>2019</td>\n",
       "      <td>3</td>\n",
       "      <td>4</td>\n",
       "      <td>66366221</td>\n",
       "      <td>20974271</td>\n",
       "      <td>30616720</td>\n",
       "      <td>18126681</td>\n",
       "    </tr>\n",
       "    <tr>\n",
       "      <th>4</th>\n",
       "      <td>2019</td>\n",
       "      <td>3</td>\n",
       "      <td>5</td>\n",
       "      <td>66513792</td>\n",
       "      <td>20246899</td>\n",
       "      <td>29591990</td>\n",
       "      <td>17466477</td>\n",
       "    </tr>\n",
       "  </tbody>\n",
       "</table>\n",
       "</div>"
      ],
      "text/plain": [
       "   year  month  day  total_visits  total_devices_seen  total_home_visits  \\\n",
       "0  2019      3    1      71494424            20818199           29867861   \n",
       "1  2019      3    2      64944421            20621293           28759442   \n",
       "2  2019      3    3      57808859            20708026           30021148   \n",
       "3  2019      3    4      66366221            20974271           30616720   \n",
       "4  2019      3    5      66513792            20246899           29591990   \n",
       "\n",
       "   total_home_visitors  \n",
       "0             17558627  \n",
       "1             17376856  \n",
       "2             18297714  \n",
       "3             18126681  \n",
       "4             17466477  "
      ]
     },
     "execution_count": 427,
     "metadata": {},
     "output_type": "execute_result"
    }
   ],
   "source": [
    "norm_stats.head()"
   ]
  },
  {
   "cell_type": "code",
   "execution_count": 428,
   "metadata": {},
   "outputs": [],
   "source": [
    "norm_stats[\"date\"] = pd.to_datetime(\n",
    "    (norm_stats.year * 10000 + norm_stats.month * 100 + norm_stats.day).apply(str),\n",
    "    format=\"%Y%m%d\",\n",
    ")"
   ]
  },
  {
   "cell_type": "code",
   "execution_count": 429,
   "metadata": {},
   "outputs": [],
   "source": [
    "date_ranges = (\n",
    "    philly_patterns[[\"date_range_start\", \"date_range_end\"]]\n",
    "    .drop_duplicates()\n",
    "    .sort_values(\"date_range_start\")\n",
    "    .reset_index(drop=True)\n",
    "    .dropna()\n",
    ")"
   ]
  },
  {
   "cell_type": "code",
   "execution_count": 430,
   "metadata": {},
   "outputs": [
    {
     "data": {
      "text/html": [
       "<div>\n",
       "<style scoped>\n",
       "    .dataframe tbody tr th:only-of-type {\n",
       "        vertical-align: middle;\n",
       "    }\n",
       "\n",
       "    .dataframe tbody tr th {\n",
       "        vertical-align: top;\n",
       "    }\n",
       "\n",
       "    .dataframe thead th {\n",
       "        text-align: right;\n",
       "    }\n",
       "</style>\n",
       "<table border=\"1\" class=\"dataframe\">\n",
       "  <thead>\n",
       "    <tr style=\"text-align: right;\">\n",
       "      <th></th>\n",
       "      <th>date_range_start</th>\n",
       "      <th>date_range_end</th>\n",
       "    </tr>\n",
       "  </thead>\n",
       "  <tbody>\n",
       "    <tr>\n",
       "      <th>0</th>\n",
       "      <td>2019-01-01</td>\n",
       "      <td>2019-02-01</td>\n",
       "    </tr>\n",
       "    <tr>\n",
       "      <th>1</th>\n",
       "      <td>2019-02-01</td>\n",
       "      <td>2019-03-01</td>\n",
       "    </tr>\n",
       "    <tr>\n",
       "      <th>2</th>\n",
       "      <td>2019-03-01</td>\n",
       "      <td>2019-04-01</td>\n",
       "    </tr>\n",
       "    <tr>\n",
       "      <th>3</th>\n",
       "      <td>2019-04-01</td>\n",
       "      <td>2019-05-01</td>\n",
       "    </tr>\n",
       "    <tr>\n",
       "      <th>4</th>\n",
       "      <td>2019-05-01</td>\n",
       "      <td>2019-06-01</td>\n",
       "    </tr>\n",
       "    <tr>\n",
       "      <th>5</th>\n",
       "      <td>2019-06-01</td>\n",
       "      <td>2019-07-01</td>\n",
       "    </tr>\n",
       "    <tr>\n",
       "      <th>6</th>\n",
       "      <td>2019-07-01</td>\n",
       "      <td>2019-08-01</td>\n",
       "    </tr>\n",
       "    <tr>\n",
       "      <th>7</th>\n",
       "      <td>2019-08-01</td>\n",
       "      <td>2019-09-01</td>\n",
       "    </tr>\n",
       "    <tr>\n",
       "      <th>8</th>\n",
       "      <td>2019-09-01</td>\n",
       "      <td>2019-10-01</td>\n",
       "    </tr>\n",
       "    <tr>\n",
       "      <th>9</th>\n",
       "      <td>2019-10-01</td>\n",
       "      <td>2019-11-01</td>\n",
       "    </tr>\n",
       "    <tr>\n",
       "      <th>10</th>\n",
       "      <td>2019-11-01</td>\n",
       "      <td>2019-12-01</td>\n",
       "    </tr>\n",
       "    <tr>\n",
       "      <th>11</th>\n",
       "      <td>2019-12-01</td>\n",
       "      <td>2020-01-01</td>\n",
       "    </tr>\n",
       "    <tr>\n",
       "      <th>12</th>\n",
       "      <td>2020-01-01</td>\n",
       "      <td>2020-02-01</td>\n",
       "    </tr>\n",
       "    <tr>\n",
       "      <th>13</th>\n",
       "      <td>2020-02-01</td>\n",
       "      <td>2020-03-01</td>\n",
       "    </tr>\n",
       "    <tr>\n",
       "      <th>14</th>\n",
       "      <td>2020-03-01</td>\n",
       "      <td>2020-04-01</td>\n",
       "    </tr>\n",
       "    <tr>\n",
       "      <th>15</th>\n",
       "      <td>2020-04-01</td>\n",
       "      <td>2020-05-01</td>\n",
       "    </tr>\n",
       "    <tr>\n",
       "      <th>16</th>\n",
       "      <td>2020-05-01</td>\n",
       "      <td>2020-06-01</td>\n",
       "    </tr>\n",
       "    <tr>\n",
       "      <th>17</th>\n",
       "      <td>2020-06-01</td>\n",
       "      <td>2020-07-01</td>\n",
       "    </tr>\n",
       "    <tr>\n",
       "      <th>18</th>\n",
       "      <td>2020-07-01</td>\n",
       "      <td>2020-08-01</td>\n",
       "    </tr>\n",
       "    <tr>\n",
       "      <th>19</th>\n",
       "      <td>2020-08-01</td>\n",
       "      <td>2020-09-01</td>\n",
       "    </tr>\n",
       "    <tr>\n",
       "      <th>20</th>\n",
       "      <td>2020-09-01</td>\n",
       "      <td>2020-10-01</td>\n",
       "    </tr>\n",
       "    <tr>\n",
       "      <th>21</th>\n",
       "      <td>2020-10-01</td>\n",
       "      <td>2020-11-01</td>\n",
       "    </tr>\n",
       "    <tr>\n",
       "      <th>22</th>\n",
       "      <td>2020-11-01</td>\n",
       "      <td>2020-12-01</td>\n",
       "    </tr>\n",
       "    <tr>\n",
       "      <th>23</th>\n",
       "      <td>2020-12-01</td>\n",
       "      <td>2021-01-01</td>\n",
       "    </tr>\n",
       "    <tr>\n",
       "      <th>24</th>\n",
       "      <td>2021-01-01</td>\n",
       "      <td>2021-02-01</td>\n",
       "    </tr>\n",
       "    <tr>\n",
       "      <th>25</th>\n",
       "      <td>2021-02-01</td>\n",
       "      <td>2021-03-01</td>\n",
       "    </tr>\n",
       "  </tbody>\n",
       "</table>\n",
       "</div>"
      ],
      "text/plain": [
       "   date_range_start date_range_end\n",
       "0        2019-01-01     2019-02-01\n",
       "1        2019-02-01     2019-03-01\n",
       "2        2019-03-01     2019-04-01\n",
       "3        2019-04-01     2019-05-01\n",
       "4        2019-05-01     2019-06-01\n",
       "5        2019-06-01     2019-07-01\n",
       "6        2019-07-01     2019-08-01\n",
       "7        2019-08-01     2019-09-01\n",
       "8        2019-09-01     2019-10-01\n",
       "9        2019-10-01     2019-11-01\n",
       "10       2019-11-01     2019-12-01\n",
       "11       2019-12-01     2020-01-01\n",
       "12       2020-01-01     2020-02-01\n",
       "13       2020-02-01     2020-03-01\n",
       "14       2020-03-01     2020-04-01\n",
       "15       2020-04-01     2020-05-01\n",
       "16       2020-05-01     2020-06-01\n",
       "17       2020-06-01     2020-07-01\n",
       "18       2020-07-01     2020-08-01\n",
       "19       2020-08-01     2020-09-01\n",
       "20       2020-09-01     2020-10-01\n",
       "21       2020-10-01     2020-11-01\n",
       "22       2020-11-01     2020-12-01\n",
       "23       2020-12-01     2021-01-01\n",
       "24       2021-01-01     2021-02-01\n",
       "25       2021-02-01     2021-03-01"
      ]
     },
     "execution_count": 430,
     "metadata": {},
     "output_type": "execute_result"
    }
   ],
   "source": [
    "date_ranges"
   ]
  },
  {
   "cell_type": "code",
   "execution_count": 431,
   "metadata": {},
   "outputs": [],
   "source": [
    "def get_date_range(x): \n",
    "    mask = (date_ranges['date_range_start'] <= x) & (date_ranges['date_range_end'] > x)\n",
    "    return date_ranges.loc[mask,'date_range_start'].values[0]"
   ]
  },
  {
   "cell_type": "code",
   "execution_count": 432,
   "metadata": {},
   "outputs": [],
   "source": [
    "norm_stats['date_range_start'] = norm_stats.date.apply(get_date_range)"
   ]
  },
  {
   "cell_type": "code",
   "execution_count": 433,
   "metadata": {},
   "outputs": [],
   "source": [
    "norm_stats = norm_stats[['date_range_start', 'total_visits', 'total_devices_seen']].groupby('date_range_start').agg('sum').reset_index()"
   ]
  },
  {
   "cell_type": "code",
   "execution_count": 434,
   "metadata": {},
   "outputs": [],
   "source": [
    "philly_patterns = philly_patterns.merge(norm_stats, on=\"date_range_start\")\n",
    "philly_patterns[\"visit_count_norm\"] = (\n",
    "    1000000 * philly_patterns[\"raw_visit_counts\"] / philly_patterns[\"total_visits\"]\n",
    ")\n",
    "philly_patterns[\"visitor_count_norm\"] = (\n",
    "    1000000\n",
    "    * philly_patterns[\"raw_visitor_counts\"]\n",
    "    / philly_patterns[\"total_devices_seen\"]\n",
    ")"
   ]
  },
  {
   "cell_type": "code",
   "execution_count": 435,
   "metadata": {},
   "outputs": [
    {
     "data": {
      "text/html": [
       "<div>\n",
       "<style scoped>\n",
       "    .dataframe tbody tr th:only-of-type {\n",
       "        vertical-align: middle;\n",
       "    }\n",
       "\n",
       "    .dataframe tbody tr th {\n",
       "        vertical-align: top;\n",
       "    }\n",
       "\n",
       "    .dataframe thead th {\n",
       "        text-align: right;\n",
       "    }\n",
       "</style>\n",
       "<table border=\"1\" class=\"dataframe\">\n",
       "  <thead>\n",
       "    <tr style=\"text-align: right;\">\n",
       "      <th></th>\n",
       "      <th>safegraph_place_id</th>\n",
       "      <th>date_range_start</th>\n",
       "      <th>date_range_end</th>\n",
       "      <th>raw_visit_counts</th>\n",
       "      <th>raw_visitor_counts</th>\n",
       "      <th>poi_cbg</th>\n",
       "      <th>top_category</th>\n",
       "      <th>total_visits</th>\n",
       "      <th>total_devices_seen</th>\n",
       "      <th>visit_count_norm</th>\n",
       "      <th>visitor_count_norm</th>\n",
       "    </tr>\n",
       "  </thead>\n",
       "  <tbody>\n",
       "    <tr>\n",
       "      <th>0</th>\n",
       "      <td>sg:05ede5a3192b44638dcd954d369b4856</td>\n",
       "      <td>2021-02-01</td>\n",
       "      <td>2021-03-01</td>\n",
       "      <td>164.0</td>\n",
       "      <td>127.0</td>\n",
       "      <td>4.210103e+11</td>\n",
       "      <td>Grocery Stores</td>\n",
       "      <td>1332355928</td>\n",
       "      <td>433019771</td>\n",
       "      <td>0.123090</td>\n",
       "      <td>0.293289</td>\n",
       "    </tr>\n",
       "    <tr>\n",
       "      <th>1</th>\n",
       "      <td>sg:1501a801e04b4615b1af620ccf1a2e48</td>\n",
       "      <td>2021-02-01</td>\n",
       "      <td>2021-03-01</td>\n",
       "      <td>2.0</td>\n",
       "      <td>2.0</td>\n",
       "      <td>4.210103e+11</td>\n",
       "      <td>Automotive Parts, Accessories, and Tire Stores</td>\n",
       "      <td>1332355928</td>\n",
       "      <td>433019771</td>\n",
       "      <td>0.001501</td>\n",
       "      <td>0.004619</td>\n",
       "    </tr>\n",
       "    <tr>\n",
       "      <th>2</th>\n",
       "      <td>sg:359580c4d0c24a3aae50813992af8b35</td>\n",
       "      <td>2021-02-01</td>\n",
       "      <td>2021-03-01</td>\n",
       "      <td>12.0</td>\n",
       "      <td>11.0</td>\n",
       "      <td>4.210101e+11</td>\n",
       "      <td>Grocery Stores</td>\n",
       "      <td>1332355928</td>\n",
       "      <td>433019771</td>\n",
       "      <td>0.009007</td>\n",
       "      <td>0.025403</td>\n",
       "    </tr>\n",
       "    <tr>\n",
       "      <th>3</th>\n",
       "      <td>sg:742859488f4948eba798dad18c70ef75</td>\n",
       "      <td>2021-02-01</td>\n",
       "      <td>2021-03-01</td>\n",
       "      <td>122.0</td>\n",
       "      <td>75.0</td>\n",
       "      <td>4.210103e+11</td>\n",
       "      <td>Restaurants and Other Eating Places</td>\n",
       "      <td>1332355928</td>\n",
       "      <td>433019771</td>\n",
       "      <td>0.091567</td>\n",
       "      <td>0.173202</td>\n",
       "    </tr>\n",
       "    <tr>\n",
       "      <th>4</th>\n",
       "      <td>sg:84e37b6cbfbf4e55a3ff4bdf81724eba</td>\n",
       "      <td>2021-02-01</td>\n",
       "      <td>2021-03-01</td>\n",
       "      <td>1.0</td>\n",
       "      <td>1.0</td>\n",
       "      <td>4.210103e+11</td>\n",
       "      <td>Depository Credit Intermediation</td>\n",
       "      <td>1332355928</td>\n",
       "      <td>433019771</td>\n",
       "      <td>0.000751</td>\n",
       "      <td>0.002309</td>\n",
       "    </tr>\n",
       "  </tbody>\n",
       "</table>\n",
       "</div>"
      ],
      "text/plain": [
       "                    safegraph_place_id date_range_start date_range_end  \\\n",
       "0  sg:05ede5a3192b44638dcd954d369b4856       2021-02-01     2021-03-01   \n",
       "1  sg:1501a801e04b4615b1af620ccf1a2e48       2021-02-01     2021-03-01   \n",
       "2  sg:359580c4d0c24a3aae50813992af8b35       2021-02-01     2021-03-01   \n",
       "3  sg:742859488f4948eba798dad18c70ef75       2021-02-01     2021-03-01   \n",
       "4  sg:84e37b6cbfbf4e55a3ff4bdf81724eba       2021-02-01     2021-03-01   \n",
       "\n",
       "   raw_visit_counts  raw_visitor_counts       poi_cbg  \\\n",
       "0             164.0               127.0  4.210103e+11   \n",
       "1               2.0                 2.0  4.210103e+11   \n",
       "2              12.0                11.0  4.210101e+11   \n",
       "3             122.0                75.0  4.210103e+11   \n",
       "4               1.0                 1.0  4.210103e+11   \n",
       "\n",
       "                                     top_category  total_visits  \\\n",
       "0                                  Grocery Stores    1332355928   \n",
       "1  Automotive Parts, Accessories, and Tire Stores    1332355928   \n",
       "2                                  Grocery Stores    1332355928   \n",
       "3             Restaurants and Other Eating Places    1332355928   \n",
       "4                Depository Credit Intermediation    1332355928   \n",
       "\n",
       "   total_devices_seen  visit_count_norm  visitor_count_norm  \n",
       "0           433019771          0.123090            0.293289  \n",
       "1           433019771          0.001501            0.004619  \n",
       "2           433019771          0.009007            0.025403  \n",
       "3           433019771          0.091567            0.173202  \n",
       "4           433019771          0.000751            0.002309  "
      ]
     },
     "execution_count": 435,
     "metadata": {},
     "output_type": "execute_result"
    }
   ],
   "source": [
    "philly_patterns.head()"
   ]
  },
  {
   "cell_type": "markdown",
   "metadata": {},
   "source": [
    "#### Tests"
   ]
  },
  {
   "cell_type": "code",
   "execution_count": 436,
   "metadata": {},
   "outputs": [
    {
     "data": {
      "text/plain": [
       "Restaurants and Other Eating Places                     98901\n",
       "Religious Organizations                                 50621\n",
       "Grocery Stores                                          22780\n",
       "Child Day Care Services                                 21703\n",
       "Personal Care Services                                  18150\n",
       "Health and Personal Care Stores                         17253\n",
       "Automotive Repair and Maintenance                       16844\n",
       "Other Amusement and Recreation Industries               16091\n",
       "Elementary and Secondary Schools                        13400\n",
       "Museums, Historical Sites, and Similar Institutions     13112\n",
       "Drinking Places (Alcoholic Beverages)                   12372\n",
       "Offices of Physicians                                   11392\n",
       "Clothing Stores                                          8818\n",
       "Offices of Dentists                                      7984\n",
       "Offices of Other Health Practitioners                    7561\n",
       "Gasoline Stations                                        6682\n",
       "Other Miscellaneous Store Retailers                      5815\n",
       "Sporting Goods, Hobby, and Musical Instrument Stores     5649\n",
       "Depository Credit Intermediation                         5127\n",
       "Automotive Parts, Accessories, and Tire Stores           4746\n",
       "Name: top_category, dtype: int64"
      ]
     },
     "execution_count": 436,
     "metadata": {},
     "output_type": "execute_result"
    }
   ],
   "source": [
    "philly_patterns.top_category.value_counts().head(n=20)"
   ]
  },
  {
   "cell_type": "markdown",
   "metadata": {},
   "source": [
    "Let's check restaurants:"
   ]
  },
  {
   "cell_type": "code",
   "execution_count": 437,
   "metadata": {},
   "outputs": [],
   "source": [
    "restaurants = philly_patterns.query(\n",
    "    \"top_category == 'Restaurants and Other Eating Places'\"\n",
    ")"
   ]
  },
  {
   "cell_type": "code",
   "execution_count": 468,
   "metadata": {},
   "outputs": [
    {
     "data": {
      "text/plain": [
       "<AxesSubplot:xlabel='date_range_start'>"
      ]
     },
     "execution_count": 468,
     "metadata": {},
     "output_type": "execute_result"
    },
    {
     "data": {
      "image/png": "[encoded data removed]",
      "text/plain": [
       "<Figure size 432x288 with 1 Axes>"
      ]
     },
     "metadata": {
      "needs_background": "light"
     },
     "output_type": "display_data"
    }
   ],
   "source": [
    "X = restaurants.groupby(\"date_range_start\")[\"visitor_count_norm\"].mean()\n",
    "\n",
    "# Normalize by Jan 2019 (could also do Jan 2020)\n",
    "(X / X.iloc[0]).plot()"
   ]
  },
  {
   "cell_type": "code",
   "execution_count": 467,
   "metadata": {},
   "outputs": [
    {
     "data": {
      "text/plain": [
       "<AxesSubplot:xlabel='date_range_start'>"
      ]
     },
     "execution_count": 467,
     "metadata": {},
     "output_type": "execute_result"
    },
    {
     "data": {
      "image/png": "[encoded data removed]",
      "text/plain": [
       "<Figure size 432x288 with 1 Axes>"
      ]
     },
     "metadata": {
      "needs_background": "light"
     },
     "output_type": "display_data"
    }
   ],
   "source": [
    "X = restaurants.groupby(\"date_range_start\")[\"visit_count_norm\"].mean()\n",
    "\n",
    "# Normalize by Jan 2019 (could also do Jan 2020)\n",
    "(X / X.iloc[0]).plot()"
   ]
  },
  {
   "cell_type": "markdown",
   "metadata": {},
   "source": [
    "Let's check grocery stores:"
   ]
  },
  {
   "cell_type": "code",
   "execution_count": 439,
   "metadata": {},
   "outputs": [],
   "source": [
    "grocery_stores = philly_patterns.query(\"top_category == 'Grocery Stores'\")"
   ]
  },
  {
   "cell_type": "code",
   "execution_count": 440,
   "metadata": {},
   "outputs": [
    {
     "data": {
      "text/plain": [
       "<AxesSubplot:xlabel='date_range_start'>"
      ]
     },
     "execution_count": 440,
     "metadata": {},
     "output_type": "execute_result"
    },
    {
     "data": {
      "image/png": "[encoded data removed]",
      "text/plain": [
       "<Figure size 432x288 with 1 Axes>"
      ]
     },
     "metadata": {
      "needs_background": "light"
     },
     "output_type": "display_data"
    }
   ],
   "source": [
    "X = grocery_stores.groupby(\"date_range_start\")[\"visitor_count_norm\"].mean()\n",
    "\n",
    "# Normalize by Jan 2019 (could also do Jan 2020)\n",
    "(X / X.iloc[0]).plot()"
   ]
  },
  {
   "cell_type": "markdown",
   "metadata": {},
   "source": [
    "**Note: \"visit_count_norm\" seems weird!**"
   ]
  },
  {
   "cell_type": "code",
   "execution_count": 469,
   "metadata": {},
   "outputs": [
    {
     "data": {
      "text/plain": [
       "<AxesSubplot:xlabel='date_range_start'>"
      ]
     },
     "execution_count": 469,
     "metadata": {},
     "output_type": "execute_result"
    },
    {
     "data": {
      "image/png": "[encoded data removed]",
      "text/plain": [
       "<Figure size 432x288 with 1 Axes>"
      ]
     },
     "metadata": {
      "needs_background": "light"
     },
     "output_type": "display_data"
    }
   ],
   "source": [
    "X = grocery_stores.groupby(\"date_range_start\")[\"visit_count_norm\"].mean()\n",
    "\n",
    "# Normalize by Jan 2019 (could also do Jan 2020)\n",
    "(X / X.iloc[0]).plot()"
   ]
  },
  {
   "cell_type": "markdown",
   "metadata": {},
   "source": [
    "#### Analysis"
   ]
  },
  {
   "cell_type": "code",
   "execution_count": 473,
   "metadata": {},
   "outputs": [],
   "source": [
    "mask = philly_patterns['date_range_start'] < '2020-03-01' \n",
    "prepandemic = philly_patterns.loc[mask].copy()\n",
    "pandemic = philly_patterns.loc[~mask].copy()"
   ]
  },
  {
   "cell_type": "code",
   "execution_count": 474,
   "metadata": {},
   "outputs": [
    {
     "data": {
      "text/plain": [
       "array(['2019-03-01T00:00:00.000000000', '2019-04-01T00:00:00.000000000',\n",
       "       '2019-05-01T00:00:00.000000000', '2019-02-01T00:00:00.000000000',\n",
       "       '2019-11-01T00:00:00.000000000', '2019-10-01T00:00:00.000000000',\n",
       "       '2019-07-01T00:00:00.000000000', '2019-09-01T00:00:00.000000000',\n",
       "       '2019-08-01T00:00:00.000000000', '2019-01-01T00:00:00.000000000',\n",
       "       '2019-06-01T00:00:00.000000000', '2019-12-01T00:00:00.000000000',\n",
       "       '2020-02-01T00:00:00.000000000', '2020-01-01T00:00:00.000000000'],\n",
       "      dtype='datetime64[ns]')"
      ]
     },
     "execution_count": 474,
     "metadata": {},
     "output_type": "execute_result"
    }
   ],
   "source": [
    "prepandemic.date_range_start.unique()"
   ]
  },
  {
   "cell_type": "code",
   "execution_count": 475,
   "metadata": {},
   "outputs": [],
   "source": [
    "from sklearn.cluster import KMeans\n",
    "from sklearn.preprocessing import StandardScaler\n"
   ]
  },
  {
   "cell_type": "code",
   "execution_count": 476,
   "metadata": {},
   "outputs": [],
   "source": [
    "def cut_outliers(df, cols):\n",
    "    for col in cols:\n",
    "        ub = 2*df[col].quantile(0.99)\n",
    "        mask = df[col] > ub\n",
    "        df.loc[mask,col] = ub\n",
    "    return df\n",
    "\n",
    "def make_dummies(df, cols):\n",
    "    return pd.get_dummies(df)\n",
    "    \n",
    "\n",
    "def Stdrshp(df, pivot_cols, constant_cols): \n",
    "    constant = df.loc[\n",
    "        df.groupby('safegraph_place_id').cumcount() == 0,\n",
    "        ['safegraph_place_id']+constant_cols\n",
    "    ]\n",
    "    constant.set_index('safegraph_place_id', inplace = True)\n",
    "    #constant = make_dummies(constant, pivot_cols)\n",
    "    pivoted = df.pivot_table(index='safegraph_place_id',columns='date_range_start')[pivot_cols]\n",
    "    new_cols = [('{1} {0}'.format(*tup)) for tup in pivoted.columns]\n",
    "    pivoted.columns = new_cols\n",
    "    df = pivoted.join(constant)\n",
    "    df = df.fillna(0)\n",
    "    scaled = StandardScaler().fit_transform(df)\n",
    "    scaled_features_df = pd.DataFrame(scaled, index=df.index, columns=df.columns)\n",
    "    return scaled_features_df\n",
    "\n",
    "def make_clusters(df, k = 5):\n",
    "    kmeans = KMeans(n_clusters=k, n_init=50).fit(df) # NH NOTE: USE HIGHER N_INIT TO AVOID RANDOMNESS\n",
    "    df['cluster'] = kmeans.labels_\n",
    "    return (df, kmeans.inertia_)\n",
    "\n",
    "def run_Kmeans(df, pivot_cols, constant_cols, k = 5):\n",
    "    normalized = Stdrshp(cut_outliers(df, pivot_cols), pivot_cols, constant_cols)\n",
    "    return make_clusters(normalized, k)"
   ]
  },
  {
   "cell_type": "code",
   "execution_count": 477,
   "metadata": {},
   "outputs": [],
   "source": [
    "pivot_cols = [\"visitor_count_norm\"] ## NH NOTE: try using visitor_count_norm only\n",
    "constant_cols = []  #'B19013e1','income_missing']"
   ]
  },
  {
   "cell_type": "code",
   "execution_count": 480,
   "metadata": {},
   "outputs": [],
   "source": [
    "import matplotlib.pyplot as plt"
   ]
  },
  {
   "cell_type": "code",
   "execution_count": 481,
   "metadata": {},
   "outputs": [
    {
     "name": "stdout",
     "output_type": "stream",
     "text": [
      "3\n",
      "4\n",
      "5\n",
      "6\n",
      "7\n",
      "8\n",
      "9\n",
      "10\n",
      "11\n",
      "12\n",
      "13\n",
      "14\n",
      "15\n",
      "16\n",
      "17\n",
      "18\n",
      "19\n",
      "20\n",
      "21\n",
      "22\n",
      "23\n",
      "24\n",
      "25\n",
      "26\n",
      "27\n",
      "28\n",
      "29\n",
      "30\n",
      "31\n",
      "32\n",
      "33\n",
      "34\n",
      "35\n",
      "36\n",
      "37\n",
      "38\n",
      "39\n"
     ]
    },
    {
     "data": {
      "text/plain": [
       "[<matplotlib.lines.Line2D at 0x7fa5d4e25410>]"
      ]
     },
     "execution_count": 481,
     "metadata": {},
     "output_type": "execute_result"
    },
    {
     "data": {
      "image/png": "[encoded data removed]",
      "text/plain": [
       "<Figure size 432x288 with 1 Axes>"
      ]
     },
     "metadata": {
      "needs_background": "light"
     },
     "output_type": "display_data"
    }
   ],
   "source": [
    "scaled = Stdrshp(philly_patterns, pivot_cols, constant_cols)\n",
    "n_clusters = [k for k in range(3,40)]\n",
    "inertias = []\n",
    "for k in n_clusters:\n",
    "    print(k)\n",
    "    df, inertia = make_clusters(scaled, k = k)\n",
    "    inertias.append(inertia)\n",
    "    \n",
    "plt.plot(n_clusters,inertias)"
   ]
  },
  {
   "cell_type": "code",
   "execution_count": 482,
   "metadata": {},
   "outputs": [],
   "source": [
    "from kneed import KneeLocator"
   ]
  },
  {
   "cell_type": "code",
   "execution_count": 483,
   "metadata": {},
   "outputs": [],
   "source": [
    "# Initialize the knee algorithm\n",
    "kn = KneeLocator(n_clusters, inertias, curve='convex', direction='decreasing')"
   ]
  },
  {
   "cell_type": "code",
   "execution_count": 484,
   "metadata": {},
   "outputs": [
    {
     "data": {
      "text/plain": [
       "11"
      ]
     },
     "execution_count": 484,
     "metadata": {},
     "output_type": "execute_result"
    }
   ],
   "source": [
    "OPTIMAL_CLUSTERS = kn.knee\n",
    "OPTIMAL_CLUSTERS"
   ]
  },
  {
   "cell_type": "code",
   "execution_count": 485,
   "metadata": {},
   "outputs": [],
   "source": [
    "philly_patterns_clustered, pandemic_inertia = run_Kmeans(\n",
    "    philly_patterns, pivot_cols, constant_cols, k=OPTIMAL_CLUSTERS\n",
    ")"
   ]
  },
  {
   "cell_type": "code",
   "execution_count": 486,
   "metadata": {},
   "outputs": [],
   "source": [
    "# prepandemic, prepandemic_inertia = run_Kmeans(\n",
    "#     prepandemic, pivot_cols, constant_cols, k=OPTIMAL_CLUSTERS\n",
    "# )\n",
    "# pandemic, pandemic_inertia = run_Kmeans(\n",
    "#     philly_patterns, pivot_cols, constant_cols, k=OPTIMAL_CLUSTERS\n",
    "# )"
   ]
  },
  {
   "cell_type": "code",
   "execution_count": 487,
   "metadata": {},
   "outputs": [],
   "source": [
    "combined = philly_patterns_clustered.copy()"
   ]
  },
  {
   "cell_type": "code",
   "execution_count": 449,
   "metadata": {},
   "outputs": [],
   "source": [
    "# # We want to compare pandemic_inertia to the inertia we would have in 2020 if we used the\n",
    "# # 2019 clustering\n",
    "# combined = pandemic.join(prepandemic[['cluster']], how='left',rsuffix='pre')\n",
    "# combined[['clusterpre']] = combined[['clusterpre']].fillna(value=-1)\n",
    "# combined['clusterpre'] = combined['clusterpre'].astype(int)"
   ]
  },
  {
   "cell_type": "code",
   "execution_count": 488,
   "metadata": {},
   "outputs": [],
   "source": [
    "cols = combined.columns\n",
    "cols = cols[:-2]\n",
    "n = len(combined.columns)"
   ]
  },
  {
   "cell_type": "code",
   "execution_count": 490,
   "metadata": {},
   "outputs": [
    {
     "data": {
      "text/plain": [
       "73123.56793536409"
      ]
     },
     "execution_count": 490,
     "metadata": {},
     "output_type": "execute_result"
    }
   ],
   "source": [
    "def get_inertia(df, cols, cluster_col):\n",
    "    mask = df[cluster_col] > -1\n",
    "    n = len(df.index)\n",
    "    filtered = df[mask]\n",
    "    m = len(filtered.index)\n",
    "    se = ((df[cols] - df.groupby(cluster_col)[cols].transform('mean'))**2).to_numpy().sum()\n",
    "    return se*(n/m)\n",
    "\n",
    "get_inertia(combined, cols, 'cluster')"
   ]
  },
  {
   "cell_type": "code",
   "execution_count": 491,
   "metadata": {},
   "outputs": [
    {
     "data": {
      "text/plain": [
       "505374.9999999998"
      ]
     },
     "execution_count": 491,
     "metadata": {},
     "output_type": "execute_result"
    }
   ],
   "source": [
    "#worst case scenario\n",
    "combined['newcol'] = 1\n",
    "get_inertia(combined, cols, 'newcol')"
   ]
  },
  {
   "cell_type": "code",
   "execution_count": 492,
   "metadata": {},
   "outputs": [
    {
     "data": {
      "text/plain": [
       "cluster\n",
       "0     10650\n",
       "1       178\n",
       "2      5633\n",
       "3        56\n",
       "4       199\n",
       "5      2297\n",
       "6       566\n",
       "7       505\n",
       "8        53\n",
       "9        62\n",
       "10       16\n",
       "dtype: int64"
      ]
     },
     "execution_count": 492,
     "metadata": {},
     "output_type": "execute_result"
    }
   ],
   "source": [
    "combined.groupby('cluster').size()"
   ]
  },
  {
   "cell_type": "code",
   "execution_count": 493,
   "metadata": {},
   "outputs": [],
   "source": [
    "# combined.groupby('clusterpre').size()"
   ]
  },
  {
   "cell_type": "markdown",
   "metadata": {},
   "source": [
    "**NH**: Plot the mean value over time by cluster"
   ]
  },
  {
   "cell_type": "code",
   "execution_count": 495,
   "metadata": {},
   "outputs": [
    {
     "data": {
      "image/png": "[encoded data removed]",
      "text/plain": [
       "<Figure size 432x288 with 1 Axes>"
      ]
     },
     "metadata": {
      "needs_background": "light"
     },
     "output_type": "display_data"
    }
   ],
   "source": [
    "fig, ax = plt.subplots()\n",
    "for cluster_num in combined['cluster'].unique():\n",
    "    cluster = combined.query(f\"cluster == {cluster_num}\")\n",
    "    cluster[cluster.columns[:-6]].T.mean(axis=1).plot(ax=ax, legend=False)"
   ]
  },
  {
   "cell_type": "markdown",
   "metadata": {},
   "source": [
    "**NH:** seems like it sort of worked in terms of differentiating both by overall foot traffic and the shape of the traffic over time"
   ]
  },
  {
   "cell_type": "code",
   "execution_count": null,
   "metadata": {},
   "outputs": [],
   "source": []
  },
  {
   "cell_type": "code",
   "execution_count": 312,
   "metadata": {},
   "outputs": [],
   "source": [
    "big_cats = philly_patterns.groupby('top_category').size().sort_values(ascending = False)[:5]"
   ]
  },
  {
   "cell_type": "code",
   "execution_count": 313,
   "metadata": {},
   "outputs": [],
   "source": [
    "big_cats = big_cats.index"
   ]
  },
  {
   "cell_type": "code",
   "execution_count": 314,
   "metadata": {},
   "outputs": [],
   "source": [
    "def category_groups(x):\n",
    "    if x in big_cats: \n",
    "        return x \n",
    "    else: \n",
    "        return 'other'"
   ]
  },
  {
   "cell_type": "code",
   "execution_count": 315,
   "metadata": {},
   "outputs": [],
   "source": [
    "philly_patterns['top_category_simple'] = philly_patterns.top_category.apply(category_groups)"
   ]
  },
  {
   "cell_type": "code",
   "execution_count": 316,
   "metadata": {},
   "outputs": [
    {
     "data": {
      "text/plain": [
       "array(['Grocery Stores', 'other', 'Restaurants and Other Eating Places',\n",
       "       'Child Day Care Services', 'Personal Care Services',\n",
       "       'Religious Organizations'], dtype=object)"
      ]
     },
     "execution_count": 316,
     "metadata": {},
     "output_type": "execute_result"
    }
   ],
   "source": [
    "philly_patterns['top_category_simple'].unique()"
   ]
  },
  {
   "cell_type": "code",
   "execution_count": 324,
   "metadata": {},
   "outputs": [],
   "source": [
    "mask = philly_patterns['date_range_start'] < '2020-03-01' \n",
    "cats = philly_patterns.loc[~mask,].copy()\n",
    "cats = cats.loc[\n",
    "        cats.groupby('safegraph_place_id').cumcount() == 0,\n",
    "        ['safegraph_place_id', 'top_category_simple']\n",
    "    ]"
   ]
  },
  {
   "cell_type": "code",
   "execution_count": 325,
   "metadata": {},
   "outputs": [],
   "source": [
    "# combined.drop(columns = 'top_category_simple', inplace = True)"
   ]
  },
  {
   "cell_type": "code",
   "execution_count": 326,
   "metadata": {},
   "outputs": [],
   "source": [
    "combined = combined.join(cats.set_index('safegraph_place_id'), how = 'left')"
   ]
  },
  {
   "cell_type": "code",
   "execution_count": 327,
   "metadata": {},
   "outputs": [
    {
     "data": {
      "text/html": [
       "<div>\n",
       "<style scoped>\n",
       "    .dataframe tbody tr th:only-of-type {\n",
       "        vertical-align: middle;\n",
       "    }\n",
       "\n",
       "    .dataframe tbody tr th {\n",
       "        vertical-align: top;\n",
       "    }\n",
       "\n",
       "    .dataframe thead th {\n",
       "        text-align: right;\n",
       "    }\n",
       "</style>\n",
       "<table border=\"1\" class=\"dataframe\">\n",
       "  <thead>\n",
       "    <tr style=\"text-align: right;\">\n",
       "      <th>top_category_simple</th>\n",
       "      <th>Child Day Care Services</th>\n",
       "      <th>Grocery Stores</th>\n",
       "      <th>Personal Care Services</th>\n",
       "      <th>Religious Organizations</th>\n",
       "      <th>Restaurants and Other Eating Places</th>\n",
       "      <th>other</th>\n",
       "    </tr>\n",
       "    <tr>\n",
       "      <th>cluster</th>\n",
       "      <th></th>\n",
       "      <th></th>\n",
       "      <th></th>\n",
       "      <th></th>\n",
       "      <th></th>\n",
       "      <th></th>\n",
       "    </tr>\n",
       "  </thead>\n",
       "  <tbody>\n",
       "    <tr>\n",
       "      <th>0</th>\n",
       "      <td>22</td>\n",
       "      <td>107</td>\n",
       "      <td>5</td>\n",
       "      <td>22</td>\n",
       "      <td>554</td>\n",
       "      <td>852</td>\n",
       "    </tr>\n",
       "    <tr>\n",
       "      <th>1</th>\n",
       "      <td>0</td>\n",
       "      <td>34</td>\n",
       "      <td>0</td>\n",
       "      <td>1</td>\n",
       "      <td>106</td>\n",
       "      <td>168</td>\n",
       "    </tr>\n",
       "    <tr>\n",
       "      <th>2</th>\n",
       "      <td>0</td>\n",
       "      <td>1</td>\n",
       "      <td>0</td>\n",
       "      <td>0</td>\n",
       "      <td>0</td>\n",
       "      <td>55</td>\n",
       "    </tr>\n",
       "    <tr>\n",
       "      <th>3</th>\n",
       "      <td>520</td>\n",
       "      <td>171</td>\n",
       "      <td>687</td>\n",
       "      <td>1300</td>\n",
       "      <td>556</td>\n",
       "      <td>5455</td>\n",
       "    </tr>\n",
       "    <tr>\n",
       "      <th>4</th>\n",
       "      <td>0</td>\n",
       "      <td>24</td>\n",
       "      <td>0</td>\n",
       "      <td>0</td>\n",
       "      <td>32</td>\n",
       "      <td>70</td>\n",
       "    </tr>\n",
       "    <tr>\n",
       "      <th>5</th>\n",
       "      <td>0</td>\n",
       "      <td>36</td>\n",
       "      <td>2</td>\n",
       "      <td>4</td>\n",
       "      <td>241</td>\n",
       "      <td>385</td>\n",
       "    </tr>\n",
       "    <tr>\n",
       "      <th>6</th>\n",
       "      <td>1</td>\n",
       "      <td>0</td>\n",
       "      <td>0</td>\n",
       "      <td>0</td>\n",
       "      <td>1</td>\n",
       "      <td>18</td>\n",
       "    </tr>\n",
       "    <tr>\n",
       "      <th>7</th>\n",
       "      <td>88</td>\n",
       "      <td>263</td>\n",
       "      <td>33</td>\n",
       "      <td>136</td>\n",
       "      <td>1039</td>\n",
       "      <td>1587</td>\n",
       "    </tr>\n",
       "    <tr>\n",
       "      <th>8</th>\n",
       "      <td>0</td>\n",
       "      <td>14</td>\n",
       "      <td>0</td>\n",
       "      <td>0</td>\n",
       "      <td>4</td>\n",
       "      <td>44</td>\n",
       "    </tr>\n",
       "    <tr>\n",
       "      <th>9</th>\n",
       "      <td>248</td>\n",
       "      <td>219</td>\n",
       "      <td>132</td>\n",
       "      <td>565</td>\n",
       "      <td>1169</td>\n",
       "      <td>2785</td>\n",
       "    </tr>\n",
       "  </tbody>\n",
       "</table>\n",
       "</div>"
      ],
      "text/plain": [
       "top_category_simple  Child Day Care Services  Grocery Stores  \\\n",
       "cluster                                                        \n",
       "0                                         22             107   \n",
       "1                                          0              34   \n",
       "2                                          0               1   \n",
       "3                                        520             171   \n",
       "4                                          0              24   \n",
       "5                                          0              36   \n",
       "6                                          1               0   \n",
       "7                                         88             263   \n",
       "8                                          0              14   \n",
       "9                                        248             219   \n",
       "\n",
       "top_category_simple  Personal Care Services  Religious Organizations  \\\n",
       "cluster                                                                \n",
       "0                                         5                       22   \n",
       "1                                         0                        1   \n",
       "2                                         0                        0   \n",
       "3                                       687                     1300   \n",
       "4                                         0                        0   \n",
       "5                                         2                        4   \n",
       "6                                         0                        0   \n",
       "7                                        33                      136   \n",
       "8                                         0                        0   \n",
       "9                                       132                      565   \n",
       "\n",
       "top_category_simple  Restaurants and Other Eating Places  other  \n",
       "cluster                                                          \n",
       "0                                                    554    852  \n",
       "1                                                    106    168  \n",
       "2                                                      0     55  \n",
       "3                                                    556   5455  \n",
       "4                                                     32     70  \n",
       "5                                                    241    385  \n",
       "6                                                      1     18  \n",
       "7                                                   1039   1587  \n",
       "8                                                      4     44  \n",
       "9                                                   1169   2785  "
      ]
     },
     "execution_count": 327,
     "metadata": {},
     "output_type": "execute_result"
    }
   ],
   "source": [
    "pd.crosstab(combined.cluster, combined.top_category_simple, dropna=False)"
   ]
  },
  {
   "cell_type": "code",
   "execution_count": 148,
   "metadata": {},
   "outputs": [
    {
     "data": {
      "text/plain": [
       "20352"
      ]
     },
     "execution_count": 148,
     "metadata": {},
     "output_type": "execute_result"
    }
   ],
   "source": [
    "len(combined)"
   ]
  },
  {
   "cell_type": "code",
   "execution_count": null,
   "metadata": {},
   "outputs": [],
   "source": []
  }
 ],
 "metadata": {
  "kernelspec": {
   "display_name": "Python 3",
   "language": "python",
   "name": "python3"
  },
  "language_info": {
   "codemirror_mode": {
    "name": "ipython",
    "version": 3
   },
   "file_extension": ".py",
   "mimetype": "text/x-python",
   "name": "python",
   "nbconvert_exporter": "python",
   "pygments_lexer": "ipython3",
   "version": "3.7.9"
  }
 },
 "nbformat": 4,
 "nbformat_minor": 4
}
