{
 "cells": [
  {
   "cell_type": "code",
   "execution_count": 22,
   "metadata": {},
   "outputs": [],
   "source": [
    "import pandas as pd\n",
    "import numpy as np\n",
    "from safegraph_py_functions import safegraph_py_functions as sgpy\n",
    "import os\n",
    "from dotenv import load_dotenv, find_dotenv\n",
    "from loguru import logger"
   ]
  },
  {
   "cell_type": "code",
   "execution_count": 23,
   "metadata": {},
   "outputs": [],
   "source": [
    "pd.options.display.max_columns = 999"
   ]
  },
  {
   "cell_type": "code",
   "execution_count": 24,
   "metadata": {},
   "outputs": [],
   "source": [
    "# find .env automagically by walking up directories until it's found\n",
    "dotenv_path = find_dotenv()\n",
    "\n",
    "# load up the entries as environment variables\n",
    "load_dotenv(dotenv_path)\n",
    "os.chdir(os.environ.get(\"ROOT_DIR\"))\n",
    "from src import DATA_DIR\n",
    "raw_data_dir = DATA_DIR / 'raw'"
   ]
  },
  {
   "cell_type": "code",
   "execution_count": 25,
   "metadata": {},
   "outputs": [],
   "source": [
    "# if import is 0 it reads the data from the existing file\n",
    "# otherwise reads in the raw data an makes a unified dataset\n",
    "IMPORT = 0 "
   ]
  },
  {
   "cell_type": "code",
   "execution_count": 26,
   "metadata": {},
   "outputs": [],
   "source": [
    "# Read in all patterns files in the monthly-patterns folder\n",
    "def get_files():\n",
    "    patterns_path = raw_data_dir / \"monthly-patterns\"\n",
    "    files = []\n",
    "    for f in patterns_path.glob(\"**/*.csv.gz\"):\n",
    "        files.append(f)\n",
    "    return files"
   ]
  },
  {
   "cell_type": "code",
   "execution_count": 27,
   "metadata": {},
   "outputs": [],
   "source": [
    "def filter_to_philly(df):\n",
    "    # zip codes are read as integers rather than strings so we add leading zeros.\n",
    "    # this is not strictly necessary since Philadelphia zipcodes don't have leading zeros.\n",
    "    \n",
    "    # Philadelphia selection\n",
    "    # HK: adding leading zeros because some zipcodes in MA are 0191X.\n",
    "    df['postal_code'] = df['postal_code'].apply(lambda x: ('00000'+str(x))[-5:])\n",
    "    in_philly = df['postal_code'].astype(str).str.startswith(\"191\")\n",
    "    df = df.loc[in_philly]\n",
    "    df = df[['safegraph_place_id','date_range_start','postal_code', \n",
    "             'raw_visit_counts', 'raw_visitor_counts']]\n",
    "    \n",
    "    return df"
   ]
  },
  {
   "cell_type": "code",
   "execution_count": 28,
   "metadata": {},
   "outputs": [],
   "source": [
    "if IMPORT == 1:\n",
    "    philly_patterns = []\n",
    "    files = get_files()\n",
    "    for i, f in enumerate(files):\n",
    "        print(f)\n",
    "        philly_patterns.append(filter_to_philly(pd.read_csv(f)))\n",
    "    philly_patterns = pd.concat(philly_patterns)\n",
    "    philly_patterns.to_csv(\n",
    "        DATA_DIR / \"processed\" / \"kmeans_patterns.csv.tar.gz\", index=False\n",
    "    )\n",
    "else:\n",
    "    philly_patterns_all = pd.read_csv(\n",
    "        DATA_DIR / \"processed\" / \"philly_patterns.csv.tar.gz\", low_memory=False\n",
    "    )"
   ]
  },
  {
   "cell_type": "code",
   "execution_count": 29,
   "metadata": {},
   "outputs": [
    {
     "data": {
      "text/html": [
       "<div>\n",
       "<style scoped>\n",
       "    .dataframe tbody tr th:only-of-type {\n",
       "        vertical-align: middle;\n",
       "    }\n",
       "\n",
       "    .dataframe tbody tr th {\n",
       "        vertical-align: top;\n",
       "    }\n",
       "\n",
       "    .dataframe thead th {\n",
       "        text-align: right;\n",
       "    }\n",
       "</style>\n",
       "<table border=\"1\" class=\"dataframe\">\n",
       "  <thead>\n",
       "    <tr style=\"text-align: right;\">\n",
       "      <th></th>\n",
       "      <th>placekey_x</th>\n",
       "      <th>safegraph_place_id</th>\n",
       "      <th>parent_placekey</th>\n",
       "      <th>parent_safegraph_place_id_x</th>\n",
       "      <th>location_name_x</th>\n",
       "      <th>street_address_x</th>\n",
       "      <th>city_x</th>\n",
       "      <th>region_x</th>\n",
       "      <th>postal_code_x</th>\n",
       "      <th>safegraph_brand_ids_x</th>\n",
       "      <th>brands_x</th>\n",
       "      <th>date_range_start</th>\n",
       "      <th>date_range_end</th>\n",
       "      <th>raw_visit_counts</th>\n",
       "      <th>raw_visitor_counts</th>\n",
       "      <th>visits_by_day</th>\n",
       "      <th>poi_cbg</th>\n",
       "      <th>visitor_home_cbgs</th>\n",
       "      <th>visitor_daytime_cbgs</th>\n",
       "      <th>visitor_country_of_origin</th>\n",
       "      <th>distance_from_home</th>\n",
       "      <th>median_dwell</th>\n",
       "      <th>bucketed_dwell_times</th>\n",
       "      <th>related_same_day_brand</th>\n",
       "      <th>related_same_month_brand</th>\n",
       "      <th>popularity_by_hour</th>\n",
       "      <th>popularity_by_day</th>\n",
       "      <th>device_type</th>\n",
       "      <th>parent_safegraph_place_id_y</th>\n",
       "      <th>location_name_y</th>\n",
       "      <th>safegraph_brand_ids_y</th>\n",
       "      <th>brands_y</th>\n",
       "      <th>top_category</th>\n",
       "      <th>sub_category</th>\n",
       "      <th>naics_code</th>\n",
       "      <th>latitude</th>\n",
       "      <th>longitude</th>\n",
       "      <th>street_address_y</th>\n",
       "      <th>city_y</th>\n",
       "      <th>region_y</th>\n",
       "      <th>postal_code_y</th>\n",
       "      <th>iso_country_code</th>\n",
       "      <th>phone_number</th>\n",
       "      <th>open_hours</th>\n",
       "      <th>category_tags</th>\n",
       "      <th>valid_to</th>\n",
       "      <th>valid_from</th>\n",
       "      <th>placekey_y</th>\n",
       "      <th>opened_on</th>\n",
       "      <th>closed_on</th>\n",
       "      <th>tracking_opened_since</th>\n",
       "      <th>tracking_closed_since</th>\n",
       "    </tr>\n",
       "  </thead>\n",
       "  <tbody>\n",
       "    <tr>\n",
       "      <th>0</th>\n",
       "      <td>22m-223@628-p8h-nbk</td>\n",
       "      <td>sg:05ede5a3192b44638dcd954d369b4856</td>\n",
       "      <td>NaN</td>\n",
       "      <td>NaN</td>\n",
       "      <td>Save-A-Lot</td>\n",
       "      <td>6801 Frankford Ave</td>\n",
       "      <td>Philadelphia</td>\n",
       "      <td>PA</td>\n",
       "      <td>19135</td>\n",
       "      <td>SG_BRAND_c5a2c9092cad648bc1ee9c9be08f83ab</td>\n",
       "      <td>Save-A-Lot</td>\n",
       "      <td>2021-02-01</td>\n",
       "      <td>2021-03-01T00:00:00-05:00</td>\n",
       "      <td>164</td>\n",
       "      <td>127</td>\n",
       "      <td>[3,8,4,4,6,6,6,13,5,5,3,6,5,6,3,10,6,5,3,11,6,...</td>\n",
       "      <td>4.210103e+11</td>\n",
       "      <td>{\"420912019014\":5,\"421010315012\":5,\"4210103150...</td>\n",
       "      <td>{\"421010319005\":6,\"421010349001\":5,\"4210103150...</td>\n",
       "      <td>{\"US\":121}</td>\n",
       "      <td>1408.0</td>\n",
       "      <td>17.0</td>\n",
       "      <td>{\"&lt;5\":11,\"5-10\":50,\"11-20\":38,\"21-60\":56,\"61-1...</td>\n",
       "      <td>{\"Planet Fitness\":16,\"Petco\":10}</td>\n",
       "      <td>{\"ShopRite\":53,\"Wawa\":48,\"Dunkin'\":42,\"Dollar ...</td>\n",
       "      <td>[0,0,0,0,0,3,2,8,6,12,15,20,30,22,20,17,25,14,...</td>\n",
       "      <td>{\"Monday\":25,\"Tuesday\":31,\"Wednesday\":19,\"Thur...</td>\n",
       "      <td>{\"android\":82,\"ios\":44}</td>\n",
       "      <td>NaN</td>\n",
       "      <td>NaN</td>\n",
       "      <td>NaN</td>\n",
       "      <td>NaN</td>\n",
       "      <td>NaN</td>\n",
       "      <td>NaN</td>\n",
       "      <td>NaN</td>\n",
       "      <td>NaN</td>\n",
       "      <td>NaN</td>\n",
       "      <td>NaN</td>\n",
       "      <td>NaN</td>\n",
       "      <td>NaN</td>\n",
       "      <td>NaN</td>\n",
       "      <td>NaN</td>\n",
       "      <td>NaN</td>\n",
       "      <td>NaN</td>\n",
       "      <td>NaN</td>\n",
       "      <td>NaN</td>\n",
       "      <td>NaN</td>\n",
       "      <td>NaN</td>\n",
       "      <td>NaN</td>\n",
       "      <td>NaN</td>\n",
       "      <td>NaN</td>\n",
       "      <td>NaN</td>\n",
       "    </tr>\n",
       "    <tr>\n",
       "      <th>1</th>\n",
       "      <td>22b-222@628-p7b-vmk</td>\n",
       "      <td>sg:1501a801e04b4615b1af620ccf1a2e48</td>\n",
       "      <td>NaN</td>\n",
       "      <td>NaN</td>\n",
       "      <td>CARQUEST Auto Parts</td>\n",
       "      <td>3093 Holme Ave</td>\n",
       "      <td>Philadelphia</td>\n",
       "      <td>PA</td>\n",
       "      <td>19136</td>\n",
       "      <td>SG_BRAND_ed5a1ef3e85b774022eb505cf6f184ee</td>\n",
       "      <td>CARQUEST Auto Parts</td>\n",
       "      <td>2021-02-01</td>\n",
       "      <td>2021-03-01T00:00:00-05:00</td>\n",
       "      <td>2</td>\n",
       "      <td>2</td>\n",
       "      <td>[0,0,0,0,0,0,0,0,0,0,0,0,0,1,0,0,0,1,0,0,0,0,0...</td>\n",
       "      <td>4.210103e+11</td>\n",
       "      <td>{}</td>\n",
       "      <td>{}</td>\n",
       "      <td>{}</td>\n",
       "      <td>NaN</td>\n",
       "      <td>29.0</td>\n",
       "      <td>{\"&lt;5\":0,\"5-10\":1,\"11-20\":0,\"21-60\":1,\"61-120\":...</td>\n",
       "      <td>{}</td>\n",
       "      <td>{\"Wawa\":99,\"Dunkin'\":97,\"The Fresh Works\":50,\"...</td>\n",
       "      <td>[0,0,0,0,0,0,0,0,0,0,0,0,0,0,1,0,0,0,0,0,1,0,0,0]</td>\n",
       "      <td>{\"Monday\":0,\"Tuesday\":0,\"Wednesday\":0,\"Thursda...</td>\n",
       "      <td>{\"android\":0,\"ios\":0}</td>\n",
       "      <td>NaN</td>\n",
       "      <td>NaN</td>\n",
       "      <td>NaN</td>\n",
       "      <td>NaN</td>\n",
       "      <td>NaN</td>\n",
       "      <td>NaN</td>\n",
       "      <td>NaN</td>\n",
       "      <td>NaN</td>\n",
       "      <td>NaN</td>\n",
       "      <td>NaN</td>\n",
       "      <td>NaN</td>\n",
       "      <td>NaN</td>\n",
       "      <td>NaN</td>\n",
       "      <td>NaN</td>\n",
       "      <td>NaN</td>\n",
       "      <td>NaN</td>\n",
       "      <td>NaN</td>\n",
       "      <td>NaN</td>\n",
       "      <td>NaN</td>\n",
       "      <td>NaN</td>\n",
       "      <td>NaN</td>\n",
       "      <td>NaN</td>\n",
       "      <td>NaN</td>\n",
       "      <td>NaN</td>\n",
       "    </tr>\n",
       "    <tr>\n",
       "      <th>2</th>\n",
       "      <td>222-222@628-p9k-y9z</td>\n",
       "      <td>sg:1d184d77616941d2afa14b4d3831d7e4</td>\n",
       "      <td>NaN</td>\n",
       "      <td>NaN</td>\n",
       "      <td>Extra Space Storage</td>\n",
       "      <td>11501 Roosevelt Blvd</td>\n",
       "      <td>Philadelphia</td>\n",
       "      <td>PA</td>\n",
       "      <td>19154</td>\n",
       "      <td>SG_BRAND_25f99d0cc5d6078042c8f466f6a8fa83</td>\n",
       "      <td>Extra Space Storage</td>\n",
       "      <td>2021-02-01</td>\n",
       "      <td>2021-03-01T00:00:00-05:00</td>\n",
       "      <td>27</td>\n",
       "      <td>18</td>\n",
       "      <td>[2,0,1,1,0,1,2,0,1,0,1,0,0,1,1,2,0,1,0,2,1,3,3...</td>\n",
       "      <td>4.210198e+11</td>\n",
       "      <td>{\"421010301004\":4,\"421010336005\":4,\"4209120150...</td>\n",
       "      <td>{\"421010345011\":4,\"420171014033\":4,\"4210103530...</td>\n",
       "      <td>{\"US\":17}</td>\n",
       "      <td>6462.0</td>\n",
       "      <td>15.0</td>\n",
       "      <td>{\"&lt;5\":0,\"5-10\":9,\"11-20\":9,\"21-60\":6,\"61-120\":...</td>\n",
       "      <td>{}</td>\n",
       "      <td>{\"Wawa\":66,\"Dunkin'\":63,\"CVS\":45,\"Sunoco\":42,\"...</td>\n",
       "      <td>[1,2,2,1,0,0,0,0,1,3,6,2,4,2,2,3,4,6,2,0,0,0,0,1]</td>\n",
       "      <td>{\"Monday\":6,\"Tuesday\":6,\"Wednesday\":1,\"Thursda...</td>\n",
       "      <td>{\"android\":12,\"ios\":6}</td>\n",
       "      <td>NaN</td>\n",
       "      <td>NaN</td>\n",
       "      <td>NaN</td>\n",
       "      <td>NaN</td>\n",
       "      <td>NaN</td>\n",
       "      <td>NaN</td>\n",
       "      <td>NaN</td>\n",
       "      <td>NaN</td>\n",
       "      <td>NaN</td>\n",
       "      <td>NaN</td>\n",
       "      <td>NaN</td>\n",
       "      <td>NaN</td>\n",
       "      <td>NaN</td>\n",
       "      <td>NaN</td>\n",
       "      <td>NaN</td>\n",
       "      <td>NaN</td>\n",
       "      <td>NaN</td>\n",
       "      <td>NaN</td>\n",
       "      <td>NaN</td>\n",
       "      <td>NaN</td>\n",
       "      <td>NaN</td>\n",
       "      <td>NaN</td>\n",
       "      <td>NaN</td>\n",
       "      <td>NaN</td>\n",
       "    </tr>\n",
       "    <tr>\n",
       "      <th>3</th>\n",
       "      <td>22j-222@628-pgj-3yv</td>\n",
       "      <td>sg:359580c4d0c24a3aae50813992af8b35</td>\n",
       "      <td>NaN</td>\n",
       "      <td>NaN</td>\n",
       "      <td>La Cienaga Deli Grocery</td>\n",
       "      <td>601 Cecil B Moore Ave</td>\n",
       "      <td>Philadelphia</td>\n",
       "      <td>PA</td>\n",
       "      <td>19122</td>\n",
       "      <td>NaN</td>\n",
       "      <td>NaN</td>\n",
       "      <td>2021-02-01</td>\n",
       "      <td>2021-03-01T00:00:00-05:00</td>\n",
       "      <td>12</td>\n",
       "      <td>11</td>\n",
       "      <td>[0,1,0,0,0,1,0,0,0,0,0,0,1,1,2,1,0,0,1,1,1,0,0...</td>\n",
       "      <td>4.210101e+11</td>\n",
       "      <td>{\"060290028132\":4}</td>\n",
       "      <td>{\"060371012101\":4}</td>\n",
       "      <td>{\"US\":6}</td>\n",
       "      <td>16608.0</td>\n",
       "      <td>119.0</td>\n",
       "      <td>{\"&lt;5\":0,\"5-10\":2,\"11-20\":2,\"21-60\":1,\"61-120\":...</td>\n",
       "      <td>{}</td>\n",
       "      <td>{\"Brightside Academy\":9,\"United Refrigeration\"...</td>\n",
       "      <td>[1,1,1,3,3,6,5,4,3,3,2,2,2,1,1,0,0,0,0,0,0,0,0,1]</td>\n",
       "      <td>{\"Monday\":2,\"Tuesday\":2,\"Wednesday\":0,\"Thursda...</td>\n",
       "      <td>{\"android\":11,\"ios\":0}</td>\n",
       "      <td>NaN</td>\n",
       "      <td>NaN</td>\n",
       "      <td>NaN</td>\n",
       "      <td>NaN</td>\n",
       "      <td>NaN</td>\n",
       "      <td>NaN</td>\n",
       "      <td>NaN</td>\n",
       "      <td>NaN</td>\n",
       "      <td>NaN</td>\n",
       "      <td>NaN</td>\n",
       "      <td>NaN</td>\n",
       "      <td>NaN</td>\n",
       "      <td>NaN</td>\n",
       "      <td>NaN</td>\n",
       "      <td>NaN</td>\n",
       "      <td>NaN</td>\n",
       "      <td>NaN</td>\n",
       "      <td>NaN</td>\n",
       "      <td>NaN</td>\n",
       "      <td>NaN</td>\n",
       "      <td>NaN</td>\n",
       "      <td>NaN</td>\n",
       "      <td>NaN</td>\n",
       "      <td>NaN</td>\n",
       "    </tr>\n",
       "    <tr>\n",
       "      <th>4</th>\n",
       "      <td>222-223@628-pzn-zfz</td>\n",
       "      <td>sg:6255ef7faad24ed6a77887c62294abcb</td>\n",
       "      <td>NaN</td>\n",
       "      <td>NaN</td>\n",
       "      <td>Brian Cesar Remax 2000</td>\n",
       "      <td>14500 Bustleton Ave</td>\n",
       "      <td>Philadelphia</td>\n",
       "      <td>PA</td>\n",
       "      <td>19116</td>\n",
       "      <td>NaN</td>\n",
       "      <td>NaN</td>\n",
       "      <td>2021-02-01</td>\n",
       "      <td>2021-03-01T00:00:00-05:00</td>\n",
       "      <td>3</td>\n",
       "      <td>3</td>\n",
       "      <td>[0,1,0,0,0,0,0,0,0,0,1,0,0,0,0,0,0,0,0,0,0,0,0...</td>\n",
       "      <td>4.210104e+11</td>\n",
       "      <td>{\"421010363033\":4}</td>\n",
       "      <td>{\"421010363033\":4}</td>\n",
       "      <td>{}</td>\n",
       "      <td>NaN</td>\n",
       "      <td>40.0</td>\n",
       "      <td>{\"&lt;5\":0,\"5-10\":1,\"11-20\":0,\"21-60\":1,\"61-120\":...</td>\n",
       "      <td>{}</td>\n",
       "      <td>{\"Net Cost Market\":33,\"Radiator\":33,\"Philly Pr...</td>\n",
       "      <td>[0,0,0,0,0,0,0,0,0,0,0,0,0,0,0,0,0,0,0,3,2,0,0,0]</td>\n",
       "      <td>{\"Monday\":0,\"Tuesday\":1,\"Wednesday\":0,\"Thursda...</td>\n",
       "      <td>{\"android\":0,\"ios\":0}</td>\n",
       "      <td>NaN</td>\n",
       "      <td>NaN</td>\n",
       "      <td>NaN</td>\n",
       "      <td>NaN</td>\n",
       "      <td>NaN</td>\n",
       "      <td>NaN</td>\n",
       "      <td>NaN</td>\n",
       "      <td>NaN</td>\n",
       "      <td>NaN</td>\n",
       "      <td>NaN</td>\n",
       "      <td>NaN</td>\n",
       "      <td>NaN</td>\n",
       "      <td>NaN</td>\n",
       "      <td>NaN</td>\n",
       "      <td>NaN</td>\n",
       "      <td>NaN</td>\n",
       "      <td>NaN</td>\n",
       "      <td>NaN</td>\n",
       "      <td>NaN</td>\n",
       "      <td>NaN</td>\n",
       "      <td>NaN</td>\n",
       "      <td>NaN</td>\n",
       "      <td>NaN</td>\n",
       "      <td>NaN</td>\n",
       "    </tr>\n",
       "  </tbody>\n",
       "</table>\n",
       "</div>"
      ],
      "text/plain": [
       "            placekey_x                   safegraph_place_id parent_placekey  \\\n",
       "0  22m-223@628-p8h-nbk  sg:05ede5a3192b44638dcd954d369b4856             NaN   \n",
       "1  22b-222@628-p7b-vmk  sg:1501a801e04b4615b1af620ccf1a2e48             NaN   \n",
       "2  222-222@628-p9k-y9z  sg:1d184d77616941d2afa14b4d3831d7e4             NaN   \n",
       "3  22j-222@628-pgj-3yv  sg:359580c4d0c24a3aae50813992af8b35             NaN   \n",
       "4  222-223@628-pzn-zfz  sg:6255ef7faad24ed6a77887c62294abcb             NaN   \n",
       "\n",
       "  parent_safegraph_place_id_x          location_name_x       street_address_x  \\\n",
       "0                         NaN               Save-A-Lot     6801 Frankford Ave   \n",
       "1                         NaN      CARQUEST Auto Parts         3093 Holme Ave   \n",
       "2                         NaN      Extra Space Storage   11501 Roosevelt Blvd   \n",
       "3                         NaN  La Cienaga Deli Grocery  601 Cecil B Moore Ave   \n",
       "4                         NaN   Brian Cesar Remax 2000    14500 Bustleton Ave   \n",
       "\n",
       "         city_x region_x  postal_code_x  \\\n",
       "0  Philadelphia       PA          19135   \n",
       "1  Philadelphia       PA          19136   \n",
       "2  Philadelphia       PA          19154   \n",
       "3  Philadelphia       PA          19122   \n",
       "4  Philadelphia       PA          19116   \n",
       "\n",
       "                       safegraph_brand_ids_x             brands_x  \\\n",
       "0  SG_BRAND_c5a2c9092cad648bc1ee9c9be08f83ab           Save-A-Lot   \n",
       "1  SG_BRAND_ed5a1ef3e85b774022eb505cf6f184ee  CARQUEST Auto Parts   \n",
       "2  SG_BRAND_25f99d0cc5d6078042c8f466f6a8fa83  Extra Space Storage   \n",
       "3                                        NaN                  NaN   \n",
       "4                                        NaN                  NaN   \n",
       "\n",
       "  date_range_start             date_range_end  raw_visit_counts  \\\n",
       "0       2021-02-01  2021-03-01T00:00:00-05:00               164   \n",
       "1       2021-02-01  2021-03-01T00:00:00-05:00                 2   \n",
       "2       2021-02-01  2021-03-01T00:00:00-05:00                27   \n",
       "3       2021-02-01  2021-03-01T00:00:00-05:00                12   \n",
       "4       2021-02-01  2021-03-01T00:00:00-05:00                 3   \n",
       "\n",
       "   raw_visitor_counts                                      visits_by_day  \\\n",
       "0                 127  [3,8,4,4,6,6,6,13,5,5,3,6,5,6,3,10,6,5,3,11,6,...   \n",
       "1                   2  [0,0,0,0,0,0,0,0,0,0,0,0,0,1,0,0,0,1,0,0,0,0,0...   \n",
       "2                  18  [2,0,1,1,0,1,2,0,1,0,1,0,0,1,1,2,0,1,0,2,1,3,3...   \n",
       "3                  11  [0,1,0,0,0,1,0,0,0,0,0,0,1,1,2,1,0,0,1,1,1,0,0...   \n",
       "4                   3  [0,1,0,0,0,0,0,0,0,0,1,0,0,0,0,0,0,0,0,0,0,0,0...   \n",
       "\n",
       "        poi_cbg                                  visitor_home_cbgs  \\\n",
       "0  4.210103e+11  {\"420912019014\":5,\"421010315012\":5,\"4210103150...   \n",
       "1  4.210103e+11                                                 {}   \n",
       "2  4.210198e+11  {\"421010301004\":4,\"421010336005\":4,\"4209120150...   \n",
       "3  4.210101e+11                                 {\"060290028132\":4}   \n",
       "4  4.210104e+11                                 {\"421010363033\":4}   \n",
       "\n",
       "                                visitor_daytime_cbgs  \\\n",
       "0  {\"421010319005\":6,\"421010349001\":5,\"4210103150...   \n",
       "1                                                 {}   \n",
       "2  {\"421010345011\":4,\"420171014033\":4,\"4210103530...   \n",
       "3                                 {\"060371012101\":4}   \n",
       "4                                 {\"421010363033\":4}   \n",
       "\n",
       "  visitor_country_of_origin  distance_from_home  median_dwell  \\\n",
       "0                {\"US\":121}              1408.0          17.0   \n",
       "1                        {}                 NaN          29.0   \n",
       "2                 {\"US\":17}              6462.0          15.0   \n",
       "3                  {\"US\":6}             16608.0         119.0   \n",
       "4                        {}                 NaN          40.0   \n",
       "\n",
       "                                bucketed_dwell_times  \\\n",
       "0  {\"<5\":11,\"5-10\":50,\"11-20\":38,\"21-60\":56,\"61-1...   \n",
       "1  {\"<5\":0,\"5-10\":1,\"11-20\":0,\"21-60\":1,\"61-120\":...   \n",
       "2  {\"<5\":0,\"5-10\":9,\"11-20\":9,\"21-60\":6,\"61-120\":...   \n",
       "3  {\"<5\":0,\"5-10\":2,\"11-20\":2,\"21-60\":1,\"61-120\":...   \n",
       "4  {\"<5\":0,\"5-10\":1,\"11-20\":0,\"21-60\":1,\"61-120\":...   \n",
       "\n",
       "             related_same_day_brand  \\\n",
       "0  {\"Planet Fitness\":16,\"Petco\":10}   \n",
       "1                                {}   \n",
       "2                                {}   \n",
       "3                                {}   \n",
       "4                                {}   \n",
       "\n",
       "                            related_same_month_brand  \\\n",
       "0  {\"ShopRite\":53,\"Wawa\":48,\"Dunkin'\":42,\"Dollar ...   \n",
       "1  {\"Wawa\":99,\"Dunkin'\":97,\"The Fresh Works\":50,\"...   \n",
       "2  {\"Wawa\":66,\"Dunkin'\":63,\"CVS\":45,\"Sunoco\":42,\"...   \n",
       "3  {\"Brightside Academy\":9,\"United Refrigeration\"...   \n",
       "4  {\"Net Cost Market\":33,\"Radiator\":33,\"Philly Pr...   \n",
       "\n",
       "                                  popularity_by_hour  \\\n",
       "0  [0,0,0,0,0,3,2,8,6,12,15,20,30,22,20,17,25,14,...   \n",
       "1  [0,0,0,0,0,0,0,0,0,0,0,0,0,0,1,0,0,0,0,0,1,0,0,0]   \n",
       "2  [1,2,2,1,0,0,0,0,1,3,6,2,4,2,2,3,4,6,2,0,0,0,0,1]   \n",
       "3  [1,1,1,3,3,6,5,4,3,3,2,2,2,1,1,0,0,0,0,0,0,0,0,1]   \n",
       "4  [0,0,0,0,0,0,0,0,0,0,0,0,0,0,0,0,0,0,0,3,2,0,0,0]   \n",
       "\n",
       "                                   popularity_by_day              device_type  \\\n",
       "0  {\"Monday\":25,\"Tuesday\":31,\"Wednesday\":19,\"Thur...  {\"android\":82,\"ios\":44}   \n",
       "1  {\"Monday\":0,\"Tuesday\":0,\"Wednesday\":0,\"Thursda...    {\"android\":0,\"ios\":0}   \n",
       "2  {\"Monday\":6,\"Tuesday\":6,\"Wednesday\":1,\"Thursda...   {\"android\":12,\"ios\":6}   \n",
       "3  {\"Monday\":2,\"Tuesday\":2,\"Wednesday\":0,\"Thursda...   {\"android\":11,\"ios\":0}   \n",
       "4  {\"Monday\":0,\"Tuesday\":1,\"Wednesday\":0,\"Thursda...    {\"android\":0,\"ios\":0}   \n",
       "\n",
       "  parent_safegraph_place_id_y location_name_y safegraph_brand_ids_y brands_y  \\\n",
       "0                         NaN             NaN                   NaN      NaN   \n",
       "1                         NaN             NaN                   NaN      NaN   \n",
       "2                         NaN             NaN                   NaN      NaN   \n",
       "3                         NaN             NaN                   NaN      NaN   \n",
       "4                         NaN             NaN                   NaN      NaN   \n",
       "\n",
       "  top_category sub_category  naics_code  latitude  longitude street_address_y  \\\n",
       "0          NaN          NaN         NaN       NaN        NaN              NaN   \n",
       "1          NaN          NaN         NaN       NaN        NaN              NaN   \n",
       "2          NaN          NaN         NaN       NaN        NaN              NaN   \n",
       "3          NaN          NaN         NaN       NaN        NaN              NaN   \n",
       "4          NaN          NaN         NaN       NaN        NaN              NaN   \n",
       "\n",
       "  city_y region_y  postal_code_y iso_country_code  phone_number open_hours  \\\n",
       "0    NaN      NaN            NaN              NaN           NaN        NaN   \n",
       "1    NaN      NaN            NaN              NaN           NaN        NaN   \n",
       "2    NaN      NaN            NaN              NaN           NaN        NaN   \n",
       "3    NaN      NaN            NaN              NaN           NaN        NaN   \n",
       "4    NaN      NaN            NaN              NaN           NaN        NaN   \n",
       "\n",
       "  category_tags valid_to valid_from placekey_y opened_on closed_on  \\\n",
       "0           NaN      NaN        NaN        NaN       NaN       NaN   \n",
       "1           NaN      NaN        NaN        NaN       NaN       NaN   \n",
       "2           NaN      NaN        NaN        NaN       NaN       NaN   \n",
       "3           NaN      NaN        NaN        NaN       NaN       NaN   \n",
       "4           NaN      NaN        NaN        NaN       NaN       NaN   \n",
       "\n",
       "  tracking_opened_since tracking_closed_since  \n",
       "0                   NaN                   NaN  \n",
       "1                   NaN                   NaN  \n",
       "2                   NaN                   NaN  \n",
       "3                   NaN                   NaN  \n",
       "4                   NaN                   NaN  "
      ]
     },
     "execution_count": 29,
     "metadata": {},
     "output_type": "execute_result"
    }
   ],
   "source": [
    "philly_patterns_all.head()"
   ]
  },
  {
   "cell_type": "markdown",
   "metadata": {},
   "source": [
    "Number of unique safegraph ids:"
   ]
  },
  {
   "cell_type": "code",
   "execution_count": 30,
   "metadata": {
    "scrolled": true
   },
   "outputs": [
    {
     "data": {
      "text/plain": [
       "20956"
      ]
     },
     "execution_count": 30,
     "metadata": {},
     "output_type": "execute_result"
    }
   ],
   "source": [
    "philly_patterns_all['safegraph_place_id'].nunique()"
   ]
  },
  {
   "cell_type": "markdown",
   "metadata": {},
   "source": [
    "Get POIs with category info:"
   ]
  },
  {
   "cell_type": "code",
   "execution_count": 31,
   "metadata": {},
   "outputs": [],
   "source": [
    "categories = (\n",
    "    philly_patterns_all.dropna(subset=[\"top_category\"])\n",
    "    .drop_duplicates(subset=[\"safegraph_place_id\", \"top_category\"])\n",
    "    .sort_values(\"date_range_start\", ascending=False)\n",
    "    .drop_duplicates(subset=[\"safegraph_place_id\"])\n",
    ")[[\"safegraph_place_id\", \"top_category\"]]"
   ]
  },
  {
   "cell_type": "code",
   "execution_count": 32,
   "metadata": {},
   "outputs": [
    {
     "data": {
      "text/html": [
       "<div>\n",
       "<style scoped>\n",
       "    .dataframe tbody tr th:only-of-type {\n",
       "        vertical-align: middle;\n",
       "    }\n",
       "\n",
       "    .dataframe tbody tr th {\n",
       "        vertical-align: top;\n",
       "    }\n",
       "\n",
       "    .dataframe thead th {\n",
       "        text-align: right;\n",
       "    }\n",
       "</style>\n",
       "<table border=\"1\" class=\"dataframe\">\n",
       "  <thead>\n",
       "    <tr style=\"text-align: right;\">\n",
       "      <th></th>\n",
       "      <th>safegraph_place_id</th>\n",
       "      <th>top_category</th>\n",
       "    </tr>\n",
       "  </thead>\n",
       "  <tbody>\n",
       "    <tr>\n",
       "      <th>408200</th>\n",
       "      <td>sg:e7c4e68b979a436aaf28b8e93dc76cc2</td>\n",
       "      <td>Drinking Places (Alcoholic Beverages)</td>\n",
       "    </tr>\n",
       "    <tr>\n",
       "      <th>406397</th>\n",
       "      <td>sg:d582cdb224794a6d86c36bd22b31268e</td>\n",
       "      <td>Justice, Public Order, and Safety Activities</td>\n",
       "    </tr>\n",
       "    <tr>\n",
       "      <th>406466</th>\n",
       "      <td>sg:7bfb0df7b2b84048a4b74d0d8c953f43</td>\n",
       "      <td>Building Equipment Contractors</td>\n",
       "    </tr>\n",
       "    <tr>\n",
       "      <th>406443</th>\n",
       "      <td>sg:de024815ad1443f69daa83f691f624cc</td>\n",
       "      <td>Automotive Repair and Maintenance</td>\n",
       "    </tr>\n",
       "    <tr>\n",
       "      <th>406438</th>\n",
       "      <td>sg:84e37b6cbfbf4e55a3ff4bdf81724eba</td>\n",
       "      <td>Depository Credit Intermediation</td>\n",
       "    </tr>\n",
       "  </tbody>\n",
       "</table>\n",
       "</div>"
      ],
      "text/plain": [
       "                         safegraph_place_id  \\\n",
       "408200  sg:e7c4e68b979a436aaf28b8e93dc76cc2   \n",
       "406397  sg:d582cdb224794a6d86c36bd22b31268e   \n",
       "406466  sg:7bfb0df7b2b84048a4b74d0d8c953f43   \n",
       "406443  sg:de024815ad1443f69daa83f691f624cc   \n",
       "406438  sg:84e37b6cbfbf4e55a3ff4bdf81724eba   \n",
       "\n",
       "                                        top_category  \n",
       "408200         Drinking Places (Alcoholic Beverages)  \n",
       "406397  Justice, Public Order, and Safety Activities  \n",
       "406466                Building Equipment Contractors  \n",
       "406443             Automotive Repair and Maintenance  \n",
       "406438              Depository Credit Intermediation  "
      ]
     },
     "execution_count": 32,
     "metadata": {},
     "output_type": "execute_result"
    }
   ],
   "source": [
    "categories.head()"
   ]
  },
  {
   "cell_type": "markdown",
   "metadata": {},
   "source": [
    "Number of POI with category info:"
   ]
  },
  {
   "cell_type": "code",
   "execution_count": 33,
   "metadata": {},
   "outputs": [
    {
     "data": {
      "text/plain": [
       "17304"
      ]
     },
     "execution_count": 33,
     "metadata": {},
     "output_type": "execute_result"
    }
   ],
   "source": [
    "categories['safegraph_place_id'].nunique()"
   ]
  },
  {
   "cell_type": "markdown",
   "metadata": {},
   "source": [
    "Merge in category info and drop those without a category:"
   ]
  },
  {
   "cell_type": "code",
   "execution_count": 34,
   "metadata": {},
   "outputs": [],
   "source": [
    "philly_patterns = philly_patterns_all.drop(labels=[\"top_category\"], axis=1).merge(\n",
    "    categories, on=\"safegraph_place_id\"\n",
    ")"
   ]
  },
  {
   "cell_type": "markdown",
   "metadata": {},
   "source": [
    "No more missing categories:"
   ]
  },
  {
   "cell_type": "code",
   "execution_count": 35,
   "metadata": {},
   "outputs": [
    {
     "data": {
      "text/plain": [
       "0"
      ]
     },
     "execution_count": 35,
     "metadata": {},
     "output_type": "execute_result"
    }
   ],
   "source": [
    "philly_patterns['top_category'].isnull().sum()"
   ]
  },
  {
   "cell_type": "markdown",
   "metadata": {},
   "source": [
    "Trim to the columns we need:"
   ]
  },
  {
   "cell_type": "code",
   "execution_count": 36,
   "metadata": {},
   "outputs": [],
   "source": [
    "philly_patterns = philly_patterns[\n",
    "    [\n",
    "        \"safegraph_place_id\",\n",
    "        \"date_range_start\",\n",
    "        \"date_range_end\",\n",
    "        \"raw_visit_counts\",\n",
    "        \"raw_visitor_counts\",\n",
    "        \"poi_cbg\",\n",
    "        \"top_category\",\n",
    "        'visitor_home_cbgs'\n",
    "    ]\n",
    "]"
   ]
  },
  {
   "cell_type": "markdown",
   "metadata": {},
   "source": [
    "Make datetime columns:"
   ]
  },
  {
   "cell_type": "code",
   "execution_count": 37,
   "metadata": {},
   "outputs": [],
   "source": [
    "philly_patterns[\"date_range_start\"] = pd.to_datetime(\n",
    "    philly_patterns[\"date_range_start\"].astype(str).apply(lambda x: x[:10])\n",
    ")\n",
    "\n",
    "philly_patterns[\"date_range_end\"] = pd.to_datetime(\n",
    "    philly_patterns[\"date_range_end\"].astype(str).apply(lambda x: x[:10])\n",
    ")"
   ]
  },
  {
   "cell_type": "code",
   "execution_count": 38,
   "metadata": {},
   "outputs": [],
   "source": [
    "# philly_patterns[\"poi_cbg\"] = philly_patterns[\"poi_cbg\"].astype(int)"
   ]
  },
  {
   "cell_type": "code",
   "execution_count": 103,
   "metadata": {},
   "outputs": [],
   "source": [
    "census_path = DATA_DIR / 'raw' / 'open-census-data'\n",
    "files = [file for file in census_path.glob('**/cbg_b02.csv')]\n",
    "census = pd.read_csv(files[0])\n",
    "census =  census[['census_block_group','B02001e1', 'B02001e2', 'B02001e3']]\n",
    "census['White_pct'] = census['B02001e2']/census['B02001e1']\n",
    "census['Black_pct'] = census['B02001e3']/census['B02001e1']\n",
    "census = census.set_index('census_block_group')\n",
    "census = census.fillna(0)"
   ]
  },
  {
   "cell_type": "code",
   "execution_count": 85,
   "metadata": {},
   "outputs": [
    {
     "data": {
      "text/plain": [
       "B02001e1     1059.000000\n",
       "B02001e2      566.000000\n",
       "B02001e3       39.000000\n",
       "White_pct       0.534466\n",
       "Black_pct       0.036827\n",
       "Name: 421010176013, dtype: float64"
      ]
     },
     "execution_count": 85,
     "metadata": {},
     "output_type": "execute_result"
    }
   ],
   "source": [
    "census.loc[421010176013]"
   ]
  },
  {
   "cell_type": "code",
   "execution_count": 104,
   "metadata": {},
   "outputs": [],
   "source": [
    "def str_to_dict(x):\n",
    "    result = x.replace('{','')\n",
    "    result = result.replace('}', '')\n",
    "    result = result.replace('\"', '')\n",
    "    if not result:\n",
    "        return dict()\n",
    "    result = result.split(',')\n",
    "    result = [x.split(':') for x in result]\n",
    "    result = {int(x[0]):int(x[1]) for x in result}\n",
    "    return result"
   ]
  },
  {
   "cell_type": "code",
   "execution_count": 95,
   "metadata": {},
   "outputs": [],
   "source": [
    "def estimate_visitors(x, race_col):\n",
    "    result = 0\n",
    "    for cbg in x:\n",
    "        try:\n",
    "            result += census.loc[cbg,race_col]*x[cbg]\n",
    "        except:\n",
    "            continue\n",
    "    return result\n",
    "\n",
    "def total_cbg_visitors(x):\n",
    "    return sum(x[cbg] for cbg in x)\n",
    "    "
   ]
  },
  {
   "cell_type": "code",
   "execution_count": 97,
   "metadata": {},
   "outputs": [],
   "source": [
    "def compute_race_columns(x):\n",
    "    d = str_to_dict(x)\n",
    "    return (\n",
    "        estimate_visitors(d, 'Black_pct'), estimate_visitors(d, 'White_pct'), \n",
    "        total_cbg_visitors(d)\n",
    "    )"
   ]
  },
  {
   "cell_type": "code",
   "execution_count": 105,
   "metadata": {},
   "outputs": [],
   "source": [
    "philly_patterns['black_visitors'] = philly_patterns.visitor_home_cbgs.apply(\n",
    "    lambda x: estimate_visitors(str_to_dict(x), 'Black_pct')\n",
    ")\n",
    "philly_patterns['white_visitors'] = philly_patterns.visitor_home_cbgs.apply(\n",
    "    lambda x: estimate_visitors(str_to_dict(x), 'White_pct')\n",
    ")\n",
    "philly_patterns['cbg_visitors'] = philly_patterns.visitor_home_cbgs.apply(\n",
    "    lambda x: total_cbg_visitors(str_to_dict(x))\n",
    ")"
   ]
  },
  {
   "cell_type": "code",
   "execution_count": 107,
   "metadata": {},
   "outputs": [],
   "source": [
    "race_data = philly_patterns[\n",
    "    ['safegraph_place_id', 'black_visitors', 'white_visitors', 'cbg_visitors']\n",
    "].groupby('safegraph_place_id').agg('sum')\n",
    "race_data['black_pct'] = race_data['black_visitors']/race_data['cbg_visitors']\n",
    "race_data['white_pct'] = race_data['white_visitors']/race_data['cbg_visitors']\n",
    "race_data = race_data.fillna(0)"
   ]
  },
  {
   "cell_type": "code",
   "execution_count": 108,
   "metadata": {},
   "outputs": [
    {
     "data": {
      "text/html": [
       "<div>\n",
       "<style scoped>\n",
       "    .dataframe tbody tr th:only-of-type {\n",
       "        vertical-align: middle;\n",
       "    }\n",
       "\n",
       "    .dataframe tbody tr th {\n",
       "        vertical-align: top;\n",
       "    }\n",
       "\n",
       "    .dataframe thead th {\n",
       "        text-align: right;\n",
       "    }\n",
       "</style>\n",
       "<table border=\"1\" class=\"dataframe\">\n",
       "  <thead>\n",
       "    <tr style=\"text-align: right;\">\n",
       "      <th></th>\n",
       "      <th>black_visitors</th>\n",
       "      <th>white_visitors</th>\n",
       "      <th>cbg_visitors</th>\n",
       "      <th>black_pct</th>\n",
       "      <th>white_pct</th>\n",
       "    </tr>\n",
       "    <tr>\n",
       "      <th>safegraph_place_id</th>\n",
       "      <th></th>\n",
       "      <th></th>\n",
       "      <th></th>\n",
       "      <th></th>\n",
       "      <th></th>\n",
       "    </tr>\n",
       "  </thead>\n",
       "  <tbody>\n",
       "    <tr>\n",
       "      <th>sg:00018e7b1ba449278dd1c33a2348e5fa</th>\n",
       "      <td>106.651318</td>\n",
       "      <td>765.015869</td>\n",
       "      <td>1030</td>\n",
       "      <td>0.103545</td>\n",
       "      <td>0.742734</td>\n",
       "    </tr>\n",
       "    <tr>\n",
       "      <th>sg:0001da921b9d488986c0bdf83bfaff4b</th>\n",
       "      <td>55.368416</td>\n",
       "      <td>412.400029</td>\n",
       "      <td>561</td>\n",
       "      <td>0.098696</td>\n",
       "      <td>0.735116</td>\n",
       "    </tr>\n",
       "    <tr>\n",
       "      <th>sg:0003e5a379604393b0dc6e9bce0058b2</th>\n",
       "      <td>2707.724285</td>\n",
       "      <td>894.581122</td>\n",
       "      <td>3873</td>\n",
       "      <td>0.699128</td>\n",
       "      <td>0.230979</td>\n",
       "    </tr>\n",
       "    <tr>\n",
       "      <th>sg:0004189674c64e108e4b5ea2baa68eb9</th>\n",
       "      <td>480.239022</td>\n",
       "      <td>398.685287</td>\n",
       "      <td>1049</td>\n",
       "      <td>0.457807</td>\n",
       "      <td>0.380062</td>\n",
       "    </tr>\n",
       "    <tr>\n",
       "      <th>sg:0008547f38f54091836959120205256c</th>\n",
       "      <td>1378.942755</td>\n",
       "      <td>2278.201794</td>\n",
       "      <td>4489</td>\n",
       "      <td>0.307183</td>\n",
       "      <td>0.507508</td>\n",
       "    </tr>\n",
       "  </tbody>\n",
       "</table>\n",
       "</div>"
      ],
      "text/plain": [
       "                                     black_visitors  white_visitors  \\\n",
       "safegraph_place_id                                                    \n",
       "sg:00018e7b1ba449278dd1c33a2348e5fa      106.651318      765.015869   \n",
       "sg:0001da921b9d488986c0bdf83bfaff4b       55.368416      412.400029   \n",
       "sg:0003e5a379604393b0dc6e9bce0058b2     2707.724285      894.581122   \n",
       "sg:0004189674c64e108e4b5ea2baa68eb9      480.239022      398.685287   \n",
       "sg:0008547f38f54091836959120205256c     1378.942755     2278.201794   \n",
       "\n",
       "                                     cbg_visitors  black_pct  white_pct  \n",
       "safegraph_place_id                                                       \n",
       "sg:00018e7b1ba449278dd1c33a2348e5fa          1030   0.103545   0.742734  \n",
       "sg:0001da921b9d488986c0bdf83bfaff4b           561   0.098696   0.735116  \n",
       "sg:0003e5a379604393b0dc6e9bce0058b2          3873   0.699128   0.230979  \n",
       "sg:0004189674c64e108e4b5ea2baa68eb9          1049   0.457807   0.380062  \n",
       "sg:0008547f38f54091836959120205256c          4489   0.307183   0.507508  "
      ]
     },
     "execution_count": 108,
     "metadata": {},
     "output_type": "execute_result"
    }
   ],
   "source": [
    "race_data.head()"
   ]
  },
  {
   "cell_type": "code",
   "execution_count": 20,
   "metadata": {},
   "outputs": [],
   "source": [
    "# philly_patterns = philly_patterns.merge(census, left_on = 'poi_cbg', right_on = 'census_block_group', how = 'left')\n",
    "# philly_patterns.drop(columns = 'census_block_group', inplace = True)"
   ]
  },
  {
   "cell_type": "code",
   "execution_count": 20,
   "metadata": {},
   "outputs": [],
   "source": [
    "# philly_patterns['income_missing'] = philly_patterns['B19013e1'].isna().astype(int)\n",
    "# philly_patterns['B19013e1'].fillna(value=philly_patterns['B19013e1'].mean(), inplace=True)"
   ]
  },
  {
   "cell_type": "code",
   "execution_count": 109,
   "metadata": {},
   "outputs": [],
   "source": [
    "# for files with information disaggregated at the state level, keep only the country-wide info\n",
    "def keep_total_level(norm_stats):\n",
    "    if \"region\" in norm_stats.columns:\n",
    "        if len(norm_stats[norm_stats[\"region\"] == \"ALL_STATES\"]) == 0:\n",
    "            raise ValueError('no region named \"ALL_STATES\"')\n",
    "        norm_stats = norm_stats[norm_stats[\"region\"] == \"ALL_STATES\"]\n",
    "        norm_stats = norm_stats.drop(columns=[\"region\"])\n",
    "    return norm_stats\n",
    "\n",
    "\n",
    "patterns_path = raw_data_dir / \"monthly-patterns-2020-12\"\n",
    "\n",
    "\n",
    "norm_files = [f for f in patterns_path.glob(\"**/normalization_stats.csv\")]\n",
    "# read in normalization data\n",
    "norm_stats = pd.concat([keep_total_level(pd.read_csv(file)) for file in norm_files])\n",
    "norm_stats[\"year\"] = norm_stats[\"year\"].astype(int)\n",
    "norm_stats[\"month\"] = norm_stats[\"month\"].astype(int)\n",
    "norm_stats[\"day\"] = norm_stats[\"day\"].astype(int)\n",
    "# HK: I only downloaded patterns data from 2019 onwards due to memory constraints\n",
    "norm_stats = norm_stats[norm_stats[\"year\"] >= 2019]\n",
    "norm_stats.reset_index(inplace=True, drop=True)"
   ]
  },
  {
   "cell_type": "code",
   "execution_count": 110,
   "metadata": {},
   "outputs": [
    {
     "data": {
      "text/html": [
       "<div>\n",
       "<style scoped>\n",
       "    .dataframe tbody tr th:only-of-type {\n",
       "        vertical-align: middle;\n",
       "    }\n",
       "\n",
       "    .dataframe tbody tr th {\n",
       "        vertical-align: top;\n",
       "    }\n",
       "\n",
       "    .dataframe thead th {\n",
       "        text-align: right;\n",
       "    }\n",
       "</style>\n",
       "<table border=\"1\" class=\"dataframe\">\n",
       "  <thead>\n",
       "    <tr style=\"text-align: right;\">\n",
       "      <th></th>\n",
       "      <th>year</th>\n",
       "      <th>month</th>\n",
       "      <th>day</th>\n",
       "      <th>total_visits</th>\n",
       "      <th>total_devices_seen</th>\n",
       "      <th>total_home_visits</th>\n",
       "      <th>total_home_visitors</th>\n",
       "    </tr>\n",
       "  </thead>\n",
       "  <tbody>\n",
       "    <tr>\n",
       "      <th>0</th>\n",
       "      <td>2019</td>\n",
       "      <td>3</td>\n",
       "      <td>1</td>\n",
       "      <td>71494424</td>\n",
       "      <td>20818199</td>\n",
       "      <td>29867861</td>\n",
       "      <td>17558627</td>\n",
       "    </tr>\n",
       "    <tr>\n",
       "      <th>1</th>\n",
       "      <td>2019</td>\n",
       "      <td>3</td>\n",
       "      <td>2</td>\n",
       "      <td>64944421</td>\n",
       "      <td>20621293</td>\n",
       "      <td>28759442</td>\n",
       "      <td>17376856</td>\n",
       "    </tr>\n",
       "    <tr>\n",
       "      <th>2</th>\n",
       "      <td>2019</td>\n",
       "      <td>3</td>\n",
       "      <td>3</td>\n",
       "      <td>57808859</td>\n",
       "      <td>20708026</td>\n",
       "      <td>30021148</td>\n",
       "      <td>18297714</td>\n",
       "    </tr>\n",
       "    <tr>\n",
       "      <th>3</th>\n",
       "      <td>2019</td>\n",
       "      <td>3</td>\n",
       "      <td>4</td>\n",
       "      <td>66366221</td>\n",
       "      <td>20974271</td>\n",
       "      <td>30616720</td>\n",
       "      <td>18126681</td>\n",
       "    </tr>\n",
       "    <tr>\n",
       "      <th>4</th>\n",
       "      <td>2019</td>\n",
       "      <td>3</td>\n",
       "      <td>5</td>\n",
       "      <td>66513792</td>\n",
       "      <td>20246899</td>\n",
       "      <td>29591990</td>\n",
       "      <td>17466477</td>\n",
       "    </tr>\n",
       "  </tbody>\n",
       "</table>\n",
       "</div>"
      ],
      "text/plain": [
       "   year  month  day  total_visits  total_devices_seen  total_home_visits  \\\n",
       "0  2019      3    1      71494424            20818199           29867861   \n",
       "1  2019      3    2      64944421            20621293           28759442   \n",
       "2  2019      3    3      57808859            20708026           30021148   \n",
       "3  2019      3    4      66366221            20974271           30616720   \n",
       "4  2019      3    5      66513792            20246899           29591990   \n",
       "\n",
       "   total_home_visitors  \n",
       "0             17558627  \n",
       "1             17376856  \n",
       "2             18297714  \n",
       "3             18126681  \n",
       "4             17466477  "
      ]
     },
     "execution_count": 110,
     "metadata": {},
     "output_type": "execute_result"
    }
   ],
   "source": [
    "norm_stats.head()"
   ]
  },
  {
   "cell_type": "code",
   "execution_count": 111,
   "metadata": {},
   "outputs": [],
   "source": [
    "norm_stats[\"date\"] = pd.to_datetime(\n",
    "    (norm_stats.year * 10000 + norm_stats.month * 100 + norm_stats.day).apply(str),\n",
    "    format=\"%Y%m%d\",\n",
    ")"
   ]
  },
  {
   "cell_type": "code",
   "execution_count": 112,
   "metadata": {},
   "outputs": [],
   "source": [
    "date_ranges = (\n",
    "    philly_patterns[[\"date_range_start\", \"date_range_end\"]]\n",
    "    .drop_duplicates()\n",
    "    .sort_values(\"date_range_start\")\n",
    "    .reset_index(drop=True)\n",
    "    .dropna()\n",
    ")"
   ]
  },
  {
   "cell_type": "code",
   "execution_count": 113,
   "metadata": {},
   "outputs": [],
   "source": [
    "def get_date_range(x): \n",
    "    mask = (date_ranges['date_range_start'] <= x) & (date_ranges['date_range_end'] > x)\n",
    "    if np.any(mask):\n",
    "        return date_ranges.loc[mask,'date_range_start'].values[0]\n",
    "    else:\n",
    "        return np.nan"
   ]
  },
  {
   "cell_type": "code",
   "execution_count": 114,
   "metadata": {},
   "outputs": [],
   "source": [
    "norm_stats['date_range_start'] = norm_stats.date.apply(get_date_range)"
   ]
  },
  {
   "cell_type": "code",
   "execution_count": 115,
   "metadata": {},
   "outputs": [],
   "source": [
    "norm_stats = norm_stats[['date_range_start', 'total_visits', 'total_devices_seen']].groupby('date_range_start').agg('sum').reset_index()"
   ]
  },
  {
   "cell_type": "code",
   "execution_count": 116,
   "metadata": {},
   "outputs": [],
   "source": [
    "philly_patterns = philly_patterns.merge(norm_stats, on=\"date_range_start\")\n",
    "philly_patterns[\"visit_count_norm\"] = (\n",
    "    1000000 * philly_patterns[\"raw_visit_counts\"] / philly_patterns[\"total_visits\"]\n",
    ")\n",
    "philly_patterns[\"visitor_count_norm\"] = (\n",
    "    1000000\n",
    "    * philly_patterns[\"raw_visitor_counts\"]\n",
    "    / philly_patterns[\"total_devices_seen\"]\n",
    ")"
   ]
  },
  {
   "cell_type": "code",
   "execution_count": 117,
   "metadata": {},
   "outputs": [
    {
     "data": {
      "text/html": [
       "<div>\n",
       "<style scoped>\n",
       "    .dataframe tbody tr th:only-of-type {\n",
       "        vertical-align: middle;\n",
       "    }\n",
       "\n",
       "    .dataframe tbody tr th {\n",
       "        vertical-align: top;\n",
       "    }\n",
       "\n",
       "    .dataframe thead th {\n",
       "        text-align: right;\n",
       "    }\n",
       "</style>\n",
       "<table border=\"1\" class=\"dataframe\">\n",
       "  <thead>\n",
       "    <tr style=\"text-align: right;\">\n",
       "      <th></th>\n",
       "      <th>safegraph_place_id</th>\n",
       "      <th>date_range_start</th>\n",
       "      <th>date_range_end</th>\n",
       "      <th>raw_visit_counts</th>\n",
       "      <th>raw_visitor_counts</th>\n",
       "      <th>poi_cbg</th>\n",
       "      <th>top_category</th>\n",
       "      <th>visitor_home_cbgs</th>\n",
       "      <th>black_visitors</th>\n",
       "      <th>white_visitors</th>\n",
       "      <th>cbg_visitors</th>\n",
       "      <th>total_visits</th>\n",
       "      <th>total_devices_seen</th>\n",
       "      <th>visit_count_norm</th>\n",
       "      <th>visitor_count_norm</th>\n",
       "    </tr>\n",
       "  </thead>\n",
       "  <tbody>\n",
       "    <tr>\n",
       "      <th>0</th>\n",
       "      <td>sg:05ede5a3192b44638dcd954d369b4856</td>\n",
       "      <td>2021-02-01</td>\n",
       "      <td>2021-03-01</td>\n",
       "      <td>164</td>\n",
       "      <td>127</td>\n",
       "      <td>4.210103e+11</td>\n",
       "      <td>Grocery Stores</td>\n",
       "      <td>{\"420912019014\":5,\"421010315012\":5,\"4210103150...</td>\n",
       "      <td>18.602309</td>\n",
       "      <td>65.577292</td>\n",
       "      <td>98</td>\n",
       "      <td>1332355928</td>\n",
       "      <td>433019771</td>\n",
       "      <td>0.123090</td>\n",
       "      <td>0.293289</td>\n",
       "    </tr>\n",
       "    <tr>\n",
       "      <th>1</th>\n",
       "      <td>sg:1501a801e04b4615b1af620ccf1a2e48</td>\n",
       "      <td>2021-02-01</td>\n",
       "      <td>2021-03-01</td>\n",
       "      <td>2</td>\n",
       "      <td>2</td>\n",
       "      <td>4.210103e+11</td>\n",
       "      <td>Automotive Parts, Accessories, and Tire Stores</td>\n",
       "      <td>{}</td>\n",
       "      <td>0.000000</td>\n",
       "      <td>0.000000</td>\n",
       "      <td>0</td>\n",
       "      <td>1332355928</td>\n",
       "      <td>433019771</td>\n",
       "      <td>0.001501</td>\n",
       "      <td>0.004619</td>\n",
       "    </tr>\n",
       "    <tr>\n",
       "      <th>2</th>\n",
       "      <td>sg:359580c4d0c24a3aae50813992af8b35</td>\n",
       "      <td>2021-02-01</td>\n",
       "      <td>2021-03-01</td>\n",
       "      <td>12</td>\n",
       "      <td>11</td>\n",
       "      <td>4.210101e+11</td>\n",
       "      <td>Grocery Stores</td>\n",
       "      <td>{\"060290028132\":4}</td>\n",
       "      <td>0.533842</td>\n",
       "      <td>1.757865</td>\n",
       "      <td>4</td>\n",
       "      <td>1332355928</td>\n",
       "      <td>433019771</td>\n",
       "      <td>0.009007</td>\n",
       "      <td>0.025403</td>\n",
       "    </tr>\n",
       "    <tr>\n",
       "      <th>3</th>\n",
       "      <td>sg:742859488f4948eba798dad18c70ef75</td>\n",
       "      <td>2021-02-01</td>\n",
       "      <td>2021-03-01</td>\n",
       "      <td>122</td>\n",
       "      <td>75</td>\n",
       "      <td>4.210103e+11</td>\n",
       "      <td>Restaurants and Other Eating Places</td>\n",
       "      <td>{\"421010084002\":5,\"420171008111\":4,\"4210100420...</td>\n",
       "      <td>17.793799</td>\n",
       "      <td>28.346722</td>\n",
       "      <td>53</td>\n",
       "      <td>1332355928</td>\n",
       "      <td>433019771</td>\n",
       "      <td>0.091567</td>\n",
       "      <td>0.173202</td>\n",
       "    </tr>\n",
       "    <tr>\n",
       "      <th>4</th>\n",
       "      <td>sg:84e37b6cbfbf4e55a3ff4bdf81724eba</td>\n",
       "      <td>2021-02-01</td>\n",
       "      <td>2021-03-01</td>\n",
       "      <td>1</td>\n",
       "      <td>1</td>\n",
       "      <td>4.210103e+11</td>\n",
       "      <td>Depository Credit Intermediation</td>\n",
       "      <td>{}</td>\n",
       "      <td>0.000000</td>\n",
       "      <td>0.000000</td>\n",
       "      <td>0</td>\n",
       "      <td>1332355928</td>\n",
       "      <td>433019771</td>\n",
       "      <td>0.000751</td>\n",
       "      <td>0.002309</td>\n",
       "    </tr>\n",
       "  </tbody>\n",
       "</table>\n",
       "</div>"
      ],
      "text/plain": [
       "                    safegraph_place_id date_range_start date_range_end  \\\n",
       "0  sg:05ede5a3192b44638dcd954d369b4856       2021-02-01     2021-03-01   \n",
       "1  sg:1501a801e04b4615b1af620ccf1a2e48       2021-02-01     2021-03-01   \n",
       "2  sg:359580c4d0c24a3aae50813992af8b35       2021-02-01     2021-03-01   \n",
       "3  sg:742859488f4948eba798dad18c70ef75       2021-02-01     2021-03-01   \n",
       "4  sg:84e37b6cbfbf4e55a3ff4bdf81724eba       2021-02-01     2021-03-01   \n",
       "\n",
       "   raw_visit_counts  raw_visitor_counts       poi_cbg  \\\n",
       "0               164                 127  4.210103e+11   \n",
       "1                 2                   2  4.210103e+11   \n",
       "2                12                  11  4.210101e+11   \n",
       "3               122                  75  4.210103e+11   \n",
       "4                 1                   1  4.210103e+11   \n",
       "\n",
       "                                     top_category  \\\n",
       "0                                  Grocery Stores   \n",
       "1  Automotive Parts, Accessories, and Tire Stores   \n",
       "2                                  Grocery Stores   \n",
       "3             Restaurants and Other Eating Places   \n",
       "4                Depository Credit Intermediation   \n",
       "\n",
       "                                   visitor_home_cbgs  black_visitors  \\\n",
       "0  {\"420912019014\":5,\"421010315012\":5,\"4210103150...       18.602309   \n",
       "1                                                 {}        0.000000   \n",
       "2                                 {\"060290028132\":4}        0.533842   \n",
       "3  {\"421010084002\":5,\"420171008111\":4,\"4210100420...       17.793799   \n",
       "4                                                 {}        0.000000   \n",
       "\n",
       "   white_visitors  cbg_visitors  total_visits  total_devices_seen  \\\n",
       "0       65.577292            98    1332355928           433019771   \n",
       "1        0.000000             0    1332355928           433019771   \n",
       "2        1.757865             4    1332355928           433019771   \n",
       "3       28.346722            53    1332355928           433019771   \n",
       "4        0.000000             0    1332355928           433019771   \n",
       "\n",
       "   visit_count_norm  visitor_count_norm  \n",
       "0          0.123090            0.293289  \n",
       "1          0.001501            0.004619  \n",
       "2          0.009007            0.025403  \n",
       "3          0.091567            0.173202  \n",
       "4          0.000751            0.002309  "
      ]
     },
     "execution_count": 117,
     "metadata": {},
     "output_type": "execute_result"
    }
   ],
   "source": [
    "philly_patterns.head()"
   ]
  },
  {
   "cell_type": "markdown",
   "metadata": {},
   "source": [
    "#### Tests"
   ]
  },
  {
   "cell_type": "code",
   "execution_count": 118,
   "metadata": {},
   "outputs": [
    {
     "data": {
      "text/plain": [
       "Restaurants and Other Eating Places                     98650\n",
       "Religious Organizations                                 26780\n",
       "Child Day Care Services                                 23340\n",
       "Grocery Stores                                          22913\n",
       "Health and Personal Care Stores                         17248\n",
       "Personal Care Services                                  16914\n",
       "Automotive Repair and Maintenance                       16717\n",
       "Other Amusement and Recreation Industries               15956\n",
       "Elementary and Secondary Schools                        14147\n",
       "Museums, Historical Sites, and Similar Institutions     13442\n",
       "Drinking Places (Alcoholic Beverages)                   12683\n",
       "Offices of Physicians                                   11236\n",
       "Clothing Stores                                          8347\n",
       "Offices of Dentists                                      8343\n",
       "Offices of Other Health Practitioners                    7300\n",
       "Gasoline Stations                                        5743\n",
       "Other Miscellaneous Store Retailers                      5427\n",
       "Sporting Goods, Hobby, and Musical Instrument Stores     5412\n",
       "Depository Credit Intermediation                         5272\n",
       "Automotive Parts, Accessories, and Tire Stores           4816\n",
       "Name: top_category, dtype: int64"
      ]
     },
     "execution_count": 118,
     "metadata": {},
     "output_type": "execute_result"
    }
   ],
   "source": [
    "philly_patterns.top_category.value_counts().head(n=20)"
   ]
  },
  {
   "cell_type": "markdown",
   "metadata": {},
   "source": [
    "Let's check restaurants:"
   ]
  },
  {
   "cell_type": "code",
   "execution_count": 119,
   "metadata": {},
   "outputs": [],
   "source": [
    "restaurants = philly_patterns.query(\n",
    "    \"top_category == 'Restaurants and Other Eating Places'\"\n",
    ")"
   ]
  },
  {
   "cell_type": "code",
   "execution_count": 120,
   "metadata": {},
   "outputs": [
    {
     "data": {
      "text/plain": [
       "<AxesSubplot:xlabel='date_range_start'>"
      ]
     },
     "execution_count": 120,
     "metadata": {},
     "output_type": "execute_result"
    },
    {
     "data": {
      "image/png": "[encoded data removed]",
      "text/plain": [
       "<Figure size 432x288 with 1 Axes>"
      ]
     },
     "metadata": {
      "needs_background": "light"
     },
     "output_type": "display_data"
    }
   ],
   "source": [
    "X = restaurants.groupby(\"date_range_start\")[\"visitor_count_norm\"].mean()\n",
    "\n",
    "# Normalize by Jan 2019 (could also do Jan 2020)\n",
    "(X / X.iloc[0]).plot()"
   ]
  },
  {
   "cell_type": "code",
   "execution_count": 121,
   "metadata": {},
   "outputs": [
    {
     "data": {
      "text/plain": [
       "<AxesSubplot:xlabel='date_range_start'>"
      ]
     },
     "execution_count": 121,
     "metadata": {},
     "output_type": "execute_result"
    },
    {
     "data": {
      "image/png": "[encoded data removed]",
      "text/plain": [
       "<Figure size 432x288 with 1 Axes>"
      ]
     },
     "metadata": {
      "needs_background": "light"
     },
     "output_type": "display_data"
    }
   ],
   "source": [
    "X = restaurants.groupby(\"date_range_start\")[\"visit_count_norm\"].mean()\n",
    "\n",
    "# Normalize by Jan 2019 (could also do Jan 2020)\n",
    "(X / X.iloc[0]).plot()"
   ]
  },
  {
   "cell_type": "markdown",
   "metadata": {},
   "source": [
    "Let's check grocery stores:"
   ]
  },
  {
   "cell_type": "code",
   "execution_count": 122,
   "metadata": {},
   "outputs": [],
   "source": [
    "grocery_stores = philly_patterns.query(\"top_category == 'Grocery Stores'\")"
   ]
  },
  {
   "cell_type": "code",
   "execution_count": 123,
   "metadata": {},
   "outputs": [
    {
     "data": {
      "text/plain": [
       "<AxesSubplot:xlabel='date_range_start'>"
      ]
     },
     "execution_count": 123,
     "metadata": {},
     "output_type": "execute_result"
    },
    {
     "data": {
      "image/png": "[encoded data removed]",
      "text/plain": [
       "<Figure size 432x288 with 1 Axes>"
      ]
     },
     "metadata": {
      "needs_background": "light"
     },
     "output_type": "display_data"
    }
   ],
   "source": [
    "X = grocery_stores.groupby(\"date_range_start\")[\"visitor_count_norm\"].mean()\n",
    "\n",
    "# Normalize by Jan 2019 (could also do Jan 2020)\n",
    "(X / X.iloc[0]).plot()"
   ]
  },
  {
   "cell_type": "markdown",
   "metadata": {},
   "source": [
    "**Note: \"visit_count_norm\" seems weird!**"
   ]
  },
  {
   "cell_type": "code",
   "execution_count": 124,
   "metadata": {},
   "outputs": [
    {
     "data": {
      "text/plain": [
       "<AxesSubplot:xlabel='date_range_start'>"
      ]
     },
     "execution_count": 124,
     "metadata": {},
     "output_type": "execute_result"
    },
    {
     "data": {
      "image/png": "[encoded data removed]",
      "text/plain": [
       "<Figure size 432x288 with 1 Axes>"
      ]
     },
     "metadata": {
      "needs_background": "light"
     },
     "output_type": "display_data"
    }
   ],
   "source": [
    "X = grocery_stores.groupby(\"date_range_start\")[\"visit_count_norm\"].mean()\n",
    "\n",
    "# Normalize by Jan 2019 (could also do Jan 2020)\n",
    "(X / X.iloc[0]).plot()"
   ]
  },
  {
   "cell_type": "markdown",
   "metadata": {},
   "source": [
    "#### Analysis"
   ]
  },
  {
   "cell_type": "code",
   "execution_count": 125,
   "metadata": {},
   "outputs": [],
   "source": [
    "mask = philly_patterns['date_range_start'] < '2020-03-01' \n",
    "prepandemic = philly_patterns.loc[mask].copy()\n",
    "pandemic = philly_patterns.loc[~mask].copy()"
   ]
  },
  {
   "cell_type": "code",
   "execution_count": 126,
   "metadata": {},
   "outputs": [
    {
     "data": {
      "text/plain": [
       "array(['2019-03-01T00:00:00.000000000', '2019-04-01T00:00:00.000000000',\n",
       "       '2019-05-01T00:00:00.000000000', '2019-02-01T00:00:00.000000000',\n",
       "       '2019-11-01T00:00:00.000000000', '2019-10-01T00:00:00.000000000',\n",
       "       '2019-07-01T00:00:00.000000000', '2019-09-01T00:00:00.000000000',\n",
       "       '2019-08-01T00:00:00.000000000', '2019-01-01T00:00:00.000000000',\n",
       "       '2019-06-01T00:00:00.000000000', '2019-12-01T00:00:00.000000000',\n",
       "       '2020-02-01T00:00:00.000000000', '2020-01-01T00:00:00.000000000'],\n",
       "      dtype='datetime64[ns]')"
      ]
     },
     "execution_count": 126,
     "metadata": {},
     "output_type": "execute_result"
    }
   ],
   "source": [
    "prepandemic.date_range_start.unique()"
   ]
  },
  {
   "cell_type": "code",
   "execution_count": 127,
   "metadata": {},
   "outputs": [],
   "source": [
    "from sklearn.cluster import KMeans\n",
    "from sklearn.preprocessing import StandardScaler\n"
   ]
  },
  {
   "cell_type": "code",
   "execution_count": 129,
   "metadata": {},
   "outputs": [],
   "source": [
    "def cut_outliers(df, cols):\n",
    "    for col in cols:\n",
    "        ub = 2*df[col].quantile(0.99)\n",
    "        mask = df[col] > ub\n",
    "        df.loc[mask,col] = ub\n",
    "    return df\n",
    "\n",
    "def make_dummies(df):\n",
    "    return pd.get_dummies(df)\n",
    "    \n",
    "\n",
    "def Stdrshp(df, pivot_cols, constant_cols): \n",
    "    constant = df.loc[\n",
    "        df.groupby('safegraph_place_id').cumcount() == 0,\n",
    "        ['safegraph_place_id']+constant_cols\n",
    "    ]\n",
    "    constant.set_index('safegraph_place_id', inplace = True)\n",
    "    #constant = make_dummies(constant)\n",
    "    pivoted = df.pivot_table(index='safegraph_place_id', columns='date_range_start')[pivot_cols]\n",
    "    new_cols = [('{1} {0}'.format(*tup)) for tup in pivoted.columns]\n",
    "    pivoted.columns = new_cols\n",
    "    df = pivoted.join(race_data[['black_pct', 'white_pct']])\n",
    "    df = df.fillna(0)\n",
    "    scaled = StandardScaler().fit_transform(df)\n",
    "    scaled_features_df = pd.DataFrame(scaled, index=df.index, columns=df.columns)\n",
    "    return scaled_features_df\n",
    "\n",
    "def make_clusters(df, k = 5):\n",
    "    kmeans = KMeans(n_clusters=k, n_init=50).fit(df) # NH NOTE: USE HIGHER N_INIT TO AVOID RANDOMNESS\n",
    "    df['cluster'] = kmeans.labels_\n",
    "    return (df, kmeans.inertia_)\n",
    "\n",
    "def run_Kmeans(df, pivot_cols, constant_cols, k = 5):\n",
    "    normalized = Stdrshp(cut_outliers(df, pivot_cols), pivot_cols, constant_cols)\n",
    "    return make_clusters(normalized, k)"
   ]
  },
  {
   "cell_type": "code",
   "execution_count": 130,
   "metadata": {},
   "outputs": [],
   "source": [
    "pivot_cols = [\"visitor_count_norm\"] ## NH NOTE: try using visitor_count_norm only\n",
    "constant_cols = []  #'B19013e1','income_missing']"
   ]
  },
  {
   "cell_type": "code",
   "execution_count": 131,
   "metadata": {},
   "outputs": [],
   "source": [
    "import matplotlib.pyplot as plt"
   ]
  },
  {
   "cell_type": "code",
   "execution_count": 132,
   "metadata": {},
   "outputs": [
    {
     "name": "stdout",
     "output_type": "stream",
     "text": [
      "3\n",
      "4\n",
      "5\n",
      "6\n",
      "7\n",
      "8\n",
      "9\n",
      "10\n",
      "11\n",
      "12\n",
      "13\n",
      "14\n",
      "15\n",
      "16\n",
      "17\n",
      "18\n",
      "19\n",
      "20\n",
      "21\n",
      "22\n",
      "23\n",
      "24\n",
      "25\n",
      "26\n",
      "27\n",
      "28\n",
      "29\n",
      "30\n",
      "31\n",
      "32\n",
      "33\n",
      "34\n",
      "35\n",
      "36\n",
      "37\n",
      "38\n",
      "39\n"
     ]
    },
    {
     "data": {
      "text/plain": [
       "[<matplotlib.lines.Line2D at 0x17debb690>]"
      ]
     },
     "execution_count": 132,
     "metadata": {},
     "output_type": "execute_result"
    },
    {
     "data": {
      "image/png": "[encoded data removed]",
      "text/plain": [
       "<Figure size 432x288 with 1 Axes>"
      ]
     },
     "metadata": {
      "needs_background": "light"
     },
     "output_type": "display_data"
    }
   ],
   "source": [
    "scaled = Stdrshp(philly_patterns, pivot_cols, constant_cols)\n",
    "n_clusters = [k for k in range(3,40)]\n",
    "inertias = []\n",
    "for k in n_clusters:\n",
    "    print(k)\n",
    "    df, inertia = make_clusters(scaled, k = k)\n",
    "    inertias.append(inertia)\n",
    "    \n",
    "plt.plot(n_clusters,inertias)"
   ]
  },
  {
   "cell_type": "code",
   "execution_count": 134,
   "metadata": {},
   "outputs": [
    {
     "data": {
      "text/html": [
       "<div>\n",
       "<style scoped>\n",
       "    .dataframe tbody tr th:only-of-type {\n",
       "        vertical-align: middle;\n",
       "    }\n",
       "\n",
       "    .dataframe tbody tr th {\n",
       "        vertical-align: top;\n",
       "    }\n",
       "\n",
       "    .dataframe thead th {\n",
       "        text-align: right;\n",
       "    }\n",
       "</style>\n",
       "<table border=\"1\" class=\"dataframe\">\n",
       "  <thead>\n",
       "    <tr style=\"text-align: right;\">\n",
       "      <th></th>\n",
       "      <th>2019-01-01 00:00:00 visitor_count_norm</th>\n",
       "      <th>2019-02-01 00:00:00 visitor_count_norm</th>\n",
       "      <th>2019-03-01 00:00:00 visitor_count_norm</th>\n",
       "      <th>2019-04-01 00:00:00 visitor_count_norm</th>\n",
       "      <th>2019-05-01 00:00:00 visitor_count_norm</th>\n",
       "      <th>2019-06-01 00:00:00 visitor_count_norm</th>\n",
       "      <th>2019-07-01 00:00:00 visitor_count_norm</th>\n",
       "      <th>2019-08-01 00:00:00 visitor_count_norm</th>\n",
       "      <th>2019-09-01 00:00:00 visitor_count_norm</th>\n",
       "      <th>2019-10-01 00:00:00 visitor_count_norm</th>\n",
       "      <th>2019-11-01 00:00:00 visitor_count_norm</th>\n",
       "      <th>2019-12-01 00:00:00 visitor_count_norm</th>\n",
       "      <th>2020-01-01 00:00:00 visitor_count_norm</th>\n",
       "      <th>2020-02-01 00:00:00 visitor_count_norm</th>\n",
       "      <th>2020-03-01 00:00:00 visitor_count_norm</th>\n",
       "      <th>2020-04-01 00:00:00 visitor_count_norm</th>\n",
       "      <th>2020-05-01 00:00:00 visitor_count_norm</th>\n",
       "      <th>2020-06-01 00:00:00 visitor_count_norm</th>\n",
       "      <th>2020-07-01 00:00:00 visitor_count_norm</th>\n",
       "      <th>2020-08-01 00:00:00 visitor_count_norm</th>\n",
       "      <th>2020-09-01 00:00:00 visitor_count_norm</th>\n",
       "      <th>2020-10-01 00:00:00 visitor_count_norm</th>\n",
       "      <th>2020-11-01 00:00:00 visitor_count_norm</th>\n",
       "      <th>2020-12-01 00:00:00 visitor_count_norm</th>\n",
       "      <th>2021-01-01 00:00:00 visitor_count_norm</th>\n",
       "      <th>2021-02-01 00:00:00 visitor_count_norm</th>\n",
       "      <th>2021-03-01 00:00:00 visitor_count_norm</th>\n",
       "      <th>black_pct</th>\n",
       "      <th>white_pct</th>\n",
       "      <th>cluster</th>\n",
       "    </tr>\n",
       "    <tr>\n",
       "      <th>safegraph_place_id</th>\n",
       "      <th></th>\n",
       "      <th></th>\n",
       "      <th></th>\n",
       "      <th></th>\n",
       "      <th></th>\n",
       "      <th></th>\n",
       "      <th></th>\n",
       "      <th></th>\n",
       "      <th></th>\n",
       "      <th></th>\n",
       "      <th></th>\n",
       "      <th></th>\n",
       "      <th></th>\n",
       "      <th></th>\n",
       "      <th></th>\n",
       "      <th></th>\n",
       "      <th></th>\n",
       "      <th></th>\n",
       "      <th></th>\n",
       "      <th></th>\n",
       "      <th></th>\n",
       "      <th></th>\n",
       "      <th></th>\n",
       "      <th></th>\n",
       "      <th></th>\n",
       "      <th></th>\n",
       "      <th></th>\n",
       "      <th></th>\n",
       "      <th></th>\n",
       "      <th></th>\n",
       "    </tr>\n",
       "  </thead>\n",
       "  <tbody>\n",
       "    <tr>\n",
       "      <th>sg:00018e7b1ba449278dd1c33a2348e5fa</th>\n",
       "      <td>-0.099422</td>\n",
       "      <td>-0.096384</td>\n",
       "      <td>-0.110702</td>\n",
       "      <td>-0.121672</td>\n",
       "      <td>-0.106915</td>\n",
       "      <td>-0.103068</td>\n",
       "      <td>-0.089016</td>\n",
       "      <td>-0.083370</td>\n",
       "      <td>-0.076017</td>\n",
       "      <td>-0.112556</td>\n",
       "      <td>-0.098593</td>\n",
       "      <td>-0.098209</td>\n",
       "      <td>-0.090389</td>\n",
       "      <td>-0.108137</td>\n",
       "      <td>-0.142310</td>\n",
       "      <td>-0.217155</td>\n",
       "      <td>-0.060013</td>\n",
       "      <td>-0.057745</td>\n",
       "      <td>-0.091538</td>\n",
       "      <td>-0.064894</td>\n",
       "      <td>-0.084813</td>\n",
       "      <td>-0.063235</td>\n",
       "      <td>-0.049110</td>\n",
       "      <td>-0.093948</td>\n",
       "      <td>-0.081712</td>\n",
       "      <td>-0.096979</td>\n",
       "      <td>-0.075958</td>\n",
       "      <td>-1.161882</td>\n",
       "      <td>1.214429</td>\n",
       "      <td>10</td>\n",
       "    </tr>\n",
       "    <tr>\n",
       "      <th>sg:0001da921b9d488986c0bdf83bfaff4b</th>\n",
       "      <td>-0.120942</td>\n",
       "      <td>-0.129137</td>\n",
       "      <td>-0.130080</td>\n",
       "      <td>-0.130425</td>\n",
       "      <td>-0.133672</td>\n",
       "      <td>-0.116330</td>\n",
       "      <td>-0.105796</td>\n",
       "      <td>-0.096225</td>\n",
       "      <td>-0.104851</td>\n",
       "      <td>-0.148421</td>\n",
       "      <td>-0.136772</td>\n",
       "      <td>-0.130803</td>\n",
       "      <td>-0.148127</td>\n",
       "      <td>-0.164134</td>\n",
       "      <td>-0.154351</td>\n",
       "      <td>-0.180148</td>\n",
       "      <td>-0.148884</td>\n",
       "      <td>-0.165714</td>\n",
       "      <td>-0.149878</td>\n",
       "      <td>-0.107467</td>\n",
       "      <td>-0.137039</td>\n",
       "      <td>-0.123745</td>\n",
       "      <td>-0.088750</td>\n",
       "      <td>-0.104405</td>\n",
       "      <td>-0.101953</td>\n",
       "      <td>-0.110703</td>\n",
       "      <td>-0.098447</td>\n",
       "      <td>-1.185320</td>\n",
       "      <td>1.177509</td>\n",
       "      <td>10</td>\n",
       "    </tr>\n",
       "    <tr>\n",
       "      <th>sg:0003e5a379604393b0dc6e9bce0058b2</th>\n",
       "      <td>0.034229</td>\n",
       "      <td>0.030847</td>\n",
       "      <td>0.032083</td>\n",
       "      <td>0.024214</td>\n",
       "      <td>0.048844</td>\n",
       "      <td>0.028664</td>\n",
       "      <td>0.050162</td>\n",
       "      <td>0.035182</td>\n",
       "      <td>0.017862</td>\n",
       "      <td>0.071715</td>\n",
       "      <td>0.063033</td>\n",
       "      <td>0.054287</td>\n",
       "      <td>0.087540</td>\n",
       "      <td>0.100221</td>\n",
       "      <td>0.128630</td>\n",
       "      <td>0.276280</td>\n",
       "      <td>0.211277</td>\n",
       "      <td>0.201381</td>\n",
       "      <td>0.130712</td>\n",
       "      <td>0.150335</td>\n",
       "      <td>0.088481</td>\n",
       "      <td>0.155531</td>\n",
       "      <td>0.028583</td>\n",
       "      <td>0.096889</td>\n",
       "      <td>0.080217</td>\n",
       "      <td>0.088287</td>\n",
       "      <td>0.118942</td>\n",
       "      <td>1.716929</td>\n",
       "      <td>-1.265757</td>\n",
       "      <td>5</td>\n",
       "    </tr>\n",
       "    <tr>\n",
       "      <th>sg:0004189674c64e108e4b5ea2baa68eb9</th>\n",
       "      <td>-0.073371</td>\n",
       "      <td>-0.077489</td>\n",
       "      <td>-0.082145</td>\n",
       "      <td>-0.087632</td>\n",
       "      <td>-0.095448</td>\n",
       "      <td>-0.069472</td>\n",
       "      <td>-0.054468</td>\n",
       "      <td>-0.067658</td>\n",
       "      <td>-0.070652</td>\n",
       "      <td>-0.096479</td>\n",
       "      <td>-0.097320</td>\n",
       "      <td>-0.102865</td>\n",
       "      <td>-0.096280</td>\n",
       "      <td>-0.113346</td>\n",
       "      <td>-0.092136</td>\n",
       "      <td>-0.099964</td>\n",
       "      <td>-0.158239</td>\n",
       "      <td>-0.154917</td>\n",
       "      <td>-0.124875</td>\n",
       "      <td>-0.121658</td>\n",
       "      <td>-0.137039</td>\n",
       "      <td>-0.133054</td>\n",
       "      <td>-0.096678</td>\n",
       "      <td>-0.120091</td>\n",
       "      <td>-0.101953</td>\n",
       "      <td>-0.155304</td>\n",
       "      <td>-0.128432</td>\n",
       "      <td>0.550476</td>\n",
       "      <td>-0.543235</td>\n",
       "      <td>28</td>\n",
       "    </tr>\n",
       "    <tr>\n",
       "      <th>sg:0008547f38f54091836959120205256c</th>\n",
       "      <td>0.146361</td>\n",
       "      <td>0.134143</td>\n",
       "      <td>0.074919</td>\n",
       "      <td>0.101047</td>\n",
       "      <td>0.177847</td>\n",
       "      <td>0.120610</td>\n",
       "      <td>0.057072</td>\n",
       "      <td>0.043752</td>\n",
       "      <td>0.032614</td>\n",
       "      <td>0.053164</td>\n",
       "      <td>0.122847</td>\n",
       "      <td>0.092702</td>\n",
       "      <td>0.155883</td>\n",
       "      <td>0.354159</td>\n",
       "      <td>0.375487</td>\n",
       "      <td>0.152921</td>\n",
       "      <td>0.173858</td>\n",
       "      <td>0.194183</td>\n",
       "      <td>0.255727</td>\n",
       "      <td>0.204734</td>\n",
       "      <td>0.221420</td>\n",
       "      <td>0.204404</td>\n",
       "      <td>0.034925</td>\n",
       "      <td>0.083818</td>\n",
       "      <td>0.098209</td>\n",
       "      <td>0.112303</td>\n",
       "      <td>0.061472</td>\n",
       "      <td>-0.177579</td>\n",
       "      <td>0.074421</td>\n",
       "      <td>0</td>\n",
       "    </tr>\n",
       "  </tbody>\n",
       "</table>\n",
       "</div>"
      ],
      "text/plain": [
       "                                     2019-01-01 00:00:00 visitor_count_norm  \\\n",
       "safegraph_place_id                                                            \n",
       "sg:00018e7b1ba449278dd1c33a2348e5fa                               -0.099422   \n",
       "sg:0001da921b9d488986c0bdf83bfaff4b                               -0.120942   \n",
       "sg:0003e5a379604393b0dc6e9bce0058b2                                0.034229   \n",
       "sg:0004189674c64e108e4b5ea2baa68eb9                               -0.073371   \n",
       "sg:0008547f38f54091836959120205256c                                0.146361   \n",
       "\n",
       "                                     2019-02-01 00:00:00 visitor_count_norm  \\\n",
       "safegraph_place_id                                                            \n",
       "sg:00018e7b1ba449278dd1c33a2348e5fa                               -0.096384   \n",
       "sg:0001da921b9d488986c0bdf83bfaff4b                               -0.129137   \n",
       "sg:0003e5a379604393b0dc6e9bce0058b2                                0.030847   \n",
       "sg:0004189674c64e108e4b5ea2baa68eb9                               -0.077489   \n",
       "sg:0008547f38f54091836959120205256c                                0.134143   \n",
       "\n",
       "                                     2019-03-01 00:00:00 visitor_count_norm  \\\n",
       "safegraph_place_id                                                            \n",
       "sg:00018e7b1ba449278dd1c33a2348e5fa                               -0.110702   \n",
       "sg:0001da921b9d488986c0bdf83bfaff4b                               -0.130080   \n",
       "sg:0003e5a379604393b0dc6e9bce0058b2                                0.032083   \n",
       "sg:0004189674c64e108e4b5ea2baa68eb9                               -0.082145   \n",
       "sg:0008547f38f54091836959120205256c                                0.074919   \n",
       "\n",
       "                                     2019-04-01 00:00:00 visitor_count_norm  \\\n",
       "safegraph_place_id                                                            \n",
       "sg:00018e7b1ba449278dd1c33a2348e5fa                               -0.121672   \n",
       "sg:0001da921b9d488986c0bdf83bfaff4b                               -0.130425   \n",
       "sg:0003e5a379604393b0dc6e9bce0058b2                                0.024214   \n",
       "sg:0004189674c64e108e4b5ea2baa68eb9                               -0.087632   \n",
       "sg:0008547f38f54091836959120205256c                                0.101047   \n",
       "\n",
       "                                     2019-05-01 00:00:00 visitor_count_norm  \\\n",
       "safegraph_place_id                                                            \n",
       "sg:00018e7b1ba449278dd1c33a2348e5fa                               -0.106915   \n",
       "sg:0001da921b9d488986c0bdf83bfaff4b                               -0.133672   \n",
       "sg:0003e5a379604393b0dc6e9bce0058b2                                0.048844   \n",
       "sg:0004189674c64e108e4b5ea2baa68eb9                               -0.095448   \n",
       "sg:0008547f38f54091836959120205256c                                0.177847   \n",
       "\n",
       "                                     2019-06-01 00:00:00 visitor_count_norm  \\\n",
       "safegraph_place_id                                                            \n",
       "sg:00018e7b1ba449278dd1c33a2348e5fa                               -0.103068   \n",
       "sg:0001da921b9d488986c0bdf83bfaff4b                               -0.116330   \n",
       "sg:0003e5a379604393b0dc6e9bce0058b2                                0.028664   \n",
       "sg:0004189674c64e108e4b5ea2baa68eb9                               -0.069472   \n",
       "sg:0008547f38f54091836959120205256c                                0.120610   \n",
       "\n",
       "                                     2019-07-01 00:00:00 visitor_count_norm  \\\n",
       "safegraph_place_id                                                            \n",
       "sg:00018e7b1ba449278dd1c33a2348e5fa                               -0.089016   \n",
       "sg:0001da921b9d488986c0bdf83bfaff4b                               -0.105796   \n",
       "sg:0003e5a379604393b0dc6e9bce0058b2                                0.050162   \n",
       "sg:0004189674c64e108e4b5ea2baa68eb9                               -0.054468   \n",
       "sg:0008547f38f54091836959120205256c                                0.057072   \n",
       "\n",
       "                                     2019-08-01 00:00:00 visitor_count_norm  \\\n",
       "safegraph_place_id                                                            \n",
       "sg:00018e7b1ba449278dd1c33a2348e5fa                               -0.083370   \n",
       "sg:0001da921b9d488986c0bdf83bfaff4b                               -0.096225   \n",
       "sg:0003e5a379604393b0dc6e9bce0058b2                                0.035182   \n",
       "sg:0004189674c64e108e4b5ea2baa68eb9                               -0.067658   \n",
       "sg:0008547f38f54091836959120205256c                                0.043752   \n",
       "\n",
       "                                     2019-09-01 00:00:00 visitor_count_norm  \\\n",
       "safegraph_place_id                                                            \n",
       "sg:00018e7b1ba449278dd1c33a2348e5fa                               -0.076017   \n",
       "sg:0001da921b9d488986c0bdf83bfaff4b                               -0.104851   \n",
       "sg:0003e5a379604393b0dc6e9bce0058b2                                0.017862   \n",
       "sg:0004189674c64e108e4b5ea2baa68eb9                               -0.070652   \n",
       "sg:0008547f38f54091836959120205256c                                0.032614   \n",
       "\n",
       "                                     2019-10-01 00:00:00 visitor_count_norm  \\\n",
       "safegraph_place_id                                                            \n",
       "sg:00018e7b1ba449278dd1c33a2348e5fa                               -0.112556   \n",
       "sg:0001da921b9d488986c0bdf83bfaff4b                               -0.148421   \n",
       "sg:0003e5a379604393b0dc6e9bce0058b2                                0.071715   \n",
       "sg:0004189674c64e108e4b5ea2baa68eb9                               -0.096479   \n",
       "sg:0008547f38f54091836959120205256c                                0.053164   \n",
       "\n",
       "                                     2019-11-01 00:00:00 visitor_count_norm  \\\n",
       "safegraph_place_id                                                            \n",
       "sg:00018e7b1ba449278dd1c33a2348e5fa                               -0.098593   \n",
       "sg:0001da921b9d488986c0bdf83bfaff4b                               -0.136772   \n",
       "sg:0003e5a379604393b0dc6e9bce0058b2                                0.063033   \n",
       "sg:0004189674c64e108e4b5ea2baa68eb9                               -0.097320   \n",
       "sg:0008547f38f54091836959120205256c                                0.122847   \n",
       "\n",
       "                                     2019-12-01 00:00:00 visitor_count_norm  \\\n",
       "safegraph_place_id                                                            \n",
       "sg:00018e7b1ba449278dd1c33a2348e5fa                               -0.098209   \n",
       "sg:0001da921b9d488986c0bdf83bfaff4b                               -0.130803   \n",
       "sg:0003e5a379604393b0dc6e9bce0058b2                                0.054287   \n",
       "sg:0004189674c64e108e4b5ea2baa68eb9                               -0.102865   \n",
       "sg:0008547f38f54091836959120205256c                                0.092702   \n",
       "\n",
       "                                     2020-01-01 00:00:00 visitor_count_norm  \\\n",
       "safegraph_place_id                                                            \n",
       "sg:00018e7b1ba449278dd1c33a2348e5fa                               -0.090389   \n",
       "sg:0001da921b9d488986c0bdf83bfaff4b                               -0.148127   \n",
       "sg:0003e5a379604393b0dc6e9bce0058b2                                0.087540   \n",
       "sg:0004189674c64e108e4b5ea2baa68eb9                               -0.096280   \n",
       "sg:0008547f38f54091836959120205256c                                0.155883   \n",
       "\n",
       "                                     2020-02-01 00:00:00 visitor_count_norm  \\\n",
       "safegraph_place_id                                                            \n",
       "sg:00018e7b1ba449278dd1c33a2348e5fa                               -0.108137   \n",
       "sg:0001da921b9d488986c0bdf83bfaff4b                               -0.164134   \n",
       "sg:0003e5a379604393b0dc6e9bce0058b2                                0.100221   \n",
       "sg:0004189674c64e108e4b5ea2baa68eb9                               -0.113346   \n",
       "sg:0008547f38f54091836959120205256c                                0.354159   \n",
       "\n",
       "                                     2020-03-01 00:00:00 visitor_count_norm  \\\n",
       "safegraph_place_id                                                            \n",
       "sg:00018e7b1ba449278dd1c33a2348e5fa                               -0.142310   \n",
       "sg:0001da921b9d488986c0bdf83bfaff4b                               -0.154351   \n",
       "sg:0003e5a379604393b0dc6e9bce0058b2                                0.128630   \n",
       "sg:0004189674c64e108e4b5ea2baa68eb9                               -0.092136   \n",
       "sg:0008547f38f54091836959120205256c                                0.375487   \n",
       "\n",
       "                                     2020-04-01 00:00:00 visitor_count_norm  \\\n",
       "safegraph_place_id                                                            \n",
       "sg:00018e7b1ba449278dd1c33a2348e5fa                               -0.217155   \n",
       "sg:0001da921b9d488986c0bdf83bfaff4b                               -0.180148   \n",
       "sg:0003e5a379604393b0dc6e9bce0058b2                                0.276280   \n",
       "sg:0004189674c64e108e4b5ea2baa68eb9                               -0.099964   \n",
       "sg:0008547f38f54091836959120205256c                                0.152921   \n",
       "\n",
       "                                     2020-05-01 00:00:00 visitor_count_norm  \\\n",
       "safegraph_place_id                                                            \n",
       "sg:00018e7b1ba449278dd1c33a2348e5fa                               -0.060013   \n",
       "sg:0001da921b9d488986c0bdf83bfaff4b                               -0.148884   \n",
       "sg:0003e5a379604393b0dc6e9bce0058b2                                0.211277   \n",
       "sg:0004189674c64e108e4b5ea2baa68eb9                               -0.158239   \n",
       "sg:0008547f38f54091836959120205256c                                0.173858   \n",
       "\n",
       "                                     2020-06-01 00:00:00 visitor_count_norm  \\\n",
       "safegraph_place_id                                                            \n",
       "sg:00018e7b1ba449278dd1c33a2348e5fa                               -0.057745   \n",
       "sg:0001da921b9d488986c0bdf83bfaff4b                               -0.165714   \n",
       "sg:0003e5a379604393b0dc6e9bce0058b2                                0.201381   \n",
       "sg:0004189674c64e108e4b5ea2baa68eb9                               -0.154917   \n",
       "sg:0008547f38f54091836959120205256c                                0.194183   \n",
       "\n",
       "                                     2020-07-01 00:00:00 visitor_count_norm  \\\n",
       "safegraph_place_id                                                            \n",
       "sg:00018e7b1ba449278dd1c33a2348e5fa                               -0.091538   \n",
       "sg:0001da921b9d488986c0bdf83bfaff4b                               -0.149878   \n",
       "sg:0003e5a379604393b0dc6e9bce0058b2                                0.130712   \n",
       "sg:0004189674c64e108e4b5ea2baa68eb9                               -0.124875   \n",
       "sg:0008547f38f54091836959120205256c                                0.255727   \n",
       "\n",
       "                                     2020-08-01 00:00:00 visitor_count_norm  \\\n",
       "safegraph_place_id                                                            \n",
       "sg:00018e7b1ba449278dd1c33a2348e5fa                               -0.064894   \n",
       "sg:0001da921b9d488986c0bdf83bfaff4b                               -0.107467   \n",
       "sg:0003e5a379604393b0dc6e9bce0058b2                                0.150335   \n",
       "sg:0004189674c64e108e4b5ea2baa68eb9                               -0.121658   \n",
       "sg:0008547f38f54091836959120205256c                                0.204734   \n",
       "\n",
       "                                     2020-09-01 00:00:00 visitor_count_norm  \\\n",
       "safegraph_place_id                                                            \n",
       "sg:00018e7b1ba449278dd1c33a2348e5fa                               -0.084813   \n",
       "sg:0001da921b9d488986c0bdf83bfaff4b                               -0.137039   \n",
       "sg:0003e5a379604393b0dc6e9bce0058b2                                0.088481   \n",
       "sg:0004189674c64e108e4b5ea2baa68eb9                               -0.137039   \n",
       "sg:0008547f38f54091836959120205256c                                0.221420   \n",
       "\n",
       "                                     2020-10-01 00:00:00 visitor_count_norm  \\\n",
       "safegraph_place_id                                                            \n",
       "sg:00018e7b1ba449278dd1c33a2348e5fa                               -0.063235   \n",
       "sg:0001da921b9d488986c0bdf83bfaff4b                               -0.123745   \n",
       "sg:0003e5a379604393b0dc6e9bce0058b2                                0.155531   \n",
       "sg:0004189674c64e108e4b5ea2baa68eb9                               -0.133054   \n",
       "sg:0008547f38f54091836959120205256c                                0.204404   \n",
       "\n",
       "                                     2020-11-01 00:00:00 visitor_count_norm  \\\n",
       "safegraph_place_id                                                            \n",
       "sg:00018e7b1ba449278dd1c33a2348e5fa                               -0.049110   \n",
       "sg:0001da921b9d488986c0bdf83bfaff4b                               -0.088750   \n",
       "sg:0003e5a379604393b0dc6e9bce0058b2                                0.028583   \n",
       "sg:0004189674c64e108e4b5ea2baa68eb9                               -0.096678   \n",
       "sg:0008547f38f54091836959120205256c                                0.034925   \n",
       "\n",
       "                                     2020-12-01 00:00:00 visitor_count_norm  \\\n",
       "safegraph_place_id                                                            \n",
       "sg:00018e7b1ba449278dd1c33a2348e5fa                               -0.093948   \n",
       "sg:0001da921b9d488986c0bdf83bfaff4b                               -0.104405   \n",
       "sg:0003e5a379604393b0dc6e9bce0058b2                                0.096889   \n",
       "sg:0004189674c64e108e4b5ea2baa68eb9                               -0.120091   \n",
       "sg:0008547f38f54091836959120205256c                                0.083818   \n",
       "\n",
       "                                     2021-01-01 00:00:00 visitor_count_norm  \\\n",
       "safegraph_place_id                                                            \n",
       "sg:00018e7b1ba449278dd1c33a2348e5fa                               -0.081712   \n",
       "sg:0001da921b9d488986c0bdf83bfaff4b                               -0.101953   \n",
       "sg:0003e5a379604393b0dc6e9bce0058b2                                0.080217   \n",
       "sg:0004189674c64e108e4b5ea2baa68eb9                               -0.101953   \n",
       "sg:0008547f38f54091836959120205256c                                0.098209   \n",
       "\n",
       "                                     2021-02-01 00:00:00 visitor_count_norm  \\\n",
       "safegraph_place_id                                                            \n",
       "sg:00018e7b1ba449278dd1c33a2348e5fa                               -0.096979   \n",
       "sg:0001da921b9d488986c0bdf83bfaff4b                               -0.110703   \n",
       "sg:0003e5a379604393b0dc6e9bce0058b2                                0.088287   \n",
       "sg:0004189674c64e108e4b5ea2baa68eb9                               -0.155304   \n",
       "sg:0008547f38f54091836959120205256c                                0.112303   \n",
       "\n",
       "                                     2021-03-01 00:00:00 visitor_count_norm  \\\n",
       "safegraph_place_id                                                            \n",
       "sg:00018e7b1ba449278dd1c33a2348e5fa                               -0.075958   \n",
       "sg:0001da921b9d488986c0bdf83bfaff4b                               -0.098447   \n",
       "sg:0003e5a379604393b0dc6e9bce0058b2                                0.118942   \n",
       "sg:0004189674c64e108e4b5ea2baa68eb9                               -0.128432   \n",
       "sg:0008547f38f54091836959120205256c                                0.061472   \n",
       "\n",
       "                                     black_pct  white_pct  cluster  \n",
       "safegraph_place_id                                                  \n",
       "sg:00018e7b1ba449278dd1c33a2348e5fa  -1.161882   1.214429       10  \n",
       "sg:0001da921b9d488986c0bdf83bfaff4b  -1.185320   1.177509       10  \n",
       "sg:0003e5a379604393b0dc6e9bce0058b2   1.716929  -1.265757        5  \n",
       "sg:0004189674c64e108e4b5ea2baa68eb9   0.550476  -0.543235       28  \n",
       "sg:0008547f38f54091836959120205256c  -0.177579   0.074421        0  "
      ]
     },
     "execution_count": 134,
     "metadata": {},
     "output_type": "execute_result"
    }
   ],
   "source": [
    "scaled.head()"
   ]
  },
  {
   "cell_type": "code",
   "execution_count": 135,
   "metadata": {},
   "outputs": [],
   "source": [
    "from kneed import KneeLocator"
   ]
  },
  {
   "cell_type": "code",
   "execution_count": 136,
   "metadata": {},
   "outputs": [],
   "source": [
    "# Initialize the knee algorithm\n",
    "kn = KneeLocator(n_clusters, inertias, curve='convex', direction='decreasing')"
   ]
  },
  {
   "cell_type": "code",
   "execution_count": 137,
   "metadata": {},
   "outputs": [
    {
     "data": {
      "text/plain": [
       "12"
      ]
     },
     "execution_count": 137,
     "metadata": {},
     "output_type": "execute_result"
    }
   ],
   "source": [
    "OPTIMAL_CLUSTERS = kn.knee\n",
    "OPTIMAL_CLUSTERS"
   ]
  },
  {
   "cell_type": "code",
   "execution_count": 138,
   "metadata": {},
   "outputs": [],
   "source": [
    "philly_patterns_clustered, pandemic_inertia = run_Kmeans(\n",
    "    philly_patterns, pivot_cols, constant_cols, k=OPTIMAL_CLUSTERS\n",
    ")"
   ]
  },
  {
   "cell_type": "code",
   "execution_count": 139,
   "metadata": {},
   "outputs": [],
   "source": [
    "# prepandemic, prepandemic_inertia = run_Kmeans(\n",
    "#     prepandemic, pivot_cols, constant_cols, k=OPTIMAL_CLUSTERS\n",
    "# )\n",
    "# pandemic, pandemic_inertia = run_Kmeans(\n",
    "#     philly_patterns, pivot_cols, constant_cols, k=OPTIMAL_CLUSTERS\n",
    "# )"
   ]
  },
  {
   "cell_type": "code",
   "execution_count": 140,
   "metadata": {},
   "outputs": [],
   "source": [
    "combined = philly_patterns_clustered.copy()"
   ]
  },
  {
   "cell_type": "code",
   "execution_count": 141,
   "metadata": {},
   "outputs": [],
   "source": [
    "combined[['cluster']].to_csv(DATA_DIR / 'processed' / 'sg_clusters.csv', index = True)"
   ]
  },
  {
   "cell_type": "code",
   "execution_count": 53,
   "metadata": {},
   "outputs": [],
   "source": [
    "# # We want to compare pandemic_inertia to the inertia we would have in 2020 if we used the\n",
    "# # 2019 clustering\n",
    "# combined = pandemic.join(prepandemic[['cluster']], how='left',rsuffix='pre')\n",
    "# combined[['clusterpre']] = combined[['clusterpre']].fillna(value=-1)\n",
    "# combined['clusterpre'] = combined['clusterpre'].astype(int)"
   ]
  },
  {
   "cell_type": "code",
   "execution_count": 142,
   "metadata": {},
   "outputs": [],
   "source": [
    "cols = combined.columns\n",
    "cols = cols[:-2]\n",
    "n = len(combined.columns)"
   ]
  },
  {
   "cell_type": "code",
   "execution_count": 143,
   "metadata": {},
   "outputs": [
    {
     "data": {
      "text/plain": [
       "78895.94651844304"
      ]
     },
     "execution_count": 143,
     "metadata": {},
     "output_type": "execute_result"
    }
   ],
   "source": [
    "def get_inertia(df, cols, cluster_col):\n",
    "    mask = df[cluster_col] > -1\n",
    "    n = len(df.index)\n",
    "    filtered = df[mask]\n",
    "    m = len(filtered.index)\n",
    "    se = ((df[cols] - df.groupby(cluster_col)[cols].transform('mean'))**2).to_numpy().sum()\n",
    "    return se*(n/m)\n",
    "\n",
    "get_inertia(combined, cols, 'cluster')"
   ]
  },
  {
   "cell_type": "code",
   "execution_count": 144,
   "metadata": {},
   "outputs": [
    {
     "data": {
      "text/plain": [
       "484511.9999999998"
      ]
     },
     "execution_count": 144,
     "metadata": {},
     "output_type": "execute_result"
    }
   ],
   "source": [
    "#worst case scenario\n",
    "combined['newcol'] = 1\n",
    "get_inertia(combined, cols, 'newcol')"
   ]
  },
  {
   "cell_type": "code",
   "execution_count": 145,
   "metadata": {},
   "outputs": [
    {
     "data": {
      "text/plain": [
       "cluster\n",
       "0     6027\n",
       "1      363\n",
       "2       54\n",
       "3      543\n",
       "4     3631\n",
       "5      439\n",
       "6       86\n",
       "7     3089\n",
       "8       48\n",
       "9      179\n",
       "10    1769\n",
       "11    1076\n",
       "dtype: int64"
      ]
     },
     "execution_count": 145,
     "metadata": {},
     "output_type": "execute_result"
    }
   ],
   "source": [
    "combined.groupby('cluster').size()"
   ]
  },
  {
   "cell_type": "code",
   "execution_count": 146,
   "metadata": {},
   "outputs": [],
   "source": [
    "# combined.groupby('clusterpre').size()"
   ]
  },
  {
   "cell_type": "markdown",
   "metadata": {},
   "source": [
    "**NH**: Plot the mean value over time by cluster"
   ]
  },
  {
   "cell_type": "code",
   "execution_count": 147,
   "metadata": {},
   "outputs": [
    {
     "data": {
      "image/png": "[encoded data removed]",
      "text/plain": [
       "<Figure size 432x288 with 1 Axes>"
      ]
     },
     "metadata": {
      "needs_background": "light"
     },
     "output_type": "display_data"
    }
   ],
   "source": [
    "fig, ax = plt.subplots()\n",
    "for cluster_num in combined['cluster'].unique():\n",
    "    cluster = combined.query(f\"cluster == {cluster_num}\")\n",
    "    cluster[cluster.columns[:-6]].T.mean(axis=1).plot(ax=ax, legend=False)"
   ]
  },
  {
   "cell_type": "markdown",
   "metadata": {},
   "source": [
    "**NH:** seems like it sort of worked in terms of differentiating both by overall foot traffic and the shape of the traffic over time"
   ]
  },
  {
   "cell_type": "code",
   "execution_count": null,
   "metadata": {},
   "outputs": [],
   "source": []
  },
  {
   "cell_type": "code",
   "execution_count": 148,
   "metadata": {},
   "outputs": [],
   "source": [
    "big_cats = philly_patterns.groupby('top_category').size().sort_values(ascending = False)[:5]"
   ]
  },
  {
   "cell_type": "code",
   "execution_count": 149,
   "metadata": {},
   "outputs": [],
   "source": [
    "big_cats = big_cats.index"
   ]
  },
  {
   "cell_type": "code",
   "execution_count": 150,
   "metadata": {},
   "outputs": [],
   "source": [
    "def category_groups(x):\n",
    "    if x in big_cats: \n",
    "        return x \n",
    "    else: \n",
    "        return 'other'"
   ]
  },
  {
   "cell_type": "code",
   "execution_count": 151,
   "metadata": {},
   "outputs": [],
   "source": [
    "philly_patterns['top_category_simple'] = philly_patterns.top_category.apply(category_groups)"
   ]
  },
  {
   "cell_type": "code",
   "execution_count": 152,
   "metadata": {},
   "outputs": [
    {
     "data": {
      "text/plain": [
       "array(['Grocery Stores', 'other', 'Restaurants and Other Eating Places',\n",
       "       'Health and Personal Care Stores', 'Child Day Care Services',\n",
       "       'Religious Organizations'], dtype=object)"
      ]
     },
     "execution_count": 152,
     "metadata": {},
     "output_type": "execute_result"
    }
   ],
   "source": [
    "philly_patterns['top_category_simple'].unique()"
   ]
  },
  {
   "cell_type": "code",
   "execution_count": 153,
   "metadata": {},
   "outputs": [],
   "source": [
    "mask = philly_patterns['date_range_start'] < '2020-03-01' \n",
    "cats = philly_patterns.loc[~mask,].copy()\n",
    "cats = cats.loc[\n",
    "        cats.groupby('safegraph_place_id').cumcount() == 0,\n",
    "        ['safegraph_place_id', 'top_category_simple']\n",
    "    ]"
   ]
  },
  {
   "cell_type": "code",
   "execution_count": 154,
   "metadata": {},
   "outputs": [],
   "source": [
    "# combined.drop(columns = 'top_category_simple', inplace = True)"
   ]
  },
  {
   "cell_type": "code",
   "execution_count": 155,
   "metadata": {},
   "outputs": [],
   "source": [
    "combined = combined.join(cats.set_index('safegraph_place_id'), how = 'left')"
   ]
  },
  {
   "cell_type": "code",
   "execution_count": 156,
   "metadata": {},
   "outputs": [
    {
     "data": {
      "text/html": [
       "<div>\n",
       "<style scoped>\n",
       "    .dataframe tbody tr th:only-of-type {\n",
       "        vertical-align: middle;\n",
       "    }\n",
       "\n",
       "    .dataframe tbody tr th {\n",
       "        vertical-align: top;\n",
       "    }\n",
       "\n",
       "    .dataframe thead th {\n",
       "        text-align: right;\n",
       "    }\n",
       "</style>\n",
       "<table border=\"1\" class=\"dataframe\">\n",
       "  <thead>\n",
       "    <tr style=\"text-align: right;\">\n",
       "      <th>top_category_simple</th>\n",
       "      <th>Child Day Care Services</th>\n",
       "      <th>Grocery Stores</th>\n",
       "      <th>Health and Personal Care Stores</th>\n",
       "      <th>Religious Organizations</th>\n",
       "      <th>Restaurants and Other Eating Places</th>\n",
       "      <th>other</th>\n",
       "    </tr>\n",
       "    <tr>\n",
       "      <th>cluster</th>\n",
       "      <th></th>\n",
       "      <th></th>\n",
       "      <th></th>\n",
       "      <th></th>\n",
       "      <th></th>\n",
       "      <th></th>\n",
       "    </tr>\n",
       "  </thead>\n",
       "  <tbody>\n",
       "    <tr>\n",
       "      <th>0</th>\n",
       "      <td>237</td>\n",
       "      <td>168</td>\n",
       "      <td>179</td>\n",
       "      <td>356</td>\n",
       "      <td>711</td>\n",
       "      <td>4290</td>\n",
       "    </tr>\n",
       "    <tr>\n",
       "      <th>1</th>\n",
       "      <td>0</td>\n",
       "      <td>37</td>\n",
       "      <td>23</td>\n",
       "      <td>1</td>\n",
       "      <td>136</td>\n",
       "      <td>166</td>\n",
       "    </tr>\n",
       "    <tr>\n",
       "      <th>2</th>\n",
       "      <td>0</td>\n",
       "      <td>1</td>\n",
       "      <td>0</td>\n",
       "      <td>0</td>\n",
       "      <td>0</td>\n",
       "      <td>53</td>\n",
       "    </tr>\n",
       "    <tr>\n",
       "      <th>3</th>\n",
       "      <td>8</td>\n",
       "      <td>9</td>\n",
       "      <td>9</td>\n",
       "      <td>0</td>\n",
       "      <td>258</td>\n",
       "      <td>254</td>\n",
       "    </tr>\n",
       "    <tr>\n",
       "      <th>4</th>\n",
       "      <td>461</td>\n",
       "      <td>111</td>\n",
       "      <td>119</td>\n",
       "      <td>517</td>\n",
       "      <td>216</td>\n",
       "      <td>2155</td>\n",
       "    </tr>\n",
       "    <tr>\n",
       "      <th>5</th>\n",
       "      <td>12</td>\n",
       "      <td>1</td>\n",
       "      <td>3</td>\n",
       "      <td>14</td>\n",
       "      <td>4</td>\n",
       "      <td>229</td>\n",
       "    </tr>\n",
       "    <tr>\n",
       "      <th>6</th>\n",
       "      <td>0</td>\n",
       "      <td>25</td>\n",
       "      <td>2</td>\n",
       "      <td>0</td>\n",
       "      <td>11</td>\n",
       "      <td>48</td>\n",
       "    </tr>\n",
       "    <tr>\n",
       "      <th>7</th>\n",
       "      <td>56</td>\n",
       "      <td>163</td>\n",
       "      <td>107</td>\n",
       "      <td>38</td>\n",
       "      <td>1139</td>\n",
       "      <td>1585</td>\n",
       "    </tr>\n",
       "    <tr>\n",
       "      <th>8</th>\n",
       "      <td>0</td>\n",
       "      <td>1</td>\n",
       "      <td>0</td>\n",
       "      <td>0</td>\n",
       "      <td>9</td>\n",
       "      <td>38</td>\n",
       "    </tr>\n",
       "    <tr>\n",
       "      <th>9</th>\n",
       "      <td>0</td>\n",
       "      <td>3</td>\n",
       "      <td>1</td>\n",
       "      <td>0</td>\n",
       "      <td>65</td>\n",
       "      <td>103</td>\n",
       "    </tr>\n",
       "    <tr>\n",
       "      <th>10</th>\n",
       "      <td>98</td>\n",
       "      <td>228</td>\n",
       "      <td>108</td>\n",
       "      <td>72</td>\n",
       "      <td>517</td>\n",
       "      <td>745</td>\n",
       "    </tr>\n",
       "    <tr>\n",
       "      <th>11</th>\n",
       "      <td>7</td>\n",
       "      <td>59</td>\n",
       "      <td>74</td>\n",
       "      <td>2</td>\n",
       "      <td>371</td>\n",
       "      <td>563</td>\n",
       "    </tr>\n",
       "  </tbody>\n",
       "</table>\n",
       "</div>"
      ],
      "text/plain": [
       "top_category_simple  Child Day Care Services  Grocery Stores  \\\n",
       "cluster                                                        \n",
       "0                                        237             168   \n",
       "1                                          0              37   \n",
       "2                                          0               1   \n",
       "3                                          8               9   \n",
       "4                                        461             111   \n",
       "5                                         12               1   \n",
       "6                                          0              25   \n",
       "7                                         56             163   \n",
       "8                                          0               1   \n",
       "9                                          0               3   \n",
       "10                                        98             228   \n",
       "11                                         7              59   \n",
       "\n",
       "top_category_simple  Health and Personal Care Stores  Religious Organizations  \\\n",
       "cluster                                                                         \n",
       "0                                                179                      356   \n",
       "1                                                 23                        1   \n",
       "2                                                  0                        0   \n",
       "3                                                  9                        0   \n",
       "4                                                119                      517   \n",
       "5                                                  3                       14   \n",
       "6                                                  2                        0   \n",
       "7                                                107                       38   \n",
       "8                                                  0                        0   \n",
       "9                                                  1                        0   \n",
       "10                                               108                       72   \n",
       "11                                                74                        2   \n",
       "\n",
       "top_category_simple  Restaurants and Other Eating Places  other  \n",
       "cluster                                                          \n",
       "0                                                    711   4290  \n",
       "1                                                    136    166  \n",
       "2                                                      0     53  \n",
       "3                                                    258    254  \n",
       "4                                                    216   2155  \n",
       "5                                                      4    229  \n",
       "6                                                     11     48  \n",
       "7                                                   1139   1585  \n",
       "8                                                      9     38  \n",
       "9                                                     65    103  \n",
       "10                                                   517    745  \n",
       "11                                                   371    563  "
      ]
     },
     "execution_count": 156,
     "metadata": {},
     "output_type": "execute_result"
    }
   ],
   "source": [
    "pd.crosstab(combined.cluster, combined.top_category_simple, dropna=False)"
   ]
  },
  {
   "cell_type": "code",
   "execution_count": 69,
   "metadata": {},
   "outputs": [
    {
     "data": {
      "text/plain": [
       "17304"
      ]
     },
     "execution_count": 69,
     "metadata": {},
     "output_type": "execute_result"
    }
   ],
   "source": [
    "len(combined)"
   ]
  },
  {
   "cell_type": "code",
   "execution_count": null,
   "metadata": {},
   "outputs": [],
   "source": []
  }
 ],
 "metadata": {
  "kernelspec": {
   "display_name": "Python 3",
   "language": "python",
   "name": "python3"
  },
  "language_info": {
   "codemirror_mode": {
    "name": "ipython",
    "version": 3
   },
   "file_extension": ".py",
   "mimetype": "text/x-python",
   "name": "python",
   "nbconvert_exporter": "python",
   "pygments_lexer": "ipython3",
   "version": "3.7.9"
  }
 },
 "nbformat": 4,
 "nbformat_minor": 4
}
