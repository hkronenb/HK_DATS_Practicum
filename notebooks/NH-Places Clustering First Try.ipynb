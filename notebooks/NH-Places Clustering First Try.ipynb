{
 "cells": [
  {
   "cell_type": "code",
   "execution_count": 28,
   "metadata": {},
   "outputs": [],
   "source": [
    "import pandas as pd\n",
    "import numpy as np\n",
    "from safegraph_py_functions import safegraph_py_functions as sgpy\n",
    "import os\n",
    "from dotenv import load_dotenv, find_dotenv\n",
    "from loguru import logger"
   ]
  },
  {
   "cell_type": "code",
   "execution_count": 3,
   "metadata": {},
   "outputs": [],
   "source": [
    "pd.options.display.max_columns = 999"
   ]
  },
  {
   "cell_type": "code",
   "execution_count": 4,
   "metadata": {},
   "outputs": [],
   "source": [
    "# find .env automagically by walking up directories until it's found\n",
    "dotenv_path = find_dotenv()\n",
    "\n",
    "# load up the entries as environment variables\n",
    "load_dotenv(dotenv_path)\n",
    "os.chdir(os.environ.get(\"ROOT_DIR\"))\n",
    "from src import DATA_DIR\n",
    "raw_data_dir = DATA_DIR / 'raw'"
   ]
  },
  {
   "cell_type": "code",
   "execution_count": 5,
   "metadata": {},
   "outputs": [],
   "source": [
    "# if import is 0 it reads the data from the existing file\n",
    "# otherwise reads in the raw data an makes a unified dataset\n",
    "IMPORT = 0 "
   ]
  },
  {
   "cell_type": "code",
   "execution_count": 6,
   "metadata": {},
   "outputs": [],
   "source": [
    "# Read in all patterns files in the monthly-patterns folder\n",
    "def get_files():\n",
    "    patterns_path = raw_data_dir / \"monthly-patterns\"\n",
    "    files = []\n",
    "    for f in patterns_path.glob(\"**/*.csv.gz\"):\n",
    "        files.append(f)\n",
    "    return files"
   ]
  },
  {
   "cell_type": "code",
   "execution_count": 7,
   "metadata": {},
   "outputs": [],
   "source": [
    "def filter_to_philly(df):\n",
    "    # zip codes are read as integers rather than strings so we add leading zeros.\n",
    "    # this is not strictly necessary since Philadelphia zipcodes don't have leading zeros.\n",
    "    \n",
    "    # Philadelphia selection\n",
    "    # HK: adding leading zeros because some zipcodes in MA are 0191X.\n",
    "    df['postal_code'] = df['postal_code'].apply(lambda x: ('00000'+str(x))[-5:])\n",
    "    in_philly = df['postal_code'].astype(str).str.startswith(\"191\")\n",
    "    df = df.loc[in_philly]\n",
    "    df = df[['safegraph_place_id','date_range_start','postal_code', \n",
    "             'raw_visit_counts', 'raw_visitor_counts']]\n",
    "    \n",
    "    return df"
   ]
  },
  {
   "cell_type": "code",
   "execution_count": 8,
   "metadata": {},
   "outputs": [],
   "source": [
    "if IMPORT == 1:\n",
    "    philly_patterns = []\n",
    "    files = get_files()\n",
    "    for i, f in enumerate(files):\n",
    "        print(f)\n",
    "        philly_patterns.append(filter_to_philly(pd.read_csv(f)))\n",
    "    philly_patterns = pd.concat(philly_patterns)\n",
    "    philly_patterns.to_csv(\n",
    "        DATA_DIR / \"processed\" / \"kmeans_patterns.csv.tar.gz\", index=False\n",
    "    )\n",
    "else:\n",
    "    philly_patterns_all = pd.read_csv(\n",
    "        DATA_DIR / \"processed\" / \"philly_patterns.csv.tar.gz\", low_memory=False\n",
    "    )"
   ]
  },
  {
   "cell_type": "code",
   "execution_count": 9,
   "metadata": {},
   "outputs": [
    {
     "data": {
      "text/html": [
       "<div>\n",
       "<style scoped>\n",
       "    .dataframe tbody tr th:only-of-type {\n",
       "        vertical-align: middle;\n",
       "    }\n",
       "\n",
       "    .dataframe tbody tr th {\n",
       "        vertical-align: top;\n",
       "    }\n",
       "\n",
       "    .dataframe thead th {\n",
       "        text-align: right;\n",
       "    }\n",
       "</style>\n",
       "<table border=\"1\" class=\"dataframe\">\n",
       "  <thead>\n",
       "    <tr style=\"text-align: right;\">\n",
       "      <th></th>\n",
       "      <th>placekey_x</th>\n",
       "      <th>safegraph_place_id</th>\n",
       "      <th>location_name_x</th>\n",
       "      <th>street_address_x</th>\n",
       "      <th>city_x</th>\n",
       "      <th>region_x</th>\n",
       "      <th>postal_code_x</th>\n",
       "      <th>safegraph_brand_ids_x</th>\n",
       "      <th>brands_x</th>\n",
       "      <th>date_range_start</th>\n",
       "      <th>date_range_end</th>\n",
       "      <th>raw_visit_counts</th>\n",
       "      <th>raw_visitor_counts</th>\n",
       "      <th>visits_by_day</th>\n",
       "      <th>poi_cbg</th>\n",
       "      <th>visitor_home_cbgs</th>\n",
       "      <th>visitor_daytime_cbgs</th>\n",
       "      <th>visitor_work_cbgs</th>\n",
       "      <th>visitor_country_of_origin</th>\n",
       "      <th>distance_from_home</th>\n",
       "      <th>median_dwell</th>\n",
       "      <th>bucketed_dwell_times</th>\n",
       "      <th>related_same_day_brand</th>\n",
       "      <th>related_same_month_brand</th>\n",
       "      <th>popularity_by_hour</th>\n",
       "      <th>popularity_by_day</th>\n",
       "      <th>device_type</th>\n",
       "      <th>parent_safegraph_place_id</th>\n",
       "      <th>location_name_y</th>\n",
       "      <th>safegraph_brand_ids_y</th>\n",
       "      <th>brands_y</th>\n",
       "      <th>top_category</th>\n",
       "      <th>sub_category</th>\n",
       "      <th>naics_code</th>\n",
       "      <th>latitude</th>\n",
       "      <th>longitude</th>\n",
       "      <th>street_address_y</th>\n",
       "      <th>city_y</th>\n",
       "      <th>region_y</th>\n",
       "      <th>postal_code_y</th>\n",
       "      <th>iso_country_code</th>\n",
       "      <th>phone_number</th>\n",
       "      <th>open_hours</th>\n",
       "      <th>category_tags</th>\n",
       "      <th>valid_to</th>\n",
       "      <th>valid_from</th>\n",
       "      <th>placekey_y</th>\n",
       "      <th>opened_on</th>\n",
       "      <th>closed_on</th>\n",
       "      <th>tracking_opened_since</th>\n",
       "      <th>tracking_closed_since</th>\n",
       "      <th>placekey</th>\n",
       "    </tr>\n",
       "  </thead>\n",
       "  <tbody>\n",
       "    <tr>\n",
       "      <th>0</th>\n",
       "      <td>zzw-228@628-pmb-7t9</td>\n",
       "      <td>sg:26825b56c5ce4c7d91afdc71a7c34440</td>\n",
       "      <td>Provident Technology</td>\n",
       "      <td>1315 Walnut St Ste 905</td>\n",
       "      <td>Philadelphia</td>\n",
       "      <td>PA</td>\n",
       "      <td>19107</td>\n",
       "      <td>NaN</td>\n",
       "      <td>NaN</td>\n",
       "      <td>2020-10-01</td>\n",
       "      <td>2020-11-01T00:00:00-04:00</td>\n",
       "      <td>7</td>\n",
       "      <td>7</td>\n",
       "      <td>[0,0,0,0,1,1,0,1,1,0,0,0,0,0,0,0,0,0,0,0,0,0,0...</td>\n",
       "      <td>4.210100e+11</td>\n",
       "      <td>{}</td>\n",
       "      <td>{\"421010021002\":4,\"421010024003\":4}</td>\n",
       "      <td>{}</td>\n",
       "      <td>{\"US\":6}</td>\n",
       "      <td>4783.0</td>\n",
       "      <td>8.0</td>\n",
       "      <td>{\"&lt;5\":2,\"5-20\":2,\"21-60\":0,\"61-240\":0,\"&gt;240\":3}</td>\n",
       "      <td>{}</td>\n",
       "      <td>{\"Dunkin'\":39,\"Starbucks\":35,\"McDonald's\":28,\"...</td>\n",
       "      <td>[1,1,1,1,1,0,0,0,0,1,2,3,2,2,3,2,2,1,0,0,1,1,2,1]</td>\n",
       "      <td>{\"Monday\":1,\"Tuesday\":2,\"Wednesday\":0,\"Thursda...</td>\n",
       "      <td>{\"android\":0,\"ios\":5}</td>\n",
       "      <td>NaN</td>\n",
       "      <td>Provident Technology</td>\n",
       "      <td>NaN</td>\n",
       "      <td>NaN</td>\n",
       "      <td>Electronics and Appliance Stores</td>\n",
       "      <td>Electronics Stores</td>\n",
       "      <td>443142.0</td>\n",
       "      <td>39.949304</td>\n",
       "      <td>-75.163015</td>\n",
       "      <td>1315 Walnut St Ste 905</td>\n",
       "      <td>Philadelphia</td>\n",
       "      <td>PA</td>\n",
       "      <td>19107.0</td>\n",
       "      <td>US</td>\n",
       "      <td>NaN</td>\n",
       "      <td>{ \"Mon\": [[\"8:00\", \"18:00\"]], \"Tue\": [[\"8:00\",...</td>\n",
       "      <td>NaN</td>\n",
       "      <td>2020-10-19</td>\n",
       "      <td>2020-09-08</td>\n",
       "      <td>zzw-228@628-pmb-7t9</td>\n",
       "      <td>NaN</td>\n",
       "      <td>NaN</td>\n",
       "      <td>NaN</td>\n",
       "      <td>NaN</td>\n",
       "      <td>NaN</td>\n",
       "    </tr>\n",
       "    <tr>\n",
       "      <th>1</th>\n",
       "      <td>22x-222@628-phy-4qf</td>\n",
       "      <td>sg:32b17bf96a93444588131370e52d310d</td>\n",
       "      <td>Los Potrillos Mexican Restaurant</td>\n",
       "      <td>4653 Rising Sun Ave</td>\n",
       "      <td>Philadelphia</td>\n",
       "      <td>PA</td>\n",
       "      <td>19140</td>\n",
       "      <td>NaN</td>\n",
       "      <td>NaN</td>\n",
       "      <td>2020-10-01</td>\n",
       "      <td>2020-11-01T00:00:00-04:00</td>\n",
       "      <td>168</td>\n",
       "      <td>96</td>\n",
       "      <td>[9,8,3,3,6,6,5,3,7,5,5,2,6,9,8,6,5,2,8,6,5,2,4...</td>\n",
       "      <td>4.210103e+11</td>\n",
       "      <td>{\"421010288001\":11,\"421010330006\":4,\"421010287...</td>\n",
       "      <td>{\"421010288001\":11,\"420454107003\":4,\"421010305...</td>\n",
       "      <td>{}</td>\n",
       "      <td>{\"US\":87}</td>\n",
       "      <td>3335.0</td>\n",
       "      <td>19.5</td>\n",
       "      <td>{\"&lt;5\":8,\"5-20\":78,\"21-60\":28,\"61-240\":37,\"&gt;240...</td>\n",
       "      <td>{\"Dunkin'\":21,\"AAMCO Transmissions\":20,\"Family...</td>\n",
       "      <td>{\"Dunkin'\":42,\"Sunoco\":35,\"Wawa\":35,\"Dollar Tr...</td>\n",
       "      <td>[7,6,5,6,7,8,11,11,12,18,20,28,28,24,35,30,36,...</td>\n",
       "      <td>{\"Monday\":20,\"Tuesday\":23,\"Wednesday\":22,\"Thur...</td>\n",
       "      <td>{\"android\":60,\"ios\":35}</td>\n",
       "      <td>NaN</td>\n",
       "      <td>Los Potrillos Mexican Restaurant</td>\n",
       "      <td>NaN</td>\n",
       "      <td>NaN</td>\n",
       "      <td>Restaurants and Other Eating Places</td>\n",
       "      <td>Full-Service Restaurants</td>\n",
       "      <td>722511.0</td>\n",
       "      <td>40.021333</td>\n",
       "      <td>-75.125779</td>\n",
       "      <td>4653 Rising Sun Ave</td>\n",
       "      <td>Philadelphia</td>\n",
       "      <td>PA</td>\n",
       "      <td>19140.0</td>\n",
       "      <td>US</td>\n",
       "      <td>1.267323e+10</td>\n",
       "      <td>NaN</td>\n",
       "      <td>Mexican Food</td>\n",
       "      <td>2020-10-19</td>\n",
       "      <td>2020-09-08</td>\n",
       "      <td>22x-222@628-phy-4qf</td>\n",
       "      <td>NaN</td>\n",
       "      <td>NaN</td>\n",
       "      <td>NaN</td>\n",
       "      <td>NaN</td>\n",
       "      <td>NaN</td>\n",
       "    </tr>\n",
       "    <tr>\n",
       "      <th>2</th>\n",
       "      <td>238-222@628-pj5-3nq</td>\n",
       "      <td>sg:3f4865e8bbb249838350eee9a101c8eb</td>\n",
       "      <td>Precious Babies Learning Academy Day Car</td>\n",
       "      <td>1433 W Erie Ave</td>\n",
       "      <td>Philadelphia</td>\n",
       "      <td>PA</td>\n",
       "      <td>19140</td>\n",
       "      <td>NaN</td>\n",
       "      <td>NaN</td>\n",
       "      <td>2020-10-01</td>\n",
       "      <td>2020-11-01T00:00:00-04:00</td>\n",
       "      <td>75</td>\n",
       "      <td>47</td>\n",
       "      <td>[2,1,4,1,2,2,4,2,6,1,8,2,3,2,4,2,4,1,3,1,4,1,3...</td>\n",
       "      <td>4.210102e+11</td>\n",
       "      <td>{\"421010002001\":4,\"421010202005\":4,\"4210102750...</td>\n",
       "      <td>{\"421010364001\":5,\"421010204003\":4,\"4210103100...</td>\n",
       "      <td>{}</td>\n",
       "      <td>{\"US\":32}</td>\n",
       "      <td>5626.0</td>\n",
       "      <td>28.0</td>\n",
       "      <td>{\"&lt;5\":5,\"5-20\":30,\"21-60\":16,\"61-240\":14,\"&gt;240...</td>\n",
       "      <td>{\"McDonald's\":46,\"Chick-fil-A\":14}</td>\n",
       "      <td>{\"Dunkin'\":37,\"Sunoco\":36,\"Rite Aid\":25,\"Wawa\"...</td>\n",
       "      <td>[6,6,4,4,3,2,3,4,7,9,14,13,11,13,14,12,10,11,1...</td>\n",
       "      <td>{\"Monday\":9,\"Tuesday\":8,\"Wednesday\":12,\"Thursd...</td>\n",
       "      <td>{\"android\":29,\"ios\":15}</td>\n",
       "      <td>NaN</td>\n",
       "      <td>Precious Babies Learning Academy Day Car</td>\n",
       "      <td>NaN</td>\n",
       "      <td>NaN</td>\n",
       "      <td>Child Day Care Services</td>\n",
       "      <td>Child Day Care Services</td>\n",
       "      <td>624410.0</td>\n",
       "      <td>40.009669</td>\n",
       "      <td>-75.152732</td>\n",
       "      <td>1433 W Erie Ave</td>\n",
       "      <td>Philadelphia</td>\n",
       "      <td>PA</td>\n",
       "      <td>19140.0</td>\n",
       "      <td>US</td>\n",
       "      <td>1.215221e+10</td>\n",
       "      <td>NaN</td>\n",
       "      <td>NaN</td>\n",
       "      <td>2020-10-19</td>\n",
       "      <td>2020-09-08</td>\n",
       "      <td>238-222@628-pj5-3nq</td>\n",
       "      <td>NaN</td>\n",
       "      <td>NaN</td>\n",
       "      <td>NaN</td>\n",
       "      <td>NaN</td>\n",
       "      <td>NaN</td>\n",
       "    </tr>\n",
       "    <tr>\n",
       "      <th>3</th>\n",
       "      <td>23z-222@628-phy-rc5</td>\n",
       "      <td>sg:76dbefabe6eb465fac98e62c2fb15be9</td>\n",
       "      <td>TABU hookah lounge</td>\n",
       "      <td>4535 N 5th St</td>\n",
       "      <td>Philadelphia</td>\n",
       "      <td>PA</td>\n",
       "      <td>19140</td>\n",
       "      <td>NaN</td>\n",
       "      <td>NaN</td>\n",
       "      <td>2020-10-01</td>\n",
       "      <td>2020-11-01T00:00:00-04:00</td>\n",
       "      <td>322</td>\n",
       "      <td>234</td>\n",
       "      <td>[3,16,12,15,9,4,13,2,8,18,11,8,10,9,9,11,16,17...</td>\n",
       "      <td>4.210103e+11</td>\n",
       "      <td>{\"421010287001\":7,\"421010188001\":6,\"4210103380...</td>\n",
       "      <td>{\"421010197002\":7,\"421010098021\":6,\"4210103160...</td>\n",
       "      <td>{}</td>\n",
       "      <td>{\"US\":211}</td>\n",
       "      <td>6166.0</td>\n",
       "      <td>51.5</td>\n",
       "      <td>{\"&lt;5\":11,\"5-20\":91,\"21-60\":74,\"61-240\":103,\"&gt;2...</td>\n",
       "      <td>{\"Wawa\":20,\"PNC Financial Services\":8,\"U-Haul\"...</td>\n",
       "      <td>{\"Wawa\":48,\"Dunkin'\":37,\"Sunoco\":29,\"McDonald'...</td>\n",
       "      <td>[18,17,11,11,13,18,16,15,41,46,53,62,70,73,71,...</td>\n",
       "      <td>{\"Monday\":36,\"Tuesday\":35,\"Wednesday\":36,\"Thur...</td>\n",
       "      <td>{\"android\":122,\"ios\":112}</td>\n",
       "      <td>NaN</td>\n",
       "      <td>TABU hookah lounge</td>\n",
       "      <td>NaN</td>\n",
       "      <td>NaN</td>\n",
       "      <td>Drinking Places (Alcoholic Beverages)</td>\n",
       "      <td>Drinking Places (Alcoholic Beverages)</td>\n",
       "      <td>722410.0</td>\n",
       "      <td>40.020565</td>\n",
       "      <td>-75.133697</td>\n",
       "      <td>4535 N 5th St</td>\n",
       "      <td>Philadelphia</td>\n",
       "      <td>PA</td>\n",
       "      <td>19140.0</td>\n",
       "      <td>US</td>\n",
       "      <td>1.267529e+10</td>\n",
       "      <td>{ \"Mon\": [], \"Tue\": [], \"Wed\": [], \"Thu\": [[\"1...</td>\n",
       "      <td>Bar or Pub,Late Night</td>\n",
       "      <td>2020-10-19</td>\n",
       "      <td>2020-09-08</td>\n",
       "      <td>23z-222@628-phy-rc5</td>\n",
       "      <td>NaN</td>\n",
       "      <td>NaN</td>\n",
       "      <td>NaN</td>\n",
       "      <td>NaN</td>\n",
       "      <td>NaN</td>\n",
       "    </tr>\n",
       "    <tr>\n",
       "      <th>4</th>\n",
       "      <td>225-224@628-pjf-tsq</td>\n",
       "      <td>sg:9b2b12ebfa7745b6814873b7c1cef76b</td>\n",
       "      <td>Yu Hsiang Garden</td>\n",
       "      <td>7630 Germantown Ave</td>\n",
       "      <td>Philadelphia</td>\n",
       "      <td>PA</td>\n",
       "      <td>19118</td>\n",
       "      <td>NaN</td>\n",
       "      <td>NaN</td>\n",
       "      <td>2020-10-01</td>\n",
       "      <td>2020-11-01T00:00:00-04:00</td>\n",
       "      <td>93</td>\n",
       "      <td>46</td>\n",
       "      <td>[3,3,2,5,6,3,4,1,5,4,1,2,1,6,3,3,3,3,3,4,1,2,2...</td>\n",
       "      <td>4.210102e+11</td>\n",
       "      <td>{\"421010306007\":4,\"421010318001\":4,\"4210101220...</td>\n",
       "      <td>{\"420912019025\":5,\"421010218002\":4,\"4210102560...</td>\n",
       "      <td>{}</td>\n",
       "      <td>{\"US\":44}</td>\n",
       "      <td>4905.0</td>\n",
       "      <td>106.0</td>\n",
       "      <td>{\"&lt;5\":1,\"5-20\":19,\"21-60\":17,\"61-240\":27,\"&gt;240...</td>\n",
       "      <td>{}</td>\n",
       "      <td>{\"Wawa\":40,\"CVS\":36,\"Dunkin'\":27,\"Acme Markets...</td>\n",
       "      <td>[1,1,1,0,0,0,0,6,17,24,27,36,37,37,36,37,37,33...</td>\n",
       "      <td>{\"Monday\":17,\"Tuesday\":10,\"Wednesday\":14,\"Thur...</td>\n",
       "      <td>{\"android\":21,\"ios\":24}</td>\n",
       "      <td>NaN</td>\n",
       "      <td>Yu Hsiang Garden</td>\n",
       "      <td>NaN</td>\n",
       "      <td>NaN</td>\n",
       "      <td>Restaurants and Other Eating Places</td>\n",
       "      <td>Full-Service Restaurants</td>\n",
       "      <td>722511.0</td>\n",
       "      <td>40.067041</td>\n",
       "      <td>-75.197183</td>\n",
       "      <td>7630 Germantown Ave</td>\n",
       "      <td>Philadelphia</td>\n",
       "      <td>PA</td>\n",
       "      <td>19118.0</td>\n",
       "      <td>US</td>\n",
       "      <td>1.215248e+10</td>\n",
       "      <td>NaN</td>\n",
       "      <td>Chinese Food</td>\n",
       "      <td>2020-10-19</td>\n",
       "      <td>2020-09-08</td>\n",
       "      <td>225-224@628-pjf-tsq</td>\n",
       "      <td>NaN</td>\n",
       "      <td>NaN</td>\n",
       "      <td>NaN</td>\n",
       "      <td>NaN</td>\n",
       "      <td>NaN</td>\n",
       "    </tr>\n",
       "  </tbody>\n",
       "</table>\n",
       "</div>"
      ],
      "text/plain": [
       "            placekey_x                   safegraph_place_id  \\\n",
       "0  zzw-228@628-pmb-7t9  sg:26825b56c5ce4c7d91afdc71a7c34440   \n",
       "1  22x-222@628-phy-4qf  sg:32b17bf96a93444588131370e52d310d   \n",
       "2  238-222@628-pj5-3nq  sg:3f4865e8bbb249838350eee9a101c8eb   \n",
       "3  23z-222@628-phy-rc5  sg:76dbefabe6eb465fac98e62c2fb15be9   \n",
       "4  225-224@628-pjf-tsq  sg:9b2b12ebfa7745b6814873b7c1cef76b   \n",
       "\n",
       "                            location_name_x        street_address_x  \\\n",
       "0                      Provident Technology  1315 Walnut St Ste 905   \n",
       "1          Los Potrillos Mexican Restaurant     4653 Rising Sun Ave   \n",
       "2  Precious Babies Learning Academy Day Car         1433 W Erie Ave   \n",
       "3                        TABU hookah lounge           4535 N 5th St   \n",
       "4                          Yu Hsiang Garden     7630 Germantown Ave   \n",
       "\n",
       "         city_x region_x  postal_code_x safegraph_brand_ids_x brands_x  \\\n",
       "0  Philadelphia       PA          19107                   NaN      NaN   \n",
       "1  Philadelphia       PA          19140                   NaN      NaN   \n",
       "2  Philadelphia       PA          19140                   NaN      NaN   \n",
       "3  Philadelphia       PA          19140                   NaN      NaN   \n",
       "4  Philadelphia       PA          19118                   NaN      NaN   \n",
       "\n",
       "  date_range_start             date_range_end  raw_visit_counts  \\\n",
       "0       2020-10-01  2020-11-01T00:00:00-04:00                 7   \n",
       "1       2020-10-01  2020-11-01T00:00:00-04:00               168   \n",
       "2       2020-10-01  2020-11-01T00:00:00-04:00                75   \n",
       "3       2020-10-01  2020-11-01T00:00:00-04:00               322   \n",
       "4       2020-10-01  2020-11-01T00:00:00-04:00                93   \n",
       "\n",
       "   raw_visitor_counts                                      visits_by_day  \\\n",
       "0                   7  [0,0,0,0,1,1,0,1,1,0,0,0,0,0,0,0,0,0,0,0,0,0,0...   \n",
       "1                  96  [9,8,3,3,6,6,5,3,7,5,5,2,6,9,8,6,5,2,8,6,5,2,4...   \n",
       "2                  47  [2,1,4,1,2,2,4,2,6,1,8,2,3,2,4,2,4,1,3,1,4,1,3...   \n",
       "3                 234  [3,16,12,15,9,4,13,2,8,18,11,8,10,9,9,11,16,17...   \n",
       "4                  46  [3,3,2,5,6,3,4,1,5,4,1,2,1,6,3,3,3,3,3,4,1,2,2...   \n",
       "\n",
       "        poi_cbg                                  visitor_home_cbgs  \\\n",
       "0  4.210100e+11                                                 {}   \n",
       "1  4.210103e+11  {\"421010288001\":11,\"421010330006\":4,\"421010287...   \n",
       "2  4.210102e+11  {\"421010002001\":4,\"421010202005\":4,\"4210102750...   \n",
       "3  4.210103e+11  {\"421010287001\":7,\"421010188001\":6,\"4210103380...   \n",
       "4  4.210102e+11  {\"421010306007\":4,\"421010318001\":4,\"4210101220...   \n",
       "\n",
       "                                visitor_daytime_cbgs visitor_work_cbgs  \\\n",
       "0                {\"421010021002\":4,\"421010024003\":4}                {}   \n",
       "1  {\"421010288001\":11,\"420454107003\":4,\"421010305...                {}   \n",
       "2  {\"421010364001\":5,\"421010204003\":4,\"4210103100...                {}   \n",
       "3  {\"421010197002\":7,\"421010098021\":6,\"4210103160...                {}   \n",
       "4  {\"420912019025\":5,\"421010218002\":4,\"4210102560...                {}   \n",
       "\n",
       "  visitor_country_of_origin  distance_from_home  median_dwell  \\\n",
       "0                  {\"US\":6}              4783.0           8.0   \n",
       "1                 {\"US\":87}              3335.0          19.5   \n",
       "2                 {\"US\":32}              5626.0          28.0   \n",
       "3                {\"US\":211}              6166.0          51.5   \n",
       "4                 {\"US\":44}              4905.0         106.0   \n",
       "\n",
       "                                bucketed_dwell_times  \\\n",
       "0    {\"<5\":2,\"5-20\":2,\"21-60\":0,\"61-240\":0,\">240\":3}   \n",
       "1  {\"<5\":8,\"5-20\":78,\"21-60\":28,\"61-240\":37,\">240...   \n",
       "2  {\"<5\":5,\"5-20\":30,\"21-60\":16,\"61-240\":14,\">240...   \n",
       "3  {\"<5\":11,\"5-20\":91,\"21-60\":74,\"61-240\":103,\">2...   \n",
       "4  {\"<5\":1,\"5-20\":19,\"21-60\":17,\"61-240\":27,\">240...   \n",
       "\n",
       "                              related_same_day_brand  \\\n",
       "0                                                 {}   \n",
       "1  {\"Dunkin'\":21,\"AAMCO Transmissions\":20,\"Family...   \n",
       "2                 {\"McDonald's\":46,\"Chick-fil-A\":14}   \n",
       "3  {\"Wawa\":20,\"PNC Financial Services\":8,\"U-Haul\"...   \n",
       "4                                                 {}   \n",
       "\n",
       "                            related_same_month_brand  \\\n",
       "0  {\"Dunkin'\":39,\"Starbucks\":35,\"McDonald's\":28,\"...   \n",
       "1  {\"Dunkin'\":42,\"Sunoco\":35,\"Wawa\":35,\"Dollar Tr...   \n",
       "2  {\"Dunkin'\":37,\"Sunoco\":36,\"Rite Aid\":25,\"Wawa\"...   \n",
       "3  {\"Wawa\":48,\"Dunkin'\":37,\"Sunoco\":29,\"McDonald'...   \n",
       "4  {\"Wawa\":40,\"CVS\":36,\"Dunkin'\":27,\"Acme Markets...   \n",
       "\n",
       "                                  popularity_by_hour  \\\n",
       "0  [1,1,1,1,1,0,0,0,0,1,2,3,2,2,3,2,2,1,0,0,1,1,2,1]   \n",
       "1  [7,6,5,6,7,8,11,11,12,18,20,28,28,24,35,30,36,...   \n",
       "2  [6,6,4,4,3,2,3,4,7,9,14,13,11,13,14,12,10,11,1...   \n",
       "3  [18,17,11,11,13,18,16,15,41,46,53,62,70,73,71,...   \n",
       "4  [1,1,1,0,0,0,0,6,17,24,27,36,37,37,36,37,37,33...   \n",
       "\n",
       "                                   popularity_by_day  \\\n",
       "0  {\"Monday\":1,\"Tuesday\":2,\"Wednesday\":0,\"Thursda...   \n",
       "1  {\"Monday\":20,\"Tuesday\":23,\"Wednesday\":22,\"Thur...   \n",
       "2  {\"Monday\":9,\"Tuesday\":8,\"Wednesday\":12,\"Thursd...   \n",
       "3  {\"Monday\":36,\"Tuesday\":35,\"Wednesday\":36,\"Thur...   \n",
       "4  {\"Monday\":17,\"Tuesday\":10,\"Wednesday\":14,\"Thur...   \n",
       "\n",
       "                 device_type parent_safegraph_place_id  \\\n",
       "0      {\"android\":0,\"ios\":5}                       NaN   \n",
       "1    {\"android\":60,\"ios\":35}                       NaN   \n",
       "2    {\"android\":29,\"ios\":15}                       NaN   \n",
       "3  {\"android\":122,\"ios\":112}                       NaN   \n",
       "4    {\"android\":21,\"ios\":24}                       NaN   \n",
       "\n",
       "                            location_name_y safegraph_brand_ids_y brands_y  \\\n",
       "0                      Provident Technology                   NaN      NaN   \n",
       "1          Los Potrillos Mexican Restaurant                   NaN      NaN   \n",
       "2  Precious Babies Learning Academy Day Car                   NaN      NaN   \n",
       "3                        TABU hookah lounge                   NaN      NaN   \n",
       "4                          Yu Hsiang Garden                   NaN      NaN   \n",
       "\n",
       "                            top_category  \\\n",
       "0       Electronics and Appliance Stores   \n",
       "1    Restaurants and Other Eating Places   \n",
       "2                Child Day Care Services   \n",
       "3  Drinking Places (Alcoholic Beverages)   \n",
       "4    Restaurants and Other Eating Places   \n",
       "\n",
       "                            sub_category  naics_code   latitude  longitude  \\\n",
       "0                     Electronics Stores    443142.0  39.949304 -75.163015   \n",
       "1               Full-Service Restaurants    722511.0  40.021333 -75.125779   \n",
       "2                Child Day Care Services    624410.0  40.009669 -75.152732   \n",
       "3  Drinking Places (Alcoholic Beverages)    722410.0  40.020565 -75.133697   \n",
       "4               Full-Service Restaurants    722511.0  40.067041 -75.197183   \n",
       "\n",
       "         street_address_y        city_y region_y  postal_code_y  \\\n",
       "0  1315 Walnut St Ste 905  Philadelphia       PA        19107.0   \n",
       "1     4653 Rising Sun Ave  Philadelphia       PA        19140.0   \n",
       "2         1433 W Erie Ave  Philadelphia       PA        19140.0   \n",
       "3           4535 N 5th St  Philadelphia       PA        19140.0   \n",
       "4     7630 Germantown Ave  Philadelphia       PA        19118.0   \n",
       "\n",
       "  iso_country_code  phone_number  \\\n",
       "0               US           NaN   \n",
       "1               US  1.267323e+10   \n",
       "2               US  1.215221e+10   \n",
       "3               US  1.267529e+10   \n",
       "4               US  1.215248e+10   \n",
       "\n",
       "                                          open_hours          category_tags  \\\n",
       "0  { \"Mon\": [[\"8:00\", \"18:00\"]], \"Tue\": [[\"8:00\",...                    NaN   \n",
       "1                                                NaN           Mexican Food   \n",
       "2                                                NaN                    NaN   \n",
       "3  { \"Mon\": [], \"Tue\": [], \"Wed\": [], \"Thu\": [[\"1...  Bar or Pub,Late Night   \n",
       "4                                                NaN           Chinese Food   \n",
       "\n",
       "     valid_to  valid_from           placekey_y opened_on closed_on  \\\n",
       "0  2020-10-19  2020-09-08  zzw-228@628-pmb-7t9       NaN       NaN   \n",
       "1  2020-10-19  2020-09-08  22x-222@628-phy-4qf       NaN       NaN   \n",
       "2  2020-10-19  2020-09-08  238-222@628-pj5-3nq       NaN       NaN   \n",
       "3  2020-10-19  2020-09-08  23z-222@628-phy-rc5       NaN       NaN   \n",
       "4  2020-10-19  2020-09-08  225-224@628-pjf-tsq       NaN       NaN   \n",
       "\n",
       "  tracking_opened_since tracking_closed_since  placekey  \n",
       "0                   NaN                   NaN       NaN  \n",
       "1                   NaN                   NaN       NaN  \n",
       "2                   NaN                   NaN       NaN  \n",
       "3                   NaN                   NaN       NaN  \n",
       "4                   NaN                   NaN       NaN  "
      ]
     },
     "execution_count": 9,
     "metadata": {},
     "output_type": "execute_result"
    }
   ],
   "source": [
    "philly_patterns_all.head()"
   ]
  },
  {
   "cell_type": "markdown",
   "metadata": {},
   "source": [
    "Number of unique safegraph ids:"
   ]
  },
  {
   "cell_type": "code",
   "execution_count": 10,
   "metadata": {
    "scrolled": true
   },
   "outputs": [
    {
     "data": {
      "text/plain": [
       "20624"
      ]
     },
     "execution_count": 10,
     "metadata": {},
     "output_type": "execute_result"
    }
   ],
   "source": [
    "philly_patterns_all['safegraph_place_id'].nunique()"
   ]
  },
  {
   "cell_type": "markdown",
   "metadata": {},
   "source": [
    "Get POIs with category info:"
   ]
  },
  {
   "cell_type": "code",
   "execution_count": 11,
   "metadata": {},
   "outputs": [],
   "source": [
    "categories = (\n",
    "    philly_patterns_all.dropna(subset=[\"top_category\"])\n",
    "    .drop_duplicates(subset=[\"safegraph_place_id\", \"top_category\"])\n",
    "    .sort_values(\"date_range_start\", ascending=False)\n",
    "    .drop_duplicates(subset=[\"safegraph_place_id\"])\n",
    ")[[\"safegraph_place_id\", \"top_category\"]]"
   ]
  },
  {
   "cell_type": "code",
   "execution_count": 12,
   "metadata": {},
   "outputs": [
    {
     "data": {
      "text/html": [
       "<div>\n",
       "<style scoped>\n",
       "    .dataframe tbody tr th:only-of-type {\n",
       "        vertical-align: middle;\n",
       "    }\n",
       "\n",
       "    .dataframe tbody tr th {\n",
       "        vertical-align: top;\n",
       "    }\n",
       "\n",
       "    .dataframe thead th {\n",
       "        text-align: right;\n",
       "    }\n",
       "</style>\n",
       "<table border=\"1\" class=\"dataframe\">\n",
       "  <thead>\n",
       "    <tr style=\"text-align: right;\">\n",
       "      <th></th>\n",
       "      <th>safegraph_place_id</th>\n",
       "      <th>top_category</th>\n",
       "    </tr>\n",
       "  </thead>\n",
       "  <tbody>\n",
       "    <tr>\n",
       "      <th>0</th>\n",
       "      <td>sg:26825b56c5ce4c7d91afdc71a7c34440</td>\n",
       "      <td>Electronics and Appliance Stores</td>\n",
       "    </tr>\n",
       "    <tr>\n",
       "      <th>11673</th>\n",
       "      <td>sg:c640e5922168451fa7b1233c3d36b506</td>\n",
       "      <td>Grocery Stores</td>\n",
       "    </tr>\n",
       "    <tr>\n",
       "      <th>11311</th>\n",
       "      <td>sg:46c9a4ccc34c419f905d202104794631</td>\n",
       "      <td>Drinking Places (Alcoholic Beverages)</td>\n",
       "    </tr>\n",
       "    <tr>\n",
       "      <th>11312</th>\n",
       "      <td>sg:48c97ce66d664faf85919c67867a0969</td>\n",
       "      <td>Offices of Dentists</td>\n",
       "    </tr>\n",
       "    <tr>\n",
       "      <th>11313</th>\n",
       "      <td>sg:5f1b861e5b8644e7895bf1a7baccbb16</td>\n",
       "      <td>Personal Care Services</td>\n",
       "    </tr>\n",
       "  </tbody>\n",
       "</table>\n",
       "</div>"
      ],
      "text/plain": [
       "                        safegraph_place_id  \\\n",
       "0      sg:26825b56c5ce4c7d91afdc71a7c34440   \n",
       "11673  sg:c640e5922168451fa7b1233c3d36b506   \n",
       "11311  sg:46c9a4ccc34c419f905d202104794631   \n",
       "11312  sg:48c97ce66d664faf85919c67867a0969   \n",
       "11313  sg:5f1b861e5b8644e7895bf1a7baccbb16   \n",
       "\n",
       "                                top_category  \n",
       "0           Electronics and Appliance Stores  \n",
       "11673                         Grocery Stores  \n",
       "11311  Drinking Places (Alcoholic Beverages)  \n",
       "11312                    Offices of Dentists  \n",
       "11313                 Personal Care Services  "
      ]
     },
     "execution_count": 12,
     "metadata": {},
     "output_type": "execute_result"
    }
   ],
   "source": [
    "categories.head()"
   ]
  },
  {
   "cell_type": "markdown",
   "metadata": {},
   "source": [
    "Number of POI with category info:"
   ]
  },
  {
   "cell_type": "code",
   "execution_count": 13,
   "metadata": {},
   "outputs": [
    {
     "data": {
      "text/plain": [
       "19647"
      ]
     },
     "execution_count": 13,
     "metadata": {},
     "output_type": "execute_result"
    }
   ],
   "source": [
    "categories['safegraph_place_id'].nunique()"
   ]
  },
  {
   "cell_type": "markdown",
   "metadata": {},
   "source": [
    "Merge in category info and drop those without a category:"
   ]
  },
  {
   "cell_type": "code",
   "execution_count": 14,
   "metadata": {},
   "outputs": [],
   "source": [
    "philly_patterns = philly_patterns_all.drop(labels=[\"top_category\"], axis=1).merge(\n",
    "    categories, on=\"safegraph_place_id\"\n",
    ")"
   ]
  },
  {
   "cell_type": "markdown",
   "metadata": {},
   "source": [
    "No more missing categories:"
   ]
  },
  {
   "cell_type": "code",
   "execution_count": 15,
   "metadata": {},
   "outputs": [
    {
     "data": {
      "text/plain": [
       "0"
      ]
     },
     "execution_count": 15,
     "metadata": {},
     "output_type": "execute_result"
    }
   ],
   "source": [
    "philly_patterns['top_category'].isnull().sum()"
   ]
  },
  {
   "cell_type": "markdown",
   "metadata": {},
   "source": [
    "Trim to the columns we need:"
   ]
  },
  {
   "cell_type": "code",
   "execution_count": 17,
   "metadata": {},
   "outputs": [],
   "source": [
    "philly_patterns = philly_patterns[\n",
    "    [\n",
    "        \"safegraph_place_id\",\n",
    "        \"date_range_start\",\n",
    "        \"date_range_end\",\n",
    "        \"raw_visit_counts\",\n",
    "        \"raw_visitor_counts\",\n",
    "        \"poi_cbg\",\n",
    "        \"top_category\",\n",
    "    ]\n",
    "]"
   ]
  },
  {
   "cell_type": "markdown",
   "metadata": {},
   "source": [
    "Make datetime columns:"
   ]
  },
  {
   "cell_type": "code",
   "execution_count": 18,
   "metadata": {},
   "outputs": [],
   "source": [
    "philly_patterns[\"date_range_start\"] = pd.to_datetime(\n",
    "    philly_patterns[\"date_range_start\"].astype(str).apply(lambda x: x[:10])\n",
    ")\n",
    "\n",
    "philly_patterns[\"date_range_end\"] = pd.to_datetime(\n",
    "    philly_patterns[\"date_range_end\"].astype(str).apply(lambda x: x[:10])\n",
    ")"
   ]
  },
  {
   "cell_type": "code",
   "execution_count": 422,
   "metadata": {},
   "outputs": [],
   "source": [
    "# philly_patterns[\"poi_cbg\"] = philly_patterns[\"poi_cbg\"].astype(int)"
   ]
  },
  {
   "cell_type": "code",
   "execution_count": 423,
   "metadata": {},
   "outputs": [],
   "source": [
    "# census_path = DATA_DIR / 'raw' / 'open-census-data'\n",
    "# files = [file for file in census_path.glob('**/cbg_b19.csv')]\n",
    "# census = pd.read_csv(files[0])\n",
    "# census =  census[['census_block_group','B19013e1']]"
   ]
  },
  {
   "cell_type": "code",
   "execution_count": 424,
   "metadata": {},
   "outputs": [],
   "source": [
    "# philly_patterns = philly_patterns.merge(census, left_on = 'poi_cbg', right_on = 'census_block_group', how = 'left')\n",
    "# philly_patterns.drop(columns = 'census_block_group', inplace = True)"
   ]
  },
  {
   "cell_type": "code",
   "execution_count": 425,
   "metadata": {},
   "outputs": [],
   "source": [
    "# philly_patterns['income_missing'] = philly_patterns['B19013e1'].isna().astype(int)\n",
    "# philly_patterns['B19013e1'].fillna(value=philly_patterns['B19013e1'].mean(), inplace=True)"
   ]
  },
  {
   "cell_type": "code",
   "execution_count": 19,
   "metadata": {},
   "outputs": [],
   "source": [
    "# for files with information disaggregated at the state level, keep only the country-wide info\n",
    "def keep_total_level(norm_stats):\n",
    "    if \"region\" in norm_stats.columns:\n",
    "        if len(norm_stats[norm_stats[\"region\"] == \"ALL_STATES\"]) == 0:\n",
    "            raise ValueError('no region named \"ALL_STATES\"')\n",
    "        norm_stats = norm_stats[norm_stats[\"region\"] == \"ALL_STATES\"]\n",
    "        norm_stats = norm_stats.drop(columns=[\"region\"])\n",
    "    return norm_stats\n",
    "\n",
    "\n",
    "patterns_path = raw_data_dir / \"monthly-patterns-2020-12\"\n",
    "\n",
    "\n",
    "norm_files = [f for f in patterns_path.glob(\"**/normalization_stats.csv\")]\n",
    "# read in normalization data\n",
    "norm_stats = pd.concat([keep_total_level(pd.read_csv(file)) for file in norm_files])\n",
    "norm_stats[\"year\"] = norm_stats[\"year\"].astype(int)\n",
    "norm_stats[\"month\"] = norm_stats[\"month\"].astype(int)\n",
    "norm_stats[\"day\"] = norm_stats[\"day\"].astype(int)\n",
    "# HK: I only downloaded patterns data from 2019 onwards due to memory constraints\n",
    "norm_stats = norm_stats[norm_stats[\"year\"] >= 2019]\n",
    "norm_stats.reset_index(inplace=True, drop=True)"
   ]
  },
  {
   "cell_type": "code",
   "execution_count": 20,
   "metadata": {},
   "outputs": [
    {
     "data": {
      "text/html": [
       "<div>\n",
       "<style scoped>\n",
       "    .dataframe tbody tr th:only-of-type {\n",
       "        vertical-align: middle;\n",
       "    }\n",
       "\n",
       "    .dataframe tbody tr th {\n",
       "        vertical-align: top;\n",
       "    }\n",
       "\n",
       "    .dataframe thead th {\n",
       "        text-align: right;\n",
       "    }\n",
       "</style>\n",
       "<table border=\"1\" class=\"dataframe\">\n",
       "  <thead>\n",
       "    <tr style=\"text-align: right;\">\n",
       "      <th></th>\n",
       "      <th>year</th>\n",
       "      <th>month</th>\n",
       "      <th>day</th>\n",
       "      <th>total_visits</th>\n",
       "      <th>total_devices_seen</th>\n",
       "      <th>total_home_visits</th>\n",
       "      <th>total_home_visitors</th>\n",
       "    </tr>\n",
       "  </thead>\n",
       "  <tbody>\n",
       "    <tr>\n",
       "      <th>0</th>\n",
       "      <td>2019</td>\n",
       "      <td>3</td>\n",
       "      <td>1</td>\n",
       "      <td>71494424</td>\n",
       "      <td>20818199</td>\n",
       "      <td>29867861</td>\n",
       "      <td>17558627</td>\n",
       "    </tr>\n",
       "    <tr>\n",
       "      <th>1</th>\n",
       "      <td>2019</td>\n",
       "      <td>3</td>\n",
       "      <td>2</td>\n",
       "      <td>64944421</td>\n",
       "      <td>20621293</td>\n",
       "      <td>28759442</td>\n",
       "      <td>17376856</td>\n",
       "    </tr>\n",
       "    <tr>\n",
       "      <th>2</th>\n",
       "      <td>2019</td>\n",
       "      <td>3</td>\n",
       "      <td>3</td>\n",
       "      <td>57808859</td>\n",
       "      <td>20708026</td>\n",
       "      <td>30021148</td>\n",
       "      <td>18297714</td>\n",
       "    </tr>\n",
       "    <tr>\n",
       "      <th>3</th>\n",
       "      <td>2019</td>\n",
       "      <td>3</td>\n",
       "      <td>4</td>\n",
       "      <td>66366221</td>\n",
       "      <td>20974271</td>\n",
       "      <td>30616720</td>\n",
       "      <td>18126681</td>\n",
       "    </tr>\n",
       "    <tr>\n",
       "      <th>4</th>\n",
       "      <td>2019</td>\n",
       "      <td>3</td>\n",
       "      <td>5</td>\n",
       "      <td>66513792</td>\n",
       "      <td>20246899</td>\n",
       "      <td>29591990</td>\n",
       "      <td>17466477</td>\n",
       "    </tr>\n",
       "  </tbody>\n",
       "</table>\n",
       "</div>"
      ],
      "text/plain": [
       "   year  month  day  total_visits  total_devices_seen  total_home_visits  \\\n",
       "0  2019      3    1      71494424            20818199           29867861   \n",
       "1  2019      3    2      64944421            20621293           28759442   \n",
       "2  2019      3    3      57808859            20708026           30021148   \n",
       "3  2019      3    4      66366221            20974271           30616720   \n",
       "4  2019      3    5      66513792            20246899           29591990   \n",
       "\n",
       "   total_home_visitors  \n",
       "0             17558627  \n",
       "1             17376856  \n",
       "2             18297714  \n",
       "3             18126681  \n",
       "4             17466477  "
      ]
     },
     "execution_count": 20,
     "metadata": {},
     "output_type": "execute_result"
    }
   ],
   "source": [
    "norm_stats.head()"
   ]
  },
  {
   "cell_type": "code",
   "execution_count": 21,
   "metadata": {},
   "outputs": [],
   "source": [
    "norm_stats[\"date\"] = pd.to_datetime(\n",
    "    (norm_stats.year * 10000 + norm_stats.month * 100 + norm_stats.day).apply(str),\n",
    "    format=\"%Y%m%d\",\n",
    ")"
   ]
  },
  {
   "cell_type": "code",
   "execution_count": 22,
   "metadata": {},
   "outputs": [],
   "source": [
    "date_ranges = (\n",
    "    philly_patterns[[\"date_range_start\", \"date_range_end\"]]\n",
    "    .drop_duplicates()\n",
    "    .sort_values(\"date_range_start\")\n",
    "    .reset_index(drop=True)\n",
    "    .dropna()\n",
    ")"
   ]
  },
  {
   "cell_type": "code",
   "execution_count": 23,
   "metadata": {},
   "outputs": [
    {
     "data": {
      "text/html": [
       "<div>\n",
       "<style scoped>\n",
       "    .dataframe tbody tr th:only-of-type {\n",
       "        vertical-align: middle;\n",
       "    }\n",
       "\n",
       "    .dataframe tbody tr th {\n",
       "        vertical-align: top;\n",
       "    }\n",
       "\n",
       "    .dataframe thead th {\n",
       "        text-align: right;\n",
       "    }\n",
       "</style>\n",
       "<table border=\"1\" class=\"dataframe\">\n",
       "  <thead>\n",
       "    <tr style=\"text-align: right;\">\n",
       "      <th></th>\n",
       "      <th>date_range_start</th>\n",
       "      <th>date_range_end</th>\n",
       "    </tr>\n",
       "  </thead>\n",
       "  <tbody>\n",
       "    <tr>\n",
       "      <th>0</th>\n",
       "      <td>2019-01-01</td>\n",
       "      <td>2019-02-01</td>\n",
       "    </tr>\n",
       "    <tr>\n",
       "      <th>1</th>\n",
       "      <td>2019-02-01</td>\n",
       "      <td>2019-03-01</td>\n",
       "    </tr>\n",
       "    <tr>\n",
       "      <th>2</th>\n",
       "      <td>2019-03-01</td>\n",
       "      <td>2019-04-01</td>\n",
       "    </tr>\n",
       "    <tr>\n",
       "      <th>3</th>\n",
       "      <td>2019-04-01</td>\n",
       "      <td>2019-05-01</td>\n",
       "    </tr>\n",
       "    <tr>\n",
       "      <th>4</th>\n",
       "      <td>2019-05-01</td>\n",
       "      <td>2019-06-01</td>\n",
       "    </tr>\n",
       "    <tr>\n",
       "      <th>5</th>\n",
       "      <td>2019-06-01</td>\n",
       "      <td>2019-07-01</td>\n",
       "    </tr>\n",
       "    <tr>\n",
       "      <th>6</th>\n",
       "      <td>2019-07-01</td>\n",
       "      <td>2019-08-01</td>\n",
       "    </tr>\n",
       "    <tr>\n",
       "      <th>7</th>\n",
       "      <td>2019-08-01</td>\n",
       "      <td>2019-09-01</td>\n",
       "    </tr>\n",
       "    <tr>\n",
       "      <th>8</th>\n",
       "      <td>2019-09-01</td>\n",
       "      <td>2019-10-01</td>\n",
       "    </tr>\n",
       "    <tr>\n",
       "      <th>9</th>\n",
       "      <td>2019-10-01</td>\n",
       "      <td>2019-11-01</td>\n",
       "    </tr>\n",
       "    <tr>\n",
       "      <th>10</th>\n",
       "      <td>2019-11-01</td>\n",
       "      <td>2019-12-01</td>\n",
       "    </tr>\n",
       "    <tr>\n",
       "      <th>11</th>\n",
       "      <td>2019-12-01</td>\n",
       "      <td>2020-01-01</td>\n",
       "    </tr>\n",
       "    <tr>\n",
       "      <th>12</th>\n",
       "      <td>2020-01-01</td>\n",
       "      <td>2020-02-01</td>\n",
       "    </tr>\n",
       "    <tr>\n",
       "      <th>13</th>\n",
       "      <td>2020-02-01</td>\n",
       "      <td>2020-03-01</td>\n",
       "    </tr>\n",
       "    <tr>\n",
       "      <th>14</th>\n",
       "      <td>2020-03-01</td>\n",
       "      <td>2020-04-01</td>\n",
       "    </tr>\n",
       "    <tr>\n",
       "      <th>15</th>\n",
       "      <td>2020-04-01</td>\n",
       "      <td>2020-05-01</td>\n",
       "    </tr>\n",
       "    <tr>\n",
       "      <th>16</th>\n",
       "      <td>2020-05-01</td>\n",
       "      <td>2020-06-01</td>\n",
       "    </tr>\n",
       "    <tr>\n",
       "      <th>17</th>\n",
       "      <td>2020-06-01</td>\n",
       "      <td>2020-07-01</td>\n",
       "    </tr>\n",
       "    <tr>\n",
       "      <th>18</th>\n",
       "      <td>2020-07-01</td>\n",
       "      <td>2020-08-01</td>\n",
       "    </tr>\n",
       "    <tr>\n",
       "      <th>19</th>\n",
       "      <td>2020-08-01</td>\n",
       "      <td>2020-09-01</td>\n",
       "    </tr>\n",
       "    <tr>\n",
       "      <th>20</th>\n",
       "      <td>2020-09-01</td>\n",
       "      <td>2020-10-01</td>\n",
       "    </tr>\n",
       "    <tr>\n",
       "      <th>21</th>\n",
       "      <td>2020-10-01</td>\n",
       "      <td>2020-11-01</td>\n",
       "    </tr>\n",
       "  </tbody>\n",
       "</table>\n",
       "</div>"
      ],
      "text/plain": [
       "   date_range_start date_range_end\n",
       "0        2019-01-01     2019-02-01\n",
       "1        2019-02-01     2019-03-01\n",
       "2        2019-03-01     2019-04-01\n",
       "3        2019-04-01     2019-05-01\n",
       "4        2019-05-01     2019-06-01\n",
       "5        2019-06-01     2019-07-01\n",
       "6        2019-07-01     2019-08-01\n",
       "7        2019-08-01     2019-09-01\n",
       "8        2019-09-01     2019-10-01\n",
       "9        2019-10-01     2019-11-01\n",
       "10       2019-11-01     2019-12-01\n",
       "11       2019-12-01     2020-01-01\n",
       "12       2020-01-01     2020-02-01\n",
       "13       2020-02-01     2020-03-01\n",
       "14       2020-03-01     2020-04-01\n",
       "15       2020-04-01     2020-05-01\n",
       "16       2020-05-01     2020-06-01\n",
       "17       2020-06-01     2020-07-01\n",
       "18       2020-07-01     2020-08-01\n",
       "19       2020-08-01     2020-09-01\n",
       "20       2020-09-01     2020-10-01\n",
       "21       2020-10-01     2020-11-01"
      ]
     },
     "execution_count": 23,
     "metadata": {},
     "output_type": "execute_result"
    }
   ],
   "source": [
    "date_ranges"
   ]
  },
  {
   "cell_type": "code",
   "execution_count": 26,
   "metadata": {},
   "outputs": [],
   "source": [
    "def get_date_range(x): \n",
    "    mask = (date_ranges['date_range_start'] <= x) & (date_ranges['date_range_end'] > x)\n",
    "    if np.any(mask):\n",
    "        return date_ranges.loc[mask,'date_range_start'].values[0]\n",
    "    else:\n",
    "        return np.nan"
   ]
  },
  {
   "cell_type": "code",
   "execution_count": 29,
   "metadata": {},
   "outputs": [],
   "source": [
    "norm_stats['date_range_start'] = norm_stats.date.apply(get_date_range)"
   ]
  },
  {
   "cell_type": "code",
   "execution_count": 31,
   "metadata": {},
   "outputs": [
    {
     "data": {
      "text/html": [
       "<div>\n",
       "<style scoped>\n",
       "    .dataframe tbody tr th:only-of-type {\n",
       "        vertical-align: middle;\n",
       "    }\n",
       "\n",
       "    .dataframe tbody tr th {\n",
       "        vertical-align: top;\n",
       "    }\n",
       "\n",
       "    .dataframe thead th {\n",
       "        text-align: right;\n",
       "    }\n",
       "</style>\n",
       "<table border=\"1\" class=\"dataframe\">\n",
       "  <thead>\n",
       "    <tr style=\"text-align: right;\">\n",
       "      <th></th>\n",
       "      <th>date</th>\n",
       "      <th>date_range_start</th>\n",
       "    </tr>\n",
       "  </thead>\n",
       "  <tbody>\n",
       "    <tr>\n",
       "      <th>0</th>\n",
       "      <td>2019-03-01</td>\n",
       "      <td>2019-03-01</td>\n",
       "    </tr>\n",
       "    <tr>\n",
       "      <th>1</th>\n",
       "      <td>2019-03-02</td>\n",
       "      <td>2019-03-01</td>\n",
       "    </tr>\n",
       "    <tr>\n",
       "      <th>2</th>\n",
       "      <td>2019-03-03</td>\n",
       "      <td>2019-03-01</td>\n",
       "    </tr>\n",
       "    <tr>\n",
       "      <th>3</th>\n",
       "      <td>2019-03-04</td>\n",
       "      <td>2019-03-01</td>\n",
       "    </tr>\n",
       "    <tr>\n",
       "      <th>4</th>\n",
       "      <td>2019-03-05</td>\n",
       "      <td>2019-03-01</td>\n",
       "    </tr>\n",
       "    <tr>\n",
       "      <th>...</th>\n",
       "      <td>...</td>\n",
       "      <td>...</td>\n",
       "    </tr>\n",
       "    <tr>\n",
       "      <th>785</th>\n",
       "      <td>2020-12-27</td>\n",
       "      <td>NaT</td>\n",
       "    </tr>\n",
       "    <tr>\n",
       "      <th>786</th>\n",
       "      <td>2020-12-28</td>\n",
       "      <td>NaT</td>\n",
       "    </tr>\n",
       "    <tr>\n",
       "      <th>787</th>\n",
       "      <td>2020-12-29</td>\n",
       "      <td>NaT</td>\n",
       "    </tr>\n",
       "    <tr>\n",
       "      <th>788</th>\n",
       "      <td>2020-12-30</td>\n",
       "      <td>NaT</td>\n",
       "    </tr>\n",
       "    <tr>\n",
       "      <th>789</th>\n",
       "      <td>2020-12-31</td>\n",
       "      <td>NaT</td>\n",
       "    </tr>\n",
       "  </tbody>\n",
       "</table>\n",
       "<p>790 rows × 2 columns</p>\n",
       "</div>"
      ],
      "text/plain": [
       "          date date_range_start\n",
       "0   2019-03-01       2019-03-01\n",
       "1   2019-03-02       2019-03-01\n",
       "2   2019-03-03       2019-03-01\n",
       "3   2019-03-04       2019-03-01\n",
       "4   2019-03-05       2019-03-01\n",
       "..         ...              ...\n",
       "785 2020-12-27              NaT\n",
       "786 2020-12-28              NaT\n",
       "787 2020-12-29              NaT\n",
       "788 2020-12-30              NaT\n",
       "789 2020-12-31              NaT\n",
       "\n",
       "[790 rows x 2 columns]"
      ]
     },
     "execution_count": 31,
     "metadata": {},
     "output_type": "execute_result"
    }
   ],
   "source": [
    "norm_stats[['date', 'date_range_start']].drop_duplicates()"
   ]
  },
  {
   "cell_type": "code",
   "execution_count": 32,
   "metadata": {},
   "outputs": [],
   "source": [
    "norm_stats = norm_stats[['date_range_start', 'total_visits', 'total_devices_seen']].groupby('date_range_start').agg('sum').reset_index()"
   ]
  },
  {
   "cell_type": "code",
   "execution_count": 33,
   "metadata": {},
   "outputs": [],
   "source": [
    "philly_patterns = philly_patterns.merge(norm_stats, on=\"date_range_start\")\n",
    "philly_patterns[\"visit_count_norm\"] = (\n",
    "    1000000 * philly_patterns[\"raw_visit_counts\"] / philly_patterns[\"total_visits\"]\n",
    ")\n",
    "philly_patterns[\"visitor_count_norm\"] = (\n",
    "    1000000\n",
    "    * philly_patterns[\"raw_visitor_counts\"]\n",
    "    / philly_patterns[\"total_devices_seen\"]\n",
    ")"
   ]
  },
  {
   "cell_type": "code",
   "execution_count": 34,
   "metadata": {},
   "outputs": [
    {
     "data": {
      "text/html": [
       "<div>\n",
       "<style scoped>\n",
       "    .dataframe tbody tr th:only-of-type {\n",
       "        vertical-align: middle;\n",
       "    }\n",
       "\n",
       "    .dataframe tbody tr th {\n",
       "        vertical-align: top;\n",
       "    }\n",
       "\n",
       "    .dataframe thead th {\n",
       "        text-align: right;\n",
       "    }\n",
       "</style>\n",
       "<table border=\"1\" class=\"dataframe\">\n",
       "  <thead>\n",
       "    <tr style=\"text-align: right;\">\n",
       "      <th></th>\n",
       "      <th>safegraph_place_id</th>\n",
       "      <th>date_range_start</th>\n",
       "      <th>date_range_end</th>\n",
       "      <th>raw_visit_counts</th>\n",
       "      <th>raw_visitor_counts</th>\n",
       "      <th>poi_cbg</th>\n",
       "      <th>top_category</th>\n",
       "      <th>total_visits</th>\n",
       "      <th>total_devices_seen</th>\n",
       "      <th>visit_count_norm</th>\n",
       "      <th>visitor_count_norm</th>\n",
       "    </tr>\n",
       "  </thead>\n",
       "  <tbody>\n",
       "    <tr>\n",
       "      <th>0</th>\n",
       "      <td>sg:26825b56c5ce4c7d91afdc71a7c34440</td>\n",
       "      <td>2020-10-01</td>\n",
       "      <td>2020-11-01</td>\n",
       "      <td>7</td>\n",
       "      <td>7</td>\n",
       "      <td>4.210100e+11</td>\n",
       "      <td>Electronics and Appliance Stores</td>\n",
       "      <td>1690871858</td>\n",
       "      <td>549983886</td>\n",
       "      <td>0.004140</td>\n",
       "      <td>0.012728</td>\n",
       "    </tr>\n",
       "    <tr>\n",
       "      <th>1</th>\n",
       "      <td>sg:32b17bf96a93444588131370e52d310d</td>\n",
       "      <td>2020-10-01</td>\n",
       "      <td>2020-11-01</td>\n",
       "      <td>168</td>\n",
       "      <td>96</td>\n",
       "      <td>4.210103e+11</td>\n",
       "      <td>Restaurants and Other Eating Places</td>\n",
       "      <td>1690871858</td>\n",
       "      <td>549983886</td>\n",
       "      <td>0.099357</td>\n",
       "      <td>0.174551</td>\n",
       "    </tr>\n",
       "    <tr>\n",
       "      <th>2</th>\n",
       "      <td>sg:3f4865e8bbb249838350eee9a101c8eb</td>\n",
       "      <td>2020-10-01</td>\n",
       "      <td>2020-11-01</td>\n",
       "      <td>75</td>\n",
       "      <td>47</td>\n",
       "      <td>4.210102e+11</td>\n",
       "      <td>Child Day Care Services</td>\n",
       "      <td>1690871858</td>\n",
       "      <td>549983886</td>\n",
       "      <td>0.044356</td>\n",
       "      <td>0.085457</td>\n",
       "    </tr>\n",
       "    <tr>\n",
       "      <th>3</th>\n",
       "      <td>sg:76dbefabe6eb465fac98e62c2fb15be9</td>\n",
       "      <td>2020-10-01</td>\n",
       "      <td>2020-11-01</td>\n",
       "      <td>322</td>\n",
       "      <td>234</td>\n",
       "      <td>4.210103e+11</td>\n",
       "      <td>Drinking Places (Alcoholic Beverages)</td>\n",
       "      <td>1690871858</td>\n",
       "      <td>549983886</td>\n",
       "      <td>0.190434</td>\n",
       "      <td>0.425467</td>\n",
       "    </tr>\n",
       "    <tr>\n",
       "      <th>4</th>\n",
       "      <td>sg:9b2b12ebfa7745b6814873b7c1cef76b</td>\n",
       "      <td>2020-10-01</td>\n",
       "      <td>2020-11-01</td>\n",
       "      <td>93</td>\n",
       "      <td>46</td>\n",
       "      <td>4.210102e+11</td>\n",
       "      <td>Restaurants and Other Eating Places</td>\n",
       "      <td>1690871858</td>\n",
       "      <td>549983886</td>\n",
       "      <td>0.055001</td>\n",
       "      <td>0.083639</td>\n",
       "    </tr>\n",
       "  </tbody>\n",
       "</table>\n",
       "</div>"
      ],
      "text/plain": [
       "                    safegraph_place_id date_range_start date_range_end  \\\n",
       "0  sg:26825b56c5ce4c7d91afdc71a7c34440       2020-10-01     2020-11-01   \n",
       "1  sg:32b17bf96a93444588131370e52d310d       2020-10-01     2020-11-01   \n",
       "2  sg:3f4865e8bbb249838350eee9a101c8eb       2020-10-01     2020-11-01   \n",
       "3  sg:76dbefabe6eb465fac98e62c2fb15be9       2020-10-01     2020-11-01   \n",
       "4  sg:9b2b12ebfa7745b6814873b7c1cef76b       2020-10-01     2020-11-01   \n",
       "\n",
       "   raw_visit_counts  raw_visitor_counts       poi_cbg  \\\n",
       "0                 7                   7  4.210100e+11   \n",
       "1               168                  96  4.210103e+11   \n",
       "2                75                  47  4.210102e+11   \n",
       "3               322                 234  4.210103e+11   \n",
       "4                93                  46  4.210102e+11   \n",
       "\n",
       "                            top_category  total_visits  total_devices_seen  \\\n",
       "0       Electronics and Appliance Stores    1690871858           549983886   \n",
       "1    Restaurants and Other Eating Places    1690871858           549983886   \n",
       "2                Child Day Care Services    1690871858           549983886   \n",
       "3  Drinking Places (Alcoholic Beverages)    1690871858           549983886   \n",
       "4    Restaurants and Other Eating Places    1690871858           549983886   \n",
       "\n",
       "   visit_count_norm  visitor_count_norm  \n",
       "0          0.004140            0.012728  \n",
       "1          0.099357            0.174551  \n",
       "2          0.044356            0.085457  \n",
       "3          0.190434            0.425467  \n",
       "4          0.055001            0.083639  "
      ]
     },
     "execution_count": 34,
     "metadata": {},
     "output_type": "execute_result"
    }
   ],
   "source": [
    "philly_patterns.head()"
   ]
  },
  {
   "cell_type": "markdown",
   "metadata": {},
   "source": [
    "#### Tests"
   ]
  },
  {
   "cell_type": "code",
   "execution_count": 35,
   "metadata": {},
   "outputs": [
    {
     "data": {
      "text/plain": [
       "Restaurants and Other Eating Places                     77301\n",
       "Religious Organizations                                 20480\n",
       "Child Day Care Services                                 19859\n",
       "Grocery Stores                                          17955\n",
       "Personal Care Services                                  13427\n",
       "Other Amusement and Recreation Industries               13152\n",
       "Automotive Repair and Maintenance                       12888\n",
       "Elementary and Secondary Schools                        11240\n",
       "Offices of Physicians                                   10886\n",
       "Health and Personal Care Stores                         10831\n",
       "Drinking Places (Alcoholic Beverages)                    9129\n",
       "Museums, Historical Sites, and Similar Institutions      9089\n",
       "Clothing Stores                                          6968\n",
       "Offices of Dentists                                      6753\n",
       "Offices of Other Health Practitioners                    6082\n",
       "Sporting Goods, Hobby, and Musical Instrument Stores     5000\n",
       "Gasoline Stations                                        4865\n",
       "Other Miscellaneous Store Retailers                      4133\n",
       "Depository Credit Intermediation                         3964\n",
       "Automotive Parts, Accessories, and Tire Stores           3828\n",
       "Name: top_category, dtype: int64"
      ]
     },
     "execution_count": 35,
     "metadata": {},
     "output_type": "execute_result"
    }
   ],
   "source": [
    "philly_patterns.top_category.value_counts().head(n=20)"
   ]
  },
  {
   "cell_type": "markdown",
   "metadata": {},
   "source": [
    "Let's check restaurants:"
   ]
  },
  {
   "cell_type": "code",
   "execution_count": 36,
   "metadata": {},
   "outputs": [],
   "source": [
    "restaurants = philly_patterns.query(\n",
    "    \"top_category == 'Restaurants and Other Eating Places'\"\n",
    ")"
   ]
  },
  {
   "cell_type": "code",
   "execution_count": 37,
   "metadata": {},
   "outputs": [
    {
     "data": {
      "text/plain": [
       "<AxesSubplot:xlabel='date_range_start'>"
      ]
     },
     "execution_count": 37,
     "metadata": {},
     "output_type": "execute_result"
    },
    {
     "data": {
      "image/png": "[encoded data removed]",
      "text/plain": [
       "<Figure size 432x288 with 1 Axes>"
      ]
     },
     "metadata": {
      "needs_background": "light"
     },
     "output_type": "display_data"
    }
   ],
   "source": [
    "X = restaurants.groupby(\"date_range_start\")[\"visitor_count_norm\"].mean()\n",
    "\n",
    "# Normalize by Jan 2019 (could also do Jan 2020)\n",
    "(X / X.iloc[0]).plot()"
   ]
  },
  {
   "cell_type": "code",
   "execution_count": 38,
   "metadata": {},
   "outputs": [
    {
     "data": {
      "text/plain": [
       "<AxesSubplot:xlabel='date_range_start'>"
      ]
     },
     "execution_count": 38,
     "metadata": {},
     "output_type": "execute_result"
    },
    {
     "data": {
      "image/png": "[encoded data removed]",
      "text/plain": [
       "<Figure size 432x288 with 1 Axes>"
      ]
     },
     "metadata": {
      "needs_background": "light"
     },
     "output_type": "display_data"
    }
   ],
   "source": [
    "X = restaurants.groupby(\"date_range_start\")[\"visit_count_norm\"].mean()\n",
    "\n",
    "# Normalize by Jan 2019 (could also do Jan 2020)\n",
    "(X / X.iloc[0]).plot()"
   ]
  },
  {
   "cell_type": "markdown",
   "metadata": {},
   "source": [
    "Let's check grocery stores:"
   ]
  },
  {
   "cell_type": "code",
   "execution_count": 39,
   "metadata": {},
   "outputs": [],
   "source": [
    "grocery_stores = philly_patterns.query(\"top_category == 'Grocery Stores'\")"
   ]
  },
  {
   "cell_type": "code",
   "execution_count": 40,
   "metadata": {},
   "outputs": [
    {
     "data": {
      "text/plain": [
       "<AxesSubplot:xlabel='date_range_start'>"
      ]
     },
     "execution_count": 40,
     "metadata": {},
     "output_type": "execute_result"
    },
    {
     "data": {
      "image/png": "[encoded data removed]",
      "text/plain": [
       "<Figure size 432x288 with 1 Axes>"
      ]
     },
     "metadata": {
      "needs_background": "light"
     },
     "output_type": "display_data"
    }
   ],
   "source": [
    "X = grocery_stores.groupby(\"date_range_start\")[\"visitor_count_norm\"].mean()\n",
    "\n",
    "# Normalize by Jan 2019 (could also do Jan 2020)\n",
    "(X / X.iloc[0]).plot()"
   ]
  },
  {
   "cell_type": "markdown",
   "metadata": {},
   "source": [
    "**Note: \"visit_count_norm\" seems weird!**"
   ]
  },
  {
   "cell_type": "code",
   "execution_count": 41,
   "metadata": {},
   "outputs": [
    {
     "data": {
      "text/plain": [
       "<AxesSubplot:xlabel='date_range_start'>"
      ]
     },
     "execution_count": 41,
     "metadata": {},
     "output_type": "execute_result"
    },
    {
     "data": {
      "image/png": "[encoded data removed]",
      "text/plain": [
       "<Figure size 432x288 with 1 Axes>"
      ]
     },
     "metadata": {
      "needs_background": "light"
     },
     "output_type": "display_data"
    }
   ],
   "source": [
    "X = grocery_stores.groupby(\"date_range_start\")[\"visit_count_norm\"].mean()\n",
    "\n",
    "# Normalize by Jan 2019 (could also do Jan 2020)\n",
    "(X / X.iloc[0]).plot()"
   ]
  },
  {
   "cell_type": "markdown",
   "metadata": {},
   "source": [
    "#### Analysis"
   ]
  },
  {
   "cell_type": "code",
   "execution_count": 42,
   "metadata": {},
   "outputs": [],
   "source": [
    "mask = philly_patterns['date_range_start'] < '2020-03-01' \n",
    "prepandemic = philly_patterns.loc[mask].copy()\n",
    "pandemic = philly_patterns.loc[~mask].copy()"
   ]
  },
  {
   "cell_type": "code",
   "execution_count": 43,
   "metadata": {},
   "outputs": [
    {
     "data": {
      "text/plain": [
       "array(['2019-03-01T00:00:00.000000000', '2019-04-01T00:00:00.000000000',\n",
       "       '2019-05-01T00:00:00.000000000', '2019-02-01T00:00:00.000000000',\n",
       "       '2019-11-01T00:00:00.000000000', '2019-10-01T00:00:00.000000000',\n",
       "       '2019-07-01T00:00:00.000000000', '2019-09-01T00:00:00.000000000',\n",
       "       '2019-08-01T00:00:00.000000000', '2019-01-01T00:00:00.000000000',\n",
       "       '2019-06-01T00:00:00.000000000', '2019-12-01T00:00:00.000000000',\n",
       "       '2020-02-01T00:00:00.000000000', '2020-01-01T00:00:00.000000000'],\n",
       "      dtype='datetime64[ns]')"
      ]
     },
     "execution_count": 43,
     "metadata": {},
     "output_type": "execute_result"
    }
   ],
   "source": [
    "prepandemic.date_range_start.unique()"
   ]
  },
  {
   "cell_type": "code",
   "execution_count": 44,
   "metadata": {},
   "outputs": [],
   "source": [
    "from sklearn.cluster import KMeans\n",
    "from sklearn.preprocessing import StandardScaler\n"
   ]
  },
  {
   "cell_type": "code",
   "execution_count": 45,
   "metadata": {},
   "outputs": [],
   "source": [
    "def cut_outliers(df, cols):\n",
    "    for col in cols:\n",
    "        ub = 2*df[col].quantile(0.99)\n",
    "        mask = df[col] > ub\n",
    "        df.loc[mask,col] = ub\n",
    "    return df\n",
    "\n",
    "def make_dummies(df, cols):\n",
    "    return pd.get_dummies(df)\n",
    "    \n",
    "\n",
    "def Stdrshp(df, pivot_cols, constant_cols): \n",
    "    constant = df.loc[\n",
    "        df.groupby('safegraph_place_id').cumcount() == 0,\n",
    "        ['safegraph_place_id']+constant_cols\n",
    "    ]\n",
    "    constant.set_index('safegraph_place_id', inplace = True)\n",
    "    #constant = make_dummies(constant, pivot_cols)\n",
    "    pivoted = df.pivot_table(index='safegraph_place_id',columns='date_range_start')[pivot_cols]\n",
    "    new_cols = [('{1} {0}'.format(*tup)) for tup in pivoted.columns]\n",
    "    pivoted.columns = new_cols\n",
    "    df = pivoted.join(constant)\n",
    "    df = df.fillna(0)\n",
    "    scaled = StandardScaler().fit_transform(df)\n",
    "    scaled_features_df = pd.DataFrame(scaled, index=df.index, columns=df.columns)\n",
    "    return scaled_features_df\n",
    "\n",
    "def make_clusters(df, k = 5):\n",
    "    kmeans = KMeans(n_clusters=k, n_init=50).fit(df) # NH NOTE: USE HIGHER N_INIT TO AVOID RANDOMNESS\n",
    "    df['cluster'] = kmeans.labels_\n",
    "    return (df, kmeans.inertia_)\n",
    "\n",
    "def run_Kmeans(df, pivot_cols, constant_cols, k = 5):\n",
    "    normalized = Stdrshp(cut_outliers(df, pivot_cols), pivot_cols, constant_cols)\n",
    "    return make_clusters(normalized, k)"
   ]
  },
  {
   "cell_type": "code",
   "execution_count": 46,
   "metadata": {},
   "outputs": [],
   "source": [
    "pivot_cols = [\"visitor_count_norm\"] ## NH NOTE: try using visitor_count_norm only\n",
    "constant_cols = []  #'B19013e1','income_missing']"
   ]
  },
  {
   "cell_type": "code",
   "execution_count": 47,
   "metadata": {},
   "outputs": [],
   "source": [
    "import matplotlib.pyplot as plt"
   ]
  },
  {
   "cell_type": "code",
   "execution_count": 48,
   "metadata": {},
   "outputs": [
    {
     "name": "stdout",
     "output_type": "stream",
     "text": [
      "3\n",
      "4\n",
      "5\n",
      "6\n",
      "7\n",
      "8\n",
      "9\n",
      "10\n",
      "11\n",
      "12\n",
      "13\n",
      "14\n",
      "15\n",
      "16\n",
      "17\n",
      "18\n",
      "19\n",
      "20\n",
      "21\n",
      "22\n",
      "23\n",
      "24\n",
      "25\n",
      "26\n",
      "27\n",
      "28\n",
      "29\n",
      "30\n",
      "31\n",
      "32\n",
      "33\n",
      "34\n",
      "35\n",
      "36\n",
      "37\n",
      "38\n",
      "39\n"
     ]
    },
    {
     "data": {
      "text/plain": [
       "[<matplotlib.lines.Line2D at 0x1526a4710>]"
      ]
     },
     "execution_count": 48,
     "metadata": {},
     "output_type": "execute_result"
    },
    {
     "data": {
      "image/png": "[encoded data removed]",
      "text/plain": [
       "<Figure size 432x288 with 1 Axes>"
      ]
     },
     "metadata": {
      "needs_background": "light"
     },
     "output_type": "display_data"
    }
   ],
   "source": [
    "scaled = Stdrshp(philly_patterns, pivot_cols, constant_cols)\n",
    "n_clusters = [k for k in range(3,40)]\n",
    "inertias = []\n",
    "for k in n_clusters:\n",
    "    print(k)\n",
    "    df, inertia = make_clusters(scaled, k = k)\n",
    "    inertias.append(inertia)\n",
    "    \n",
    "plt.plot(n_clusters,inertias)"
   ]
  },
  {
   "cell_type": "code",
   "execution_count": 50,
   "metadata": {},
   "outputs": [],
   "source": [
    "from kneed import KneeLocator"
   ]
  },
  {
   "cell_type": "code",
   "execution_count": 51,
   "metadata": {},
   "outputs": [],
   "source": [
    "# Initialize the knee algorithm\n",
    "kn = KneeLocator(n_clusters, inertias, curve='convex', direction='decreasing')"
   ]
  },
  {
   "cell_type": "code",
   "execution_count": 52,
   "metadata": {},
   "outputs": [
    {
     "data": {
      "text/plain": [
       "11"
      ]
     },
     "execution_count": 52,
     "metadata": {},
     "output_type": "execute_result"
    }
   ],
   "source": [
    "OPTIMAL_CLUSTERS = kn.knee\n",
    "OPTIMAL_CLUSTERS"
   ]
  },
  {
   "cell_type": "code",
   "execution_count": 53,
   "metadata": {},
   "outputs": [],
   "source": [
    "philly_patterns_clustered, pandemic_inertia = run_Kmeans(\n",
    "    philly_patterns, pivot_cols, constant_cols, k=OPTIMAL_CLUSTERS\n",
    ")"
   ]
  },
  {
   "cell_type": "code",
   "execution_count": 54,
   "metadata": {},
   "outputs": [],
   "source": [
    "# prepandemic, prepandemic_inertia = run_Kmeans(\n",
    "#     prepandemic, pivot_cols, constant_cols, k=OPTIMAL_CLUSTERS\n",
    "# )\n",
    "# pandemic, pandemic_inertia = run_Kmeans(\n",
    "#     philly_patterns, pivot_cols, constant_cols, k=OPTIMAL_CLUSTERS\n",
    "# )"
   ]
  },
  {
   "cell_type": "code",
   "execution_count": 55,
   "metadata": {},
   "outputs": [],
   "source": [
    "combined = philly_patterns_clustered.copy()"
   ]
  },
  {
   "cell_type": "code",
   "execution_count": 64,
   "metadata": {},
   "outputs": [],
   "source": [
    "combined[['cluster']].to_csv(DATA_DIR / 'processed' / 'sg_clusters.csv', index = True)"
   ]
  },
  {
   "cell_type": "code",
   "execution_count": 56,
   "metadata": {},
   "outputs": [],
   "source": [
    "# # We want to compare pandemic_inertia to the inertia we would have in 2020 if we used the\n",
    "# # 2019 clustering\n",
    "# combined = pandemic.join(prepandemic[['cluster']], how='left',rsuffix='pre')\n",
    "# combined[['clusterpre']] = combined[['clusterpre']].fillna(value=-1)\n",
    "# combined['clusterpre'] = combined['clusterpre'].astype(int)"
   ]
  },
  {
   "cell_type": "code",
   "execution_count": 57,
   "metadata": {},
   "outputs": [],
   "source": [
    "cols = combined.columns\n",
    "cols = cols[:-2]\n",
    "n = len(combined.columns)"
   ]
  },
  {
   "cell_type": "code",
   "execution_count": 58,
   "metadata": {},
   "outputs": [
    {
     "data": {
      "text/plain": [
       "68346.84202125955"
      ]
     },
     "execution_count": 58,
     "metadata": {},
     "output_type": "execute_result"
    }
   ],
   "source": [
    "def get_inertia(df, cols, cluster_col):\n",
    "    mask = df[cluster_col] > -1\n",
    "    n = len(df.index)\n",
    "    filtered = df[mask]\n",
    "    m = len(filtered.index)\n",
    "    se = ((df[cols] - df.groupby(cluster_col)[cols].transform('mean'))**2).to_numpy().sum()\n",
    "    return se*(n/m)\n",
    "\n",
    "get_inertia(combined, cols, 'cluster')"
   ]
  },
  {
   "cell_type": "code",
   "execution_count": 59,
   "metadata": {},
   "outputs": [
    {
     "data": {
      "text/plain": [
       "412587.0"
      ]
     },
     "execution_count": 59,
     "metadata": {},
     "output_type": "execute_result"
    }
   ],
   "source": [
    "#worst case scenario\n",
    "combined['newcol'] = 1\n",
    "get_inertia(combined, cols, 'newcol')"
   ]
  },
  {
   "cell_type": "code",
   "execution_count": 492,
   "metadata": {},
   "outputs": [
    {
     "data": {
      "text/plain": [
       "cluster\n",
       "0     10650\n",
       "1       178\n",
       "2      5633\n",
       "3        56\n",
       "4       199\n",
       "5      2297\n",
       "6       566\n",
       "7       505\n",
       "8        53\n",
       "9        62\n",
       "10       16\n",
       "dtype: int64"
      ]
     },
     "execution_count": 492,
     "metadata": {},
     "output_type": "execute_result"
    }
   ],
   "source": [
    "combined.groupby('cluster').size()"
   ]
  },
  {
   "cell_type": "code",
   "execution_count": 493,
   "metadata": {},
   "outputs": [],
   "source": [
    "# combined.groupby('clusterpre').size()"
   ]
  },
  {
   "cell_type": "markdown",
   "metadata": {},
   "source": [
    "**NH**: Plot the mean value over time by cluster"
   ]
  },
  {
   "cell_type": "code",
   "execution_count": 60,
   "metadata": {},
   "outputs": [
    {
     "data": {
      "image/png": "[encoded data removed]",
      "text/plain": [
       "<Figure size 432x288 with 1 Axes>"
      ]
     },
     "metadata": {
      "needs_background": "light"
     },
     "output_type": "display_data"
    }
   ],
   "source": [
    "fig, ax = plt.subplots()\n",
    "for cluster_num in combined['cluster'].unique():\n",
    "    cluster = combined.query(f\"cluster == {cluster_num}\")\n",
    "    cluster[cluster.columns[:-6]].T.mean(axis=1).plot(ax=ax, legend=False)"
   ]
  },
  {
   "cell_type": "markdown",
   "metadata": {},
   "source": [
    "**NH:** seems like it sort of worked in terms of differentiating both by overall foot traffic and the shape of the traffic over time"
   ]
  },
  {
   "cell_type": "code",
   "execution_count": null,
   "metadata": {},
   "outputs": [],
   "source": []
  },
  {
   "cell_type": "code",
   "execution_count": 312,
   "metadata": {},
   "outputs": [],
   "source": [
    "big_cats = philly_patterns.groupby('top_category').size().sort_values(ascending = False)[:5]"
   ]
  },
  {
   "cell_type": "code",
   "execution_count": 313,
   "metadata": {},
   "outputs": [],
   "source": [
    "big_cats = big_cats.index"
   ]
  },
  {
   "cell_type": "code",
   "execution_count": 314,
   "metadata": {},
   "outputs": [],
   "source": [
    "def category_groups(x):\n",
    "    if x in big_cats: \n",
    "        return x \n",
    "    else: \n",
    "        return 'other'"
   ]
  },
  {
   "cell_type": "code",
   "execution_count": 315,
   "metadata": {},
   "outputs": [],
   "source": [
    "philly_patterns['top_category_simple'] = philly_patterns.top_category.apply(category_groups)"
   ]
  },
  {
   "cell_type": "code",
   "execution_count": 316,
   "metadata": {},
   "outputs": [
    {
     "data": {
      "text/plain": [
       "array(['Grocery Stores', 'other', 'Restaurants and Other Eating Places',\n",
       "       'Child Day Care Services', 'Personal Care Services',\n",
       "       'Religious Organizations'], dtype=object)"
      ]
     },
     "execution_count": 316,
     "metadata": {},
     "output_type": "execute_result"
    }
   ],
   "source": [
    "philly_patterns['top_category_simple'].unique()"
   ]
  },
  {
   "cell_type": "code",
   "execution_count": 324,
   "metadata": {},
   "outputs": [],
   "source": [
    "mask = philly_patterns['date_range_start'] < '2020-03-01' \n",
    "cats = philly_patterns.loc[~mask,].copy()\n",
    "cats = cats.loc[\n",
    "        cats.groupby('safegraph_place_id').cumcount() == 0,\n",
    "        ['safegraph_place_id', 'top_category_simple']\n",
    "    ]"
   ]
  },
  {
   "cell_type": "code",
   "execution_count": 325,
   "metadata": {},
   "outputs": [],
   "source": [
    "# combined.drop(columns = 'top_category_simple', inplace = True)"
   ]
  },
  {
   "cell_type": "code",
   "execution_count": 326,
   "metadata": {},
   "outputs": [],
   "source": [
    "combined = combined.join(cats.set_index('safegraph_place_id'), how = 'left')"
   ]
  },
  {
   "cell_type": "code",
   "execution_count": 327,
   "metadata": {},
   "outputs": [
    {
     "data": {
      "text/html": [
       "<div>\n",
       "<style scoped>\n",
       "    .dataframe tbody tr th:only-of-type {\n",
       "        vertical-align: middle;\n",
       "    }\n",
       "\n",
       "    .dataframe tbody tr th {\n",
       "        vertical-align: top;\n",
       "    }\n",
       "\n",
       "    .dataframe thead th {\n",
       "        text-align: right;\n",
       "    }\n",
       "</style>\n",
       "<table border=\"1\" class=\"dataframe\">\n",
       "  <thead>\n",
       "    <tr style=\"text-align: right;\">\n",
       "      <th>top_category_simple</th>\n",
       "      <th>Child Day Care Services</th>\n",
       "      <th>Grocery Stores</th>\n",
       "      <th>Personal Care Services</th>\n",
       "      <th>Religious Organizations</th>\n",
       "      <th>Restaurants and Other Eating Places</th>\n",
       "      <th>other</th>\n",
       "    </tr>\n",
       "    <tr>\n",
       "      <th>cluster</th>\n",
       "      <th></th>\n",
       "      <th></th>\n",
       "      <th></th>\n",
       "      <th></th>\n",
       "      <th></th>\n",
       "      <th></th>\n",
       "    </tr>\n",
       "  </thead>\n",
       "  <tbody>\n",
       "    <tr>\n",
       "      <th>0</th>\n",
       "      <td>22</td>\n",
       "      <td>107</td>\n",
       "      <td>5</td>\n",
       "      <td>22</td>\n",
       "      <td>554</td>\n",
       "      <td>852</td>\n",
       "    </tr>\n",
       "    <tr>\n",
       "      <th>1</th>\n",
       "      <td>0</td>\n",
       "      <td>34</td>\n",
       "      <td>0</td>\n",
       "      <td>1</td>\n",
       "      <td>106</td>\n",
       "      <td>168</td>\n",
       "    </tr>\n",
       "    <tr>\n",
       "      <th>2</th>\n",
       "      <td>0</td>\n",
       "      <td>1</td>\n",
       "      <td>0</td>\n",
       "      <td>0</td>\n",
       "      <td>0</td>\n",
       "      <td>55</td>\n",
       "    </tr>\n",
       "    <tr>\n",
       "      <th>3</th>\n",
       "      <td>520</td>\n",
       "      <td>171</td>\n",
       "      <td>687</td>\n",
       "      <td>1300</td>\n",
       "      <td>556</td>\n",
       "      <td>5455</td>\n",
       "    </tr>\n",
       "    <tr>\n",
       "      <th>4</th>\n",
       "      <td>0</td>\n",
       "      <td>24</td>\n",
       "      <td>0</td>\n",
       "      <td>0</td>\n",
       "      <td>32</td>\n",
       "      <td>70</td>\n",
       "    </tr>\n",
       "    <tr>\n",
       "      <th>5</th>\n",
       "      <td>0</td>\n",
       "      <td>36</td>\n",
       "      <td>2</td>\n",
       "      <td>4</td>\n",
       "      <td>241</td>\n",
       "      <td>385</td>\n",
       "    </tr>\n",
       "    <tr>\n",
       "      <th>6</th>\n",
       "      <td>1</td>\n",
       "      <td>0</td>\n",
       "      <td>0</td>\n",
       "      <td>0</td>\n",
       "      <td>1</td>\n",
       "      <td>18</td>\n",
       "    </tr>\n",
       "    <tr>\n",
       "      <th>7</th>\n",
       "      <td>88</td>\n",
       "      <td>263</td>\n",
       "      <td>33</td>\n",
       "      <td>136</td>\n",
       "      <td>1039</td>\n",
       "      <td>1587</td>\n",
       "    </tr>\n",
       "    <tr>\n",
       "      <th>8</th>\n",
       "      <td>0</td>\n",
       "      <td>14</td>\n",
       "      <td>0</td>\n",
       "      <td>0</td>\n",
       "      <td>4</td>\n",
       "      <td>44</td>\n",
       "    </tr>\n",
       "    <tr>\n",
       "      <th>9</th>\n",
       "      <td>248</td>\n",
       "      <td>219</td>\n",
       "      <td>132</td>\n",
       "      <td>565</td>\n",
       "      <td>1169</td>\n",
       "      <td>2785</td>\n",
       "    </tr>\n",
       "  </tbody>\n",
       "</table>\n",
       "</div>"
      ],
      "text/plain": [
       "top_category_simple  Child Day Care Services  Grocery Stores  \\\n",
       "cluster                                                        \n",
       "0                                         22             107   \n",
       "1                                          0              34   \n",
       "2                                          0               1   \n",
       "3                                        520             171   \n",
       "4                                          0              24   \n",
       "5                                          0              36   \n",
       "6                                          1               0   \n",
       "7                                         88             263   \n",
       "8                                          0              14   \n",
       "9                                        248             219   \n",
       "\n",
       "top_category_simple  Personal Care Services  Religious Organizations  \\\n",
       "cluster                                                                \n",
       "0                                         5                       22   \n",
       "1                                         0                        1   \n",
       "2                                         0                        0   \n",
       "3                                       687                     1300   \n",
       "4                                         0                        0   \n",
       "5                                         2                        4   \n",
       "6                                         0                        0   \n",
       "7                                        33                      136   \n",
       "8                                         0                        0   \n",
       "9                                       132                      565   \n",
       "\n",
       "top_category_simple  Restaurants and Other Eating Places  other  \n",
       "cluster                                                          \n",
       "0                                                    554    852  \n",
       "1                                                    106    168  \n",
       "2                                                      0     55  \n",
       "3                                                    556   5455  \n",
       "4                                                     32     70  \n",
       "5                                                    241    385  \n",
       "6                                                      1     18  \n",
       "7                                                   1039   1587  \n",
       "8                                                      4     44  \n",
       "9                                                   1169   2785  "
      ]
     },
     "execution_count": 327,
     "metadata": {},
     "output_type": "execute_result"
    }
   ],
   "source": [
    "pd.crosstab(combined.cluster, combined.top_category_simple, dropna=False)"
   ]
  },
  {
   "cell_type": "code",
   "execution_count": 148,
   "metadata": {},
   "outputs": [
    {
     "data": {
      "text/plain": [
       "20352"
      ]
     },
     "execution_count": 148,
     "metadata": {},
     "output_type": "execute_result"
    }
   ],
   "source": [
    "len(combined)"
   ]
  },
  {
   "cell_type": "code",
   "execution_count": null,
   "metadata": {},
   "outputs": [],
   "source": []
  }
 ],
 "metadata": {
  "kernelspec": {
   "display_name": "Python 3",
   "language": "python",
   "name": "python3"
  },
  "language_info": {
   "codemirror_mode": {
    "name": "ipython",
    "version": 3
   },
   "file_extension": ".py",
   "mimetype": "text/x-python",
   "name": "python",
   "nbconvert_exporter": "python",
   "pygments_lexer": "ipython3",
   "version": "3.7.9"
  }
 },
 "nbformat": 4,
 "nbformat_minor": 4
}
