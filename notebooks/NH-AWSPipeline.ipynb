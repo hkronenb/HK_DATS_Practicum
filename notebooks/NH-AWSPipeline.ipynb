{
 "cells": [
  {
   "cell_type": "markdown",
   "metadata": {},
   "source": [
    "## AWS Pipeline\n",
    "This notebook reads in all the files in the Safegraph S3 bucket into the local raw data folder."
   ]
  },
  {
   "cell_type": "code",
   "execution_count": 15,
   "metadata": {},
   "outputs": [],
   "source": [
    "import os, sys\n",
    "from dotenv import load_dotenv, find_dotenv\n",
    "import boto3\n",
    "from pathlib import Path\n",
    "from loguru import logger\n",
    "from datetime import datetime, timezone\n",
    "import tempfile\n",
    "\n",
    "from src import DATA_DIR"
   ]
  },
  {
   "cell_type": "code",
   "execution_count": 9,
   "metadata": {},
   "outputs": [],
   "source": [
    "# find .env automagically by walking up directories until it's found\n",
    "dotenv_path = find_dotenv()\n",
    "\n",
    "# load up the entries as environment variables\n",
    "load_dotenv(dotenv_path)\n",
    "\n",
    "aws_access_key = os.environ.get(\"AWS_ACCESS_KEY\")\n",
    "aws_secret_access_key = os.environ.get(\"AWS_SECRET_ACCESS_KEY\")\n",
    "aws_bucket = os.environ.get(\"AWS_BUCKET\")"
   ]
  },
  {
   "cell_type": "code",
   "execution_count": 10,
   "metadata": {},
   "outputs": [],
   "source": [
    "# Initialize the session with authentication\n",
    "session = boto3.Session(\n",
    "    aws_access_key_id=aws_access_key,\n",
    "    aws_secret_access_key=aws_secret_access_key,\n",
    ")\n",
    "\n",
    "s3_client = session.client(\"s3\", endpoint_url=\"https://s3.wasabisys.com\")"
   ]
  },
  {
   "cell_type": "code",
   "execution_count": 17,
   "metadata": {},
   "outputs": [],
   "source": [
    "PATTERNS_DIR = \"monthly-patterns-2020-12\""
   ]
  },
  {
   "cell_type": "code",
   "execution_count": 28,
   "metadata": {},
   "outputs": [],
   "source": [
    "AWS_FOLDERS = (\n",
    "    \"core-places-delivery/\",\n",
    "    f\"{PATTERNS_DIR}/normalization_stats/\",\n",
    "    f\"{PATTERNS_DIR}/normalization_stats_backfill/2020/12/13/04/2019/\",\n",
    "    f\"{PATTERNS_DIR}/normalization_stats_backfill/2020/12/13/04/2020/\",\n",
    "    f\"{PATTERNS_DIR}/patterns/\",\n",
    "    f\"{PATTERNS_DIR}/patterns_backfill/2020/12/13/04/2019/\",\n",
    "    f\"{PATTERNS_DIR}/patterns_backfill/2020/12/13/04/2020/\",\n",
    ")"
   ]
  },
  {
   "cell_type": "code",
   "execution_count": 29,
   "metadata": {},
   "outputs": [],
   "source": [
    "def get_aws_files(folder):\n",
    "    \"\"\"Return the files in the s3 buckets as an iterator.\"\"\"\n",
    "\n",
    "    objects = s3_client.list_objects_v2(Bucket=aws_bucket, Prefix=folder)\n",
    "    for response in objects[\"Contents\"]:\n",
    "        yield response"
   ]
  },
  {
   "cell_type": "code",
   "execution_count": 30,
   "metadata": {},
   "outputs": [],
   "source": [
    "def download_with_progress_bar(local_path, remote_path):\n",
    "    \"\"\"Download a file from AWS and display a simple progress bar\"\"\"\n",
    "\n",
    "    meta_data = s3_client.head_object(Bucket=aws_bucket, Key=remote_path)\n",
    "    total_length = int(meta_data.get(\"ContentLength\", 0))\n",
    "    downloaded = 0\n",
    "\n",
    "    def progress(chunk):\n",
    "        nonlocal downloaded\n",
    "        downloaded += chunk\n",
    "        done = int(50 * downloaded / total_length)\n",
    "        sys.stdout.write(\"\\r[%s%s]\" % (\"=\" * done, \" \" * (50 - done)))\n",
    "        sys.stdout.flush()\n",
    "\n",
    "    with open(local_path, \"wb\") as f:\n",
    "        s3_client.download_fileobj(aws_bucket, remote_path, f, Callback=progress)"
   ]
  },
  {
   "cell_type": "code",
   "execution_count": 32,
   "metadata": {},
   "outputs": [],
   "source": [
    "# Loop over each AWS folder we want to download\n",
    "for aws_folder in AWS_FOLDERS:\n",
    "\n",
    "    # Walk the AWS folder structure\n",
    "    for response in get_aws_files(aws_folder):\n",
    "\n",
    "        # Setup paths\n",
    "        aws_path = Path(response[\"Key\"])\n",
    "        local_path = DATA_DIR / \"raw\" / aws_path\n",
    "\n",
    "        # Download the new file if it doesn't exist or is out of date\n",
    "        if (\n",
    "            not local_path.exists()\n",
    "            or datetime.utcfromtimestamp(local_path.stat().st_mtime).replace(\n",
    "                tzinfo=timezone.utc\n",
    "            )\n",
    "            < response[\"LastModified\"]\n",
    "        ):\n",
    "\n",
    "            # Log it\n",
    "            logger.info(f\"Processing {aws_path.name} from AWS...\")\n",
    "\n",
    "            # Setup local path\n",
    "            if not local_path.parent.exists():\n",
    "                local_path.parent.mkdir(parents=True)\n",
    "\n",
    "            # Download\n",
    "            download_with_progress_bar(str(local_path), str(aws_path))"
   ]
  },
  {
   "cell_type": "code",
   "execution_count": null,
   "metadata": {},
   "outputs": [],
   "source": [
    "aw"
   ]
  }
 ],
 "metadata": {
  "kernelspec": {
   "display_name": "Python 3",
   "language": "python",
   "name": "python3"
  },
  "language_info": {
   "codemirror_mode": {
    "name": "ipython",
    "version": 3
   },
   "file_extension": ".py",
   "mimetype": "text/x-python",
   "name": "python",
   "nbconvert_exporter": "python",
   "pygments_lexer": "ipython3",
   "version": "3.7.9"
  }
 },
 "nbformat": 4,
 "nbformat_minor": 4
}
