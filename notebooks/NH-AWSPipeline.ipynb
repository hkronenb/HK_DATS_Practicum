{
 "cells": [
  {
   "cell_type": "markdown",
   "metadata": {},
   "source": [
    "## AWS Pipeline\n",
    "This notebook reads in all the files in the Safegraph S3 bucket into the local raw data folder."
   ]
  },
  {
   "cell_type": "code",
   "execution_count": 10,
   "metadata": {},
   "outputs": [],
   "source": [
    "import os, sys\n",
    "from dotenv import load_dotenv, find_dotenv\n",
    "import boto3\n",
    "from pathlib import Path\n",
    "from loguru import logger\n",
    "import datetime\n",
    "import tempfile"
   ]
  },
  {
   "cell_type": "code",
   "execution_count": 11,
   "metadata": {},
   "outputs": [],
   "source": [
    "# find .env automagically by walking up directories until it's found\n",
    "dotenv_path = find_dotenv()\n",
    "\n",
    "# load up the entries as environment variables\n",
    "load_dotenv(dotenv_path)\n",
    "\n",
    "aws_access_key = os.environ.get(\"AWS_ACCESS_KEY\")\n",
    "aws_secret_access_key = os.environ.get(\"AWS_SECRET_ACCESS_KEY\")\n",
    "aws_bucket = os.environ.get(\"AWS_BUCKET\")\n",
    "\n",
    "os.chdir(os.environ.get(\"ROOT_DIR\"))\n",
    "from src import DATA_DIR\n",
    "raw_data_dir = DATA_DIR / 'raw'"
   ]
  },
  {
   "cell_type": "code",
   "execution_count": 12,
   "metadata": {},
   "outputs": [],
   "source": [
    "# Initialize the session with authentication\n",
    "session = boto3.Session(\n",
    "    aws_access_key_id=aws_access_key,\n",
    "    aws_secret_access_key=aws_secret_access_key,\n",
    ")\n",
    "\n",
    "s3_client = session.client(\"s3\", endpoint_url=\"https://s3.wasabisys.com\")"
   ]
  },
  {
   "cell_type": "code",
   "execution_count": 13,
   "metadata": {},
   "outputs": [],
   "source": [
    "AWS_FOLDERS = (\n",
    "    \"core/\",\n",
    "    \"geo-supplement/\",\n",
    "    \"monthly-patterns/normalization_stats\",\n",
    "    \"monthly-patterns/patterns/\",\n",
    "    \"monthly-patterns/patterns_backfill/2020/05/07/12/2019/\",\n",
    "    \"monthly-patterns/patterns_backfill/2020/05/07/12/2020/\",\n",
    "    \"open-census-data/\",\n",
    ")"
   ]
  },
  {
   "cell_type": "code",
   "execution_count": 14,
   "metadata": {},
   "outputs": [],
   "source": [
    "def get_aws_files(folder):\n",
    "    \"\"\"Return the files in the s3 buckets as an iterator.\"\"\"\n",
    "\n",
    "    objects = s3_client.list_objects_v2(Bucket=aws_bucket, Prefix=folder)\n",
    "    for response in objects[\"Contents\"]:\n",
    "        yield response"
   ]
  },
  {
   "cell_type": "code",
   "execution_count": 15,
   "metadata": {},
   "outputs": [],
   "source": [
    "def download_with_progress_bar(local_path, remote_path):\n",
    "    \"\"\"Download a file from AWS and display a simple progress bar\"\"\"\n",
    "\n",
    "    meta_data = s3_client.head_object(Bucket=aws_bucket, Key=remote_path)\n",
    "    total_length = int(meta_data.get(\"ContentLength\", 0))\n",
    "    downloaded = 0\n",
    "\n",
    "    def progress(chunk):\n",
    "        nonlocal downloaded\n",
    "        downloaded += chunk\n",
    "        done = int(50 * downloaded / total_length)\n",
    "        sys.stdout.write(\"\\r[%s%s]\" % (\"=\" * done, \" \" * (50 - done)))\n",
    "        sys.stdout.flush()\n",
    "\n",
    "    with open(local_path, \"wb\") as f:\n",
    "        s3_client.download_fileobj(aws_bucket, remote_path, f, Callback=progress)"
   ]
  },
  {
   "cell_type": "code",
   "execution_count": 16,
   "metadata": {},
   "outputs": [
    {
     "ename": "NameError",
     "evalue": "name 'timezone' is not defined",
     "output_type": "error",
     "traceback": [
      "\u001b[0;31m---------------------------------------------------------------------------\u001b[0m",
      "\u001b[0;31mNameError\u001b[0m                                 Traceback (most recent call last)",
      "\u001b[0;32m<ipython-input-16-ca1256786719>\u001b[0m in \u001b[0;36m<module>\u001b[0;34m\u001b[0m\n\u001b[1;32m     13\u001b[0m             \u001b[0;32mnot\u001b[0m \u001b[0mlocal_path\u001b[0m\u001b[0;34m.\u001b[0m\u001b[0mexists\u001b[0m\u001b[0;34m(\u001b[0m\u001b[0;34m)\u001b[0m\u001b[0;34m\u001b[0m\u001b[0;34m\u001b[0m\u001b[0m\n\u001b[1;32m     14\u001b[0m             or datetime.datetime.utcfromtimestamp(local_path.stat().st_mtime).replace(\n\u001b[0;32m---> 15\u001b[0;31m                 \u001b[0mtzinfo\u001b[0m\u001b[0;34m=\u001b[0m\u001b[0mtimezone\u001b[0m\u001b[0;34m.\u001b[0m\u001b[0mutc\u001b[0m\u001b[0;34m\u001b[0m\u001b[0;34m\u001b[0m\u001b[0m\n\u001b[0m\u001b[1;32m     16\u001b[0m             )\n\u001b[1;32m     17\u001b[0m             \u001b[0;34m<\u001b[0m \u001b[0mresponse\u001b[0m\u001b[0;34m[\u001b[0m\u001b[0;34m\"LastModified\"\u001b[0m\u001b[0;34m]\u001b[0m\u001b[0;34m\u001b[0m\u001b[0;34m\u001b[0m\u001b[0m\n",
      "\u001b[0;31mNameError\u001b[0m: name 'timezone' is not defined"
     ]
    }
   ],
   "source": [
    "# Loop over each AWS folder we want to download\n",
    "for aws_folder in AWS_FOLDERS:\n",
    "\n",
    "    # Walk the AWS folder structure\n",
    "    for response in get_aws_files(aws_folder):\n",
    "\n",
    "        # Setup paths\n",
    "        aws_path = Path(response[\"Key\"])\n",
    "        local_path = DATA_DIR / \"raw\" / aws_path\n",
    "\n",
    "        # Download the new file if it doesn't exist or is out of date\n",
    "        if (\n",
    "            not local_path.exists()\n",
    "            or datetime.datetime.utcfromtimestamp(local_path.stat().st_mtime).replace(\n",
    "                tzinfo=timezone.utc\n",
    "            )\n",
    "            < response[\"LastModified\"]\n",
    "        ):\n",
    "\n",
    "            # Log it\n",
    "            logger.info(f\"Processing {aws_path.name} from AWS...\")\n",
    "\n",
    "            # Setup local path\n",
    "            if not local_path.parent.exists():\n",
    "                local_path.parent.mkdir(parents=True)\n",
    "\n",
    "            # Download\n",
    "            download_with_progress_bar(str(local_path), str(aws_path))"
   ]
  },
  {
   "cell_type": "code",
   "execution_count": null,
   "metadata": {},
   "outputs": [],
   "source": [
    "aw"
   ]
  }
 ],
 "metadata": {
  "kernelspec": {
   "display_name": "Python 3",
   "language": "python",
   "name": "python3"
  },
  "language_info": {
   "codemirror_mode": {
    "name": "ipython",
    "version": 3
   },
   "file_extension": ".py",
   "mimetype": "text/x-python",
   "name": "python",
   "nbconvert_exporter": "python",
   "pygments_lexer": "ipython3",
   "version": "3.7.9"
  }
 },
 "nbformat": 4,
 "nbformat_minor": 4
}
