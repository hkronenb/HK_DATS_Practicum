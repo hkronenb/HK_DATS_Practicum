{
 "cells": [
  {
   "cell_type": "markdown",
   "metadata": {},
   "source": [
    "## AWS Pipeline\n",
    "This notebook reads in all the files in the Safegraph S3 bucket into the local raw data folder."
   ]
  },
  {
   "cell_type": "code",
   "execution_count": 33,
   "metadata": {},
   "outputs": [],
   "source": [
    "import os, sys\n",
    "from dotenv import load_dotenv, find_dotenv\n",
    "import boto3\n",
    "from pathlib import Path\n",
    "from loguru import logger\n",
    "import datetime\n",
    "import tempfile\n",
    "\n",
    "from src import DATA_DIR"
   ]
  },
  {
   "cell_type": "code",
   "execution_count": 5,
   "metadata": {},
   "outputs": [],
   "source": [
    "# find .env automagically by walking up directories until it's found\n",
    "dotenv_path = find_dotenv()\n",
    "\n",
    "# load up the entries as environment variables\n",
    "load_dotenv(dotenv_path)\n",
    "\n",
    "aws_access_key = os.environ.get(\"AWS_ACCESS_KEY\")\n",
    "aws_secret_access_key = os.environ.get(\"AWS_SECRET_ACCESS_KEY\")\n",
    "aws_bucket = os.environ.get(\"AWS_BUCKET\")"
   ]
  },
  {
   "cell_type": "code",
   "execution_count": 24,
   "metadata": {},
   "outputs": [],
   "source": [
    "# Initialize the session with authentication\n",
    "session = boto3.Session(\n",
    "    aws_access_key_id=aws_access_key,\n",
    "    aws_secret_access_key=aws_secret_access_key,\n",
    ")\n",
    "\n",
    "s3_client = session.client(\"s3\", endpoint_url=\"https://s3.wasabisys.com\")"
   ]
  },
  {
   "cell_type": "code",
   "execution_count": 35,
   "metadata": {},
   "outputs": [],
   "source": [
    "AWS_FOLDERS = (\n",
    "    \"core/\",\n",
    "    \"geo-supplement/\",\n",
    "    \"monthly-patterns/normalization_stats\",\n",
    "    \"monthly-patterns/patterns/\",\n",
    "    \"monthly-patterns/patterns_backfill/2020/05/07/12/2019/\",\n",
    "    \"monthly-patterns/patterns_backfill/2020/05/07/12/2020/\",\n",
    "    \"open-census-data/\",\n",
    ")"
   ]
  },
  {
   "cell_type": "code",
   "execution_count": 36,
   "metadata": {},
   "outputs": [],
   "source": [
    "def get_aws_files(folder):\n",
    "    \"\"\"Return the files in the s3 buckets as an iterator.\"\"\"\n",
    "\n",
    "    objects = s3_client.list_objects_v2(Bucket=aws_bucket, Prefix=folder)\n",
    "    for response in objects[\"Contents\"]:\n",
    "        yield response"
   ]
  },
  {
   "cell_type": "code",
   "execution_count": 37,
   "metadata": {},
   "outputs": [],
   "source": [
    "def download_with_progress_bar(local_path, remote_path):\n",
    "    \"\"\"Download a file from AWS and display a simple progress bar\"\"\"\n",
    "\n",
    "    meta_data = s3_client.head_object(Bucket=aws_bucket, Key=remote_path)\n",
    "    total_length = int(meta_data.get(\"ContentLength\", 0))\n",
    "    downloaded = 0\n",
    "\n",
    "    def progress(chunk):\n",
    "        nonlocal downloaded\n",
    "        downloaded += chunk\n",
    "        done = int(50 * downloaded / total_length)\n",
    "        sys.stdout.write(\"\\r[%s%s]\" % (\"=\" * done, \" \" * (50 - done)))\n",
    "        sys.stdout.flush()\n",
    "\n",
    "    with open(local_path, \"wb\") as f:\n",
    "        s3_client.download_fileobj(aws_bucket, remote_path, f, Callback=progress)"
   ]
  },
  {
   "cell_type": "code",
   "execution_count": 39,
   "metadata": {},
   "outputs": [
    {
     "name": "stderr",
     "output_type": "stream",
     "text": [
      "2021-01-03 18:27:34.918 | INFO     | __main__:<module>:24 - Processing CoreRecords-CORE_POI-2019_03-2020-03-25.zip from AWS...\n"
     ]
    },
    {
     "name": "stdout",
     "output_type": "stream",
     "text": [
      "[==================================================]"
     ]
    },
    {
     "name": "stderr",
     "output_type": "stream",
     "text": [
      "2021-01-03 18:29:33.217 | INFO     | __main__:<module>:24 - Processing CoreApr2020Release-CORE_POI-2020_03-2020-04-07.zip from AWS...\n"
     ]
    },
    {
     "name": "stdout",
     "output_type": "stream",
     "text": [
      "[==================================================]"
     ]
    },
    {
     "name": "stderr",
     "output_type": "stream",
     "text": [
      "2021-01-03 18:32:10.929 | INFO     | __main__:<module>:24 - Processing CorePlacesMay2020Release-CORE_POI-2020_04-2020-05-06.zip from AWS...\n"
     ]
    },
    {
     "name": "stdout",
     "output_type": "stream",
     "text": [
      "[==================================================]"
     ]
    },
    {
     "name": "stderr",
     "output_type": "stream",
     "text": [
      "2021-01-03 18:32:54.940 | INFO     | __main__:<module>:24 - Processing Core-USA-June2020-Release-CORE_POI-2020_05-2020-06-06.zip from AWS...\n"
     ]
    },
    {
     "name": "stdout",
     "output_type": "stream",
     "text": [
      "[==================================================]"
     ]
    },
    {
     "name": "stderr",
     "output_type": "stream",
     "text": [
      "2021-01-03 18:34:13.936 | INFO     | __main__:<module>:24 - Processing Core-USA-July2020-Release-CORE_POI-2020_06-2020-07-13.zip from AWS...\n"
     ]
    },
    {
     "name": "stdout",
     "output_type": "stream",
     "text": [
      "[==================================================]"
     ]
    },
    {
     "name": "stderr",
     "output_type": "stream",
     "text": [
      "2021-01-03 18:35:41.333 | INFO     | __main__:<module>:24 - Processing Core-USA-August2020-Release-CORE_POI-2020_07-2020-08-07.zip from AWS...\n"
     ]
    },
    {
     "name": "stdout",
     "output_type": "stream",
     "text": [
      "[==================================================]"
     ]
    },
    {
     "name": "stderr",
     "output_type": "stream",
     "text": [
      "2021-01-03 18:38:16.126 | INFO     | __main__:<module>:24 - Processing Core-USA-Sep-CORE_POI-2020_08-2020-09-08.zip from AWS...\n"
     ]
    },
    {
     "name": "stdout",
     "output_type": "stream",
     "text": [
      "[==================================================]"
     ]
    },
    {
     "name": "stderr",
     "output_type": "stream",
     "text": [
      "2021-01-03 18:38:51.261 | INFO     | __main__:<module>:24 - Processing Core-USA-Oct-CORE_POI-2020_09-2020-10-19.zip from AWS...\n"
     ]
    },
    {
     "name": "stdout",
     "output_type": "stream",
     "text": [
      "[==================================================]"
     ]
    },
    {
     "name": "stderr",
     "output_type": "stream",
     "text": [
      "2021-01-03 18:40:07.277 | INFO     | __main__:<module>:24 - Processing SafeGraphPlacesGeoSupplementSquareFeet.csv.gz from AWS...\n"
     ]
    },
    {
     "name": "stdout",
     "output_type": "stream",
     "text": [
      "[==================================================]"
     ]
    },
    {
     "name": "stderr",
     "output_type": "stream",
     "text": [
      "2021-01-03 18:40:30.711 | INFO     | __main__:<module>:24 - Processing SafeGraphPlacesGeoSupplementSquareFeet.csv.gz from AWS...\n"
     ]
    },
    {
     "name": "stdout",
     "output_type": "stream",
     "text": [
      "[==================================================]"
     ]
    },
    {
     "name": "stderr",
     "output_type": "stream",
     "text": [
      "2021-01-03 18:40:45.117 | INFO     | __main__:<module>:24 - Processing _started_7712017172765566029 from AWS...\n",
      "2021-01-03 18:40:45.208 | INFO     | __main__:<module>:24 - Processing _started_8279411732923786192 from AWS...\n",
      "2021-01-03 18:40:45.287 | INFO     | __main__:<module>:24 - Processing SafeGraphPlacesGeoSupplementSquareFeet.csv.gz from AWS...\n"
     ]
    },
    {
     "name": "stdout",
     "output_type": "stream",
     "text": [
      "[==================================================]"
     ]
    },
    {
     "name": "stderr",
     "output_type": "stream",
     "text": [
      "2021-01-03 18:41:00.856 | INFO     | __main__:<module>:24 - Processing _SUCCESS from AWS...\n",
      "2021-01-03 18:41:00.989 | INFO     | __main__:<module>:24 - Processing normalization_stats.csv from AWS...\n"
     ]
    },
    {
     "name": "stdout",
     "output_type": "stream",
     "text": [
      "[==================================================]"
     ]
    },
    {
     "name": "stderr",
     "output_type": "stream",
     "text": [
      "2021-01-03 18:41:01.133 | INFO     | __main__:<module>:24 - Processing _SUCCESS from AWS...\n",
      "2021-01-03 18:41:01.226 | INFO     | __main__:<module>:24 - Processing normalization_stats.csv from AWS...\n"
     ]
    },
    {
     "name": "stdout",
     "output_type": "stream",
     "text": [
      "[==================================================]"
     ]
    },
    {
     "name": "stderr",
     "output_type": "stream",
     "text": [
      "2021-01-03 18:41:01.355 | INFO     | __main__:<module>:24 - Processing _SUCCESS from AWS...\n",
      "2021-01-03 18:41:01.625 | INFO     | __main__:<module>:24 - Processing normalization_stats.csv from AWS...\n"
     ]
    },
    {
     "name": "stdout",
     "output_type": "stream",
     "text": [
      "[==================================================]"
     ]
    },
    {
     "name": "stderr",
     "output_type": "stream",
     "text": [
      "2021-01-03 18:41:01.842 | INFO     | __main__:<module>:24 - Processing _SUCCESS from AWS...\n",
      "2021-01-03 18:41:01.936 | INFO     | __main__:<module>:24 - Processing normalization_stats.csv from AWS...\n"
     ]
    },
    {
     "name": "stdout",
     "output_type": "stream",
     "text": [
      "[==================================================]"
     ]
    },
    {
     "name": "stderr",
     "output_type": "stream",
     "text": [
      "2021-01-03 18:41:02.124 | INFO     | __main__:<module>:24 - Processing _SUCCESS from AWS...\n",
      "2021-01-03 18:41:02.230 | INFO     | __main__:<module>:24 - Processing normalization_stats.csv from AWS...\n"
     ]
    },
    {
     "name": "stdout",
     "output_type": "stream",
     "text": [
      "[==================================================]"
     ]
    },
    {
     "name": "stderr",
     "output_type": "stream",
     "text": [
      "2021-01-03 18:41:02.400 | INFO     | __main__:<module>:24 - Processing _SUCCESS from AWS...\n",
      "2021-01-03 18:41:02.522 | INFO     | __main__:<module>:24 - Processing normalization_stats.csv from AWS...\n"
     ]
    },
    {
     "name": "stdout",
     "output_type": "stream",
     "text": [
      "[==================================================]"
     ]
    },
    {
     "name": "stderr",
     "output_type": "stream",
     "text": [
      "2021-01-03 18:41:02.809 | INFO     | __main__:<module>:24 - Processing _SUCCESS from AWS...\n",
      "2021-01-03 18:41:02.909 | INFO     | __main__:<module>:24 - Processing normalization_stats.csv from AWS...\n"
     ]
    },
    {
     "name": "stdout",
     "output_type": "stream",
     "text": [
      "[==================================================]"
     ]
    },
    {
     "name": "stderr",
     "output_type": "stream",
     "text": [
      "2021-01-03 18:41:03.036 | INFO     | __main__:<module>:24 - Processing _SUCCESS from AWS...\n",
      "2021-01-03 18:41:03.121 | INFO     | __main__:<module>:24 - Processing normalization_stats.csv from AWS...\n"
     ]
    },
    {
     "name": "stdout",
     "output_type": "stream",
     "text": [
      "[==================================================]"
     ]
    },
    {
     "name": "stderr",
     "output_type": "stream",
     "text": [
      "2021-01-03 18:41:03.293 | INFO     | __main__:<module>:24 - Processing _SUCCESS from AWS...\n",
      "2021-01-03 18:41:03.405 | INFO     | __main__:<module>:24 - Processing normalization_stats.csv from AWS...\n"
     ]
    },
    {
     "name": "stdout",
     "output_type": "stream",
     "text": [
      "[==================================================]"
     ]
    },
    {
     "name": "stderr",
     "output_type": "stream",
     "text": [
      "2021-01-03 18:41:03.585 | INFO     | __main__:<module>:24 - Processing _SUCCESS from AWS...\n",
      "2021-01-03 18:41:03.689 | INFO     | __main__:<module>:24 - Processing normalization_stats.csv from AWS...\n"
     ]
    },
    {
     "name": "stdout",
     "output_type": "stream",
     "text": [
      "[==================================================]"
     ]
    },
    {
     "name": "stderr",
     "output_type": "stream",
     "text": [
      "2021-01-03 18:41:03.836 | INFO     | __main__:<module>:24 - Processing _SUCCESS from AWS...\n",
      "2021-01-03 18:41:03.925 | INFO     | __main__:<module>:24 - Processing normalization_stats.csv from AWS...\n"
     ]
    },
    {
     "name": "stdout",
     "output_type": "stream",
     "text": [
      "[==================================================]"
     ]
    },
    {
     "name": "stderr",
     "output_type": "stream",
     "text": [
      "2021-01-03 18:41:04.026 | INFO     | __main__:<module>:24 - Processing _SUCCESS from AWS...\n",
      "2021-01-03 18:41:04.122 | INFO     | __main__:<module>:24 - Processing normalization_stats.csv from AWS...\n"
     ]
    },
    {
     "name": "stdout",
     "output_type": "stream",
     "text": [
      "[==================================================]"
     ]
    },
    {
     "name": "stderr",
     "output_type": "stream",
     "text": [
      "2021-01-03 18:41:04.265 | INFO     | __main__:<module>:24 - Processing _SUCCESS from AWS...\n",
      "2021-01-03 18:41:04.356 | INFO     | __main__:<module>:24 - Processing normalization_stats.csv from AWS...\n"
     ]
    },
    {
     "name": "stdout",
     "output_type": "stream",
     "text": [
      "[==================================================]"
     ]
    },
    {
     "name": "stderr",
     "output_type": "stream",
     "text": [
      "2021-01-03 18:41:04.587 | INFO     | __main__:<module>:24 - Processing _SUCCESS from AWS...\n",
      "2021-01-03 18:41:04.667 | INFO     | __main__:<module>:24 - Processing normalization_stats.csv from AWS...\n"
     ]
    },
    {
     "name": "stdout",
     "output_type": "stream",
     "text": [
      "[==================================================]"
     ]
    },
    {
     "name": "stderr",
     "output_type": "stream",
     "text": [
      "2021-01-03 18:41:04.809 | INFO     | __main__:<module>:24 - Processing _SUCCESS from AWS...\n",
      "2021-01-03 18:41:04.911 | INFO     | __main__:<module>:24 - Processing normalization_stats.csv from AWS...\n"
     ]
    },
    {
     "name": "stdout",
     "output_type": "stream",
     "text": [
      "[==================================================]"
     ]
    },
    {
     "name": "stderr",
     "output_type": "stream",
     "text": [
      "2021-01-03 18:41:05.133 | INFO     | __main__:<module>:24 - Processing _SUCCESS from AWS...\n",
      "2021-01-03 18:41:05.231 | INFO     | __main__:<module>:24 - Processing normalization_stats.csv from AWS...\n"
     ]
    },
    {
     "name": "stdout",
     "output_type": "stream",
     "text": [
      "[==================================================]"
     ]
    },
    {
     "name": "stderr",
     "output_type": "stream",
     "text": [
      "2021-01-03 18:41:05.428 | INFO     | __main__:<module>:24 - Processing _SUCCESS from AWS...\n",
      "2021-01-03 18:41:05.516 | INFO     | __main__:<module>:24 - Processing normalization_stats.csv from AWS...\n"
     ]
    },
    {
     "name": "stdout",
     "output_type": "stream",
     "text": [
      "[==================================================]"
     ]
    },
    {
     "name": "stderr",
     "output_type": "stream",
     "text": [
      "2021-01-03 18:41:05.653 | INFO     | __main__:<module>:24 - Processing _SUCCESS from AWS...\n",
      "2021-01-03 18:41:05.752 | INFO     | __main__:<module>:24 - Processing normalization_stats.csv from AWS...\n"
     ]
    },
    {
     "name": "stdout",
     "output_type": "stream",
     "text": [
      "[==================================================]"
     ]
    },
    {
     "name": "stderr",
     "output_type": "stream",
     "text": [
      "2021-01-03 18:41:05.872 | INFO     | __main__:<module>:24 - Processing _SUCCESS from AWS...\n",
      "2021-01-03 18:41:05.964 | INFO     | __main__:<module>:24 - Processing normalization_stats.csv from AWS...\n"
     ]
    },
    {
     "name": "stdout",
     "output_type": "stream",
     "text": [
      "[==================================================]"
     ]
    },
    {
     "name": "stderr",
     "output_type": "stream",
     "text": [
      "2021-01-03 18:41:06.096 | INFO     | __main__:<module>:24 - Processing _SUCCESS from AWS...\n",
      "2021-01-03 18:41:06.189 | INFO     | __main__:<module>:24 - Processing normalization_stats.csv from AWS...\n"
     ]
    },
    {
     "name": "stdout",
     "output_type": "stream",
     "text": [
      "[==================================================]"
     ]
    },
    {
     "name": "stderr",
     "output_type": "stream",
     "text": [
      "2021-01-03 18:41:06.332 | INFO     | __main__:<module>:24 - Processing _SUCCESS from AWS...\n",
      "2021-01-03 18:41:06.442 | INFO     | __main__:<module>:24 - Processing normalization_stats.csv from AWS...\n"
     ]
    },
    {
     "name": "stdout",
     "output_type": "stream",
     "text": [
      "[==================================================]"
     ]
    },
    {
     "name": "stderr",
     "output_type": "stream",
     "text": [
      "2021-01-03 18:41:06.620 | INFO     | __main__:<module>:24 - Processing _SUCCESS from AWS...\n",
      "2021-01-03 18:41:06.708 | INFO     | __main__:<module>:24 - Processing normalization_stats.csv from AWS...\n"
     ]
    },
    {
     "name": "stdout",
     "output_type": "stream",
     "text": [
      "[==================================================]"
     ]
    },
    {
     "name": "stderr",
     "output_type": "stream",
     "text": [
      "2021-01-03 18:41:06.855 | INFO     | __main__:<module>:24 - Processing _SUCCESS from AWS...\n",
      "2021-01-03 18:41:06.941 | INFO     | __main__:<module>:24 - Processing normalization_stats.csv from AWS...\n"
     ]
    },
    {
     "name": "stdout",
     "output_type": "stream",
     "text": [
      "[==================================================]"
     ]
    },
    {
     "name": "stderr",
     "output_type": "stream",
     "text": [
      "2021-01-03 18:41:07.078 | INFO     | __main__:<module>:24 - Processing _SUCCESS from AWS...\n",
      "2021-01-03 18:41:07.164 | INFO     | __main__:<module>:24 - Processing normalization_stats.csv from AWS...\n"
     ]
    },
    {
     "name": "stdout",
     "output_type": "stream",
     "text": [
      "[==================================================]"
     ]
    },
    {
     "name": "stderr",
     "output_type": "stream",
     "text": [
      "2021-01-03 18:41:07.293 | INFO     | __main__:<module>:24 - Processing _SUCCESS from AWS...\n",
      "2021-01-03 18:41:07.376 | INFO     | __main__:<module>:24 - Processing normalization_stats.csv from AWS...\n"
     ]
    },
    {
     "name": "stdout",
     "output_type": "stream",
     "text": [
      "[==================================================]"
     ]
    },
    {
     "name": "stderr",
     "output_type": "stream",
     "text": [
      "2021-01-03 18:41:07.525 | INFO     | __main__:<module>:24 - Processing _SUCCESS from AWS...\n",
      "2021-01-03 18:41:07.608 | INFO     | __main__:<module>:24 - Processing normalization_stats.csv from AWS...\n"
     ]
    },
    {
     "name": "stdout",
     "output_type": "stream",
     "text": [
      "[==================================================]"
     ]
    },
    {
     "name": "stderr",
     "output_type": "stream",
     "text": [
      "2021-01-03 18:41:07.715 | INFO     | __main__:<module>:24 - Processing _SUCCESS from AWS...\n",
      "2021-01-03 18:41:07.805 | INFO     | __main__:<module>:24 - Processing normalization_stats.csv from AWS...\n"
     ]
    },
    {
     "name": "stdout",
     "output_type": "stream",
     "text": [
      "[==================================================]"
     ]
    },
    {
     "name": "stderr",
     "output_type": "stream",
     "text": [
      "2021-01-03 18:41:07.947 | INFO     | __main__:<module>:24 - Processing _SUCCESS from AWS...\n",
      "2021-01-03 18:41:08.031 | INFO     | __main__:<module>:24 - Processing normalization_stats.csv from AWS...\n"
     ]
    },
    {
     "name": "stdout",
     "output_type": "stream",
     "text": [
      "[==================================================]"
     ]
    },
    {
     "name": "stderr",
     "output_type": "stream",
     "text": [
      "2021-01-03 18:41:08.142 | INFO     | __main__:<module>:24 - Processing _SUCCESS from AWS...\n",
      "2021-01-03 18:41:08.230 | INFO     | __main__:<module>:24 - Processing normalization_stats.csv from AWS...\n"
     ]
    },
    {
     "name": "stdout",
     "output_type": "stream",
     "text": [
      "[==================================================]"
     ]
    },
    {
     "name": "stderr",
     "output_type": "stream",
     "text": [
      "2021-01-03 18:41:08.378 | INFO     | __main__:<module>:24 - Processing _SUCCESS from AWS...\n",
      "2021-01-03 18:41:08.465 | INFO     | __main__:<module>:24 - Processing normalization_stats.csv from AWS...\n"
     ]
    },
    {
     "name": "stdout",
     "output_type": "stream",
     "text": [
      "[==================================================]"
     ]
    },
    {
     "name": "stderr",
     "output_type": "stream",
     "text": [
      "2021-01-03 18:41:08.738 | INFO     | __main__:<module>:24 - Processing _SUCCESS from AWS...\n",
      "2021-01-03 18:41:08.818 | INFO     | __main__:<module>:24 - Processing normalization_stats.csv from AWS...\n"
     ]
    },
    {
     "name": "stdout",
     "output_type": "stream",
     "text": [
      "[==================================================]"
     ]
    },
    {
     "name": "stderr",
     "output_type": "stream",
     "text": [
      "2021-01-03 18:41:08.956 | INFO     | __main__:<module>:24 - Processing _SUCCESS from AWS...\n",
      "2021-01-03 18:41:09.036 | INFO     | __main__:<module>:24 - Processing normalization_stats.csv from AWS...\n"
     ]
    },
    {
     "name": "stdout",
     "output_type": "stream",
     "text": [
      "[==================================================]"
     ]
    },
    {
     "name": "stderr",
     "output_type": "stream",
     "text": [
      "2021-01-03 18:41:09.149 | INFO     | __main__:<module>:24 - Processing _SUCCESS from AWS...\n",
      "2021-01-03 18:41:09.240 | INFO     | __main__:<module>:24 - Processing normalization_stats.csv from AWS...\n"
     ]
    },
    {
     "name": "stdout",
     "output_type": "stream",
     "text": [
      "[==================================================]"
     ]
    },
    {
     "name": "stderr",
     "output_type": "stream",
     "text": [
      "2021-01-03 18:41:09.349 | INFO     | __main__:<module>:24 - Processing _SUCCESS from AWS...\n",
      "2021-01-03 18:41:09.449 | INFO     | __main__:<module>:24 - Processing normalization_stats.csv from AWS...\n"
     ]
    },
    {
     "name": "stdout",
     "output_type": "stream",
     "text": [
      "[==================================================]"
     ]
    },
    {
     "name": "stderr",
     "output_type": "stream",
     "text": [
      "2021-01-03 18:41:09.648 | INFO     | __main__:<module>:24 - Processing _SUCCESS from AWS...\n",
      "2021-01-03 18:41:09.739 | INFO     | __main__:<module>:24 - Processing patterns-part1.csv.gz from AWS...\n"
     ]
    },
    {
     "name": "stdout",
     "output_type": "stream",
     "text": [
      "[==================================================]"
     ]
    },
    {
     "name": "stderr",
     "output_type": "stream",
     "text": [
      "2021-01-03 18:43:23.312 | INFO     | __main__:<module>:24 - Processing patterns-part2.csv.gz from AWS...\n"
     ]
    },
    {
     "name": "stdout",
     "output_type": "stream",
     "text": [
      "[==================================================]"
     ]
    },
    {
     "name": "stderr",
     "output_type": "stream",
     "text": [
      "2021-01-03 18:43:56.323 | INFO     | __main__:<module>:24 - Processing patterns-part3.csv.gz from AWS...\n"
     ]
    },
    {
     "name": "stdout",
     "output_type": "stream",
     "text": [
      "[==================================================]"
     ]
    },
    {
     "name": "stderr",
     "output_type": "stream",
     "text": [
      "2021-01-03 18:44:58.422 | INFO     | __main__:<module>:24 - Processing patterns-part4.csv.gz from AWS...\n"
     ]
    },
    {
     "name": "stdout",
     "output_type": "stream",
     "text": [
      "[==================================================]"
     ]
    },
    {
     "name": "stderr",
     "output_type": "stream",
     "text": [
      "2021-01-03 18:46:43.235 | INFO     | __main__:<module>:24 - Processing _SUCCESS from AWS...\n",
      "2021-01-03 18:46:43.327 | INFO     | __main__:<module>:24 - Processing patterns-part1.csv.gz from AWS...\n"
     ]
    },
    {
     "name": "stdout",
     "output_type": "stream",
     "text": [
      "[==================================================]"
     ]
    },
    {
     "name": "stderr",
     "output_type": "stream",
     "text": [
      "2021-01-03 18:47:24.144 | INFO     | __main__:<module>:24 - Processing patterns-part2.csv.gz from AWS...\n"
     ]
    },
    {
     "name": "stdout",
     "output_type": "stream",
     "text": [
      "[==================================================]"
     ]
    },
    {
     "name": "stderr",
     "output_type": "stream",
     "text": [
      "2021-01-03 18:48:36.994 | INFO     | __main__:<module>:24 - Processing patterns-part3.csv.gz from AWS...\n"
     ]
    },
    {
     "name": "stdout",
     "output_type": "stream",
     "text": [
      "[==================================================]"
     ]
    },
    {
     "name": "stderr",
     "output_type": "stream",
     "text": [
      "2021-01-03 18:49:44.744 | INFO     | __main__:<module>:24 - Processing patterns-part4.csv.gz from AWS...\n"
     ]
    },
    {
     "name": "stdout",
     "output_type": "stream",
     "text": [
      "[==================================================]"
     ]
    },
    {
     "name": "stderr",
     "output_type": "stream",
     "text": [
      "2021-01-03 18:51:19.268 | INFO     | __main__:<module>:24 - Processing _SUCCESS from AWS...\n",
      "2021-01-03 18:51:19.624 | INFO     | __main__:<module>:24 - Processing patterns-part1.csv.gz from AWS...\n"
     ]
    },
    {
     "name": "stdout",
     "output_type": "stream",
     "text": [
      "[==================================================]"
     ]
    },
    {
     "name": "stderr",
     "output_type": "stream",
     "text": [
      "2021-01-03 18:52:24.605 | INFO     | __main__:<module>:24 - Processing patterns-part2.csv.gz from AWS...\n"
     ]
    },
    {
     "name": "stdout",
     "output_type": "stream",
     "text": [
      "[==================================================]"
     ]
    },
    {
     "name": "stderr",
     "output_type": "stream",
     "text": [
      "2021-01-03 18:53:30.791 | INFO     | __main__:<module>:24 - Processing patterns-part3.csv.gz from AWS...\n"
     ]
    },
    {
     "name": "stdout",
     "output_type": "stream",
     "text": [
      "[==================================================]"
     ]
    },
    {
     "name": "stderr",
     "output_type": "stream",
     "text": [
      "2021-01-03 18:55:11.069 | INFO     | __main__:<module>:24 - Processing patterns-part4.csv.gz from AWS...\n"
     ]
    },
    {
     "name": "stdout",
     "output_type": "stream",
     "text": [
      "[==================================================]"
     ]
    },
    {
     "name": "stderr",
     "output_type": "stream",
     "text": [
      "2021-01-03 18:56:34.474 | INFO     | __main__:<module>:24 - Processing _SUCCESS from AWS...\n",
      "2021-01-03 18:56:35.346 | INFO     | __main__:<module>:24 - Processing patterns-part1.csv.gz from AWS...\n"
     ]
    },
    {
     "name": "stdout",
     "output_type": "stream",
     "text": [
      "[==================================================]"
     ]
    },
    {
     "name": "stderr",
     "output_type": "stream",
     "text": [
      "2021-01-03 18:59:11.660 | INFO     | __main__:<module>:24 - Processing patterns-part2.csv.gz from AWS...\n"
     ]
    },
    {
     "name": "stdout",
     "output_type": "stream",
     "text": [
      "[==================================================]"
     ]
    },
    {
     "name": "stderr",
     "output_type": "stream",
     "text": [
      "2021-01-03 19:01:31.947 | INFO     | __main__:<module>:24 - Processing patterns-part3.csv.gz from AWS...\n"
     ]
    },
    {
     "name": "stdout",
     "output_type": "stream",
     "text": [
      "[==================================================]"
     ]
    },
    {
     "name": "stderr",
     "output_type": "stream",
     "text": [
      "2021-01-03 19:02:36.233 | INFO     | __main__:<module>:24 - Processing patterns-part4.csv.gz from AWS...\n"
     ]
    },
    {
     "name": "stdout",
     "output_type": "stream",
     "text": [
      "[==================================================]"
     ]
    },
    {
     "name": "stderr",
     "output_type": "stream",
     "text": [
      "2021-01-03 19:03:55.325 | INFO     | __main__:<module>:24 - Processing _SUCCESS from AWS...\n",
      "2021-01-03 19:03:55.531 | INFO     | __main__:<module>:24 - Processing patterns-part1.csv.gz from AWS...\n"
     ]
    },
    {
     "name": "stdout",
     "output_type": "stream",
     "text": [
      "[==================================================]"
     ]
    },
    {
     "name": "stderr",
     "output_type": "stream",
     "text": [
      "2021-01-03 19:05:09.664 | INFO     | __main__:<module>:24 - Processing patterns-part2.csv.gz from AWS...\n"
     ]
    },
    {
     "name": "stdout",
     "output_type": "stream",
     "text": [
      "[==================================================]"
     ]
    },
    {
     "name": "stderr",
     "output_type": "stream",
     "text": [
      "2021-01-03 19:06:36.466 | INFO     | __main__:<module>:24 - Processing patterns-part3.csv.gz from AWS...\n"
     ]
    },
    {
     "name": "stdout",
     "output_type": "stream",
     "text": [
      "[==================================================]"
     ]
    },
    {
     "name": "stderr",
     "output_type": "stream",
     "text": [
      "2021-01-03 19:07:52.075 | INFO     | __main__:<module>:24 - Processing patterns-part4.csv.gz from AWS...\n"
     ]
    },
    {
     "name": "stdout",
     "output_type": "stream",
     "text": [
      "[==================================================]"
     ]
    },
    {
     "name": "stderr",
     "output_type": "stream",
     "text": [
      "2021-01-03 19:09:26.239 | INFO     | __main__:<module>:24 - Processing _SUCCESS from AWS...\n",
      "2021-01-03 19:09:26.641 | INFO     | __main__:<module>:24 - Processing patterns-part1.csv.gz from AWS...\n"
     ]
    },
    {
     "name": "stdout",
     "output_type": "stream",
     "text": [
      "[==================================================]"
     ]
    },
    {
     "name": "stderr",
     "output_type": "stream",
     "text": [
      "2021-01-03 19:10:34.829 | INFO     | __main__:<module>:24 - Processing patterns-part2.csv.gz from AWS...\n"
     ]
    },
    {
     "name": "stdout",
     "output_type": "stream",
     "text": [
      "[==================================================]"
     ]
    },
    {
     "name": "stderr",
     "output_type": "stream",
     "text": [
      "2021-01-03 19:11:20.796 | INFO     | __main__:<module>:24 - Processing patterns-part3.csv.gz from AWS...\n"
     ]
    },
    {
     "name": "stdout",
     "output_type": "stream",
     "text": [
      "[==================================================]"
     ]
    },
    {
     "name": "stderr",
     "output_type": "stream",
     "text": [
      "2021-01-03 19:12:47.141 | INFO     | __main__:<module>:24 - Processing patterns-part4.csv.gz from AWS...\n"
     ]
    },
    {
     "name": "stdout",
     "output_type": "stream",
     "text": [
      "[==================================================]"
     ]
    },
    {
     "name": "stderr",
     "output_type": "stream",
     "text": [
      "2021-01-03 19:14:06.681 | INFO     | __main__:<module>:24 - Processing _SUCCESS from AWS...\n",
      "2021-01-03 19:14:06.936 | INFO     | __main__:<module>:24 - Processing patterns-part1.csv.gz from AWS...\n"
     ]
    },
    {
     "name": "stdout",
     "output_type": "stream",
     "text": [
      "[==================================================]"
     ]
    },
    {
     "name": "stderr",
     "output_type": "stream",
     "text": [
      "2021-01-03 19:14:45.044 | INFO     | __main__:<module>:24 - Processing patterns-part2.csv.gz from AWS...\n"
     ]
    },
    {
     "name": "stdout",
     "output_type": "stream",
     "text": [
      "[==================================================]"
     ]
    },
    {
     "name": "stderr",
     "output_type": "stream",
     "text": [
      "2021-01-03 19:17:23.356 | INFO     | __main__:<module>:24 - Processing patterns-part3.csv.gz from AWS...\n"
     ]
    },
    {
     "name": "stdout",
     "output_type": "stream",
     "text": [
      "[==================================================]"
     ]
    },
    {
     "name": "stderr",
     "output_type": "stream",
     "text": [
      "2021-01-03 19:18:08.821 | INFO     | __main__:<module>:24 - Processing patterns-part4.csv.gz from AWS...\n"
     ]
    },
    {
     "name": "stdout",
     "output_type": "stream",
     "text": [
      "[==================================================]"
     ]
    },
    {
     "name": "stderr",
     "output_type": "stream",
     "text": [
      "2021-01-03 19:18:46.692 | INFO     | __main__:<module>:24 - Processing _SUCCESS from AWS...\n",
      "2021-01-03 19:18:47.095 | INFO     | __main__:<module>:24 - Processing patterns-part1.csv.gz from AWS...\n"
     ]
    },
    {
     "name": "stdout",
     "output_type": "stream",
     "text": [
      "[==================================================]"
     ]
    },
    {
     "name": "stderr",
     "output_type": "stream",
     "text": [
      "2021-01-03 19:21:21.354 | INFO     | __main__:<module>:24 - Processing patterns-part2.csv.gz from AWS...\n"
     ]
    },
    {
     "name": "stdout",
     "output_type": "stream",
     "text": [
      "[==================================================]"
     ]
    },
    {
     "name": "stderr",
     "output_type": "stream",
     "text": [
      "2021-01-03 19:23:46.835 | INFO     | __main__:<module>:24 - Processing patterns-part3.csv.gz from AWS...\n"
     ]
    },
    {
     "name": "stdout",
     "output_type": "stream",
     "text": [
      "[==================================================]"
     ]
    },
    {
     "name": "stderr",
     "output_type": "stream",
     "text": [
      "2021-01-03 19:24:34.492 | INFO     | __main__:<module>:24 - Processing patterns-part4.csv.gz from AWS...\n"
     ]
    },
    {
     "name": "stdout",
     "output_type": "stream",
     "text": [
      "[==================================================]"
     ]
    },
    {
     "name": "stderr",
     "output_type": "stream",
     "text": [
      "2021-01-03 19:25:18.202 | INFO     | __main__:<module>:24 - Processing _SUCCESS from AWS...\n",
      "2021-01-03 19:25:18.524 | INFO     | __main__:<module>:24 - Processing patterns-part1.csv.gz from AWS...\n"
     ]
    },
    {
     "name": "stdout",
     "output_type": "stream",
     "text": [
      "[==================================================]"
     ]
    },
    {
     "name": "stderr",
     "output_type": "stream",
     "text": [
      "2021-01-03 19:26:09.383 | INFO     | __main__:<module>:24 - Processing patterns-part2.csv.gz from AWS...\n"
     ]
    },
    {
     "name": "stdout",
     "output_type": "stream",
     "text": [
      "[==================================================]"
     ]
    },
    {
     "name": "stderr",
     "output_type": "stream",
     "text": [
      "2021-01-03 19:26:56.187 | INFO     | __main__:<module>:24 - Processing patterns-part3.csv.gz from AWS...\n"
     ]
    },
    {
     "name": "stdout",
     "output_type": "stream",
     "text": [
      "[==================================================]"
     ]
    },
    {
     "name": "stderr",
     "output_type": "stream",
     "text": [
      "2021-01-03 19:28:15.338 | INFO     | __main__:<module>:24 - Processing patterns-part4.csv.gz from AWS...\n"
     ]
    },
    {
     "name": "stdout",
     "output_type": "stream",
     "text": [
      "[==================================================]"
     ]
    },
    {
     "name": "stderr",
     "output_type": "stream",
     "text": [
      "2021-01-03 19:30:56.273 | INFO     | __main__:<module>:24 - Processing _SUCCESS from AWS...\n",
      "2021-01-03 19:30:56.715 | INFO     | __main__:<module>:24 - Processing patterns-part1.csv.gz from AWS...\n"
     ]
    },
    {
     "name": "stdout",
     "output_type": "stream",
     "text": [
      "[==================================================]"
     ]
    },
    {
     "name": "stderr",
     "output_type": "stream",
     "text": [
      "2021-01-03 19:32:34.973 | INFO     | __main__:<module>:24 - Processing patterns-part2.csv.gz from AWS...\n"
     ]
    },
    {
     "name": "stdout",
     "output_type": "stream",
     "text": [
      "[==================================================]"
     ]
    },
    {
     "name": "stderr",
     "output_type": "stream",
     "text": [
      "2021-01-03 19:34:06.932 | INFO     | __main__:<module>:24 - Processing patterns-part3.csv.gz from AWS...\n"
     ]
    },
    {
     "name": "stdout",
     "output_type": "stream",
     "text": [
      "[==================================================]"
     ]
    },
    {
     "name": "stderr",
     "output_type": "stream",
     "text": [
      "2021-01-03 19:36:34.771 | INFO     | __main__:<module>:24 - Processing patterns-part4.csv.gz from AWS...\n"
     ]
    },
    {
     "name": "stdout",
     "output_type": "stream",
     "text": [
      "[==================================================]"
     ]
    },
    {
     "name": "stderr",
     "output_type": "stream",
     "text": [
      "2021-01-03 19:39:14.714 | INFO     | __main__:<module>:24 - Processing _SUCCESS from AWS...\n",
      "2021-01-03 19:39:15.062 | INFO     | __main__:<module>:24 - Processing patterns-part1.csv.gz from AWS...\n"
     ]
    },
    {
     "name": "stdout",
     "output_type": "stream",
     "text": [
      "[==================================================]"
     ]
    },
    {
     "name": "stderr",
     "output_type": "stream",
     "text": [
      "2021-01-03 19:41:48.722 | INFO     | __main__:<module>:24 - Processing patterns-part2.csv.gz from AWS...\n"
     ]
    },
    {
     "name": "stdout",
     "output_type": "stream",
     "text": [
      "[==================================================]"
     ]
    },
    {
     "name": "stderr",
     "output_type": "stream",
     "text": [
      "2021-01-03 19:44:34.403 | INFO     | __main__:<module>:24 - Processing patterns-part3.csv.gz from AWS...\n"
     ]
    },
    {
     "name": "stdout",
     "output_type": "stream",
     "text": [
      "[==================================================]"
     ]
    },
    {
     "name": "stderr",
     "output_type": "stream",
     "text": [
      "2021-01-03 19:47:07.269 | INFO     | __main__:<module>:24 - Processing patterns-part4.csv.gz from AWS...\n"
     ]
    },
    {
     "name": "stdout",
     "output_type": "stream",
     "text": [
      "[==================================================]"
     ]
    },
    {
     "name": "stderr",
     "output_type": "stream",
     "text": [
      "2021-01-03 19:49:26.947 | INFO     | __main__:<module>:24 - Processing _SUCCESS from AWS...\n",
      "2021-01-03 19:49:27.264 | INFO     | __main__:<module>:24 - Processing patterns-part1.csv.gz from AWS...\n"
     ]
    },
    {
     "name": "stdout",
     "output_type": "stream",
     "text": [
      "[==================================================]"
     ]
    },
    {
     "name": "stderr",
     "output_type": "stream",
     "text": [
      "2021-01-03 19:50:21.453 | INFO     | __main__:<module>:24 - Processing patterns-part2.csv.gz from AWS...\n"
     ]
    },
    {
     "name": "stdout",
     "output_type": "stream",
     "text": [
      "[==================================================]"
     ]
    },
    {
     "name": "stderr",
     "output_type": "stream",
     "text": [
      "2021-01-03 19:52:23.674 | INFO     | __main__:<module>:24 - Processing patterns-part3.csv.gz from AWS...\n"
     ]
    },
    {
     "name": "stdout",
     "output_type": "stream",
     "text": [
      "[==================================================]"
     ]
    },
    {
     "name": "stderr",
     "output_type": "stream",
     "text": [
      "2021-01-03 19:53:22.856 | INFO     | __main__:<module>:24 - Processing patterns-part4.csv.gz from AWS...\n"
     ]
    },
    {
     "name": "stdout",
     "output_type": "stream",
     "text": [
      "[==================================================]"
     ]
    },
    {
     "name": "stderr",
     "output_type": "stream",
     "text": [
      "2021-01-03 19:54:24.638 | INFO     | __main__:<module>:24 - Processing _SUCCESS from AWS...\n",
      "2021-01-03 19:54:24.760 | INFO     | __main__:<module>:24 - Processing patterns-part1.csv.gz from AWS...\n"
     ]
    },
    {
     "name": "stdout",
     "output_type": "stream",
     "text": [
      "[==================================================]"
     ]
    },
    {
     "name": "stderr",
     "output_type": "stream",
     "text": [
      "2021-01-03 19:57:01.683 | INFO     | __main__:<module>:24 - Processing patterns-part2.csv.gz from AWS...\n"
     ]
    },
    {
     "name": "stdout",
     "output_type": "stream",
     "text": [
      "[==================================================]"
     ]
    },
    {
     "name": "stderr",
     "output_type": "stream",
     "text": [
      "2021-01-03 19:57:57.105 | INFO     | __main__:<module>:24 - Processing patterns-part3.csv.gz from AWS...\n"
     ]
    },
    {
     "name": "stdout",
     "output_type": "stream",
     "text": [
      "[==================================================]"
     ]
    },
    {
     "name": "stderr",
     "output_type": "stream",
     "text": [
      "2021-01-03 19:59:54.846 | INFO     | __main__:<module>:24 - Processing patterns-part4.csv.gz from AWS...\n"
     ]
    },
    {
     "name": "stdout",
     "output_type": "stream",
     "text": [
      "[==================================================]"
     ]
    },
    {
     "name": "stderr",
     "output_type": "stream",
     "text": [
      "2021-01-03 20:01:42.497 | INFO     | __main__:<module>:24 - Processing _SUCCESS from AWS...\n",
      "2021-01-03 20:01:42.689 | INFO     | __main__:<module>:24 - Processing patterns-part1.csv.gz from AWS...\n"
     ]
    },
    {
     "name": "stdout",
     "output_type": "stream",
     "text": [
      "[==================================================]"
     ]
    },
    {
     "name": "stderr",
     "output_type": "stream",
     "text": [
      "2021-01-03 20:03:41.106 | INFO     | __main__:<module>:24 - Processing patterns-part2.csv.gz from AWS...\n"
     ]
    },
    {
     "name": "stdout",
     "output_type": "stream",
     "text": [
      "[==================================================]"
     ]
    },
    {
     "name": "stderr",
     "output_type": "stream",
     "text": [
      "2021-01-03 20:05:18.206 | INFO     | __main__:<module>:24 - Processing patterns-part3.csv.gz from AWS...\n"
     ]
    },
    {
     "name": "stdout",
     "output_type": "stream",
     "text": [
      "[==================================================]"
     ]
    },
    {
     "name": "stderr",
     "output_type": "stream",
     "text": [
      "2021-01-03 20:08:23.611 | INFO     | __main__:<module>:24 - Processing patterns-part4.csv.gz from AWS...\n"
     ]
    },
    {
     "name": "stdout",
     "output_type": "stream",
     "text": [
      "[==================================================]"
     ]
    },
    {
     "name": "stderr",
     "output_type": "stream",
     "text": [
      "2021-01-03 20:09:30.602 | INFO     | __main__:<module>:24 - Processing _SUCCESS from AWS...\n",
      "2021-01-03 20:09:31.172 | INFO     | __main__:<module>:24 - Processing patterns-part1.csv.gz from AWS...\n"
     ]
    },
    {
     "name": "stdout",
     "output_type": "stream",
     "text": [
      "[==================================================]"
     ]
    },
    {
     "name": "stderr",
     "output_type": "stream",
     "text": [
      "2021-01-03 20:12:14.171 | INFO     | __main__:<module>:24 - Processing patterns-part2.csv.gz from AWS...\n"
     ]
    },
    {
     "name": "stdout",
     "output_type": "stream",
     "text": [
      "[==================================================]"
     ]
    },
    {
     "name": "stderr",
     "output_type": "stream",
     "text": [
      "2021-01-03 20:13:24.112 | INFO     | __main__:<module>:24 - Processing patterns-part3.csv.gz from AWS...\n"
     ]
    },
    {
     "name": "stdout",
     "output_type": "stream",
     "text": [
      "[==================================================]"
     ]
    },
    {
     "name": "stderr",
     "output_type": "stream",
     "text": [
      "2021-01-03 20:16:08.368 | INFO     | __main__:<module>:24 - Processing patterns-part4.csv.gz from AWS...\n"
     ]
    },
    {
     "name": "stdout",
     "output_type": "stream",
     "text": [
      "[==================================================]"
     ]
    },
    {
     "name": "stderr",
     "output_type": "stream",
     "text": [
      "2021-01-03 20:18:02.450 | INFO     | __main__:<module>:24 - Processing _SUCCESS from AWS...\n",
      "2021-01-03 20:18:02.790 | INFO     | __main__:<module>:24 - Processing patterns-part1.csv.gz from AWS...\n"
     ]
    },
    {
     "name": "stdout",
     "output_type": "stream",
     "text": [
      "[==================================================]"
     ]
    },
    {
     "name": "stderr",
     "output_type": "stream",
     "text": [
      "2021-01-03 20:19:28.248 | INFO     | __main__:<module>:24 - Processing patterns-part2.csv.gz from AWS...\n"
     ]
    },
    {
     "name": "stdout",
     "output_type": "stream",
     "text": [
      "[==================================================]"
     ]
    },
    {
     "name": "stderr",
     "output_type": "stream",
     "text": [
      "2021-01-03 20:20:58.155 | INFO     | __main__:<module>:24 - Processing patterns-part3.csv.gz from AWS...\n"
     ]
    },
    {
     "name": "stdout",
     "output_type": "stream",
     "text": [
      "[==================================================]"
     ]
    },
    {
     "name": "stderr",
     "output_type": "stream",
     "text": [
      "2021-01-03 20:22:34.311 | INFO     | __main__:<module>:24 - Processing patterns-part4.csv.gz from AWS...\n"
     ]
    },
    {
     "name": "stdout",
     "output_type": "stream",
     "text": [
      "[==================================================]"
     ]
    },
    {
     "name": "stderr",
     "output_type": "stream",
     "text": [
      "2021-01-03 20:24:10.002 | INFO     | __main__:<module>:24 - Processing _SUCCESS from AWS...\n",
      "2021-01-03 20:24:10.271 | INFO     | __main__:<module>:24 - Processing patterns-part1.csv.gz from AWS...\n"
     ]
    },
    {
     "name": "stdout",
     "output_type": "stream",
     "text": [
      "[==================================================]"
     ]
    },
    {
     "name": "stderr",
     "output_type": "stream",
     "text": [
      "2021-01-03 20:25:42.688 | INFO     | __main__:<module>:24 - Processing patterns-part2.csv.gz from AWS...\n"
     ]
    },
    {
     "name": "stdout",
     "output_type": "stream",
     "text": [
      "[==================================================]"
     ]
    },
    {
     "name": "stderr",
     "output_type": "stream",
     "text": [
      "2021-01-03 20:28:21.057 | INFO     | __main__:<module>:24 - Processing patterns-part3.csv.gz from AWS...\n"
     ]
    },
    {
     "name": "stdout",
     "output_type": "stream",
     "text": [
      "[==================================================]"
     ]
    },
    {
     "name": "stderr",
     "output_type": "stream",
     "text": [
      "2021-01-03 20:29:18.696 | INFO     | __main__:<module>:24 - Processing patterns-part4.csv.gz from AWS...\n"
     ]
    },
    {
     "name": "stdout",
     "output_type": "stream",
     "text": [
      "[==================================================]"
     ]
    },
    {
     "name": "stderr",
     "output_type": "stream",
     "text": [
      "2021-01-03 20:30:09.302 | INFO     | __main__:<module>:24 - Processing _SUCCESS from AWS...\n",
      "2021-01-03 20:30:10.006 | INFO     | __main__:<module>:24 - Processing patterns-part1.csv.gz from AWS...\n"
     ]
    },
    {
     "name": "stdout",
     "output_type": "stream",
     "text": [
      "[==================================================]"
     ]
    },
    {
     "name": "stderr",
     "output_type": "stream",
     "text": [
      "2021-01-03 20:31:06.936 | INFO     | __main__:<module>:24 - Processing patterns-part2.csv.gz from AWS...\n"
     ]
    },
    {
     "name": "stdout",
     "output_type": "stream",
     "text": [
      "[==================================================]"
     ]
    },
    {
     "name": "stderr",
     "output_type": "stream",
     "text": [
      "2021-01-03 20:32:00.151 | INFO     | __main__:<module>:24 - Processing patterns-part3.csv.gz from AWS...\n"
     ]
    },
    {
     "name": "stdout",
     "output_type": "stream",
     "text": [
      "[==================================================]"
     ]
    },
    {
     "name": "stderr",
     "output_type": "stream",
     "text": [
      "2021-01-03 20:33:07.381 | INFO     | __main__:<module>:24 - Processing patterns-part4.csv.gz from AWS...\n"
     ]
    },
    {
     "name": "stdout",
     "output_type": "stream",
     "text": [
      "[==================================================]"
     ]
    },
    {
     "name": "stderr",
     "output_type": "stream",
     "text": [
      "2021-01-03 20:34:13.611 | INFO     | __main__:<module>:24 - Processing _SUCCESS from AWS...\n",
      "2021-01-03 20:34:14.131 | INFO     | __main__:<module>:24 - Processing patterns-part1.csv.gz from AWS...\n"
     ]
    },
    {
     "name": "stdout",
     "output_type": "stream",
     "text": [
      "[==================================================]"
     ]
    },
    {
     "name": "stderr",
     "output_type": "stream",
     "text": [
      "2021-01-03 20:35:12.409 | INFO     | __main__:<module>:24 - Processing patterns-part2.csv.gz from AWS...\n"
     ]
    },
    {
     "name": "stdout",
     "output_type": "stream",
     "text": [
      "[==================================================]"
     ]
    },
    {
     "name": "stderr",
     "output_type": "stream",
     "text": [
      "2021-01-03 20:36:08.043 | INFO     | __main__:<module>:24 - Processing patterns-part3.csv.gz from AWS...\n"
     ]
    },
    {
     "name": "stdout",
     "output_type": "stream",
     "text": [
      "[==================================================]"
     ]
    },
    {
     "name": "stderr",
     "output_type": "stream",
     "text": [
      "2021-01-03 20:39:01.502 | INFO     | __main__:<module>:24 - Processing patterns-part4.csv.gz from AWS...\n"
     ]
    },
    {
     "name": "stdout",
     "output_type": "stream",
     "text": [
      "[==================================================]"
     ]
    },
    {
     "name": "stderr",
     "output_type": "stream",
     "text": [
      "2021-01-03 20:41:09.908 | INFO     | __main__:<module>:24 - Processing _SUCCESS from AWS...\n",
      "2021-01-03 20:41:10.352 | INFO     | __main__:<module>:24 - Processing patterns-part1.csv.gz from AWS...\n"
     ]
    },
    {
     "name": "stdout",
     "output_type": "stream",
     "text": [
      "[==================================================]"
     ]
    },
    {
     "name": "stderr",
     "output_type": "stream",
     "text": [
      "2021-01-03 20:43:03.868 | INFO     | __main__:<module>:24 - Processing patterns-part2.csv.gz from AWS...\n"
     ]
    },
    {
     "name": "stdout",
     "output_type": "stream",
     "text": [
      "[==================================================]"
     ]
    },
    {
     "name": "stderr",
     "output_type": "stream",
     "text": [
      "2021-01-03 20:44:00.172 | INFO     | __main__:<module>:24 - Processing patterns-part3.csv.gz from AWS...\n"
     ]
    },
    {
     "name": "stdout",
     "output_type": "stream",
     "text": [
      "[==================================================]"
     ]
    },
    {
     "name": "stderr",
     "output_type": "stream",
     "text": [
      "2021-01-03 20:44:49.676 | INFO     | __main__:<module>:24 - Processing patterns-part4.csv.gz from AWS...\n"
     ]
    },
    {
     "name": "stdout",
     "output_type": "stream",
     "text": [
      "[==================================================]"
     ]
    },
    {
     "name": "stderr",
     "output_type": "stream",
     "text": [
      "2021-01-03 20:45:52.131 | INFO     | __main__:<module>:24 - Processing _SUCCESS from AWS...\n",
      "2021-01-03 20:45:52.375 | INFO     | __main__:<module>:24 - Processing patterns-part1.csv.gz from AWS...\n"
     ]
    },
    {
     "name": "stdout",
     "output_type": "stream",
     "text": [
      "[==================================================]"
     ]
    },
    {
     "name": "stderr",
     "output_type": "stream",
     "text": [
      "2021-01-03 20:46:39.248 | INFO     | __main__:<module>:24 - Processing patterns-part2.csv.gz from AWS...\n"
     ]
    },
    {
     "name": "stdout",
     "output_type": "stream",
     "text": [
      "[==================================================]"
     ]
    },
    {
     "name": "stderr",
     "output_type": "stream",
     "text": [
      "2021-01-03 20:47:35.862 | INFO     | __main__:<module>:24 - Processing patterns-part3.csv.gz from AWS...\n"
     ]
    },
    {
     "name": "stdout",
     "output_type": "stream",
     "text": [
      "[==================================================]"
     ]
    },
    {
     "name": "stderr",
     "output_type": "stream",
     "text": [
      "2021-01-03 20:50:14.066 | INFO     | __main__:<module>:24 - Processing patterns-part4.csv.gz from AWS...\n"
     ]
    },
    {
     "name": "stdout",
     "output_type": "stream",
     "text": [
      "[==================================================]"
     ]
    },
    {
     "name": "stderr",
     "output_type": "stream",
     "text": [
      "2021-01-03 20:51:13.779 | INFO     | __main__:<module>:24 - Processing _SUCCESS from AWS...\n",
      "2021-01-03 20:51:14.230 | INFO     | __main__:<module>:24 - Processing patterns-part1.csv.gz from AWS...\n"
     ]
    },
    {
     "name": "stdout",
     "output_type": "stream",
     "text": [
      "[==================================================]"
     ]
    },
    {
     "name": "stderr",
     "output_type": "stream",
     "text": [
      "2021-01-03 20:51:47.486 | INFO     | __main__:<module>:24 - Processing patterns-part2.csv.gz from AWS...\n"
     ]
    },
    {
     "name": "stdout",
     "output_type": "stream",
     "text": [
      "[==================================================]"
     ]
    },
    {
     "name": "stderr",
     "output_type": "stream",
     "text": [
      "2021-01-03 20:53:12.181 | INFO     | __main__:<module>:24 - Processing patterns-part3.csv.gz from AWS...\n"
     ]
    },
    {
     "name": "stdout",
     "output_type": "stream",
     "text": [
      "[==================================================]"
     ]
    },
    {
     "name": "stderr",
     "output_type": "stream",
     "text": [
      "2021-01-03 20:55:08.498 | INFO     | __main__:<module>:24 - Processing patterns-part4.csv.gz from AWS...\n"
     ]
    },
    {
     "name": "stdout",
     "output_type": "stream",
     "text": [
      "[==================================================]"
     ]
    },
    {
     "name": "stderr",
     "output_type": "stream",
     "text": [
      "2021-01-03 20:55:35.717 | INFO     | __main__:<module>:24 - Processing safegraph_open_census_data.tar.gz from AWS...\n"
     ]
    },
    {
     "name": "stdout",
     "output_type": "stream",
     "text": [
      "[==================================================]"
     ]
    }
   ],
   "source": [
    "# Loop over each AWS folder we want to download\n",
    "for aws_folder in AWS_FOLDERS:\n",
    "\n",
    "    # Walk the AWS folder structure\n",
    "    for response in get_aws_files(aws_folder):\n",
    "\n",
    "        # Setup paths\n",
    "        aws_path = Path(response[\"Key\"])\n",
    "        local_path = DATA_DIR / \"raw\" / aws_path\n",
    "\n",
    "        # Download the new file if it doesn't exist or is out of date\n",
    "        if (\n",
    "            not local_path.exists()\n",
    "            or datetime.utcfromtimestamp(local_path.stat().st_mtime).replace(\n",
    "                tzinfo=timezone.utc\n",
    "            )\n",
    "            < response[\"LastModified\"]\n",
    "        ):\n",
    "\n",
    "            # Log it\n",
    "            logger.info(f\"Processing {aws_path.name} from AWS...\")\n",
    "\n",
    "            # Setup local path\n",
    "            if not local_path.parent.exists():\n",
    "                local_path.parent.mkdir(parents=True)\n",
    "\n",
    "            # Download\n",
    "            download_with_progress_bar(str(local_path), str(aws_path))"
   ]
  },
  {
   "cell_type": "code",
   "execution_count": null,
   "metadata": {},
   "outputs": [],
   "source": [
    "aw"
   ]
  }
 ],
 "metadata": {
  "kernelspec": {
   "display_name": "Python 3",
   "language": "python",
   "name": "python3"
  },
  "language_info": {
   "codemirror_mode": {
    "name": "ipython",
    "version": 3
   },
   "file_extension": ".py",
   "mimetype": "text/x-python",
   "name": "python",
   "nbconvert_exporter": "python",
   "pygments_lexer": "ipython3",
   "version": "3.7.9"
  }
 },
 "nbformat": 4,
 "nbformat_minor": 4
}
